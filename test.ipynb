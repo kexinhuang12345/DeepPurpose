{
 "cells": [
  {
   "cell_type": "code",
   "execution_count": 1,
   "metadata": {},
   "outputs": [],
   "source": [
    "import os\n",
    "os.chdir('../')"
   ]
  },
  {
   "cell_type": "code",
   "execution_count": 2,
   "metadata": {},
   "outputs": [],
   "source": [
    "import pandas as pd\n",
    "import numpy as np\n",
    "\n",
    "import DTI.models as models\n",
    "from DTI.utils import data_process, convert_y_unit, generate_config"
   ]
  },
  {
   "cell_type": "code",
   "execution_count": 3,
   "metadata": {},
   "outputs": [
    {
     "name": "stdout",
     "output_type": "stream",
     "text": [
      "in total: 133 drug-target pairs\n",
      "encoding drug...\n",
      "unique drugs: 87\n",
      "drug encoding finished...\n",
      "encoding protein...\n",
      "unique target sequence: 113\n",
      "-- Encoding AAC takes time. Time Reference: 24s for ~100 sequences in a CPU. Calculate your time by the unique target sequence #, instead of the entire dataset.\n",
      "protein encoding finished...\n",
      "splitting dataset...\n",
      "Done.\n"
     ]
    }
   ],
   "source": [
    "# load data\n",
    "df_Kd = pd.read_csv('./DTBA_data_folder/Kd/data.csv')\n",
    "df_Kd = df_Kd.sample(frac = 0.002, replace = False)# toy dataset\n",
    "\n",
    "X_drug = df_Kd.SMILES.values\n",
    "X_target = df_Kd['Target Sequence'].values \n",
    "# support nM to p (logspace) convertion to help regression\n",
    "y = convert_y_unit(df_Kd.Kd.values, 'nM', 'p') \n",
    "\n",
    "drug_encoding = 'ECFP4'\n",
    "target_encoding = 'AAC'\n",
    "train, val, test = data_process(X_drug, X_target, y, \n",
    "                                drug_encoding, target_encoding, \n",
    "                                split_method='random',frac=[0.7,0.1,0.2])"
   ]
  },
  {
   "cell_type": "code",
   "execution_count": 4,
   "metadata": {},
   "outputs": [],
   "source": [
    "# model setup, you can adjust the config file by typing in model parameters. e.g. cls_hidden_dim = [256, 32]\n",
    "config = generate_config(drug_encoding, target_encoding)\n",
    "model = models.model_initialize(drug_encoding, target_encoding, **config)"
   ]
  },
  {
   "cell_type": "code",
   "execution_count": 5,
   "metadata": {
    "scrolled": false
   },
   "outputs": [
    {
     "name": "stdout",
     "output_type": "stream",
     "text": [
      "--- Data Preparation ---\n",
      "--- Go for Training ---\n",
      "Training at Epoch 1 iteration 0 with loss 49.618973\n",
      "Validation at Epoch 1 , MSE: 13.385996113479642 , Pearson Correlation: -0.18776432138026336 with p-value: 0.5390282621855491 , Concordance Index: 0.4722222222222222\n",
      "Training at Epoch 2 iteration 0 with loss 1.9656172\n",
      "Validation at Epoch 2 , MSE: 12.268444797253498 , Pearson Correlation: -0.35187780208393715 with p-value: 0.2383721211216671 , Concordance Index: 0.5138888888888888\n",
      "Training at Epoch 3 iteration 0 with loss 0.000382868\n",
      "Validation at Epoch 3 , MSE: 9.817124640453986 , Pearson Correlation: -0.1032013980740257 with p-value: 0.7372460543155873 , Concordance Index: 0.5555555555555556\n",
      "Training at Epoch 4 iteration 0 with loss 0.7580768\n",
      "Validation at Epoch 4 , MSE: 10.609886467775194 , Pearson Correlation: -0.15560934723718006 with p-value: 0.6117088807588327 , Concordance Index: 0.4861111111111111\n",
      "Training at Epoch 5 iteration 0 with loss 0.019163823\n",
      "Validation at Epoch 5 , MSE: 14.575248966855192 , Pearson Correlation: -0.18863690796088464 with p-value: 0.537109102191674 , Concordance Index: 0.5138888888888888\n",
      "Training at Epoch 6 iteration 0 with loss 6.1597958\n",
      "Validation at Epoch 6 , MSE: 16.76627257588861 , Pearson Correlation: -0.4793489966843707 with p-value: 0.09742585652497394 , Concordance Index: 0.3611111111111111\n",
      "Training at Epoch 7 iteration 0 with loss 4.295676\n",
      "Validation at Epoch 7 , MSE: 15.081754546178077 , Pearson Correlation: -0.5088121939608389 with p-value: 0.0757815252444298 , Concordance Index: 0.4305555555555556\n",
      "Training at Epoch 8 iteration 0 with loss 2.6369812\n",
      "Validation at Epoch 8 , MSE: 17.854209325448284 , Pearson Correlation: -0.37185847087854296 with p-value: 0.2108869556884366 , Concordance Index: 0.4861111111111111\n",
      "Training at Epoch 9 iteration 0 with loss 3.6412065\n",
      "Validation at Epoch 9 , MSE: 25.40246347390782 , Pearson Correlation: -0.017435016141205052 with p-value: 0.9549179262066764 , Concordance Index: 0.5833333333333334\n",
      "Training at Epoch 10 iteration 0 with loss 4.592439\n",
      "Validation at Epoch 10 , MSE: 20.676706094504976 , Pearson Correlation: 0.04886406453126471 with p-value: 0.8740451780334413 , Concordance Index: 0.6388888888888888\n",
      "--- Go for Testing ---\n",
      "Testing MSE: 2.955977707346394 , Pearson Correlation: 0.1086863644075014 with p-value: 0.5894518086193065 , Concordance Index: 0.5230769230769231\n",
      "--- Training Finished ---\n"
     ]
    }
   ],
   "source": [
    "model.train(train, val, test)"
   ]
  },
  {
   "cell_type": "code",
   "execution_count": null,
   "metadata": {},
   "outputs": [],
   "source": [
    "model.predict()"
   ]
  },
  {
   "cell_type": "code",
   "execution_count": 10,
   "metadata": {},
   "outputs": [],
   "source": [
    "target = test['Target Sequence'].iloc[0]"
   ]
  },
  {
   "cell_type": "code",
   "execution_count": 11,
   "metadata": {},
   "outputs": [],
   "source": [
    "X_repurpose = test.SMILES.values"
   ]
  },
  {
   "cell_type": "code",
   "execution_count": 31,
   "metadata": {},
   "outputs": [
    {
     "data": {
      "text/plain": [
       "array(['CC(C)(C)c1cc(NC(=O)Nc2ccc(cc2)-c2cn3c(n2)sc2cc(OCCN4CCOCC4)ccc32)no1',\n",
       "       'CC1(C)CNc2cc(NC(=O)c3cccnc3NCc3ccncc3)ccc12',\n",
       "       'CCCCSC(=O)C1CC(=O)NC(=O)C1',\n",
       "       'CCN(CCO)CCCOc1ccc2c(Nc3cc(CC(=O)Nc4cccc(F)c4)n[nH]3)ncnc2c1',\n",
       "       'CCN1CCN(Cc2ccc(NC(=O)Nc3ccc(Oc4cc(NC)ncn4)cc3)cc2C(F)(F)F)CC1',\n",
       "       'CCNCCCCNc1ncc2CN(C(=O)N(Cc3cccc(NC(=O)C=C)c3)c2n1)c1c(Cl)c(OC)cc(OC)c1Cl',\n",
       "       'CCOc1cc2ncc(C#N)c(Nc3ccc(OCc4ccccn4)c(Cl)c3)c2cc1NC(=O)\\\\C=C\\\\CN(C)C',\n",
       "       'CN(C)CCc1cnc([nH]1)-c1cccc(Br)c1',\n",
       "       'CN1CCN(Cc2ccc(cc2)C(=O)Nc2ccc(C)c(Nc3nccc(n3)-c3cccnc3)c2)CC1',\n",
       "       'CNC(=O)c1cc(Oc2ccc(NC(=O)Nc3ccc(Cl)c(c3)C(F)(F)F)cc2)ccn1',\n",
       "       'COc1cc2c(Oc3ccc(NC(=O)C4(CC4)C(=O)NC4=CCC(F)C=C4)cc3F)ccnc2cc1OCCCN1CCOCC1',\n",
       "       'COc1nc2ccc(cc2c(Cl)c1CN1CCC(CC1)C(F)(F)F)[C@](O)(c1cnnn1C)c1ccnc(c1)C(F)(F)F',\n",
       "       'C[N+]1(C)CCC[C@H]1[C@H]1CS[C@](O1)(C1CCCCC1)c1ccccc1',\n",
       "       'Cc1cc(C)c2cccc(OCc3c(Cl)ccc(c3Cl)S(=O)(=O)NC3(CCCC3)C(=O)N3CCN(CC3)C(=O)C[C@@H](N)CCCN=C(N)N)c2n1',\n",
       "       'Cc1ccc(cc1)-n1nc(cc1NC(=O)Nc1ccc(OCCN2CCOCC2)c2ccccc12)C(C)(C)C',\n",
       "       'Cc1cnc(Nc2ccc(OCCN3CCCC3)cc2)nc1Nc1cccc(c1)S(=O)(=O)NC(C)(C)C',\n",
       "       'FC(F)(F)c1ccc(Cn2nc3c(-c4ccncc4)c(cnn3c2=O)-c2ccc(Cl)cc2)cn1',\n",
       "       'Fc1ccc(C(=O)NOCC2CC2)c(Nc2ccc(I)cc2Cl)c1F',\n",
       "       'Fc1ccc(Sc2ccc3c(-c4c(Cl)cccc4Cl)c(=O)ncn3n2)c(F)c1',\n",
       "       'NC(=O)c1ccc(cc1)-c1nc(c([nH]1)-c1ccc2OCOc2c1)-c1ccccn1',\n",
       "       'Nc1nc(Nc2ccc(cc2)S(N)(=O)=O)nn1C(=O)c1c(F)cccc1F',\n",
       "       'OC(=O)c1ccc(Nc2ncc3CN=C(c4cc(Cl)ccc4-c3n2)c2c(F)cccc2F)cc1',\n",
       "       'OCCn1cc(c(n1)-c1ccncc1)-c1ccc2C(CCc2c1)N=O',\n",
       "       'Oc1ccc(cc1)-c1nc(c([nH]1)-c1ccc(F)cc1)-c1ccncc1'], dtype=object)"
      ]
     },
     "execution_count": 31,
     "metadata": {},
     "output_type": "execute_result"
    }
   ],
   "source": [
    "np.unique(X_repurpose)"
   ]
  },
  {
   "cell_type": "code",
   "execution_count": 13,
   "metadata": {},
   "outputs": [],
   "source": [
    "t = test.target_encoding.iloc[0]\n",
    "x = test.drug_encoding.values"
   ]
  },
  {
   "cell_type": "code",
   "execution_count": 18,
   "metadata": {},
   "outputs": [],
   "source": [
    "t = np.tile(t, (len(x),1))"
   ]
  },
  {
   "cell_type": "code",
   "execution_count": 21,
   "metadata": {},
   "outputs": [],
   "source": [
    "import torch"
   ]
  },
  {
   "cell_type": "code",
   "execution_count": 32,
   "metadata": {},
   "outputs": [
    {
     "name": "stdout",
     "output_type": "stream",
     "text": [
      "predicting...\n"
     ]
    }
   ],
   "source": [
    "r = models.repurpose((torch.Tensor(np.vstack(x).astype(np.float)), torch.Tensor(t)), model)"
   ]
  },
  {
   "cell_type": "code",
   "execution_count": 35,
   "metadata": {},
   "outputs": [
    {
     "data": {
      "text/plain": [
       "tensor([6.7370, 6.8289, 6.6317, 7.0390, 6.4034, 6.7295, 6.8686, 5.8693, 6.8866,\n",
       "        6.6668, 6.4435, 6.7394, 6.5740, 6.7912, 6.5648, 6.7815, 6.8936, 6.8324,\n",
       "        6.1336, 5.9698, 6.0565, 6.8936, 7.1831, 6.8331, 6.7370, 6.4034, 7.1325],\n",
       "       grad_fn=<SqueezeBackward0>)"
      ]
     },
     "execution_count": 35,
     "metadata": {},
     "output_type": "execute_result"
    }
   ],
   "source": [
    "name torch.squeeze(r)"
   ]
  },
  {
   "cell_type": "code",
   "execution_count": 38,
   "metadata": {},
   "outputs": [
    {
     "data": {
      "text/plain": [
       "183.23144223712112"
      ]
     },
     "execution_count": 38,
     "metadata": {},
     "output_type": "execute_result"
    }
   ],
   "source": [
    "10**(-6.7370)/1e-9"
   ]
  },
  {
   "cell_type": "code",
   "execution_count": 45,
   "metadata": {},
   "outputs": [
    {
     "data": {
      "text/plain": [
       "8.0"
      ]
     },
     "execution_count": 45,
     "metadata": {},
     "output_type": "execute_result"
    }
   ],
   "source": [
    "-np.log10(10*1e-9)"
   ]
  },
  {
   "cell_type": "code",
   "execution_count": 41,
   "metadata": {},
   "outputs": [
    {
     "data": {
      "text/plain": [
       "55580       79.00\n",
       "31342      220.00\n",
       "9947      1400.00\n",
       "62666       61.66\n",
       "25745    10000.00\n",
       "           ...   \n",
       "12644     4400.00\n",
       "49153    10000.00\n",
       "58322    10000.00\n",
       "47467    10000.00\n",
       "39101    10000.00\n",
       "Name: Kd, Length: 133, dtype: float64"
      ]
     },
     "execution_count": 41,
     "metadata": {},
     "output_type": "execute_result"
    }
   ],
   "source": [
    "df_Kd.Kd"
   ]
  },
  {
   "cell_type": "code",
   "execution_count": null,
   "metadata": {},
   "outputs": [],
   "source": []
  }
 ],
 "metadata": {
  "kernelspec": {
   "display_name": "Python 3",
   "language": "python",
   "name": "python3"
  },
  "language_info": {
   "codemirror_mode": {
    "name": "ipython",
    "version": 3
   },
   "file_extension": ".py",
   "mimetype": "text/x-python",
   "name": "python",
   "nbconvert_exporter": "python",
   "pygments_lexer": "ipython3",
   "version": "3.7.6"
  }
 },
 "nbformat": 4,
 "nbformat_minor": 4
}
