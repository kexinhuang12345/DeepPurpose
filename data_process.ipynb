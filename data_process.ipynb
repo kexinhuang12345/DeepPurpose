{
 "cells": [
  {
   "cell_type": "code",
   "execution_count": 2,
   "metadata": {},
   "outputs": [],
   "source": [
    "import pandas as pd\n",
    "import numpy as np"
   ]
  },
  {
   "cell_type": "code",
   "execution_count": null,
   "metadata": {},
   "outputs": [],
   "source": [
    "# BindingDB dataset process"
   ]
  },
  {
   "cell_type": "code",
   "execution_count": 21,
   "metadata": {},
   "outputs": [
    {
     "name": "stderr",
     "output_type": "stream",
     "text": [
      "b'Skipping line 772572: expected 193 fields, saw 205\\nSkipping line 772598: expected 193 fields, saw 205\\n'\n",
      "b'Skipping line 805291: expected 193 fields, saw 205\\n'\n",
      "b'Skipping line 827961: expected 193 fields, saw 265\\n'\n",
      "b'Skipping line 1231688: expected 193 fields, saw 241\\n'\n",
      "b'Skipping line 1345591: expected 193 fields, saw 241\\nSkipping line 1345592: expected 193 fields, saw 241\\nSkipping line 1345593: expected 193 fields, saw 241\\nSkipping line 1345594: expected 193 fields, saw 241\\nSkipping line 1345595: expected 193 fields, saw 241\\nSkipping line 1345596: expected 193 fields, saw 241\\nSkipping line 1345597: expected 193 fields, saw 241\\nSkipping line 1345598: expected 193 fields, saw 241\\nSkipping line 1345599: expected 193 fields, saw 241\\n'\n",
      "b'Skipping line 1358864: expected 193 fields, saw 205\\n'\n",
      "b'Skipping line 1378087: expected 193 fields, saw 241\\nSkipping line 1378088: expected 193 fields, saw 241\\nSkipping line 1378089: expected 193 fields, saw 241\\nSkipping line 1378090: expected 193 fields, saw 241\\nSkipping line 1378091: expected 193 fields, saw 241\\nSkipping line 1378092: expected 193 fields, saw 241\\nSkipping line 1378093: expected 193 fields, saw 241\\nSkipping line 1378094: expected 193 fields, saw 241\\nSkipping line 1378095: expected 193 fields, saw 241\\n'\n",
      "b'Skipping line 1417264: expected 193 fields, saw 205\\n'\n",
      "/Users/kexinhuang/torch-env/lib/python3.7/site-packages/IPython/core/interactiveshell.py:3063: DtypeWarning: Columns (8,9,10,11,12,13,15,17,19,20,26,27,31,32,34,35,46,49,50,51,52,53,54,61,62,63,64,65,66,73,74,75,76,77,78,85,86,87,88,89,90,97,98,99,100,101,102,109,110,111,112,113,114,121,122,123,124,125,126,133,134,135,136,137,138,145,147,148,149,150,157,158,159,160,161,162,169,171,172,173,174) have mixed types.Specify dtype option on import or set low_memory=False.\n",
      "  interactivity=interactivity, compiler=compiler, result=result)\n"
     ]
    }
   ],
   "source": [
    "df = pd.read_csv('/Users/kexinhuang/Downloads/BindingDB_All.tsv', sep = '\\t', error_bad_lines=False)"
   ]
  },
  {
   "cell_type": "code",
   "execution_count": 5,
   "metadata": {},
   "outputs": [
    {
     "data": {
      "text/html": [
       "<div>\n",
       "<style scoped>\n",
       "    .dataframe tbody tr th:only-of-type {\n",
       "        vertical-align: middle;\n",
       "    }\n",
       "\n",
       "    .dataframe tbody tr th {\n",
       "        vertical-align: top;\n",
       "    }\n",
       "\n",
       "    .dataframe thead th {\n",
       "        text-align: right;\n",
       "    }\n",
       "</style>\n",
       "<table border=\"1\" class=\"dataframe\">\n",
       "  <thead>\n",
       "    <tr style=\"text-align: right;\">\n",
       "      <th></th>\n",
       "      <th>BindingDB Reactant_set_id</th>\n",
       "      <th>Ligand SMILES</th>\n",
       "      <th>Ligand InChI</th>\n",
       "      <th>Ligand InChI Key</th>\n",
       "      <th>BindingDB MonomerID</th>\n",
       "      <th>BindingDB Ligand Name</th>\n",
       "      <th>Target Name Assigned by Curator or DataSource</th>\n",
       "      <th>Target Source Organism According to Curator or DataSource</th>\n",
       "      <th>Ki (nM)</th>\n",
       "      <th>IC50 (nM)</th>\n",
       "      <th>...</th>\n",
       "      <th>UniProt (SwissProt) Recommended Name of Target Chain.12</th>\n",
       "      <th>UniProt (SwissProt) Entry Name of Target Chain.12</th>\n",
       "      <th>UniProt (SwissProt) Primary ID of Target Chain.12</th>\n",
       "      <th>UniProt (SwissProt) Secondary ID(s) of Target Chain.12</th>\n",
       "      <th>UniProt (SwissProt) Alternative ID(s) of Target Chain.12</th>\n",
       "      <th>UniProt (TrEMBL) Submitted Name of Target Chain.12</th>\n",
       "      <th>UniProt (TrEMBL) Entry Name of Target Chain.12</th>\n",
       "      <th>UniProt (TrEMBL) Primary ID of Target Chain.12</th>\n",
       "      <th>UniProt (TrEMBL) Secondary ID(s) of Target Chain.12</th>\n",
       "      <th>UniProt (TrEMBL) Alternative ID(s) of Target Chain.12</th>\n",
       "    </tr>\n",
       "  </thead>\n",
       "  <tbody>\n",
       "    <tr>\n",
       "      <th>0</th>\n",
       "      <td>1</td>\n",
       "      <td>COc1cc2c(Nc3ccc(Br)cc3F)ncnc2cc1OCC1CCN(C)CC1</td>\n",
       "      <td>InChI=1S/C22H24BrFN4O2/c1-28-7-5-14(6-8-28)12-...</td>\n",
       "      <td>UHTHHESEBZOYNR-UHFFFAOYSA-N</td>\n",
       "      <td>21</td>\n",
       "      <td>6-[(4R,5S,6S,7R)-4,7-dibenzyl-3-(5-carboxypent...</td>\n",
       "      <td>HIV-1 Protease</td>\n",
       "      <td>Human immunodeficiency virus 1</td>\n",
       "      <td>0.24</td>\n",
       "      <td>NaN</td>\n",
       "      <td>...</td>\n",
       "      <td>NaN</td>\n",
       "      <td>NaN</td>\n",
       "      <td>NaN</td>\n",
       "      <td>NaN</td>\n",
       "      <td>NaN</td>\n",
       "      <td>NaN</td>\n",
       "      <td>NaN</td>\n",
       "      <td>NaN</td>\n",
       "      <td>NaN</td>\n",
       "      <td>NaN</td>\n",
       "    </tr>\n",
       "    <tr>\n",
       "      <th>1</th>\n",
       "      <td>2</td>\n",
       "      <td>O[C@@H]1[C@@H](O)[C@@H](Cc2ccccc2)N(C\\C=C\\c2cn...</td>\n",
       "      <td>InChI=1S/C31H34N6O3/c38-29-27(17-23-9-3-1-4-10...</td>\n",
       "      <td>UZLMEAPBHYEHAC-UNTBESQGSA-N</td>\n",
       "      <td>22</td>\n",
       "      <td>(4R,5S,6S,7R)-4,7-dibenzyl-5,6-dihydroxy-1,3-b...</td>\n",
       "      <td>HIV-1 Protease</td>\n",
       "      <td>Human immunodeficiency virus 1</td>\n",
       "      <td>0.25</td>\n",
       "      <td>NaN</td>\n",
       "      <td>...</td>\n",
       "      <td>NaN</td>\n",
       "      <td>NaN</td>\n",
       "      <td>NaN</td>\n",
       "      <td>NaN</td>\n",
       "      <td>NaN</td>\n",
       "      <td>NaN</td>\n",
       "      <td>NaN</td>\n",
       "      <td>NaN</td>\n",
       "      <td>NaN</td>\n",
       "      <td>NaN</td>\n",
       "    </tr>\n",
       "  </tbody>\n",
       "</table>\n",
       "<p>2 rows × 193 columns</p>\n",
       "</div>"
      ],
      "text/plain": [
       "   BindingDB Reactant_set_id  \\\n",
       "0                          1   \n",
       "1                          2   \n",
       "\n",
       "                                       Ligand SMILES  \\\n",
       "0      COc1cc2c(Nc3ccc(Br)cc3F)ncnc2cc1OCC1CCN(C)CC1   \n",
       "1  O[C@@H]1[C@@H](O)[C@@H](Cc2ccccc2)N(C\\C=C\\c2cn...   \n",
       "\n",
       "                                        Ligand InChI  \\\n",
       "0  InChI=1S/C22H24BrFN4O2/c1-28-7-5-14(6-8-28)12-...   \n",
       "1  InChI=1S/C31H34N6O3/c38-29-27(17-23-9-3-1-4-10...   \n",
       "\n",
       "              Ligand InChI Key  BindingDB MonomerID  \\\n",
       "0  UHTHHESEBZOYNR-UHFFFAOYSA-N                   21   \n",
       "1  UZLMEAPBHYEHAC-UNTBESQGSA-N                   22   \n",
       "\n",
       "                               BindingDB Ligand Name  \\\n",
       "0  6-[(4R,5S,6S,7R)-4,7-dibenzyl-3-(5-carboxypent...   \n",
       "1  (4R,5S,6S,7R)-4,7-dibenzyl-5,6-dihydroxy-1,3-b...   \n",
       "\n",
       "  Target Name Assigned by Curator or DataSource  \\\n",
       "0                                HIV-1 Protease   \n",
       "1                                HIV-1 Protease   \n",
       "\n",
       "  Target Source Organism According to Curator or DataSource Ki (nM) IC50 (nM)  \\\n",
       "0                     Human immunodeficiency virus 1           0.24       NaN   \n",
       "1                     Human immunodeficiency virus 1           0.25       NaN   \n",
       "\n",
       "   ... UniProt (SwissProt) Recommended Name of Target Chain.12  \\\n",
       "0  ...                                                NaN        \n",
       "1  ...                                                NaN        \n",
       "\n",
       "  UniProt (SwissProt) Entry Name of Target Chain.12  \\\n",
       "0                                               NaN   \n",
       "1                                               NaN   \n",
       "\n",
       "  UniProt (SwissProt) Primary ID of Target Chain.12  \\\n",
       "0                                               NaN   \n",
       "1                                               NaN   \n",
       "\n",
       "  UniProt (SwissProt) Secondary ID(s) of Target Chain.12  \\\n",
       "0                                                NaN       \n",
       "1                                                NaN       \n",
       "\n",
       "   UniProt (SwissProt) Alternative ID(s) of Target Chain.12  \\\n",
       "0                                                NaN          \n",
       "1                                                NaN          \n",
       "\n",
       "  UniProt (TrEMBL) Submitted Name of Target Chain.12  \\\n",
       "0                                                NaN   \n",
       "1                                                NaN   \n",
       "\n",
       "  UniProt (TrEMBL) Entry Name of Target Chain.12  \\\n",
       "0                                            NaN   \n",
       "1                                            NaN   \n",
       "\n",
       "  UniProt (TrEMBL) Primary ID of Target Chain.12  \\\n",
       "0                                            NaN   \n",
       "1                                            NaN   \n",
       "\n",
       "   UniProt (TrEMBL) Secondary ID(s) of Target Chain.12  \\\n",
       "0                                                NaN     \n",
       "1                                                NaN     \n",
       "\n",
       "  UniProt (TrEMBL) Alternative ID(s) of Target Chain.12  \n",
       "0                                                NaN     \n",
       "1                                                NaN     \n",
       "\n",
       "[2 rows x 193 columns]"
      ]
     },
     "execution_count": 5,
     "metadata": {},
     "output_type": "execute_result"
    }
   ],
   "source": [
    "df.head(2)"
   ]
  },
  {
   "cell_type": "code",
   "execution_count": 6,
   "metadata": {},
   "outputs": [
    {
     "data": {
      "text/plain": [
       "array(['BindingDB Reactant_set_id', 'Ligand SMILES', 'Ligand InChI',\n",
       "       'Ligand InChI Key', 'BindingDB MonomerID', 'BindingDB Ligand Name',\n",
       "       'Target Name Assigned by Curator or DataSource',\n",
       "       'Target Source Organism According to Curator or DataSource',\n",
       "       'Ki (nM)', 'IC50 (nM)', 'Kd (nM)', 'EC50 (nM)', 'kon (M-1-s-1)',\n",
       "       'koff (s-1)', 'pH', 'Temp (C)', 'Curation/DataSource',\n",
       "       'Article DOI', 'PMID', 'PubChem AID', 'Patent Number', 'Authors',\n",
       "       'Institution', 'Link to Ligand in BindingDB',\n",
       "       'Link to Target in BindingDB',\n",
       "       'Link to Ligand-Target Pair in BindingDB', 'Ligand HET ID in PDB',\n",
       "       'PDB ID(s) for Ligand-Target Complex', 'PubChem CID',\n",
       "       'PubChem SID', 'ChEBI ID of Ligand', 'ChEMBL ID of Ligand',\n",
       "       'DrugBank ID of Ligand', 'IUPHAR_GRAC ID of Ligand',\n",
       "       'KEGG ID of Ligand', 'ZINC ID of Ligand',\n",
       "       'Number of Protein Chains in Target (>1 implies a multichain complex)',\n",
       "       'BindingDB Target Chain  Sequence', 'PDB ID(s) of Target Chain',\n",
       "       'UniProt (SwissProt) Recommended Name of Target Chain',\n",
       "       'UniProt (SwissProt) Entry Name of Target Chain',\n",
       "       'UniProt (SwissProt) Primary ID of Target Chain',\n",
       "       'UniProt (SwissProt) Secondary ID(s) of Target Chain',\n",
       "       'UniProt (SwissProt) Alternative ID(s) of Target Chain',\n",
       "       'UniProt (TrEMBL) Submitted Name of Target Chain',\n",
       "       'UniProt (TrEMBL) Entry Name of Target Chain',\n",
       "       'UniProt (TrEMBL) Primary ID of Target Chain',\n",
       "       'UniProt (TrEMBL) Secondary ID(s) of Target Chain',\n",
       "       'UniProt (TrEMBL) Alternative ID(s) of Target Chain',\n",
       "       'BindingDB Target Chain  Sequence.1',\n",
       "       'PDB ID(s) of Target Chain.1',\n",
       "       'UniProt (SwissProt) Recommended Name of Target Chain.1',\n",
       "       'UniProt (SwissProt) Entry Name of Target Chain.1',\n",
       "       'UniProt (SwissProt) Primary ID of Target Chain.1',\n",
       "       'UniProt (SwissProt) Secondary ID(s) of Target Chain.1',\n",
       "       'UniProt (SwissProt) Alternative ID(s) of Target Chain.1',\n",
       "       'UniProt (TrEMBL) Submitted Name of Target Chain.1',\n",
       "       'UniProt (TrEMBL) Entry Name of Target Chain.1',\n",
       "       'UniProt (TrEMBL) Primary ID of Target Chain.1',\n",
       "       'UniProt (TrEMBL) Secondary ID(s) of Target Chain.1',\n",
       "       'UniProt (TrEMBL) Alternative ID(s) of Target Chain.1',\n",
       "       'BindingDB Target Chain  Sequence.2',\n",
       "       'PDB ID(s) of Target Chain.2',\n",
       "       'UniProt (SwissProt) Recommended Name of Target Chain.2',\n",
       "       'UniProt (SwissProt) Entry Name of Target Chain.2',\n",
       "       'UniProt (SwissProt) Primary ID of Target Chain.2',\n",
       "       'UniProt (SwissProt) Secondary ID(s) of Target Chain.2',\n",
       "       'UniProt (SwissProt) Alternative ID(s) of Target Chain.2',\n",
       "       'UniProt (TrEMBL) Submitted Name of Target Chain.2',\n",
       "       'UniProt (TrEMBL) Entry Name of Target Chain.2',\n",
       "       'UniProt (TrEMBL) Primary ID of Target Chain.2',\n",
       "       'UniProt (TrEMBL) Secondary ID(s) of Target Chain.2',\n",
       "       'UniProt (TrEMBL) Alternative ID(s) of Target Chain.2',\n",
       "       'BindingDB Target Chain  Sequence.3',\n",
       "       'PDB ID(s) of Target Chain.3',\n",
       "       'UniProt (SwissProt) Recommended Name of Target Chain.3',\n",
       "       'UniProt (SwissProt) Entry Name of Target Chain.3',\n",
       "       'UniProt (SwissProt) Primary ID of Target Chain.3',\n",
       "       'UniProt (SwissProt) Secondary ID(s) of Target Chain.3',\n",
       "       'UniProt (SwissProt) Alternative ID(s) of Target Chain.3',\n",
       "       'UniProt (TrEMBL) Submitted Name of Target Chain.3',\n",
       "       'UniProt (TrEMBL) Entry Name of Target Chain.3',\n",
       "       'UniProt (TrEMBL) Primary ID of Target Chain.3',\n",
       "       'UniProt (TrEMBL) Secondary ID(s) of Target Chain.3',\n",
       "       'UniProt (TrEMBL) Alternative ID(s) of Target Chain.3',\n",
       "       'BindingDB Target Chain  Sequence.4',\n",
       "       'PDB ID(s) of Target Chain.4',\n",
       "       'UniProt (SwissProt) Recommended Name of Target Chain.4',\n",
       "       'UniProt (SwissProt) Entry Name of Target Chain.4',\n",
       "       'UniProt (SwissProt) Primary ID of Target Chain.4',\n",
       "       'UniProt (SwissProt) Secondary ID(s) of Target Chain.4',\n",
       "       'UniProt (SwissProt) Alternative ID(s) of Target Chain.4',\n",
       "       'UniProt (TrEMBL) Submitted Name of Target Chain.4',\n",
       "       'UniProt (TrEMBL) Entry Name of Target Chain.4',\n",
       "       'UniProt (TrEMBL) Primary ID of Target Chain.4',\n",
       "       'UniProt (TrEMBL) Secondary ID(s) of Target Chain.4',\n",
       "       'UniProt (TrEMBL) Alternative ID(s) of Target Chain.4',\n",
       "       'BindingDB Target Chain  Sequence.5',\n",
       "       'PDB ID(s) of Target Chain.5',\n",
       "       'UniProt (SwissProt) Recommended Name of Target Chain.5',\n",
       "       'UniProt (SwissProt) Entry Name of Target Chain.5',\n",
       "       'UniProt (SwissProt) Primary ID of Target Chain.5',\n",
       "       'UniProt (SwissProt) Secondary ID(s) of Target Chain.5',\n",
       "       'UniProt (SwissProt) Alternative ID(s) of Target Chain.5',\n",
       "       'UniProt (TrEMBL) Submitted Name of Target Chain.5',\n",
       "       'UniProt (TrEMBL) Entry Name of Target Chain.5',\n",
       "       'UniProt (TrEMBL) Primary ID of Target Chain.5',\n",
       "       'UniProt (TrEMBL) Secondary ID(s) of Target Chain.5',\n",
       "       'UniProt (TrEMBL) Alternative ID(s) of Target Chain.5',\n",
       "       'BindingDB Target Chain  Sequence.6',\n",
       "       'PDB ID(s) of Target Chain.6',\n",
       "       'UniProt (SwissProt) Recommended Name of Target Chain.6',\n",
       "       'UniProt (SwissProt) Entry Name of Target Chain.6',\n",
       "       'UniProt (SwissProt) Primary ID of Target Chain.6',\n",
       "       'UniProt (SwissProt) Secondary ID(s) of Target Chain.6',\n",
       "       'UniProt (SwissProt) Alternative ID(s) of Target Chain.6',\n",
       "       'UniProt (TrEMBL) Submitted Name of Target Chain.6',\n",
       "       'UniProt (TrEMBL) Entry Name of Target Chain.6',\n",
       "       'UniProt (TrEMBL) Primary ID of Target Chain.6',\n",
       "       'UniProt (TrEMBL) Secondary ID(s) of Target Chain.6',\n",
       "       'UniProt (TrEMBL) Alternative ID(s) of Target Chain.6',\n",
       "       'BindingDB Target Chain  Sequence.7',\n",
       "       'PDB ID(s) of Target Chain.7',\n",
       "       'UniProt (SwissProt) Recommended Name of Target Chain.7',\n",
       "       'UniProt (SwissProt) Entry Name of Target Chain.7',\n",
       "       'UniProt (SwissProt) Primary ID of Target Chain.7',\n",
       "       'UniProt (SwissProt) Secondary ID(s) of Target Chain.7',\n",
       "       'UniProt (SwissProt) Alternative ID(s) of Target Chain.7',\n",
       "       'UniProt (TrEMBL) Submitted Name of Target Chain.7',\n",
       "       'UniProt (TrEMBL) Entry Name of Target Chain.7',\n",
       "       'UniProt (TrEMBL) Primary ID of Target Chain.7',\n",
       "       'UniProt (TrEMBL) Secondary ID(s) of Target Chain.7',\n",
       "       'UniProt (TrEMBL) Alternative ID(s) of Target Chain.7',\n",
       "       'BindingDB Target Chain  Sequence.8',\n",
       "       'PDB ID(s) of Target Chain.8',\n",
       "       'UniProt (SwissProt) Recommended Name of Target Chain.8',\n",
       "       'UniProt (SwissProt) Entry Name of Target Chain.8',\n",
       "       'UniProt (SwissProt) Primary ID of Target Chain.8',\n",
       "       'UniProt (SwissProt) Secondary ID(s) of Target Chain.8',\n",
       "       'UniProt (SwissProt) Alternative ID(s) of Target Chain.8',\n",
       "       'UniProt (TrEMBL) Submitted Name of Target Chain.8',\n",
       "       'UniProt (TrEMBL) Entry Name of Target Chain.8',\n",
       "       'UniProt (TrEMBL) Primary ID of Target Chain.8',\n",
       "       'UniProt (TrEMBL) Secondary ID(s) of Target Chain.8',\n",
       "       'UniProt (TrEMBL) Alternative ID(s) of Target Chain.8',\n",
       "       'BindingDB Target Chain  Sequence.9',\n",
       "       'PDB ID(s) of Target Chain.9',\n",
       "       'UniProt (SwissProt) Recommended Name of Target Chain.9',\n",
       "       'UniProt (SwissProt) Entry Name of Target Chain.9',\n",
       "       'UniProt (SwissProt) Primary ID of Target Chain.9',\n",
       "       'UniProt (SwissProt) Secondary ID(s) of Target Chain.9',\n",
       "       'UniProt (SwissProt) Alternative ID(s) of Target Chain.9',\n",
       "       'UniProt (TrEMBL) Submitted Name of Target Chain.9',\n",
       "       'UniProt (TrEMBL) Entry Name of Target Chain.9',\n",
       "       'UniProt (TrEMBL) Primary ID of Target Chain.9',\n",
       "       'UniProt (TrEMBL) Secondary ID(s) of Target Chain.9',\n",
       "       'UniProt (TrEMBL) Alternative ID(s) of Target Chain.9',\n",
       "       'BindingDB Target Chain  Sequence.10',\n",
       "       'PDB ID(s) of Target Chain.10',\n",
       "       'UniProt (SwissProt) Recommended Name of Target Chain.10',\n",
       "       'UniProt (SwissProt) Entry Name of Target Chain.10',\n",
       "       'UniProt (SwissProt) Primary ID of Target Chain.10',\n",
       "       'UniProt (SwissProt) Secondary ID(s) of Target Chain.10',\n",
       "       'UniProt (SwissProt) Alternative ID(s) of Target Chain.10',\n",
       "       'UniProt (TrEMBL) Submitted Name of Target Chain.10',\n",
       "       'UniProt (TrEMBL) Entry Name of Target Chain.10',\n",
       "       'UniProt (TrEMBL) Primary ID of Target Chain.10',\n",
       "       'UniProt (TrEMBL) Secondary ID(s) of Target Chain.10',\n",
       "       'UniProt (TrEMBL) Alternative ID(s) of Target Chain.10',\n",
       "       'BindingDB Target Chain  Sequence.11',\n",
       "       'PDB ID(s) of Target Chain.11',\n",
       "       'UniProt (SwissProt) Recommended Name of Target Chain.11',\n",
       "       'UniProt (SwissProt) Entry Name of Target Chain.11',\n",
       "       'UniProt (SwissProt) Primary ID of Target Chain.11',\n",
       "       'UniProt (SwissProt) Secondary ID(s) of Target Chain.11',\n",
       "       'UniProt (SwissProt) Alternative ID(s) of Target Chain.11',\n",
       "       'UniProt (TrEMBL) Submitted Name of Target Chain.11',\n",
       "       'UniProt (TrEMBL) Entry Name of Target Chain.11',\n",
       "       'UniProt (TrEMBL) Primary ID of Target Chain.11',\n",
       "       'UniProt (TrEMBL) Secondary ID(s) of Target Chain.11',\n",
       "       'UniProt (TrEMBL) Alternative ID(s) of Target Chain.11',\n",
       "       'BindingDB Target Chain  Sequence.12',\n",
       "       'PDB ID(s) of Target Chain.12',\n",
       "       'UniProt (SwissProt) Recommended Name of Target Chain.12',\n",
       "       'UniProt (SwissProt) Entry Name of Target Chain.12',\n",
       "       'UniProt (SwissProt) Primary ID of Target Chain.12',\n",
       "       'UniProt (SwissProt) Secondary ID(s) of Target Chain.12',\n",
       "       'UniProt (SwissProt) Alternative ID(s) of Target Chain.12',\n",
       "       'UniProt (TrEMBL) Submitted Name of Target Chain.12',\n",
       "       'UniProt (TrEMBL) Entry Name of Target Chain.12',\n",
       "       'UniProt (TrEMBL) Primary ID of Target Chain.12',\n",
       "       'UniProt (TrEMBL) Secondary ID(s) of Target Chain.12',\n",
       "       'UniProt (TrEMBL) Alternative ID(s) of Target Chain.12'],\n",
       "      dtype=object)"
      ]
     },
     "execution_count": 6,
     "metadata": {},
     "output_type": "execute_result"
    }
   ],
   "source": [
    "df.columns.values"
   ]
  },
  {
   "cell_type": "code",
   "execution_count": 11,
   "metadata": {},
   "outputs": [],
   "source": [
    "kd = df[df['Kd (nM)'].notnull()]['Kd (nM)'].values"
   ]
  },
  {
   "cell_type": "code",
   "execution_count": 24,
   "metadata": {},
   "outputs": [
    {
     "data": {
      "text/plain": [
       "75449"
      ]
     },
     "execution_count": 24,
     "metadata": {},
     "output_type": "execute_result"
    }
   ],
   "source": [
    "len(df[df['Kd (nM)'].notnull()])"
   ]
  },
  {
   "cell_type": "code",
   "execution_count": 23,
   "metadata": {},
   "outputs": [
    {
     "data": {
      "text/plain": [
       "1138703"
      ]
     },
     "execution_count": 23,
     "metadata": {},
     "output_type": "execute_result"
    }
   ],
   "source": [
    "len(df[df['IC50 (nM)'].notnull()])"
   ]
  },
  {
   "cell_type": "code",
   "execution_count": 12,
   "metadata": {},
   "outputs": [],
   "source": [
    "IC50 = df[df['IC50 (nM)'].notnull()]['IC50 (nM)'].values"
   ]
  },
  {
   "cell_type": "code",
   "execution_count": 22,
   "metadata": {},
   "outputs": [
    {
     "data": {
      "text/plain": [
       "1813527"
      ]
     },
     "execution_count": 22,
     "metadata": {},
     "output_type": "execute_result"
    }
   ],
   "source": [
    "len(df)"
   ]
  },
  {
   "cell_type": "code",
   "execution_count": 25,
   "metadata": {},
   "outputs": [],
   "source": [
    "df = df[df['Number of Protein Chains in Target (>1 implies a multichain complex)'] == 1.0]"
   ]
  },
  {
   "cell_type": "code",
   "execution_count": 26,
   "metadata": {},
   "outputs": [
    {
     "data": {
      "text/plain": [
       "1733855"
      ]
     },
     "execution_count": 26,
     "metadata": {},
     "output_type": "execute_result"
    }
   ],
   "source": [
    "len(df)"
   ]
  },
  {
   "cell_type": "code",
   "execution_count": 27,
   "metadata": {},
   "outputs": [],
   "source": [
    "df = df[df['Ligand SMILES'].notnull()]"
   ]
  },
  {
   "cell_type": "code",
   "execution_count": 28,
   "metadata": {},
   "outputs": [
    {
     "data": {
      "text/plain": [
       "1733850"
      ]
     },
     "execution_count": 28,
     "metadata": {},
     "output_type": "execute_result"
    }
   ],
   "source": [
    "len(df)"
   ]
  },
  {
   "cell_type": "code",
   "execution_count": 45,
   "metadata": {},
   "outputs": [],
   "source": [
    "df_IC50 = df[df['IC50 (nM)'].notnull()]\n",
    "df_Kd = df[df['Kd (nM)'].notnull()]"
   ]
  },
  {
   "cell_type": "code",
   "execution_count": 30,
   "metadata": {},
   "outputs": [
    {
     "data": {
      "text/plain": [
       "1080811"
      ]
     },
     "execution_count": 30,
     "metadata": {},
     "output_type": "execute_result"
    }
   ],
   "source": [
    "len(df_IC50)"
   ]
  },
  {
   "cell_type": "code",
   "execution_count": 31,
   "metadata": {},
   "outputs": [
    {
     "data": {
      "text/plain": [
       "74761"
      ]
     },
     "execution_count": 31,
     "metadata": {},
     "output_type": "execute_result"
    }
   ],
   "source": [
    "len(df_Kd)"
   ]
  },
  {
   "cell_type": "code",
   "execution_count": 46,
   "metadata": {},
   "outputs": [],
   "source": [
    "df_IC50 = df_IC50[['BindingDB Reactant_set_id', 'Ligand InChI', 'Ligand SMILES', 'PubChem CID', 'UniProt (SwissProt) Primary ID of Target Chain', 'BindingDB Target Chain  Sequence', 'IC50 (nM)']]\n",
    "df_Kd = df_Kd[['BindingDB Reactant_set_id', 'Ligand InChI', 'Ligand SMILES', 'PubChem CID', 'UniProt (SwissProt) Primary ID of Target Chain', 'BindingDB Target Chain  Sequence', 'Kd (nM)']]"
   ]
  },
  {
   "cell_type": "code",
   "execution_count": 47,
   "metadata": {},
   "outputs": [],
   "source": [
    "df_IC50.rename(columns={'BindingDB Reactant_set_id':'ID',\n",
    "                          'Ligand SMILES':'SMILES',\n",
    "                          'Ligand InChI':'InChI',\n",
    "                          'PubChem CID':'PubChem_ID',\n",
    "                          'UniProt (SwissProt) Primary ID of Target Chain':'UniProt_ID',\n",
    "                          'BindingDB Target Chain  Sequence': 'Target Sequence',\n",
    "                          'IC50 (nM)': 'IC50'}, \n",
    "                 inplace=True)\n",
    "\n",
    "df_Kd.rename(columns={'BindingDB Reactant_set_id':'ID',\n",
    "                          'Ligand SMILES':'SMILES',\n",
    "                          'Ligand InChI':'InChI',\n",
    "                          'PubChem CID':'PubChem_ID',\n",
    "                          'UniProt (SwissProt) Primary ID of Target Chain':'UniProt_ID',\n",
    "                          'BindingDB Target Chain  Sequence': 'Target Sequence',\n",
    "                          'Kd (nM)': 'Kd'}, \n",
    "                 inplace=True)"
   ]
  },
  {
   "cell_type": "code",
   "execution_count": 48,
   "metadata": {},
   "outputs": [],
   "source": [
    "df_IC50['IC50'] = df_IC50['IC50'].str.replace('>', '')\n",
    "df_IC50['IC50'] = df_IC50['IC50'].str.replace('<', '')\n",
    "\n",
    "df_Kd['Kd'] = df_Kd['Kd'].str.replace('>', '')\n",
    "df_Kd['Kd'] = df_Kd['Kd'].str.replace('<', '')"
   ]
  },
  {
   "cell_type": "code",
   "execution_count": 49,
   "metadata": {},
   "outputs": [],
   "source": [
    "df_IC50['IC50'] = df_IC50['IC50'].astype(float)\n",
    "df_Kd['Kd'] = df_Kd['Kd'].astype(float)"
   ]
  },
  {
   "cell_type": "code",
   "execution_count": 50,
   "metadata": {},
   "outputs": [],
   "source": [
    "# have at least uniprot or pubchem ID\n",
    "df_IC50 = df_IC50[df_IC50.PubChem_ID.notnull() | df_IC50.UniProt_ID.notnull()]"
   ]
  },
  {
   "cell_type": "code",
   "execution_count": 51,
   "metadata": {},
   "outputs": [
    {
     "data": {
      "text/plain": [
       "1079221"
      ]
     },
     "execution_count": 51,
     "metadata": {},
     "output_type": "execute_result"
    }
   ],
   "source": [
    "len(df_IC50)"
   ]
  },
  {
   "cell_type": "code",
   "execution_count": 52,
   "metadata": {},
   "outputs": [],
   "source": [
    "# have at least InChI key\n",
    "df_IC50 = df_IC50[df_IC50.InChI.notnull()]"
   ]
  },
  {
   "cell_type": "code",
   "execution_count": 53,
   "metadata": {},
   "outputs": [
    {
     "data": {
      "text/plain": [
       "1078760"
      ]
     },
     "execution_count": 53,
     "metadata": {},
     "output_type": "execute_result"
    }
   ],
   "source": [
    "len(df_IC50)"
   ]
  },
  {
   "cell_type": "code",
   "execution_count": 54,
   "metadata": {},
   "outputs": [],
   "source": [
    "df_Kd = df_Kd[df_Kd.PubChem_ID.notnull() | df_Kd.UniProt_ID.notnull()]\n",
    "df_Kd = df_Kd[df_Kd.InChI.notnull()]"
   ]
  },
  {
   "cell_type": "code",
   "execution_count": null,
   "metadata": {},
   "outputs": [],
   "source": []
  },
  {
   "cell_type": "code",
   "execution_count": 55,
   "metadata": {},
   "outputs": [],
   "source": [
    "df_IC50 = df_IC50[df_IC50.IC50 <= 10000000.0]\n",
    "df_Kd = df_Kd[df_Kd.Kd <= 10000000.0]"
   ]
  },
  {
   "cell_type": "code",
   "execution_count": 56,
   "metadata": {},
   "outputs": [
    {
     "data": {
      "text/plain": [
       "66444"
      ]
     },
     "execution_count": 56,
     "metadata": {},
     "output_type": "execute_result"
    }
   ],
   "source": [
    "len(df_Kd)"
   ]
  },
  {
   "cell_type": "code",
   "execution_count": 57,
   "metadata": {},
   "outputs": [
    {
     "data": {
      "text/plain": [
       "1073803"
      ]
     },
     "execution_count": 57,
     "metadata": {},
     "output_type": "execute_result"
    }
   ],
   "source": [
    "len(df_IC50)"
   ]
  },
  {
   "cell_type": "code",
   "execution_count": 65,
   "metadata": {},
   "outputs": [],
   "source": [
    "# random_fold\n",
    "def create_fold(df, fold_seed, frac, path):\n",
    "    train_frac, val_frac, test_frac = frac\n",
    "    test = df.sample(frac = test_frac, replace = False, random_state = fold_seed)\n",
    "    train_val = df[~df.index.isin(test.index)]\n",
    "    val = train_val.sample(frac = val_frac/(1-test_frac), replace = False, random_state = 1)\n",
    "    train = train_val[~train_val.index.isin(val.index)]\n",
    "    \n",
    "    train.reset_index(drop = True).to_csv(path + '/train.csv')\n",
    "    val.reset_index(drop = True).to_csv(path + '/val.csv')\n",
    "    test.reset_index(drop = True).to_csv(path + '/test.csv')\n",
    "    #train_val.reset_index(drop = True).to_csv(path + '/train_val.csv')\n",
    "    \n",
    "    return train, val, test"
   ]
  },
  {
   "cell_type": "code",
   "execution_count": 67,
   "metadata": {},
   "outputs": [],
   "source": [
    "for i in range(1,2):\n",
    "    path = '../DTBA_data_folder/IC50/random/fold'+str(i)\n",
    "    _,_,_ = create_fold(df_IC50, i, [0.7, 0.1, 0.2], path)"
   ]
  },
  {
   "cell_type": "code",
   "execution_count": 68,
   "metadata": {},
   "outputs": [],
   "source": [
    "for i in range(1,2):\n",
    "    path = '../DTBA_data_folder/Kd/random/fold'+str(i)\n",
    "    _,_,_ = create_fold(df_Kd, i, [0.7, 0.1, 0.2], path)"
   ]
  },
  {
   "cell_type": "code",
   "execution_count": 69,
   "metadata": {},
   "outputs": [
    {
     "data": {
      "text/plain": [
       "array(['ID', 'InChI', 'SMILES', 'PubChem_ID', 'UniProt_ID',\n",
       "       'Target Sequence', 'Kd'], dtype=object)"
      ]
     },
     "execution_count": 69,
     "metadata": {},
     "output_type": "execute_result"
    }
   ],
   "source": [
    "df_Kd.columns.values"
   ]
  },
  {
   "cell_type": "code",
   "execution_count": 70,
   "metadata": {},
   "outputs": [],
   "source": [
    "# unseen protein\n",
    "def create_fold_setting_unseen_protein(df, fold_seed, frac, path):\n",
    "    train_frac, val_frac, test_frac = frac\n",
    "    gene_drop = df['Target Sequence'].drop_duplicates().sample(frac = test_frac, replace = False, random_state = fold_seed).values\n",
    "    \n",
    "    test = df[df['Target Sequence'].isin(gene_drop)]\n",
    "\n",
    "    train_val = df[~df['Target Sequence'].isin(gene_drop)]\n",
    "    \n",
    "    gene_drop_val = train_val['Target Sequence'].drop_duplicates().sample(frac = val_frac/(1-test_frac), replace = False, random_state = fold_seed).values\n",
    "    val = train_val[train_val['Target Sequence'].isin(gene_drop_val)]\n",
    "    train = train_val[~train_val['Target Sequence'].isin(gene_drop_val)]\n",
    "\n",
    "    train.reset_index(drop = True).to_csv(path + '/train.csv')\n",
    "    val.reset_index(drop = True).to_csv(path + '/val.csv')\n",
    "    test.reset_index(drop = True).to_csv(path + '/test.csv')\n",
    "    #train_val.reset_index(drop = True).to_csv(path + '/train_val.csv')\n",
    "    \n",
    "    return train, val, test"
   ]
  },
  {
   "cell_type": "code",
   "execution_count": 71,
   "metadata": {},
   "outputs": [],
   "source": [
    "for i in range(1,2):\n",
    "    path = '../DTBA_data_folder/IC50/unseen_protein/fold'+str(i)\n",
    "    _,_,_ = create_fold_setting_unseen_protein(df_IC50, i, [0.7, 0.1, 0.2], path)"
   ]
  },
  {
   "cell_type": "code",
   "execution_count": 72,
   "metadata": {},
   "outputs": [],
   "source": [
    "for i in range(1,2):\n",
    "    path = '../DTBA_data_folder/Kd/unseen_protein/fold'+str(i)\n",
    "    _,_,_ = create_fold_setting_unseen_protein(df_Kd, i, [0.7, 0.1, 0.2], path)"
   ]
  },
  {
   "cell_type": "code",
   "execution_count": null,
   "metadata": {},
   "outputs": [],
   "source": []
  },
  {
   "cell_type": "code",
   "execution_count": 73,
   "metadata": {},
   "outputs": [],
   "source": [
    "# unseen drug\n",
    "def create_fold_setting_unseen_drug(df, fold_seed, frac, path):\n",
    "    train_frac, val_frac, test_frac = frac\n",
    "    drug_drop = df['SMILES'].drop_duplicates().sample(frac = test_frac, replace = False, random_state = fold_seed).values\n",
    "    \n",
    "    test = df[df['SMILES'].isin(drug_drop)]\n",
    "\n",
    "    train_val = df[~df['SMILES'].isin(drug_drop)]\n",
    "    \n",
    "    drug_drop_val = train_val['SMILES'].drop_duplicates().sample(frac = val_frac/(1-test_frac), replace = False, random_state = fold_seed).values\n",
    "    val = train_val[train_val['SMILES'].isin(drug_drop_val)]\n",
    "    train = train_val[~train_val['SMILES'].isin(drug_drop_val)]\n",
    "\n",
    "    train.reset_index(drop = True).to_csv(path + '/train.csv')\n",
    "    val.reset_index(drop = True).to_csv(path + '/val.csv')\n",
    "    test.reset_index(drop = True).to_csv(path + '/test.csv')\n",
    "    #train_val.reset_index(drop = True).to_csv(path + '/train_val.csv')\n",
    "    \n",
    "    return train, val, test"
   ]
  },
  {
   "cell_type": "code",
   "execution_count": 74,
   "metadata": {},
   "outputs": [],
   "source": [
    "for i in range(1,2):\n",
    "    path = '../DTBA_data_folder/IC50/unseen_drug/fold'+str(i)\n",
    "    _,_,_ = create_fold_setting_unseen_drug(df_IC50, i, [0.7, 0.1, 0.2], path)"
   ]
  },
  {
   "cell_type": "code",
   "execution_count": 75,
   "metadata": {},
   "outputs": [],
   "source": [
    "for i in range(1,2):\n",
    "    path = '../DTBA_data_folder/Kd/unseen_drug/fold'+str(i)\n",
    "    _,_,_ = create_fold_setting_unseen_drug(df_Kd, i, [0.7, 0.1, 0.2], path)"
   ]
  },
  {
   "cell_type": "code",
   "execution_count": 118,
   "metadata": {},
   "outputs": [],
   "source": [
    "df_Kd.reset_index(drop = True).to_csv('../DTBA_data_folder/Kd/data.csv')"
   ]
  },
  {
   "cell_type": "code",
   "execution_count": 121,
   "metadata": {},
   "outputs": [],
   "source": [
    "X_d = df_Kd.SMILES.values\n",
    "X_t = df_Kd['Target Sequence'].values\n",
    "y = df_Kd.Kd.values"
   ]
  },
  {
   "cell_type": "code",
   "execution_count": 122,
   "metadata": {},
   "outputs": [],
   "source": [
    "df_data = pd.DataFrame(zip(X_d, X_t, y))\n",
    "df_data.rename(columns={0:'SMILES',\n",
    "                          1: 'Target Sequence',\n",
    "                          2: 'Label'}, \n",
    "                 inplace=True)"
   ]
  },
  {
   "cell_type": "code",
   "execution_count": 94,
   "metadata": {},
   "outputs": [],
   "source": [
    "from rdkit.Chem import AllChem\n",
    "from rdkit import Chem, DataStructs"
   ]
  },
  {
   "cell_type": "code",
   "execution_count": null,
   "metadata": {},
   "outputs": [],
   "source": [
    "def smilesToECFP4(s):\n",
    "    mol = Chem.MolFromSmiles(s)\n",
    "    mapping = {}\n",
    "    t = AllChem.GetMorganFingerprintAsBitVect(mol, radius=2, nBits = 1024, bitInfo = mapping)\n",
    "    bit_vector = np.zeros(1024)\n",
    "    bit_vector[list(mapping.keys())] = 1\n",
    "    return bit_vector"
   ]
  },
  {
   "cell_type": "code",
   "execution_count": 125,
   "metadata": {},
   "outputs": [],
   "source": [
    "def smiles2ecfp(s, radius = 2, nBits = 2048):\n",
    "    try:\n",
    "        mol = Chem.MolFromSmiles(s)\n",
    "        features_vec = AllChem.GetHashedMorganFingerprint(mol, radius, nBits=nBits)\n",
    "        features = np.zeros((1,))\n",
    "        DataStructs.ConvertToNumpyArray(features_vec, features)\n",
    "    except:\n",
    "        print('rdkit not found this smiles for ecfp: ' + s + ' convert to all 1 features')\n",
    "        features = np.ones((nBits, 1))\n",
    "    return features"
   ]
  },
  {
   "cell_type": "code",
   "execution_count": 126,
   "metadata": {},
   "outputs": [
    {
     "data": {
      "text/plain": [
       "array([0., 0., 0., ..., 0., 0., 0.])"
      ]
     },
     "execution_count": 126,
     "metadata": {},
     "output_type": "execute_result"
    }
   ],
   "source": [
    "smiles2ecfp('Cc1ccc(CNS(=O)(=O)c2ccc(s2)S(N)(=O)=O)cc1')"
   ]
  },
  {
   "cell_type": "code",
   "execution_count": 124,
   "metadata": {},
   "outputs": [
    {
     "name": "stdout",
     "output_type": "stream",
     "text": [
      "rdkit not found this smiles for ecfp: Cc1ccc(F)c(NC(=O)Nc2cnn(c2)-c2cccc3nnc(N)c23)c1 convert to all 1 features\n",
      "rdkit not found this smiles for ecfp: COc1cc2ncnc(Oc3cccc(NC(=O)NC4=CC(=[N](N4)c4ccccc4)C(F)(F)F)c3)c2cc1OC convert to all 1 features\n",
      "rdkit not found this smiles for ecfp: COc1cc2ncnc(Oc3cccc(NC(=O)NC4=CC(=[N](N4)c4ccccc4)C(F)(F)F)c3)c2cc1OC convert to all 1 features\n",
      "rdkit not found this smiles for ecfp: COc1cc2ncnc(Oc3cccc(NC(=O)NC4=CC(=[N](N4)c4ccccc4)C(F)(F)F)c3)c2cc1OC convert to all 1 features\n",
      "rdkit not found this smiles for ecfp: COc1cc2ncnc(Sc3cccc(NC(=O)NC4=CC(=[N](N4)c4ccccc4)C(F)(F)F)c3)c2cc1OC convert to all 1 features\n",
      "rdkit not found this smiles for ecfp: COc1cc2ncnc(Sc3cccc(NC(=O)NC4=CC(=[N](N4)c4ccccc4)C(F)(F)F)c3)c2cc1OC convert to all 1 features\n",
      "rdkit not found this smiles for ecfp: COc1cc2ncnc(Sc3cccc(NC(=O)NC4=CC(=[N](N4)c4ccccc4)C(F)(F)F)c3)c2cc1OC convert to all 1 features\n",
      "rdkit not found this smiles for ecfp: COc1cc2ncnc(Sc3cccc(NC(=O)NC4=CC(=[N](C)N4)C(F)(F)F)c3)c2cc1OC convert to all 1 features\n",
      "rdkit not found this smiles for ecfp: COc1cc2ncnc(Sc3cccc(NC(=O)NC4=CC(=[N](C)N4)C(F)(F)F)c3)c2cc1OC convert to all 1 features\n",
      "rdkit not found this smiles for ecfp: COc1cc2ncnc(Sc3cccc(NC(=O)NC4=CC(=[N](C)N4)C(F)(F)F)c3)c2cc1OC convert to all 1 features\n",
      "rdkit not found this smiles for ecfp: CN1CCN(Cc2ccc(cc2)C(=O)Nc2ccc(C)c(Nc3nccc(n3)-c3cccnc3)c2)CC1 convert to all 1 features\n"
     ]
    }
   ],
   "source": [
    "SMILES_encode = df_data.SMILES.apply(smiles2ecfp)"
   ]
  },
  {
   "cell_type": "code",
   "execution_count": 106,
   "metadata": {},
   "outputs": [
    {
     "data": {
      "text/plain": [
       "(66444,)"
      ]
     },
     "execution_count": 106,
     "metadata": {},
     "output_type": "execute_result"
    }
   ],
   "source": [
    "SMILES_encode.shape"
   ]
  },
  {
   "cell_type": "code",
   "execution_count": 107,
   "metadata": {},
   "outputs": [
    {
     "data": {
      "text/plain": [
       "66444"
      ]
     },
     "execution_count": 107,
     "metadata": {},
     "output_type": "execute_result"
    }
   ],
   "source": [
    "len(df_Kd)"
   ]
  },
  {
   "cell_type": "code",
   "execution_count": 99,
   "metadata": {},
   "outputs": [
    {
     "data": {
      "text/plain": [
       "array([0., 0., 0., ..., 0., 0., 0.])"
      ]
     },
     "execution_count": 99,
     "metadata": {},
     "output_type": "execute_result"
    }
   ],
   "source": [
    "(smiles2ecfp('CCCCCCCOC1OC(CO)C(O)C(O)C1O'))"
   ]
  },
  {
   "cell_type": "code",
   "execution_count": 108,
   "metadata": {},
   "outputs": [],
   "source": [
    "df_Kd['Drug_Encoding'] = SMILES_encode"
   ]
  },
  {
   "cell_type": "code",
   "execution_count": 109,
   "metadata": {},
   "outputs": [
    {
     "data": {
      "text/plain": [
       "(66444,)"
      ]
     },
     "execution_count": 109,
     "metadata": {},
     "output_type": "execute_result"
    }
   ],
   "source": [
    "df_Kd['Drug_Encoding'].values.shape"
   ]
  },
  {
   "cell_type": "code",
   "execution_count": 114,
   "metadata": {},
   "outputs": [],
   "source": [
    "def rdkit2d(s):    \n",
    "    try:\n",
    "        generator = rdNormalizedDescriptors.RDKit2DNormalized()\n",
    "        features = generator.process(s)[1:]\n",
    "    except:\n",
    "        print('descriptastorus not found this smiles for ecfp: ' + s + ' convert to all 1 features')\n",
    "        features = np.ones((200, 1))\n",
    "    return np.array(features)"
   ]
  },
  {
   "cell_type": "code",
   "execution_count": 115,
   "metadata": {},
   "outputs": [
    {
     "data": {
      "text/plain": [
       "200"
      ]
     },
     "execution_count": 115,
     "metadata": {},
     "output_type": "execute_result"
    }
   ],
   "source": [
    "from descriptastorus.descriptors import rdDescriptors, rdNormalizedDescriptors\n",
    "\n",
    "len(rdkit2d('CCCCCCCOC1OC(CO)C(O)C(O)C1O'))"
   ]
  },
  {
   "cell_type": "code",
   "execution_count": 58,
   "metadata": {},
   "outputs": [
    {
     "name": "stderr",
     "output_type": "stream",
     "text": [
      "/Users/kexinhuang/torch-env/lib/python3.7/site-packages/IPython/core/interactiveshell.py:3063: DtypeWarning: Columns (0,1,2,3,8,14,21,22,23,24,25,26,27,30,32) have mixed types.Specify dtype option on import or set low_memory=False.\n",
      "  interactivity=interactivity, compiler=compiler, result=result)\n"
     ]
    }
   ],
   "source": [
    "# DTC dataset process\n",
    "df_DTC = pd.read_csv('/Users/kexinhuang/Downloads/DtcDrugTargetInteractions.csv')"
   ]
  },
  {
   "cell_type": "code",
   "execution_count": 59,
   "metadata": {},
   "outputs": [
    {
     "data": {
      "text/html": [
       "<div>\n",
       "<style scoped>\n",
       "    .dataframe tbody tr th:only-of-type {\n",
       "        vertical-align: middle;\n",
       "    }\n",
       "\n",
       "    .dataframe tbody tr th {\n",
       "        vertical-align: top;\n",
       "    }\n",
       "\n",
       "    .dataframe thead th {\n",
       "        text-align: right;\n",
       "    }\n",
       "</style>\n",
       "<table border=\"1\" class=\"dataframe\">\n",
       "  <thead>\n",
       "    <tr style=\"text-align: right;\">\n",
       "      <th></th>\n",
       "      <th>compound_id</th>\n",
       "      <th>standard_inchi_key</th>\n",
       "      <th>compound_name</th>\n",
       "      <th>synonym</th>\n",
       "      <th>target_id</th>\n",
       "      <th>target_pref_name</th>\n",
       "      <th>gene_names</th>\n",
       "      <th>wildtype_or_mutant</th>\n",
       "      <th>mutation_info</th>\n",
       "      <th>pubmed_id</th>\n",
       "      <th>...</th>\n",
       "      <th>compound_concentration_value_unit</th>\n",
       "      <th>substrate_type</th>\n",
       "      <th>substrate_relation</th>\n",
       "      <th>substrate_value</th>\n",
       "      <th>substrate_units</th>\n",
       "      <th>assay_description</th>\n",
       "      <th>title</th>\n",
       "      <th>journal</th>\n",
       "      <th>doc_type</th>\n",
       "      <th>annotation_comments</th>\n",
       "    </tr>\n",
       "  </thead>\n",
       "  <tbody>\n",
       "    <tr>\n",
       "      <th>0</th>\n",
       "      <td>CHEMBL3545284</td>\n",
       "      <td>NaN</td>\n",
       "      <td>CERDULATINIB</td>\n",
       "      <td>NaN</td>\n",
       "      <td>Q9Y4K4</td>\n",
       "      <td>MITOGEN-ACTIVATED PROTEIN KINASE KINASE KINASE...</td>\n",
       "      <td>MAP4K5</td>\n",
       "      <td>NaN</td>\n",
       "      <td>NaN</td>\n",
       "      <td>29191878.0</td>\n",
       "      <td>...</td>\n",
       "      <td>NM-UM</td>\n",
       "      <td>NaN</td>\n",
       "      <td>NaN</td>\n",
       "      <td>NaN</td>\n",
       "      <td>NaN</td>\n",
       "      <td>LC-MS/MS BASED KINOBEADS COMPETITIVE PULL-DOWN...</td>\n",
       "      <td>THE TARGET LANDSCAPE OF CLINICAL KINASE DRUGS</td>\n",
       "      <td>SCIENCE</td>\n",
       "      <td>NaN</td>\n",
       "      <td>NaN</td>\n",
       "    </tr>\n",
       "    <tr>\n",
       "      <th>1</th>\n",
       "      <td>CHEMBL3545284</td>\n",
       "      <td>NaN</td>\n",
       "      <td>CERDULATINIB</td>\n",
       "      <td>NaN</td>\n",
       "      <td>Q9Y478</td>\n",
       "      <td>AMP-ACTIVATED PROTEIN KINASE, BETA-1 SUBUNIT</td>\n",
       "      <td>PRKAB1</td>\n",
       "      <td>NaN</td>\n",
       "      <td>NaN</td>\n",
       "      <td>29191878.0</td>\n",
       "      <td>...</td>\n",
       "      <td>NM-UM</td>\n",
       "      <td>NaN</td>\n",
       "      <td>NaN</td>\n",
       "      <td>NaN</td>\n",
       "      <td>NaN</td>\n",
       "      <td>LC-MS/MS BASED KINOBEADS COMPETITIVE PULL-DOWN...</td>\n",
       "      <td>THE TARGET LANDSCAPE OF CLINICAL KINASE DRUGS</td>\n",
       "      <td>SCIENCE</td>\n",
       "      <td>NaN</td>\n",
       "      <td>NaN</td>\n",
       "    </tr>\n",
       "  </tbody>\n",
       "</table>\n",
       "<p>2 rows × 33 columns</p>\n",
       "</div>"
      ],
      "text/plain": [
       "     compound_id standard_inchi_key compound_name synonym target_id  \\\n",
       "0  CHEMBL3545284                NaN  CERDULATINIB     NaN    Q9Y4K4   \n",
       "1  CHEMBL3545284                NaN  CERDULATINIB     NaN    Q9Y478   \n",
       "\n",
       "                                    target_pref_name gene_names  \\\n",
       "0  MITOGEN-ACTIVATED PROTEIN KINASE KINASE KINASE...     MAP4K5   \n",
       "1       AMP-ACTIVATED PROTEIN KINASE, BETA-1 SUBUNIT     PRKAB1   \n",
       "\n",
       "  wildtype_or_mutant mutation_info   pubmed_id  ...  \\\n",
       "0                NaN           NaN  29191878.0  ...   \n",
       "1                NaN           NaN  29191878.0  ...   \n",
       "\n",
       "  compound_concentration_value_unit substrate_type  substrate_relation  \\\n",
       "0                             NM-UM            NaN                 NaN   \n",
       "1                             NM-UM            NaN                 NaN   \n",
       "\n",
       "  substrate_value substrate_units  \\\n",
       "0             NaN             NaN   \n",
       "1             NaN             NaN   \n",
       "\n",
       "                                   assay_description  \\\n",
       "0  LC-MS/MS BASED KINOBEADS COMPETITIVE PULL-DOWN...   \n",
       "1  LC-MS/MS BASED KINOBEADS COMPETITIVE PULL-DOWN...   \n",
       "\n",
       "                                           title  journal doc_type  \\\n",
       "0  THE TARGET LANDSCAPE OF CLINICAL KINASE DRUGS  SCIENCE      NaN   \n",
       "1  THE TARGET LANDSCAPE OF CLINICAL KINASE DRUGS  SCIENCE      NaN   \n",
       "\n",
       "  annotation_comments  \n",
       "0                 NaN  \n",
       "1                 NaN  \n",
       "\n",
       "[2 rows x 33 columns]"
      ]
     },
     "execution_count": 59,
     "metadata": {},
     "output_type": "execute_result"
    }
   ],
   "source": [
    "df_DTC.head(2)"
   ]
  },
  {
   "cell_type": "code",
   "execution_count": 60,
   "metadata": {},
   "outputs": [
    {
     "data": {
      "text/plain": [
       "array(['compound_id', 'standard_inchi_key', 'compound_name', 'synonym',\n",
       "       'target_id', 'target_pref_name', 'gene_names',\n",
       "       'wildtype_or_mutant', 'mutation_info', 'pubmed_id',\n",
       "       'standard_type', 'standard_relation', 'standard_value',\n",
       "       'standard_units', 'activity_comment', 'ep_action_mode',\n",
       "       'assay_format', 'assaytype', 'assay_subtype', 'inhibitor_type',\n",
       "       'detection_tech', 'assay_cell_line',\n",
       "       'compound_concentration_value',\n",
       "       'compound_concentration_value_unit', 'substrate_type',\n",
       "       'substrate_relation', 'substrate_value', 'substrate_units',\n",
       "       'assay_description', 'title', 'journal', 'doc_type',\n",
       "       'annotation_comments'], dtype=object)"
      ]
     },
     "execution_count": 60,
     "metadata": {},
     "output_type": "execute_result"
    }
   ],
   "source": [
    "df_DTC.columns.values"
   ]
  },
  {
   "cell_type": "code",
   "execution_count": 46,
   "metadata": {},
   "outputs": [],
   "source": [
    "df_ba = pd.read_csv('/Users/kexinhuang/Desktop/data_balanced.csv')"
   ]
  },
  {
   "cell_type": "code",
   "execution_count": 27,
   "metadata": {},
   "outputs": [],
   "source": [
    "length = []\n",
    "for i in df_ba['Target Sequence'].unique():\n",
    "    length.append(len(i))"
   ]
  },
  {
   "cell_type": "code",
   "execution_count": 12,
   "metadata": {},
   "outputs": [],
   "source": [
    "from subword_nmt.apply_bpe import BPE\n",
    "import codecs\n",
    "\n",
    "#vocab_path = dataFolder + '/codes_protein.txt'\n",
    "vocab_path = './ESPF/protein_codes_uniprot_2000.txt'\n",
    "bpe_codes_protein = codecs.open(vocab_path)\n",
    "pbpe = BPE(bpe_codes_protein, merges=-1, separator='')\n",
    "#sub_csv = pd.read_csv(dataFolder + '/subword_units_map_protein.csv')\n",
    "sub_csv = pd.read_csv('./ESPF/subword_units_map_uniprot_2000.csv')\n",
    "\n",
    "idx2word_p = sub_csv['index'].values\n",
    "words2idx_p = dict(zip(idx2word_p, range(0, len(idx2word_p))))"
   ]
  },
  {
   "cell_type": "code",
   "execution_count": 15,
   "metadata": {},
   "outputs": [
    {
     "data": {
      "text/plain": [
       "1132"
      ]
     },
     "execution_count": 15,
     "metadata": {},
     "output_type": "execute_result"
    }
   ],
   "source": [
    "len(df_ba['Target Sequence'].unique())"
   ]
  },
  {
   "cell_type": "code",
   "execution_count": 19,
   "metadata": {},
   "outputs": [
    {
     "data": {
      "text/plain": [
       "586"
      ]
     },
     "execution_count": 19,
     "metadata": {},
     "output_type": "execute_result"
    }
   ],
   "source": [
    "len(pbpe.process_line(df_ba['Target Sequence'].unique()[0]).split())"
   ]
  },
  {
   "cell_type": "code",
   "execution_count": 31,
   "metadata": {},
   "outputs": [],
   "source": [
    "vocab_path = './ESPF/drug_codes_chembl_freq_1500.txt'\n",
    "bpe_codes_drug = codecs.open(vocab_path)\n",
    "dbpe = BPE(bpe_codes_drug, merges=-1, separator='')\n",
    "#sub_csv = pd.read_csv(dataFolder + '/subword_units_map_drug.csv')\n",
    "sub_csv = pd.read_csv('./ESPF/subword_units_map_chembl_freq_1500.csv')\n",
    "\n",
    "idx2word_d = sub_csv['index'].values\n",
    "words2idx_d = dict(zip(idx2word_d, range(0, len(idx2word_d))))\n",
    "\n",
    "length_ = []\n",
    "for x in df_ba.SMILES.unique():\n",
    "    length_.append(len(dbpe.process_line(x).split()))\n",
    "    "
   ]
  },
  {
   "cell_type": "code",
   "execution_count": 32,
   "metadata": {},
   "outputs": [
    {
     "data": {
      "text/plain": [
       "(array([1.5043e+04, 2.4611e+04, 1.3940e+03, 1.1500e+02, 4.3000e+01,\n",
       "        2.9000e+01, 3.0000e+01, 1.7000e+01, 1.5000e+01, 7.0000e+00]),\n",
       " array([ 2. , 11.4, 20.8, 30.2, 39.6, 49. , 58.4, 67.8, 77.2, 86.6, 96. ]),\n",
       " <a list of 10 Patch objects>)"
      ]
     },
     "execution_count": 32,
     "metadata": {},
     "output_type": "execute_result"
    },
    {
     "data": {
      "image/png": "[encoded data removed]",
      "text/plain": [
       "<Figure size 432x288 with 1 Axes>"
      ]
     },
     "metadata": {
      "needs_background": "light"
     },
     "output_type": "display_data"
    }
   ],
   "source": [
    "plt.hist(length_)"
   ]
  },
  {
   "cell_type": "code",
   "execution_count": 29,
   "metadata": {},
   "outputs": [
    {
     "data": {
      "text/plain": [
       "(array([692., 321.,  81.,  17.,  14.,   2.,   1.,   1.,   2.,   1.]),\n",
       " array([  18. ,  569.9, 1121.8, 1673.7, 2225.6, 2777.5, 3329.4, 3881.3,\n",
       "        4433.2, 4985.1, 5537. ]),\n",
       " <a list of 10 Patch objects>)"
      ]
     },
     "execution_count": 29,
     "metadata": {},
     "output_type": "execute_result"
    },
    {
     "data": {
      "image/png": "[encoded data removed]",
      "text/plain": [
       "<Figure size 432x288 with 1 Axes>"
      ]
     },
     "metadata": {
      "needs_background": "light"
     },
     "output_type": "display_data"
    }
   ],
   "source": [
    "import matplotlib.pyplot as plt\n",
    "plt.hist(length)"
   ]
  },
  {
   "cell_type": "code",
   "execution_count": 21,
   "metadata": {},
   "outputs": [],
   "source": [
    "length_ = []\n",
    "for x in df_ba['Target Sequence'].unique():\n",
    "    length_.append(len(pbpe.process_line(x).split()))"
   ]
  },
  {
   "cell_type": "code",
   "execution_count": 30,
   "metadata": {},
   "outputs": [
    {
     "data": {
      "text/plain": [
       "(array([682., 324.,  85.,  16.,  18.,   2.,   1.,   1.,   2.,   1.]),\n",
       " array([   8.,  240.,  472.,  704.,  936., 1168., 1400., 1632., 1864.,\n",
       "        2096., 2328.]),\n",
       " <a list of 10 Patch objects>)"
      ]
     },
     "execution_count": 30,
     "metadata": {},
     "output_type": "execute_result"
    },
    {
     "data": {
      "image/png": "[encoded data removed]",
      "text/plain": [
       "<Figure size 432x288 with 1 Axes>"
      ]
     },
     "metadata": {
      "needs_background": "light"
     },
     "output_type": "display_data"
    }
   ],
   "source": [
    "plt.hist(length_)"
   ]
  },
  {
   "cell_type": "code",
   "execution_count": 33,
   "metadata": {},
   "outputs": [],
   "source": [
    "def protein2emb_encoder(x):\n",
    "    max_p = 545\n",
    "    t1 = pbpe.process_line(x).split()  # split\n",
    "    try:\n",
    "        i1 = np.asarray([words2idx_p[i] for i in t1])  # index\n",
    "    except:\n",
    "        i1 = np.array([0])\n",
    "\n",
    "    l = len(i1)\n",
    "   \n",
    "    if l < max_p:\n",
    "        i = np.pad(i1, (0, max_p - l), 'constant', constant_values = 0)\n",
    "        input_mask = ([1] * l) + ([0] * (max_p - l))\n",
    "    else:\n",
    "        i = i1[:max_p]\n",
    "        input_mask = [1] * max_p\n",
    "        \n",
    "    return i, np.asarray(input_mask)\n",
    "\n",
    "def drug2emb_encoder(x):\n",
    "    max_d = 50\n",
    "    t1 = dbpe.process_line(x).split()  # split\n",
    "    try:\n",
    "        i1 = np.asarray([words2idx_d[i] for i in t1])  # index\n",
    "    except:\n",
    "        i1 = np.array([0])\n",
    "    \n",
    "    l = len(i1)\n",
    "\n",
    "    if l < max_d:\n",
    "        i = np.pad(i1, (0, max_d - l), 'constant', constant_values = 0)\n",
    "        input_mask = ([1] * l) + ([0] * (max_d - l))\n",
    "\n",
    "    else:\n",
    "        i = i1[:max_d]\n",
    "        input_mask = [1] * max_d\n",
    "\n",
    "    return i, np.asarray(input_mask)"
   ]
  },
  {
   "cell_type": "code",
   "execution_count": 38,
   "metadata": {},
   "outputs": [
    {
     "data": {
      "text/plain": [
       "array([ 790,  426,   43,  135,  158,   38, 1924,   95,  997,   29,    0,\n",
       "          0,    0,    0,    0,    0,    0,    0,    0,    0,    0,    0,\n",
       "          0,    0,    0,    0,    0,    0,    0,    0,    0,    0,    0,\n",
       "          0,    0,    0,    0,    0,    0,    0,    0,    0,    0,    0,\n",
       "          0,    0,    0,    0,    0,    0])"
      ]
     },
     "execution_count": 38,
     "metadata": {},
     "output_type": "execute_result"
    }
   ],
   "source": [
    "df_ba.sample(n=10).SMILES.apply(drug2emb_encoder).iloc[0][0]"
   ]
  },
  {
   "cell_type": "code",
   "execution_count": 39,
   "metadata": {},
   "outputs": [],
   "source": [
    "df_data = df_ba.sample(n=10)\n",
    "unique = pd.Series(df_data['SMILES'].unique()).apply(drug2emb_encoder)\n",
    "unique_dict = dict(zip(df_data['SMILES'].unique(), unique))\n",
    "df_data['drug_encoding'] = [unique_dict[i] for i in df_data['SMILES']]"
   ]
  },
  {
   "cell_type": "code",
   "execution_count": 42,
   "metadata": {},
   "outputs": [],
   "source": [
    "x = df_data['drug_encoding'].iloc[0]"
   ]
  },
  {
   "cell_type": "code",
   "execution_count": 44,
   "metadata": {},
   "outputs": [
    {
     "data": {
      "text/plain": [
       "array([1043,  340,   32,  116,   35,  852,   93,   66,  413,  332,   97,\n",
       "         82,  464, 1284,  258, 1919, 1085,   85,    0,    0,    0,    0,\n",
       "          0,    0,    0,    0,    0,    0,    0,    0,    0,    0,    0,\n",
       "          0,    0,    0,    0,    0,    0,    0,    0,    0,    0,    0,\n",
       "          0,    0,    0,    0,    0,    0])"
      ]
     },
     "execution_count": 44,
     "metadata": {},
     "output_type": "execute_result"
    }
   ],
   "source": [
    "x[0]"
   ]
  },
  {
   "cell_type": "code",
   "execution_count": null,
   "metadata": {},
   "outputs": [],
   "source": []
  },
  {
   "cell_type": "code",
   "execution_count": 80,
   "metadata": {},
   "outputs": [],
   "source": [
    "def create_fold(df, x):\n",
    "    test = df.sample(frac = 0.2, replace = False, random_state = x)\n",
    "    train_val = df[~df.index.isin(test.index)]\n",
    "    val = train_val.sample(frac = 0.125, replace = False, random_state = 1)\n",
    "    train = train_val[~train_val.index.isin(val.index)]\n",
    "    \n",
    "    path = '../BIN/BindingDB/fold'+str(x)\n",
    "    train.reset_index(drop = True).to_csv(path + '/train.csv')\n",
    "    val.reset_index(drop = True).to_csv(path + '/val.csv')\n",
    "    test.reset_index(drop = True).to_csv(path + '/test.csv')\n",
    "    train_val.reset_index(drop = True).to_csv(path + '/train_val.csv')\n",
    "    \n",
    "    return train, val, test"
   ]
  },
  {
   "cell_type": "code",
   "execution_count": 83,
   "metadata": {},
   "outputs": [],
   "source": [
    "_,_,_ = create_fold(df_ba, 3)"
   ]
  },
  {
   "cell_type": "code",
   "execution_count": 86,
   "metadata": {},
   "outputs": [
    {
     "data": {
      "text/html": [
       "<div>\n",
       "<style scoped>\n",
       "    .dataframe tbody tr th:only-of-type {\n",
       "        vertical-align: middle;\n",
       "    }\n",
       "\n",
       "    .dataframe tbody tr th {\n",
       "        vertical-align: top;\n",
       "    }\n",
       "\n",
       "    .dataframe thead th {\n",
       "        text-align: right;\n",
       "    }\n",
       "</style>\n",
       "<table border=\"1\" class=\"dataframe\">\n",
       "  <thead>\n",
       "    <tr style=\"text-align: right;\">\n",
       "      <th></th>\n",
       "      <th>Unnamed: 0</th>\n",
       "      <th>index</th>\n",
       "      <th>ID</th>\n",
       "      <th>SMILES</th>\n",
       "      <th>PubChem_ID</th>\n",
       "      <th>UniProt_ID</th>\n",
       "      <th>Target Sequence</th>\n",
       "      <th>IC50</th>\n",
       "      <th>label</th>\n",
       "      <th>Label</th>\n",
       "    </tr>\n",
       "  </thead>\n",
       "  <tbody>\n",
       "  </tbody>\n",
       "</table>\n",
       "</div>"
      ],
      "text/plain": [
       "Empty DataFrame\n",
       "Columns: [Unnamed: 0, index, ID, SMILES, PubChem_ID, UniProt_ID, Target Sequence, IC50, label, Label]\n",
       "Index: []"
      ]
     },
     "execution_count": 86,
     "metadata": {},
     "output_type": "execute_result"
    }
   ],
   "source": [
    "df_ba[df_ba['Target Sequence'].isnull()]"
   ]
  },
  {
   "cell_type": "code",
   "execution_count": 92,
   "metadata": {},
   "outputs": [
    {
     "data": {
      "text/plain": [
       "390"
      ]
     },
     "execution_count": 92,
     "metadata": {},
     "output_type": "execute_result"
    }
   ],
   "source": [
    "np.random.choice(list(range(1000)), 1)[0]"
   ]
  },
  {
   "cell_type": "code",
   "execution_count": 8,
   "metadata": {},
   "outputs": [],
   "source": [
    "from pybiomed_helper import _GetPseudoAAC, CalculateAADipeptideComposition, calcPubChemFingerAll, CalculateConjointTriad, GetQuasiSequenceOrder\n"
   ]
  },
  {
   "cell_type": "code",
   "execution_count": 9,
   "metadata": {},
   "outputs": [
    {
     "data": {
      "text/plain": [
       "30"
      ]
     },
     "execution_count": 9,
     "metadata": {},
     "output_type": "execute_result"
    }
   ],
   "source": [
    "len(_GetPseudoAAC(df_ba['Target Sequence'].iloc[0]))"
   ]
  },
  {
   "cell_type": "code",
   "execution_count": 143,
   "metadata": {},
   "outputs": [],
   "source": [
    "df = df_ba.sample(n = 100)"
   ]
  },
  {
   "cell_type": "code",
   "execution_count": 150,
   "metadata": {},
   "outputs": [
    {
     "data": {
      "text/plain": [
       "(30,)"
      ]
     },
     "execution_count": 150,
     "metadata": {},
     "output_type": "execute_result"
    }
   ],
   "source": [
    "np.array(list(_GetPseudoAAC(df['Target Sequence'].iloc[0]).values())).shape"
   ]
  },
  {
   "cell_type": "code",
   "execution_count": 145,
   "metadata": {},
   "outputs": [
    {
     "name": "stdout",
     "output_type": "stream",
     "text": [
      "462.9734787940979\n"
     ]
    }
   ],
   "source": [
    "import time\n",
    "s = time.time()\n",
    "df['Target Sequence'].apply(_GetPseudoAAC)\n",
    "print(time.time() - s)"
   ]
  },
  {
   "cell_type": "code",
   "execution_count": 154,
   "metadata": {},
   "outputs": [],
   "source": [
    "from rdkit import Chem, DataStructs\n",
    "from rdkit.Chem import AllChem, ChemicalFeatures, MACCSkeys\n",
    "from rdkit.Chem.AtomPairs import Pairs, Torsions\n",
    "from rdkit.Chem.Fingerprints import FingerprintMols"
   ]
  },
  {
   "cell_type": "code",
   "execution_count": 155,
   "metadata": {},
   "outputs": [],
   "source": [
    "s = df.SMILES.values[0]\n",
    "\n",
    "\n",
    "NumFinger = 2048\n",
    "mol = Chem.MolFromSmiles(s)\n",
    "bv = FingerprintMols.FingerprintMol(mol)\n",
    "temp = tuple(bv.GetOnBits())\n",
    "features = np.zeros((NumFinger, 1))\n",
    "features[np.array(temp)] = 1\n",
    "return features"
   ]
  },
  {
   "cell_type": "code",
   "execution_count": 163,
   "metadata": {},
   "outputs": [],
   "source": [
    "features = np.zeros((NumFinger, 1))\n",
    "features[np.array(temp)] = 1"
   ]
  },
  {
   "cell_type": "code",
   "execution_count": 164,
   "metadata": {},
   "outputs": [
    {
     "data": {
      "text/plain": [
       "array([[0.],\n",
       "       [0.],\n",
       "       [1.],\n",
       "       ...,\n",
       "       [0.],\n",
       "       [0.],\n",
       "       [1.]])"
      ]
     },
     "execution_count": 164,
     "metadata": {},
     "output_type": "execute_result"
    }
   ],
   "source": [
    "features"
   ]
  },
  {
   "cell_type": "code",
   "execution_count": 54,
   "metadata": {},
   "outputs": [],
   "source": [
    "char_drug = []\n",
    "for i in df_ba.SMILES.values:\n",
    "    char_drug += list(i)"
   ]
  },
  {
   "cell_type": "code",
   "execution_count": 58,
   "metadata": {},
   "outputs": [
    {
     "data": {
      "text/plain": [
       "50"
      ]
     },
     "execution_count": 58,
     "metadata": {},
     "output_type": "execute_result"
    }
   ],
   "source": [
    "len(np.unique(char_drug))"
   ]
  },
  {
   "cell_type": "code",
   "execution_count": 63,
   "metadata": {},
   "outputs": [
    {
     "data": {
      "text/plain": [
       "array([' ', '#', '%', '(', ')', '+', ',', '-', '.', '/', '0', '1', '2',\n",
       "       '3', '4', '5', '6', '7', '8', '9', ':', '=', '@', 'A', 'B', 'C',\n",
       "       'F', 'H', 'I', 'N', 'O', 'P', 'R', 'S', 'V', '[', '\\\\', ']', 'a',\n",
       "       'b', 'c', 'e', 'i', 'l', 'n', 'o', 'r', 's', 'u', '|'], dtype='<U1')"
      ]
     },
     "execution_count": 63,
     "metadata": {},
     "output_type": "execute_result"
    }
   ],
   "source": [
    "np.unique(char_drug)"
   ]
  },
  {
   "cell_type": "code",
   "execution_count": 101,
   "metadata": {},
   "outputs": [],
   "source": [
    "char_target = []\n",
    "for i in df_ba['Target Sequence'].values:\n",
    "    char_target.append(len(list(i)))"
   ]
  },
  {
   "cell_type": "code",
   "execution_count": 103,
   "metadata": {},
   "outputs": [
    {
     "data": {
      "text/plain": [
       "(array([2.4198e+04, 1.5430e+04, 7.0380e+03, 4.1500e+02, 8.9000e+02,\n",
       "        1.6000e+01, 1.1000e+01, 7.7000e+01, 1.2000e+01, 1.0000e+00]),\n",
       " array([  18. ,  569.9, 1121.8, 1673.7, 2225.6, 2777.5, 3329.4, 3881.3,\n",
       "        4433.2, 4985.1, 5537. ]),\n",
       " <a list of 10 Patch objects>)"
      ]
     },
     "execution_count": 103,
     "metadata": {},
     "output_type": "execute_result"
    },
    {
     "data": {
      "image/png": "[encoded data removed]",
      "text/plain": [
       "<Figure size 432x288 with 1 Axes>"
      ]
     },
     "metadata": {
      "needs_background": "light"
     },
     "output_type": "display_data"
    }
   ],
   "source": [
    "plt.hist(char_target)"
   ]
  },
  {
   "cell_type": "code",
   "execution_count": 61,
   "metadata": {},
   "outputs": [
    {
     "data": {
      "text/plain": [
       "40"
      ]
     },
     "execution_count": 61,
     "metadata": {},
     "output_type": "execute_result"
    }
   ],
   "source": [
    "len(np.unique(char_target))"
   ]
  },
  {
   "cell_type": "code",
   "execution_count": 64,
   "metadata": {},
   "outputs": [],
   "source": [
    "un = np.unique(char_target)"
   ]
  },
  {
   "cell_type": "code",
   "execution_count": 77,
   "metadata": {},
   "outputs": [],
   "source": [
    "un = (np.unique([i.upper() for i in un]))"
   ]
  },
  {
   "cell_type": "code",
   "execution_count": 59,
   "metadata": {},
   "outputs": [
    {
     "data": {
      "text/plain": [
       "35"
      ]
     },
     "execution_count": 59,
     "metadata": {},
     "output_type": "execute_result"
    }
   ],
   "source": [
    "zinc_charset = [\n",
    "    ' ', '#', ')', '(', '+', '-', '/', '1', '3', '2', '5', '4', '7', '6', '8',\n",
    "    '=', '@', 'C', 'B', 'F', 'I', 'H', 'O', 'N', 'S', '[', ']', '\\\\', 'c', 'l',\n",
    "    'o', 'n', 'p', 's', 'r'\n",
    "]\n",
    "len(zinc_charset)"
   ]
  },
  {
   "cell_type": "code",
   "execution_count": 79,
   "metadata": {},
   "outputs": [
    {
     "data": {
      "text/plain": [
       "OneHotEncoder(categorical_features=None, categories=None, drop=None,\n",
       "              dtype=<class 'numpy.float64'>, handle_unknown='error',\n",
       "              n_values=None, sparse=True)"
      ]
     },
     "execution_count": 79,
     "metadata": {},
     "output_type": "execute_result"
    }
   ],
   "source": [
    "from sklearn.preprocessing import OneHotEncoder\n",
    "enc = OneHotEncoder()\n",
    "enc.fit(np.array(un).reshape(-1, 1))"
   ]
  },
  {
   "cell_type": "code",
   "execution_count": 97,
   "metadata": {},
   "outputs": [
    {
     "data": {
      "text/plain": [
       "array(['A', 'C', 'D', 'E', 'F', 'G', 'H', 'I', 'K', 'L', 'M', 'N', 'P',\n",
       "       'Q', 'R', 'S', 'T', 'V', 'W', 'Y'], dtype='<U1')"
      ]
     },
     "execution_count": 97,
     "metadata": {},
     "output_type": "execute_result"
    }
   ],
   "source": [
    "un"
   ]
  },
  {
   "cell_type": "code",
   "execution_count": 93,
   "metadata": {},
   "outputs": [],
   "source": [
    "def trans(x):\n",
    "    return enc.transform(np.array(list(x.upper())).reshape(-1,1)).toarray()\n",
    "df_ba['Target Encoding'] = df_ba['Target Sequence'].apply(trans)"
   ]
  },
  {
   "cell_type": "code",
   "execution_count": 94,
   "metadata": {},
   "outputs": [
    {
     "data": {
      "text/plain": [
       "Index                 128\n",
       "Unnamed: 0         384704\n",
       "index              384704\n",
       "ID                 384704\n",
       "SMILES             384704\n",
       "PubChem_ID         384704\n",
       "UniProt_ID         384704\n",
       "Target Sequence    384704\n",
       "IC50               384704\n",
       "label              384704\n",
       "Label              384704\n",
       "Target Encoding    384704\n",
       "dtype: int64"
      ]
     },
     "execution_count": 94,
     "metadata": {},
     "output_type": "execute_result"
    }
   ],
   "source": [
    "df_ba.memory_usage()"
   ]
  },
  {
   "cell_type": "code",
   "execution_count": 96,
   "metadata": {},
   "outputs": [
    {
     "data": {
      "text/plain": [
       "97872"
      ]
     },
     "execution_count": 96,
     "metadata": {},
     "output_type": "execute_result"
    }
   ],
   "source": [
    "from sys import getsizeof\n",
    "getsizeof(df_ba['Target Encoding'].iloc[5])"
   ]
  },
  {
   "cell_type": "code",
   "execution_count": 92,
   "metadata": {},
   "outputs": [
    {
     "data": {
      "text/plain": [
       "48088"
      ]
     },
     "execution_count": 92,
     "metadata": {},
     "output_type": "execute_result"
    }
   ],
   "source": [
    "len(df_ba)"
   ]
  },
  {
   "cell_type": "code",
   "execution_count": 99,
   "metadata": {},
   "outputs": [
    {
     "data": {
      "text/plain": [
       "array([1, 2, 3, 4, 5, 6, 6, 6])"
      ]
     },
     "execution_count": 99,
     "metadata": {},
     "output_type": "execute_result"
    }
   ],
   "source": [
    "a = [1, 2, 3, 4, 5]\n",
    "np.pad(a, (0, 3), 'constant', constant_values=(4, 6))"
   ]
  },
  {
   "cell_type": "code",
   "execution_count": 109,
   "metadata": {},
   "outputs": [],
   "source": [
    "x = df_ba['Target Sequence'].iloc[5]\n",
    "MAX_SEQ_PROTEIN = 1000"
   ]
  },
  {
   "cell_type": "code",
   "execution_count": 113,
   "metadata": {},
   "outputs": [],
   "source": [
    "temp = list(x.upper()) + ['?']*1000\n",
    "if len(temp) < MAX_SEQ_PROTEIN:\n",
    "    temp = temp + ['?'] * (MAX_SEQ_PROTEIN-len(temp))\n",
    "else:\n",
    "    temp = temp[:MAX_SEQ_PROTEIN]"
   ]
  },
  {
   "cell_type": "code",
   "execution_count": 114,
   "metadata": {},
   "outputs": [
    {
     "data": {
      "text/plain": [
       "1000"
      ]
     },
     "execution_count": 114,
     "metadata": {},
     "output_type": "execute_result"
    }
   ],
   "source": [
    "len(temp)"
   ]
  },
  {
   "cell_type": "code",
   "execution_count": null,
   "metadata": {},
   "outputs": [],
   "source": []
  }
 ],
 "metadata": {
  "kernelspec": {
   "display_name": "Python 3",
   "language": "python",
   "name": "python3"
  },
  "language_info": {
   "codemirror_mode": {
    "name": "ipython",
    "version": 3
   },
   "file_extension": ".py",
   "mimetype": "text/x-python",
   "name": "python",
   "nbconvert_exporter": "python",
   "pygments_lexer": "ipython3",
   "version": "3.7.7"
  }
 },
 "nbformat": 4,
 "nbformat_minor": 4
}
