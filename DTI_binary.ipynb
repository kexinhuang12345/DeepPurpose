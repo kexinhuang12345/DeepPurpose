{
 "cells": [
  {
   "cell_type": "code",
   "execution_count": 1,
   "metadata": {},
   "outputs": [],
   "source": [
    "import os\n",
    "os.chdir('../')"
   ]
  },
  {
   "cell_type": "code",
   "execution_count": 2,
   "metadata": {},
   "outputs": [],
   "source": [
    "import pandas as pd\n",
    "import numpy as np\n",
    "\n",
    "import DTI.models as models\n",
    "from DTI.utils import data_process, convert_y_unit, generate_config"
   ]
  },
  {
   "cell_type": "code",
   "execution_count": 4,
   "metadata": {},
   "outputs": [
    {
     "name": "stdout",
     "output_type": "stream",
     "text": [
      "in total: 133 drug-target pairs\n",
      "encoding drug...\n",
      "unique drugs: 87\n",
      "drug encoding finished...\n",
      "encoding protein...\n",
      "unique target sequence: 110\n",
      "-- Encoding AAC takes time. Time Reference: 24s for ~100 sequences in a CPU. Calculate your time by the unique target sequence #, instead of the entire dataset.\n",
      "protein encoding finished...\n",
      "splitting dataset...\n",
      "Done.\n"
     ]
    }
   ],
   "source": [
    "# load data\n",
    "df_Kd = pd.read_csv('../DTBA_data_folder/Kd/data.csv')\n",
    "df_Kd = df_Kd.sample(frac = 0.002, replace = False)# toy dataset\n",
    "\n",
    "X_drug = df_Kd.SMILES.values\n",
    "X_target = df_Kd['Target Sequence'].values \n",
    "# support nM to p (logspace) convertion to help regression\n",
    "y = [1 if i else 0 for i in df_Kd.Kd.values <30]\n",
    "#y = convert_y_unit(df_Kd.Kd.values, 'nM', 'p') \n",
    "\n",
    "drug_encoding = 'MPNN'\n",
    "target_encoding = 'AAC'\n",
    "train, val, test = data_process(X_drug, X_target, y, \n",
    "                                drug_encoding, target_encoding, \n",
    "                                split_method='random',frac=[0.7,0.1,0.2])"
   ]
  },
  {
   "cell_type": "code",
   "execution_count": 5,
   "metadata": {},
   "outputs": [],
   "source": [
    "# model setup, you can adjust the config file by typing in model parameters. e.g. cls_hidden_dim = [256, 32]\n",
    "config = generate_config(drug_encoding, target_encoding, train_epoch = 3)\n",
    "model = models.model_initialize(**config)"
   ]
  },
  {
   "cell_type": "code",
   "execution_count": 6,
   "metadata": {
    "scrolled": false
   },
   "outputs": [
    {
     "name": "stdout",
     "output_type": "stream",
     "text": [
      "--- Data Preparation ---\n",
      "--- Go for Training ---\n",
      "Training at Epoch 1 iteration 0 with loss 0.66001576\n"
     ]
    },
    {
     "name": "stderr",
     "output_type": "stream",
     "text": [
      "/Users/kexinhuang/torch-env/lib/python3.7/site-packages/sklearn/metrics/classification.py:1437: UndefinedMetricWarning: F-score is ill-defined and being set to 0.0 due to no predicted samples.\n",
      "  'precision', 'predicted', average, warn_for)\n"
     ]
    },
    {
     "name": "stdout",
     "output_type": "stream",
     "text": [
      "Validation at Epoch 1 , AUROC: 0.36363636363636365 , AUPRC: 0.17424242424242425 , F1: 0.0\n",
      "Training at Epoch 2 iteration 0 with loss 0.46462926\n",
      "Validation at Epoch 2 , AUROC: 0.6363636363636364 , AUPRC: 0.6 , F1: 0.6666666666666666\n",
      "Training at Epoch 3 iteration 0 with loss 0.04125151\n",
      "Validation at Epoch 3 , AUROC: 0.6363636363636364 , AUPRC: 0.6 , F1: 0.6666666666666666\n",
      "--- Go for Testing ---\n",
      "Testing AUROC: 0.43636363636363634 , AUPRC: 0.24648577966655769 , F1: 0.0\n",
      "--- Training Finished ---\n"
     ]
    }
   ],
   "source": [
    "model.train(train, val, test)"
   ]
  },
  {
   "cell_type": "code",
   "execution_count": 7,
   "metadata": {},
   "outputs": [],
   "source": [
    "test = df_Kd.sample(n = 20, replace=False)\n",
    "target = test['Target Sequence'].iloc[0]\n",
    "X_repurpose = test.SMILES.values\n",
    "drug_name = test.PubChem_ID.astype(int).astype(str).values\n",
    "target_name = test.UniProt_ID.iloc[0]"
   ]
  },
  {
   "cell_type": "code",
   "execution_count": 8,
   "metadata": {},
   "outputs": [
    {
     "name": "stdout",
     "output_type": "stream",
     "text": [
      "repurposing...\n",
      "in total: 20 drug-target pairs\n",
      "encoding drug...\n",
      "unique drugs: 18\n",
      "drug encoding finished...\n",
      "encoding protein...\n",
      "unique target sequence: 1\n",
      "-- Encoding AAC takes time. Time Reference: 24s for ~100 sequences in a CPU. Calculate your time by the unique target sequence #, instead of the entire dataset.\n",
      "protein encoding finished...\n",
      "splitting dataset...\n",
      "Done.\n",
      "predicting...\n",
      "---------------\n",
      "Drug Repurposing Result for P36896\n",
      "Drug 216239     predicted to NOT have interaction with the target\n",
      "Drug 44355753   predicted to NOT have interaction with the target\n",
      "Drug 44243183   predicted to NOT have interaction with the target\n",
      "Drug 24180719   predicted to NOT have interaction with the target\n",
      "Drug 216239     predicted to NOT have interaction with the target\n",
      "Drug 10184653   predicted to NOT have interaction with the target\n",
      "Drug 176155     predicted to NOT have interaction with the target\n",
      "Drug 132157535  predicted to NOT have interaction with the target\n",
      "Drug 5494449    predicted to NOT have interaction with the target\n",
      "Drug 9869779    predicted to NOT have interaction with the target\n",
      "Drug 6450551    predicted to NOT have interaction with the target\n",
      "Drug 9915743    predicted to NOT have interaction with the target\n",
      "Drug 2685       predicted to NOT have interaction with the target\n",
      "Drug 9884685    predicted to NOT have interaction with the target\n",
      "Drug 89944057   predicted to NOT have interaction with the target\n",
      "Drug 3025986    predicted to NOT have interaction with the target\n",
      "Drug 5494449    predicted to NOT have interaction with the target\n",
      "Drug 5329102    predicted to NOT have interaction with the target\n",
      "Drug 132271628  predicted to NOT have interaction with the target\n",
      "Drug 10707357   predicted to NOT have interaction with the target\n"
     ]
    }
   ],
   "source": [
    "r = models.repurpose(X_repurpose, target, model, drug_name, target_name)"
   ]
  },
  {
   "cell_type": "code",
   "execution_count": 9,
   "metadata": {},
   "outputs": [],
   "source": [
    "target = test['Target Sequence'].values\n",
    "target_name = test.UniProt_ID.astype(str).values"
   ]
  },
  {
   "cell_type": "code",
   "execution_count": 10,
   "metadata": {},
   "outputs": [
    {
     "name": "stdout",
     "output_type": "stream",
     "text": [
      "virtual screening...\n",
      "in total: 20 drug-target pairs\n",
      "encoding drug...\n",
      "unique drugs: 18\n",
      "drug encoding finished...\n",
      "encoding protein...\n",
      "unique target sequence: 19\n",
      "-- Encoding AAC takes time. Time Reference: 24s for ~100 sequences in a CPU. Calculate your time by the unique target sequence #, instead of the entire dataset.\n",
      "protein encoding finished...\n",
      "splitting dataset...\n",
      "Done.\n",
      "predicting...\n",
      "---------------\n",
      "Virtual Screening Result\n",
      "Drug 216239     predicted to NOT have interaction with the target P36896 \n",
      "Drug 44355753   predicted to NOT have interaction with the target P00374 \n",
      "Drug 44243183   predicted to NOT have interaction with the target nan    \n",
      "Drug 24180719   predicted to NOT have interaction with the target P61075 \n",
      "Drug 216239     predicted to NOT have interaction with the target P00533 \n",
      "Drug 10184653   predicted to NOT have interaction with the target O95747 \n",
      "Drug 176155     predicted to NOT have interaction with the target Q13131 \n",
      "Drug 132157535  predicted to have interaction with the target O60885 \n",
      "Drug 5494449    predicted to NOT have interaction with the target O95747 \n",
      "Drug 9869779    predicted to NOT have interaction with the target Q8WTQ7 \n",
      "Drug 6450551    predicted to NOT have interaction with the target P54764 \n",
      "Drug 9915743    predicted to NOT have interaction with the target P52564 \n",
      "Drug 2685       predicted to NOT have interaction with the target P13945 \n",
      "Drug 9884685    predicted to NOT have interaction with the target Q9UF33 \n",
      "Drug 89944057   predicted to NOT have interaction with the target P31749 \n",
      "Drug 3025986    predicted to NOT have interaction with the target nan    \n",
      "Drug 5494449    predicted to NOT have interaction with the target Q96GD4 \n",
      "Drug 5329102    predicted to NOT have interaction with the target P27361 \n",
      "Drug 132271628  predicted to NOT have interaction with the target P42345 \n",
      "Drug 10707357   predicted to NOT have interaction with the target P22935 \n"
     ]
    }
   ],
   "source": [
    "r = models.virtual_screening(X_repurpose, target, model, drug_name, target_name)"
   ]
  },
  {
   "cell_type": "code",
   "execution_count": null,
   "metadata": {},
   "outputs": [],
   "source": []
  }
 ],
 "metadata": {
  "kernelspec": {
   "display_name": "Python 3",
   "language": "python",
   "name": "python3"
  },
  "language_info": {
   "codemirror_mode": {
    "name": "ipython",
    "version": 3
   },
   "file_extension": ".py",
   "mimetype": "text/x-python",
   "name": "python",
   "nbconvert_exporter": "python",
   "pygments_lexer": "ipython3",
   "version": "3.7.7"
  }
 },
 "nbformat": 4,
 "nbformat_minor": 4
}
