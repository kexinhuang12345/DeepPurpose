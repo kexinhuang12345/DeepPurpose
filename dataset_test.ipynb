{
 "cells": [
  {
   "cell_type": "code",
   "execution_count": 1,
   "metadata": {},
   "outputs": [],
   "source": [
    "from dataset import *"
   ]
  },
  {
   "cell_type": "code",
   "execution_count": 2,
   "metadata": {},
   "outputs": [
    {
     "name": "stdout",
     "output_type": "stream",
     "text": [
      "Loading Dataset...\n"
     ]
    },
    {
     "name": "stderr",
     "output_type": "stream",
     "text": [
      "b'Skipping line 772572: expected 193 fields, saw 205\\nSkipping line 772598: expected 193 fields, saw 205\\n'\n",
      "b'Skipping line 805291: expected 193 fields, saw 205\\n'\n",
      "b'Skipping line 827961: expected 193 fields, saw 265\\n'\n",
      "b'Skipping line 1231688: expected 193 fields, saw 241\\n'\n",
      "b'Skipping line 1345591: expected 193 fields, saw 241\\nSkipping line 1345592: expected 193 fields, saw 241\\nSkipping line 1345593: expected 193 fields, saw 241\\nSkipping line 1345594: expected 193 fields, saw 241\\nSkipping line 1345595: expected 193 fields, saw 241\\nSkipping line 1345596: expected 193 fields, saw 241\\nSkipping line 1345597: expected 193 fields, saw 241\\nSkipping line 1345598: expected 193 fields, saw 241\\nSkipping line 1345599: expected 193 fields, saw 241\\n'\n",
      "b'Skipping line 1358864: expected 193 fields, saw 205\\n'\n",
      "b'Skipping line 1378087: expected 193 fields, saw 241\\nSkipping line 1378088: expected 193 fields, saw 241\\nSkipping line 1378089: expected 193 fields, saw 241\\nSkipping line 1378090: expected 193 fields, saw 241\\nSkipping line 1378091: expected 193 fields, saw 241\\nSkipping line 1378092: expected 193 fields, saw 241\\nSkipping line 1378093: expected 193 fields, saw 241\\nSkipping line 1378094: expected 193 fields, saw 241\\nSkipping line 1378095: expected 193 fields, saw 241\\n'\n",
      "b'Skipping line 1417264: expected 193 fields, saw 205\\n'\n",
      "/Users/kexinhuang/torch-env/lib/python3.7/site-packages/IPython/core/interactiveshell.py:3254: DtypeWarning: Columns (8,9,10,11,12,13,15,17,19,20,26,27,31,32,34,35,46,49,50,51,52,53,54,61,62,63,64,65,66,73,74,75,76,77,78,85,86,87,88,89,90,97,98,99,100,101,102,109,110,111,112,113,114,121,122,123,124,125,126,133,134,135,136,137,138,145,147,148,149,150,157,158,159,160,161,162,169,171,172,173,174) have mixed types. Specify dtype option on import or set low_memory=False.\n",
      "  if (await self.run_code(code, result,  async_=asy)):\n"
     ]
    },
    {
     "name": "stdout",
     "output_type": "stream",
     "text": [
      "There are 66444drug target pairs.\n",
      "Default set to logspace (nM -> p) for easier regression\n"
     ]
    }
   ],
   "source": [
    "path = '/Users/kexinhuang/Downloads/BindingDB_All.tsv'\n",
    "X_drug, X_target, y = process_BindingDB(path, y = 'Kd', binary = False, convert_to_log = True)"
   ]
  },
  {
   "cell_type": "code",
   "execution_count": 2,
   "metadata": {},
   "outputs": [
    {
     "name": "stdout",
     "output_type": "stream",
     "text": [
      "Beginning Processing...\n",
      "Beginning to extract zip file...\n",
      "Done!\n",
      "Default set to logspace (nM -> p) for easier regression\n",
      "Done!\n"
     ]
    }
   ],
   "source": [
    "X_drug, X_target, y = load_process_DAVIS('/Users/kexinhuang/Downloads')"
   ]
  },
  {
   "cell_type": "code",
   "execution_count": 2,
   "metadata": {},
   "outputs": [
    {
     "name": "stdout",
     "output_type": "stream",
     "text": [
      "Beginning Processing...\n",
      "Beginning to extract zip file...\n",
      "Done!\n",
      "Note that KIBA is not suitable for binary classification as it is a modified score. Default binary threshold for the binding affinity scores are 9, you should adjust it by using the \"threshold\" parameter\n",
      "Done!\n"
     ]
    }
   ],
   "source": [
    "X_drug, X_target, y = load_process_KIBA('/Users/kexinhuang/Downloads',binary = True, threshold = 8)"
   ]
  },
  {
   "cell_type": "code",
   "execution_count": 2,
   "metadata": {},
   "outputs": [
    {
     "name": "stderr",
     "output_type": "stream",
     "text": [
      "/Users/kexinhuang/torch-env/lib/python3.7/site-packages/IPython/core/interactiveshell.py:3254: DtypeWarning: Columns (0,7) have mixed types. Specify dtype option on import or set low_memory=False.\n",
      "  if (await self.run_code(code, result,  async_=asy)):\n"
     ]
    }
   ],
   "source": [
    "X_drug, X_target, y = load_AID1706_SARS_CoV_3CL('/Users/kexinhuang/Downloads')"
   ]
  },
  {
   "cell_type": "code",
   "execution_count": 7,
   "metadata": {},
   "outputs": [],
   "source": [
    "url = 'https://drive.google.com/uc?export=download&id=1A4HbHMZvhgDjx5ZjS-uVrCGBaVmvU8wd'\n",
    "path = '/Users/kexinhuang/Downloads'\n",
    "saved_path_data = wget.download(url, path)"
   ]
  },
  {
   "cell_type": "code",
   "execution_count": 8,
   "metadata": {},
   "outputs": [
    {
     "data": {
      "text/html": [
       "<div>\n",
       "<style scoped>\n",
       "    .dataframe tbody tr th:only-of-type {\n",
       "        vertical-align: middle;\n",
       "    }\n",
       "\n",
       "    .dataframe tbody tr th {\n",
       "        vertical-align: top;\n",
       "    }\n",
       "\n",
       "    .dataframe thead th {\n",
       "        text-align: right;\n",
       "    }\n",
       "</style>\n",
       "<table border=\"1\" class=\"dataframe\">\n",
       "  <thead>\n",
       "    <tr style=\"text-align: right;\">\n",
       "      <th></th>\n",
       "      <th>smiles</th>\n",
       "      <th>title</th>\n",
       "      <th>cid</th>\n",
       "    </tr>\n",
       "  </thead>\n",
       "  <tbody>\n",
       "    <tr>\n",
       "      <th>0</th>\n",
       "      <td>CO\\N=C(\\C(=O)NC1C2SCC(CSc3nnnn3C)=C(N2C1=O)C(O...</td>\n",
       "      <td>7-[[(2E)-2-(2-Amino-1,3-thiazol-4-yl)-2-methox...</td>\n",
       "      <td>9577231.0</td>\n",
       "    </tr>\n",
       "    <tr>\n",
       "      <th>1</th>\n",
       "      <td>CN1CCN(CC1)c1c(F)cc2c3c1SCCn3cc(C(O)=O)c2=O</td>\n",
       "      <td>Rufloxacin</td>\n",
       "      <td>58258.0</td>\n",
       "    </tr>\n",
       "    <tr>\n",
       "      <th>2</th>\n",
       "      <td>C[C@H]1CN(C[C@@H](C)N1)c1c(F)c(N)c2c(c1F)n(cc(...</td>\n",
       "      <td>Sparfloxacin</td>\n",
       "      <td>60464.0</td>\n",
       "    </tr>\n",
       "    <tr>\n",
       "      <th>3</th>\n",
       "      <td>CCN1CCN(C(=O)N[C@@H](C(=O)N[C@H]2[C@H]3SCC(CSc...</td>\n",
       "      <td>Cefoperazone</td>\n",
       "      <td>44187.0</td>\n",
       "    </tr>\n",
       "    <tr>\n",
       "      <th>4</th>\n",
       "      <td>CCn1cc(C(O)=O)c(=O)c2cc(F)c(nc12)N1CCNCC1</td>\n",
       "      <td>Enoxacin</td>\n",
       "      <td>3229.0</td>\n",
       "    </tr>\n",
       "    <tr>\n",
       "      <th>...</th>\n",
       "      <td>...</td>\n",
       "      <td>...</td>\n",
       "      <td>...</td>\n",
       "    </tr>\n",
       "    <tr>\n",
       "      <th>6106</th>\n",
       "      <td>C(Oc1ccccc1C1CC1)C1=NCCN1</td>\n",
       "      <td>Cirazoline</td>\n",
       "      <td>2765.0</td>\n",
       "    </tr>\n",
       "    <tr>\n",
       "      <th>6107</th>\n",
       "      <td>CCOc1ccc(NC(C)=Nc2ccc(OCC)cc2)cc1</td>\n",
       "      <td>Phenacaine</td>\n",
       "      <td>7588.0</td>\n",
       "    </tr>\n",
       "    <tr>\n",
       "      <th>6108</th>\n",
       "      <td>CC[C@@H]1CN2C(=N1)c1[nH]c(nc1N(C)C2=O)-c1ccccc1</td>\n",
       "      <td>NaN</td>\n",
       "      <td>NaN</td>\n",
       "    </tr>\n",
       "    <tr>\n",
       "      <th>6109</th>\n",
       "      <td>N=C(NNc1ccccc1)c1ccccc1</td>\n",
       "      <td>N'-Anilinobenzenecarboximidamide</td>\n",
       "      <td>214466.0</td>\n",
       "    </tr>\n",
       "    <tr>\n",
       "      <th>6110</th>\n",
       "      <td>CS(=O)(=O)Nc1c(O)ccc2C(CCCc12)C1=NCCN1</td>\n",
       "      <td>N-(5-(4,5-Dihydro-1H-imidazol-2-yl)-2-hydroxy-...</td>\n",
       "      <td>4038180.0</td>\n",
       "    </tr>\n",
       "  </tbody>\n",
       "</table>\n",
       "<p>6111 rows × 3 columns</p>\n",
       "</div>"
      ],
      "text/plain": [
       "                                                 smiles  \\\n",
       "0     CO\\N=C(\\C(=O)NC1C2SCC(CSc3nnnn3C)=C(N2C1=O)C(O...   \n",
       "1           CN1CCN(CC1)c1c(F)cc2c3c1SCCn3cc(C(O)=O)c2=O   \n",
       "2     C[C@H]1CN(C[C@@H](C)N1)c1c(F)c(N)c2c(c1F)n(cc(...   \n",
       "3     CCN1CCN(C(=O)N[C@@H](C(=O)N[C@H]2[C@H]3SCC(CSc...   \n",
       "4             CCn1cc(C(O)=O)c(=O)c2cc(F)c(nc12)N1CCNCC1   \n",
       "...                                                 ...   \n",
       "6106                          C(Oc1ccccc1C1CC1)C1=NCCN1   \n",
       "6107                  CCOc1ccc(NC(C)=Nc2ccc(OCC)cc2)cc1   \n",
       "6108    CC[C@@H]1CN2C(=N1)c1[nH]c(nc1N(C)C2=O)-c1ccccc1   \n",
       "6109                            N=C(NNc1ccccc1)c1ccccc1   \n",
       "6110             CS(=O)(=O)Nc1c(O)ccc2C(CCCc12)C1=NCCN1   \n",
       "\n",
       "                                                  title        cid  \n",
       "0     7-[[(2E)-2-(2-Amino-1,3-thiazol-4-yl)-2-methox...  9577231.0  \n",
       "1                                            Rufloxacin    58258.0  \n",
       "2                                          Sparfloxacin    60464.0  \n",
       "3                                          Cefoperazone    44187.0  \n",
       "4                                              Enoxacin     3229.0  \n",
       "...                                                 ...        ...  \n",
       "6106                                         Cirazoline     2765.0  \n",
       "6107                                         Phenacaine     7588.0  \n",
       "6108                                                NaN        NaN  \n",
       "6109                   N'-Anilinobenzenecarboximidamide   214466.0  \n",
       "6110  N-(5-(4,5-Dihydro-1H-imidazol-2-yl)-2-hydroxy-...  4038180.0  \n",
       "\n",
       "[6111 rows x 3 columns]"
      ]
     },
     "execution_count": 8,
     "metadata": {},
     "output_type": "execute_result"
    }
   ],
   "source": [
    "pd.read_csv(saved_path_data)"
   ]
  },
  {
   "cell_type": "code",
   "execution_count": null,
   "metadata": {},
   "outputs": [],
   "source": []
  }
 ],
 "metadata": {
  "kernelspec": {
   "display_name": "Python 3",
   "language": "python",
   "name": "python3"
  },
  "language_info": {
   "codemirror_mode": {
    "name": "ipython",
    "version": 3
   },
   "file_extension": ".py",
   "mimetype": "text/x-python",
   "name": "python",
   "nbconvert_exporter": "python",
   "pygments_lexer": "ipython3",
   "version": "3.7.7"
  }
 },
 "nbformat": 4,
 "nbformat_minor": 4
}
