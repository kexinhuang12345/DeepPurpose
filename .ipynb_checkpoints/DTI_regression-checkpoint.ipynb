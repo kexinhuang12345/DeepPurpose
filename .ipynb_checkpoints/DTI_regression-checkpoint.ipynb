{
 "cells": [
  {
   "cell_type": "code",
   "execution_count": 1,
   "metadata": {},
   "outputs": [],
   "source": [
    "import os\n",
    "os.chdir('../')"
   ]
  },
  {
   "cell_type": "code",
   "execution_count": 2,
   "metadata": {},
   "outputs": [],
   "source": [
    "import pandas as pd\n",
    "import numpy as np\n",
    "\n",
    "import DTI.models as models\n",
    "from DTI.utils import data_process, convert_y_unit, generate_config"
   ]
  },
  {
   "cell_type": "code",
   "execution_count": 3,
   "metadata": {},
   "outputs": [
    {
     "name": "stdout",
     "output_type": "stream",
     "text": [
      "in total: 66444 drug-target pairs\n",
      "encoding drug...\n",
      "unique drugs: 10665\n",
      "rdkit not found this smiles: Cc1ccc(F)c(NC(=O)Nc2cnn(c2)-c2cccc3nnc(N)c23)c1 convert to all 1 features\n",
      "rdkit not found this smiles: COc1cc2ncnc(Oc3cccc(NC(=O)NC4=CC(=[N](N4)c4ccccc4)C(F)(F)F)c3)c2cc1OC convert to all 1 features\n",
      "rdkit not found this smiles: COc1cc2ncnc(Sc3cccc(NC(=O)NC4=CC(=[N](N4)c4ccccc4)C(F)(F)F)c3)c2cc1OC convert to all 1 features\n",
      "rdkit not found this smiles: COc1cc2ncnc(Sc3cccc(NC(=O)NC4=CC(=[N](C)N4)C(F)(F)F)c3)c2cc1OC convert to all 1 features\n",
      "drug encoding finished...\n",
      "encoding protein...\n",
      "unique target sequence: 1413\n",
      "protein encoding finished...\n",
      "splitting dataset...\n",
      "Done.\n"
     ]
    }
   ],
   "source": [
    "# load data\n",
    "df_Kd = pd.read_csv('../DTBA_data_folder/Kd/data.csv')\n",
    "#df_Kd = df_Kd.sample(frac = 0.002, replace = False)# toy dataset\n",
    "\n",
    "X_drug = df_Kd.SMILES.values\n",
    "X_target = df_Kd['Target Sequence'].values \n",
    "# support nM to p (logspace) convertion to help regression\n",
    "y = convert_y_unit(df_Kd.Kd.values, 'nM', 'p') \n",
    "\n",
    "drug_encoding = 'Daylight'\n",
    "target_encoding = 'Conjoint_triad'\n",
    "train, val, test = data_process(X_drug, X_target, y, \n",
    "                                drug_encoding, target_encoding, \n",
    "                                split_method='random',frac=[0.7,0.1,0.2])"
   ]
  },
  {
   "cell_type": "code",
   "execution_count": 4,
   "metadata": {},
   "outputs": [],
   "source": [
    "# model setup, you can adjust the config file by typing in model parameters. e.g. cls_hidden_dim = [256, 32]\n",
    "config = generate_config(drug_encoding, target_encoding, train_epoch = 3)\n",
    "model = models.model_initialize(**config)"
   ]
  },
  {
   "cell_type": "code",
   "execution_count": 5,
   "metadata": {
    "scrolled": false
   },
   "outputs": [
    {
     "name": "stdout",
     "output_type": "stream",
     "text": [
      "--- Data Preparation ---\n",
      "--- Go for Training ---\n",
      "Training at Epoch 1 iteration 0 with loss 35.527576\n",
      "Training at Epoch 1 iteration 100 with loss 1.9438936\n",
      "Training at Epoch 1 iteration 200 with loss 1.89679\n",
      "Training at Epoch 1 iteration 300 with loss 1.314848\n",
      "Training at Epoch 1 iteration 400 with loss 1.4422063\n",
      "Training at Epoch 1 iteration 500 with loss 0.91190886\n",
      "Training at Epoch 1 iteration 600 with loss 2.1998231\n",
      "Training at Epoch 1 iteration 700 with loss 1.2220495\n",
      "Validation at Epoch 1 , MSE: 1.1728055551151932 , Pearson Correlation: 0.593522086316641 with p-value: 0.0 , Concordance Index: 0.74363151390629\n",
      "Training at Epoch 2 iteration 0 with loss 1.1143106\n",
      "Training at Epoch 2 iteration 100 with loss 1.4813778\n",
      "Training at Epoch 2 iteration 200 with loss 1.6197817\n",
      "Training at Epoch 2 iteration 300 with loss 0.8501576\n",
      "Training at Epoch 2 iteration 400 with loss 0.8082686\n",
      "Training at Epoch 2 iteration 500 with loss 0.86596614\n",
      "Training at Epoch 2 iteration 600 with loss 1.3182232\n",
      "Training at Epoch 2 iteration 700 with loss 0.9849597\n",
      "Validation at Epoch 2 , MSE: 1.111470366171098 , Pearson Correlation: 0.635756246440033 with p-value: 0.0 , Concordance Index: 0.7576376453354225\n",
      "Training at Epoch 3 iteration 0 with loss 0.7892647\n",
      "Training at Epoch 3 iteration 100 with loss 1.2869633\n",
      "Training at Epoch 3 iteration 200 with loss 1.7947557\n",
      "Training at Epoch 3 iteration 300 with loss 1.4842561\n",
      "Training at Epoch 3 iteration 400 with loss 1.1567943\n",
      "Training at Epoch 3 iteration 500 with loss 0.9679192\n",
      "Training at Epoch 3 iteration 600 with loss 1.3126748\n",
      "Training at Epoch 3 iteration 700 with loss 1.5461613\n",
      "Validation at Epoch 3 , MSE: 1.0797676254645898 , Pearson Correlation: 0.6444898550543683 with p-value: 0.0 , Concordance Index: 0.7600831107346009\n",
      "--- Go for Testing ---\n",
      "Testing MSE: 1.0778847022358287 , Pearson Correlation: 0.6460893219945056 with p-value: 0.0 , Concordance Index: 0.7654767471138596\n",
      "--- Training Finished ---\n"
     ]
    }
   ],
   "source": [
    "model.train(train, val, test)"
   ]
  },
  {
   "cell_type": "code",
   "execution_count": 6,
   "metadata": {},
   "outputs": [],
   "source": [
    "test = df_Kd.sample(n = 20, replace=False)\n",
    "target = test['Target Sequence'].iloc[0]\n",
    "X_repurpose = test.SMILES.values\n",
    "drug_name = test.PubChem_ID.astype(int).astype(str).values\n",
    "target_name = test.UniProt_ID.iloc[0]"
   ]
  },
  {
   "cell_type": "code",
   "execution_count": 7,
   "metadata": {},
   "outputs": [
    {
     "name": "stdout",
     "output_type": "stream",
     "text": [
      "repurposing...\n",
      "in total: 20 drug-target pairs\n",
      "encoding drug...\n",
      "unique drugs: 20\n",
      "drug encoding finished...\n",
      "encoding protein...\n",
      "unique target sequence: 1\n",
      "protein encoding finished...\n",
      "splitting dataset...\n",
      "Done.\n",
      "predicting...\n",
      "---------------\n",
      "Drug Repurposing Result for Q8N568\n",
      "Drug 16007391   predicted to have binding affinity score 4.87\n",
      "Drug 447077     predicted to have binding affinity score 5.39\n",
      "Drug 24860417   predicted to have binding affinity score 4.70\n",
      "Drug 127048743  predicted to have binding affinity score 5.24\n",
      "Drug 44243182   predicted to have binding affinity score 5.90\n",
      "Drug 53319194   predicted to have binding affinity score 5.73\n",
      "Drug 9933475    predicted to have binding affinity score 5.03\n",
      "Drug 53316469   predicted to have binding affinity score 4.86\n",
      "Drug 123631     predicted to have binding affinity score 4.88\n",
      "Drug 16725726   predicted to have binding affinity score 4.62\n",
      "Drug 3081361    predicted to have binding affinity score 5.20\n",
      "Drug 156422     predicted to have binding affinity score 4.77\n",
      "Drug 44314226   predicted to have binding affinity score 6.17\n",
      "Drug 160355     predicted to have binding affinity score 5.22\n",
      "Drug 11314340   predicted to have binding affinity score 4.82\n",
      "Drug 5287969    predicted to have binding affinity score 4.95\n",
      "Drug 74223688   predicted to have binding affinity score 6.36\n",
      "Drug 91895868   predicted to have binding affinity score 6.30\n",
      "Drug 156414     predicted to have binding affinity score 4.94\n",
      "Drug 5494449    predicted to have binding affinity score 5.24\n"
     ]
    }
   ],
   "source": [
    "r = models.repurpose(X_repurpose, target, model, drug_name, target_name)"
   ]
  },
  {
   "cell_type": "code",
   "execution_count": 8,
   "metadata": {},
   "outputs": [],
   "source": [
    "target = test['Target Sequence'].values\n",
    "target_name = test.UniProt_ID.astype(str).values"
   ]
  },
  {
   "cell_type": "code",
   "execution_count": 9,
   "metadata": {},
   "outputs": [
    {
     "name": "stdout",
     "output_type": "stream",
     "text": [
      "virtual screening...\n",
      "in total: 20 drug-target pairs\n",
      "encoding drug...\n",
      "unique drugs: 20\n",
      "drug encoding finished...\n",
      "encoding protein...\n",
      "unique target sequence: 20\n",
      "protein encoding finished...\n",
      "splitting dataset...\n",
      "Done.\n",
      "predicting...\n",
      "---------------\n",
      "Virtual Screening Result\n",
      "Drug 16007391   and target Q8N568  predicted to have binding affinity score 4.87\n",
      "Drug 447077     and target nan     predicted to have binding affinity score 5.72\n",
      "Drug 24860417   and target O67648  predicted to have binding affinity score 4.61\n",
      "Drug 127048743  and target P26281  predicted to have binding affinity score 5.19\n",
      "Drug 44243182   and target nan     predicted to have binding affinity score 6.28\n",
      "Drug 53319194   and target P62993  predicted to have binding affinity score 5.89\n",
      "Drug 9933475    and target P21709  predicted to have binding affinity score 5.52\n",
      "Drug 53316469   and target P42227  predicted to have binding affinity score 4.83\n",
      "Drug 123631     and target Q9UKE5  predicted to have binding affinity score 5.39\n",
      "Drug 16725726   and target Q9UKI8  predicted to have binding affinity score 4.61\n",
      "Drug 3081361    and target O95747  predicted to have binding affinity score 5.53\n",
      "Drug 156422     and target P51813  predicted to have binding affinity score 5.06\n",
      "Drug 44314226   and target P22935  predicted to have binding affinity score 6.57\n",
      "Drug 160355     and target P80192  predicted to have binding affinity score 5.53\n",
      "Drug 11314340   and target Q86YV6  predicted to have binding affinity score 4.96\n",
      "Drug 5287969    and target O75116  predicted to have binding affinity score 5.25\n",
      "Drug 74223688   and target nan     predicted to have binding affinity score 6.34\n",
      "Drug 91895868   and target P00918  predicted to have binding affinity score 6.65\n",
      "Drug 156414     and target Q16288  predicted to have binding affinity score 5.26\n",
      "Drug 5494449    and target Q13546  predicted to have binding affinity score 5.45\n"
     ]
    }
   ],
   "source": [
    "r = models.virtual_screening(X_repurpose, target, model, drug_name, target_name)"
   ]
  },
  {
   "cell_type": "code",
   "execution_count": null,
   "metadata": {},
   "outputs": [],
   "source": []
  }
 ],
 "metadata": {
  "kernelspec": {
   "display_name": "Python 3",
   "language": "python",
   "name": "python3"
  },
  "language_info": {
   "codemirror_mode": {
    "name": "ipython",
    "version": 3
   },
   "file_extension": ".py",
   "mimetype": "text/x-python",
   "name": "python",
   "nbconvert_exporter": "python",
   "pygments_lexer": "ipython3",
   "version": "3.7.7"
  }
 },
 "nbformat": 4,
 "nbformat_minor": 4
}
