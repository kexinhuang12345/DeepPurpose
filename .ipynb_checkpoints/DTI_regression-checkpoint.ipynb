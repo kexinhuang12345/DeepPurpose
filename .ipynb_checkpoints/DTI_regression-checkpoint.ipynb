{
 "cells": [
  {
   "cell_type": "code",
   "execution_count": 2,
   "metadata": {},
   "outputs": [],
   "source": [
    "import os\n",
    "os.chdir('../')"
   ]
  },
  {
   "cell_type": "code",
   "execution_count": 3,
   "metadata": {},
   "outputs": [],
   "source": [
    "import pandas as pd\n",
    "import numpy as np\n",
    "\n",
    "import DTI.models as models\n",
    "from DTI.utils import data_process, convert_y_unit, generate_config"
   ]
  },
  {
   "cell_type": "code",
   "execution_count": 9,
   "metadata": {},
   "outputs": [
    {
     "name": "stdout",
     "output_type": "stream",
     "text": [
      "in total: 133 drug-target pairs\n",
      "encoding drug...\n",
      "unique drugs: 87\n",
      "drug encoding finished...\n",
      "encoding protein...\n",
      "unique target sequence: 110\n",
      "protein encoding finished...\n",
      "splitting dataset...\n",
      "Done.\n"
     ]
    }
   ],
   "source": [
    "# load data\n",
    "df_Kd = pd.read_csv('../DTBA_data_folder/Kd/data.csv')\n",
    "df_Kd = df_Kd.sample(frac = 0.002, replace = False)# toy dataset\n",
    "\n",
    "X_drug = df_Kd.SMILES.values\n",
    "X_target = df_Kd['Target Sequence'].values \n",
    "# support nM to p (logspace) convertion to help regression\n",
    "y = convert_y_unit(df_Kd.Kd.values, 'nM', 'p') \n",
    "\n",
    "drug_encoding = 'MPNN'\n",
    "target_encoding = 'Conjoint_triad'\n",
    "train, val, test = data_process(X_drug, X_target, y, \n",
    "                                drug_encoding, target_encoding, \n",
    "                                split_method='random',frac=[0.7,0.1,0.2])"
   ]
  },
  {
   "cell_type": "code",
   "execution_count": 10,
   "metadata": {},
   "outputs": [],
   "source": [
    "# model setup, you can adjust the config file by typing in model parameters. e.g. cls_hidden_dim = [256, 32]\n",
    "config = generate_config(drug_encoding, target_encoding, train_epoch = 3)\n",
    "model = models.model_initialize(**config)"
   ]
  },
  {
   "cell_type": "code",
   "execution_count": null,
   "metadata": {
    "scrolled": false
   },
   "outputs": [
    {
     "name": "stdout",
     "output_type": "stream",
     "text": [
      "--- Data Preparation ---\n",
      "--- Go for Training ---\n",
      "Training at Epoch 1 iteration 0 with loss 87.5388\n",
      "Validation at Epoch 1 , MSE: 6.675319051803916 , Pearson Correlation: 0.4781802734570161 with p-value: 0.0983627489146683 , Concordance Index: 0.7352941176470589\n",
      "Training at Epoch 2 iteration 0 with loss 7.3808117\n",
      "Validation at Epoch 2 , MSE: 2.6392046948858567 , Pearson Correlation: 0.46758259516681194 with p-value: 0.107139962403879 , Concordance Index: 0.7205882352941176\n",
      "Training at Epoch 3 iteration 0 with loss 15.879891\n"
     ]
    }
   ],
   "source": [
    "model.train(train, val, test)"
   ]
  },
  {
   "cell_type": "code",
   "execution_count": 6,
   "metadata": {},
   "outputs": [],
   "source": [
    "test = df_Kd.sample(n = 20, replace=False)\n",
    "target = test['Target Sequence'].iloc[0]\n",
    "X_repurpose = test.SMILES.values\n",
    "drug_name = test.PubChem_ID.astype(int).astype(str).values\n",
    "target_name = test.UniProt_ID.iloc[0]"
   ]
  },
  {
   "cell_type": "code",
   "execution_count": 7,
   "metadata": {},
   "outputs": [
    {
     "name": "stdout",
     "output_type": "stream",
     "text": [
      "repurposing...\n",
      "predicting...\n",
      "Drug Repurposing Result for P31751\n",
      "57399640   predicted to have binding affinity score 2.26\n",
      "153999     predicted to have binding affinity score 2.30\n",
      "91448975   predicted to have binding affinity score 2.05\n",
      "91898352   predicted to have binding affinity score 2.43\n",
      "11364421   predicted to have binding affinity score 2.40\n",
      "138805831  predicted to have binding affinity score 2.41\n",
      "11338033   predicted to have binding affinity score 1.94\n",
      "44588220   predicted to have binding affinity score 1.66\n",
      "4521392    predicted to have binding affinity score 2.02\n",
      "216239     predicted to have binding affinity score 1.89\n",
      "9829523    predicted to have binding affinity score 2.62\n",
      "11667893   predicted to have binding affinity score 1.97\n",
      "5291       predicted to have binding affinity score 1.99\n",
      "118735636  predicted to have binding affinity score 2.33\n",
      "58267825   predicted to have binding affinity score 2.39\n",
      "6918454    predicted to have binding affinity score 1.98\n",
      "117927247  predicted to have binding affinity score 2.46\n",
      "9884685    predicted to have binding affinity score 2.26\n",
      "11485656   predicted to have binding affinity score 1.93\n",
      "9829523    predicted to have binding affinity score 2.62\n"
     ]
    }
   ],
   "source": [
    "r = models.repurpose(X_repurpose, target, model, drug_name, target_name)"
   ]
  },
  {
   "cell_type": "code",
   "execution_count": 8,
   "metadata": {},
   "outputs": [],
   "source": [
    "target = test['Target Sequence'].values\n",
    "target_name = test.UniProt_ID.astype(str).values"
   ]
  },
  {
   "cell_type": "code",
   "execution_count": 9,
   "metadata": {},
   "outputs": [
    {
     "name": "stdout",
     "output_type": "stream",
     "text": [
      "repurposing...\n",
      "predicting...\n",
      "Virtual Screening Result\n",
      "57399640   and target P31751  predicted to have binding affinity score 2.26\n",
      "153999     and target nan     predicted to have binding affinity score 3.16\n",
      "91448975   and target nan     predicted to have binding affinity score 2.91\n",
      "91898352   and target P10721  predicted to have binding affinity score 3.70\n",
      "11364421   and target P49137  predicted to have binding affinity score 2.27\n",
      "138805831  and target P51449  predicted to have binding affinity score 2.50\n",
      "11338033   and target Q9BQI3  predicted to have binding affinity score 2.26\n",
      "44588220   and target Q9HBH9  predicted to have binding affinity score 1.65\n",
      "4521392    and target P29376  predicted to have binding affinity score 2.98\n",
      "216239     and target P00533  predicted to have binding affinity score 3.66\n",
      "9829523    and target P57058  predicted to have binding affinity score 3.27\n",
      "11667893   and target Q13131  predicted to have binding affinity score 2.17\n",
      "5291       and target Q9HC98  predicted to have binding affinity score 1.62\n",
      "118735636  and target P27694  predicted to have binding affinity score 2.72\n",
      "58267825   and target P15056  predicted to have binding affinity score 3.17\n",
      "6918454    and target Q14012  predicted to have binding affinity score 1.77\n",
      "117927247  and target P10721  predicted to have binding affinity score 3.73\n",
      "9884685    and target P51451  predicted to have binding affinity score 2.44\n",
      "11485656   and target P10721  predicted to have binding affinity score 3.20\n",
      "9829523    and target P31751  predicted to have binding affinity score 2.62\n"
     ]
    }
   ],
   "source": [
    "r = models.virtual_screening(X_repurpose, target, model, drug_name, target_name)"
   ]
  },
  {
   "cell_type": "code",
   "execution_count": null,
   "metadata": {},
   "outputs": [],
   "source": []
  }
 ],
 "metadata": {
  "kernelspec": {
   "display_name": "Python 3",
   "language": "python",
   "name": "python3"
  },
  "language_info": {
   "codemirror_mode": {
    "name": "ipython",
    "version": 3
   },
   "file_extension": ".py",
   "mimetype": "text/x-python",
   "name": "python",
   "nbconvert_exporter": "python",
   "pygments_lexer": "ipython3",
   "version": "3.7.7"
  }
 },
 "nbformat": 4,
 "nbformat_minor": 4
}
