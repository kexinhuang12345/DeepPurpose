{
 "cells": [
  {
   "cell_type": "code",
   "execution_count": 1,
   "metadata": {},
   "outputs": [],
   "source": [
    "import os\n",
    "os.chdir('../')"
   ]
  },
  {
   "cell_type": "code",
   "execution_count": 2,
   "metadata": {},
   "outputs": [],
   "source": [
    "import pandas as pd\n",
    "import numpy as np\n",
    "\n",
    "import DTI.models as models\n",
    "from DTI.utils import data_process, convert_y_unit, generate_config"
   ]
  },
  {
   "cell_type": "code",
   "execution_count": null,
   "metadata": {},
   "outputs": [],
   "source": [
    "# load data\n",
    "df_Kd = pd.read_csv('../DTBA_data_folder/Kd/data.csv')\n",
    "df_Kd = df_Kd.sample(frac = 0.002, replace = False)# toy dataset\n",
    "\n",
    "X_drug = df_Kd.SMILES.values\n",
    "X_target = df_Kd['Target Sequence'].values \n",
    "# support nM to p (logspace) convertion to help regression\n",
    "y = [1 if i else 0 for i in df_Kd.Kd.values <30]\n",
    "#y = convert_y_unit(df_Kd.Kd.values, 'nM', 'p') \n",
    "\n",
    "drug_encoding = 'MPNN'\n",
    "target_encoding = 'AAC'\n",
    "train, val, test = data_process(X_drug, X_target, y, \n",
    "                                drug_encoding, target_encoding, \n",
    "                                split_method='random',frac=[0.7,0.1,0.2])"
   ]
  },
  {
   "cell_type": "code",
   "execution_count": 4,
   "metadata": {},
   "outputs": [],
   "source": [
    "# model setup, you can adjust the config file by typing in model parameters. e.g. cls_hidden_dim = [256, 32]\n",
    "config = generate_config(drug_encoding, target_encoding, train_epoch = 3)\n",
    "model = models.model_initialize(drug_encoding, target_encoding, **config)"
   ]
  },
  {
   "cell_type": "code",
   "execution_count": 5,
   "metadata": {
    "scrolled": false
   },
   "outputs": [
    {
     "name": "stdout",
     "output_type": "stream",
     "text": [
      "--- Data Preparation ---\n",
      "--- Go for Training ---\n",
      "Training at Epoch 1 iteration 0 with loss 0.6983305\n",
      "Validation at Epoch 1 , AUROC: 0.55 , AUPRC: 0.5792424242424242 , F1: 0.0\n"
     ]
    },
    {
     "name": "stderr",
     "output_type": "stream",
     "text": [
      "/Users/kexinhuang/torch-env/lib/python3.7/site-packages/sklearn/metrics/classification.py:1437: UndefinedMetricWarning: F-score is ill-defined and being set to 0.0 due to no predicted samples.\n",
      "  'precision', 'predicted', average, warn_for)\n"
     ]
    },
    {
     "name": "stdout",
     "output_type": "stream",
     "text": [
      "Training at Epoch 2 iteration 0 with loss 0.6419869\n",
      "Validation at Epoch 2 , AUROC: 0.47500000000000003 , AUPRC: 0.5569230769230769 , F1: 0.0\n",
      "Training at Epoch 3 iteration 0 with loss 0.57026505\n",
      "Validation at Epoch 3 , AUROC: 0.45 , AUPRC: 0.5235897435897436 , F1: 0.0\n",
      "--- Go for Testing ---\n",
      "Testing AUROC: 0.7545454545454545 , AUPRC: 0.525128205128205 , F1: 0.0\n",
      "--- Training Finished ---\n"
     ]
    }
   ],
   "source": [
    "model.train(train, val, test)"
   ]
  },
  {
   "cell_type": "code",
   "execution_count": 6,
   "metadata": {},
   "outputs": [],
   "source": [
    "test = df_Kd.sample(n = 20, replace=False)\n",
    "target = test['Target Sequence'].iloc[0]\n",
    "X_repurpose = test.SMILES.values\n",
    "drug_name = test.PubChem_ID.astype(int).astype(str).values\n",
    "target_name = test.UniProt_ID.iloc[0]"
   ]
  },
  {
   "cell_type": "code",
   "execution_count": 7,
   "metadata": {},
   "outputs": [
    {
     "name": "stdout",
     "output_type": "stream",
     "text": [
      "repurposing...\n",
      "predicting...\n",
      "Drug Repurposing Result for P31751\n",
      "57399640   predicted to NOT have interaction with the target\n",
      "153999     predicted to NOT have interaction with the target\n",
      "91448975   predicted to NOT have interaction with the target\n",
      "91898352   predicted to NOT have interaction with the target\n",
      "11364421   predicted to NOT have interaction with the target\n",
      "138805831  predicted to NOT have interaction with the target\n",
      "11338033   predicted to NOT have interaction with the target\n",
      "44588220   predicted to NOT have interaction with the target\n",
      "4521392    predicted to NOT have interaction with the target\n",
      "216239     predicted to NOT have interaction with the target\n",
      "9829523    predicted to NOT have interaction with the target\n",
      "11667893   predicted to NOT have interaction with the target\n",
      "5291       predicted to NOT have interaction with the target\n",
      "118735636  predicted to NOT have interaction with the target\n",
      "58267825   predicted to NOT have interaction with the target\n",
      "6918454    predicted to NOT have interaction with the target\n",
      "117927247  predicted to NOT have interaction with the target\n",
      "9884685    predicted to NOT have interaction with the target\n",
      "11485656   predicted to NOT have interaction with the target\n",
      "9829523    predicted to NOT have interaction with the target\n"
     ]
    }
   ],
   "source": [
    "r = models.repurpose(X_repurpose, target, model, drug_name, target_name)"
   ]
  },
  {
   "cell_type": "code",
   "execution_count": 8,
   "metadata": {},
   "outputs": [],
   "source": [
    "target = test['Target Sequence'].values\n",
    "target_name = test.UniProt_ID.astype(str).values"
   ]
  },
  {
   "cell_type": "code",
   "execution_count": 9,
   "metadata": {},
   "outputs": [
    {
     "name": "stdout",
     "output_type": "stream",
     "text": [
      "repurposing...\n",
      "predicting...\n",
      "Virtual Screening Result\n",
      "57399640   predicted to NOT have interaction with the target P31751 \n",
      "153999     predicted to NOT have interaction with the target nan    \n",
      "91448975   predicted to NOT have interaction with the target nan    \n",
      "91898352   predicted to NOT have interaction with the target P10721 \n",
      "11364421   predicted to NOT have interaction with the target P49137 \n",
      "138805831  predicted to NOT have interaction with the target P51449 \n",
      "11338033   predicted to NOT have interaction with the target Q9BQI3 \n",
      "44588220   predicted to NOT have interaction with the target Q9HBH9 \n",
      "4521392    predicted to NOT have interaction with the target P29376 \n",
      "216239     predicted to NOT have interaction with the target P00533 \n",
      "9829523    predicted to NOT have interaction with the target P57058 \n",
      "11667893   predicted to NOT have interaction with the target Q13131 \n",
      "5291       predicted to NOT have interaction with the target Q9HC98 \n",
      "118735636  predicted to NOT have interaction with the target P27694 \n",
      "58267825   predicted to NOT have interaction with the target P15056 \n",
      "6918454    predicted to NOT have interaction with the target Q14012 \n",
      "117927247  predicted to NOT have interaction with the target P10721 \n",
      "9884685    predicted to NOT have interaction with the target P51451 \n",
      "11485656   predicted to NOT have interaction with the target P10721 \n",
      "9829523    predicted to NOT have interaction with the target P31751 \n"
     ]
    }
   ],
   "source": [
    "r = models.virtual_screening(X_repurpose, target, model, drug_name, target_name)"
   ]
  },
  {
   "cell_type": "code",
   "execution_count": null,
   "metadata": {},
   "outputs": [],
   "source": []
  }
 ],
 "metadata": {
  "kernelspec": {
   "display_name": "Python 3",
   "language": "python",
   "name": "python3"
  },
  "language_info": {
   "codemirror_mode": {
    "name": "ipython",
    "version": 3
   },
   "file_extension": ".py",
   "mimetype": "text/x-python",
   "name": "python",
   "nbconvert_exporter": "python",
   "pygments_lexer": "ipython3",
   "version": "3.7.7"
  }
 },
 "nbformat": 4,
 "nbformat_minor": 4
}
