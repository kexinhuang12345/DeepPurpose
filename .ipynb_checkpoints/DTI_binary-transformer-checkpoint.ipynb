{
 "cells": [
  {
   "cell_type": "code",
   "execution_count": 1,
   "metadata": {},
   "outputs": [],
   "source": [
    "import os\n",
    "os.chdir('../')"
   ]
  },
  {
   "cell_type": "code",
   "execution_count": 2,
   "metadata": {},
   "outputs": [],
   "source": [
    "import pandas as pd\n",
    "import numpy as np\n",
    "\n",
    "import DTI.models as models\n",
    "from DTI.utils import data_process, convert_y_unit, generate_config"
   ]
  },
  {
   "cell_type": "code",
   "execution_count": null,
   "metadata": {},
   "outputs": [
    {
     "name": "stdout",
     "output_type": "stream",
     "text": [
      "in total: 133 drug-target pairs\n",
      "encoding drug...\n",
      "unique drugs: 99\n",
      "drug encoding finished...\n",
      "encoding protein...\n",
      "unique target sequence: 112\n"
     ]
    }
   ],
   "source": [
    "# load data\n",
    "df_Kd = pd.read_csv('../DTBA_data_folder/Kd/data.csv')\n",
    "df_Kd = df_Kd.sample(frac = 0.002, replace = False)# toy dataset\n",
    "\n",
    "X_drug = df_Kd.SMILES.values\n",
    "X_target = df_Kd['Target Sequence'].values \n",
    "# support nM to p (logspace) convertion to help regression\n",
    "y = [1 if i else 0 for i in df_Kd.Kd.values <30]\n",
    "#y = convert_y_unit(df_Kd.Kd.values, 'nM', 'p') \n",
    "\n",
    "drug_encoding = 'MPNN'\n",
    "target_encoding = 'Quasi-seq'\n",
    "train, val, test = data_process(X_drug, X_target, y, \n",
    "                                drug_encoding, target_encoding, \n",
    "                                split_method='random',frac=[0.7,0.1,0.2])"
   ]
  },
  {
   "cell_type": "code",
   "execution_count": 4,
   "metadata": {},
   "outputs": [],
   "source": [
    "# model setup, you can adjust the config file by typing in model parameters. e.g. cls_hidden_dim = [256, 32]\n",
    "config = generate_config(drug_encoding, target_encoding, train_epoch = 3)\n",
    "model = models.model_initialize(drug_encoding, target_encoding, **config)"
   ]
  },
  {
   "cell_type": "code",
   "execution_count": 5,
   "metadata": {
    "scrolled": false
   },
   "outputs": [
    {
     "name": "stdout",
     "output_type": "stream",
     "text": [
      "--- Data Preparation ---\n",
      "--- Go for Training ---\n",
      "Training at Epoch 1 iteration 0 with loss 0.7395122\n"
     ]
    },
    {
     "name": "stderr",
     "output_type": "stream",
     "text": [
      "/Users/kexinhuang/torch-env/lib/python3.7/site-packages/sklearn/metrics/classification.py:1437: UndefinedMetricWarning: F-score is ill-defined and being set to 0.0 due to no predicted samples.\n",
      "  'precision', 'predicted', average, warn_for)\n"
     ]
    },
    {
     "name": "stdout",
     "output_type": "stream",
     "text": [
      "Validation at Epoch 1 , AUROC: 1.0 , AUPRC: 1.0 , F1: 0.0\n",
      "Training at Epoch 2 iteration 0 with loss 0.53700477\n",
      "Validation at Epoch 2 , AUROC: 1.0 , AUPRC: 1.0 , F1: 0.0\n",
      "Training at Epoch 3 iteration 0 with loss 0.45555922\n",
      "Validation at Epoch 3 , AUROC: 0.75 , AUPRC: 0.25 , F1: 0.0\n",
      "--- Go for Testing ---\n",
      "Testing AUROC: 0.6388888888888888 , AUPRC: 0.2013888888888889 , F1: 0.0\n",
      "--- Training Finished ---\n"
     ]
    }
   ],
   "source": [
    "model.train(train, val, test)"
   ]
  },
  {
   "cell_type": "code",
   "execution_count": 6,
   "metadata": {},
   "outputs": [],
   "source": [
    "test = df_Kd.sample(n = 20, replace=False)\n",
    "target = test['Target Sequence'].iloc[0]\n",
    "X_repurpose = test.SMILES.values\n",
    "drug_name = test.PubChem_ID.astype(int).astype(str).values\n",
    "target_name = test.UniProt_ID.iloc[0]"
   ]
  },
  {
   "cell_type": "code",
   "execution_count": 8,
   "metadata": {},
   "outputs": [
    {
     "name": "stdout",
     "output_type": "stream",
     "text": [
      "repurposing...\n",
      "in total: 20 drug-target pairs\n",
      "encoding drug...\n",
      "unique drugs: 20\n",
      "drug encoding finished...\n",
      "encoding protein...\n",
      "unique target sequence: 1\n",
      "protein encoding finished...\n",
      "splitting dataset...\n",
      "Done.\n",
      "predicting...\n",
      "---------------\n",
      "Drug Repurposing Result for O00329\n",
      "Drug 136215716  predicted to NOT have interaction with the target\n",
      "Drug 19875425   predicted to NOT have interaction with the target\n",
      "Drug 91895868   predicted to NOT have interaction with the target\n",
      "Drug 5329102    predicted to NOT have interaction with the target\n",
      "Drug 25182616   predicted to NOT have interaction with the target\n",
      "Drug 44243352   predicted to NOT have interaction with the target\n",
      "Drug 10357464   predicted to NOT have interaction with the target\n",
      "Drug 4282260    predicted to NOT have interaction with the target\n",
      "Drug 10113978   predicted to NOT have interaction with the target\n",
      "Drug 11314340   predicted to NOT have interaction with the target\n",
      "Drug 44280063   predicted to NOT have interaction with the target\n",
      "Drug 91899206   predicted to NOT have interaction with the target\n",
      "Drug 123631     predicted to NOT have interaction with the target\n",
      "Drug 5287969    predicted to NOT have interaction with the target\n",
      "Drug 118732891  predicted to NOT have interaction with the target\n",
      "Drug 56675036   predicted to NOT have interaction with the target\n",
      "Drug 9973307    predicted to NOT have interaction with the target\n",
      "Drug 23729768   predicted to NOT have interaction with the target\n",
      "Drug 52945601   predicted to NOT have interaction with the target\n",
      "Drug 156422     predicted to NOT have interaction with the target\n"
     ]
    }
   ],
   "source": [
    "r = models.repurpose(X_repurpose, target, model, drug_name, target_name)"
   ]
  },
  {
   "cell_type": "code",
   "execution_count": 9,
   "metadata": {},
   "outputs": [],
   "source": [
    "target = test['Target Sequence'].values\n",
    "target_name = test.UniProt_ID.astype(str).values"
   ]
  },
  {
   "cell_type": "code",
   "execution_count": 10,
   "metadata": {},
   "outputs": [
    {
     "name": "stdout",
     "output_type": "stream",
     "text": [
      "virtual screening...\n",
      "in total: 20 drug-target pairs\n",
      "encoding drug...\n",
      "unique drugs: 20\n",
      "drug encoding finished...\n",
      "encoding protein...\n",
      "unique target sequence: 20\n",
      "protein encoding finished...\n",
      "splitting dataset...\n",
      "Done.\n",
      "predicting...\n",
      "---------------\n",
      "Virtual Screening Result\n",
      "Drug 136215716  predicted to NOT have interaction with the target O00329 \n",
      "Drug 19875425   predicted to NOT have interaction with the target P21731 \n",
      "Drug 91895868   predicted to NOT have interaction with the target P00918 \n",
      "Drug 5329102    predicted to NOT have interaction with the target P52333 \n",
      "Drug 25182616   predicted to NOT have interaction with the target Q15835 \n",
      "Drug 44243352   predicted to NOT have interaction with the target P15056 \n",
      "Drug 10357464   predicted to NOT have interaction with the target P62965 \n",
      "Drug 4282260    predicted to NOT have interaction with the target P0AC13 \n",
      "Drug 10113978   predicted to NOT have interaction with the target Q92630 \n",
      "Drug 11314340   predicted to NOT have interaction with the target Q86YV6 \n",
      "Drug 44280063   predicted to NOT have interaction with the target P30874 \n",
      "Drug 91899206   predicted to NOT have interaction with the target P24941 \n",
      "Drug 123631     predicted to NOT have interaction with the target P00533 \n",
      "Drug 5287969    predicted to NOT have interaction with the target Q9BRS2 \n",
      "Drug 118732891  predicted to NOT have interaction with the target P11229 \n",
      "Drug 56675036   predicted to NOT have interaction with the target P70536 \n",
      "Drug 9973307    predicted to NOT have interaction with the target P28705 \n",
      "Drug 23729768   predicted to NOT have interaction with the target Q99572 \n",
      "Drug 52945601   predicted to NOT have interaction with the target O75385 \n",
      "Drug 156422     predicted to NOT have interaction with the target P51813 \n"
     ]
    }
   ],
   "source": [
    "r = models.virtual_screening(X_repurpose, target, model, drug_name, target_name)"
   ]
  },
  {
   "cell_type": "code",
   "execution_count": null,
   "metadata": {},
   "outputs": [],
   "source": []
  }
 ],
 "metadata": {
  "kernelspec": {
   "display_name": "Python 3",
   "language": "python",
   "name": "python3"
  },
  "language_info": {
   "codemirror_mode": {
    "name": "ipython",
    "version": 3
   },
   "file_extension": ".py",
   "mimetype": "text/x-python",
   "name": "python",
   "nbconvert_exporter": "python",
   "pygments_lexer": "ipython3",
   "version": "3.7.7"
  }
 },
 "nbformat": 4,
 "nbformat_minor": 4
}
