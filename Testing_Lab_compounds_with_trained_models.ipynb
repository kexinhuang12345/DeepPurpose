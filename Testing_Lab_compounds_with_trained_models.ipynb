{
  "nbformat": 4,
  "nbformat_minor": 0,
  "metadata": {
    "colab": {
      "name": "Testing Lab compounds with trained models.ipynb",
      "provenance": [],
      "collapsed_sections": [
        "b3XlhVMQydju",
        "LFV5ArthwIbH",
        "zeAbjCXOv_PK",
        "4B1eq7t60q_E",
        "JgpzYdXZxRTM",
        "L4ykQ1LmzSZU"
      ]
    },
    "kernelspec": {
      "name": "python3",
      "display_name": "Python 3"
    },
    "language_info": {
      "name": "python"
    }
  },
  "cells": [
    {
      "cell_type": "markdown",
      "metadata": {
        "id": "b3XlhVMQydju"
      },
      "source": [
        "## Loading DeepPurpose"
      ]
    },
    {
      "cell_type": "code",
      "metadata": {
        "id": "dk57GK89SU_P",
        "colab": {
          "base_uri": "https://localhost:8080/"
        },
        "outputId": "34675448-3fb9-4d63-9f65-3808de90c994"
      },
      "source": [
        "!pip install DeepPurpose\n",
        "! wget https://repo.anaconda.com/miniconda/Miniconda3-py37_4.8.2-Linux-x86_64.sh\n",
        "! chmod +x Miniconda3-py37_4.8.2-Linux-x86_64.sh\n",
        "! bash ./Miniconda3-py37_4.8.2-Linux-x86_64.sh -b -f -p /usr/local\n",
        "! conda install -c rdkit rdkit -y\n",
        "import sys\n",
        "sys.path.append('/usr/local/lib/python3.7/site-packages/')"
      ],
      "execution_count": null,
      "outputs": [
        {
          "output_type": "stream",
          "text": [
            "Collecting DeepPurpose\n",
            "\u001b[?25l  Downloading https://files.pythonhosted.org/packages/97/9a/cda94fab698259f2d86a9068704476f02f731b0d46a34bcf0302399b88b5/DeepPurpose-0.1.4.tar.gz (156kB)\n",
            "\r\u001b[K     |██                              | 10kB 14.3MB/s eta 0:00:01\r\u001b[K     |████▏                           | 20kB 20.1MB/s eta 0:00:01\r\u001b[K     |██████▎                         | 30kB 23.1MB/s eta 0:00:01\r\u001b[K     |████████▍                       | 40kB 26.4MB/s eta 0:00:01\r\u001b[K     |██████████▌                     | 51kB 29.2MB/s eta 0:00:01\r\u001b[K     |████████████▌                   | 61kB 32.2MB/s eta 0:00:01\r\u001b[K     |██████████████▋                 | 71kB 29.7MB/s eta 0:00:01\r\u001b[K     |████████████████▊               | 81kB 29.1MB/s eta 0:00:01\r\u001b[K     |██████████████████▉             | 92kB 29.0MB/s eta 0:00:01\r\u001b[K     |█████████████████████           | 102kB 30.3MB/s eta 0:00:01\r\u001b[K     |███████████████████████         | 112kB 30.3MB/s eta 0:00:01\r\u001b[K     |█████████████████████████       | 122kB 30.3MB/s eta 0:00:01\r\u001b[K     |███████████████████████████▏    | 133kB 30.3MB/s eta 0:00:01\r\u001b[K     |█████████████████████████████▎  | 143kB 30.3MB/s eta 0:00:01\r\u001b[K     |███████████████████████████████▍| 153kB 30.3MB/s eta 0:00:01\r\u001b[K     |████████████████████████████████| 163kB 30.3MB/s \n",
            "\u001b[?25hRequirement already satisfied: numpy in /usr/local/lib/python3.7/dist-packages (from DeepPurpose) (1.19.5)\n",
            "Requirement already satisfied: pandas in /usr/local/lib/python3.7/dist-packages (from DeepPurpose) (1.1.5)\n",
            "Requirement already satisfied: tqdm in /usr/local/lib/python3.7/dist-packages (from DeepPurpose) (4.41.1)\n",
            "Requirement already satisfied: scikit-learn in /usr/local/lib/python3.7/dist-packages (from DeepPurpose) (0.22.2.post1)\n",
            "Collecting wget\n",
            "  Downloading https://files.pythonhosted.org/packages/47/6a/62e288da7bcda82b935ff0c6cfe542970f04e29c756b0e147251b2fb251f/wget-3.2.zip\n",
            "Requirement already satisfied: torch in /usr/local/lib/python3.7/dist-packages (from DeepPurpose) (1.9.0+cu102)\n",
            "Requirement already satisfied: matplotlib in /usr/local/lib/python3.7/dist-packages (from DeepPurpose) (3.2.2)\n",
            "Requirement already satisfied: requests in /usr/local/lib/python3.7/dist-packages (from DeepPurpose) (2.23.0)\n",
            "Collecting pandas-flavor\n",
            "  Downloading https://files.pythonhosted.org/packages/9a/57/7fbcff4c0961ed190ac5fcb0bd8194152ee1ee6487edf64fdbae16e2bc4b/pandas_flavor-0.2.0-py2.py3-none-any.whl\n",
            "Collecting subword-nmt\n",
            "  Downloading https://files.pythonhosted.org/packages/74/60/6600a7bc09e7ab38bc53a48a20d8cae49b837f93f5842a41fe513a694912/subword_nmt-0.3.7-py2.py3-none-any.whl\n",
            "Collecting lifelines\n",
            "\u001b[?25l  Downloading https://files.pythonhosted.org/packages/50/ba/d010b22c8bcdfe3bbba753bd976f5deddfa4ec1c842b991579e9c2c3cd61/lifelines-0.26.0-py3-none-any.whl (348kB)\n",
            "\u001b[K     |████████████████████████████████| 358kB 34.2MB/s \n",
            "\u001b[?25hRequirement already satisfied: prettytable in /usr/local/lib/python3.7/dist-packages (from DeepPurpose) (2.1.0)\n",
            "Requirement already satisfied: tensorboard in /usr/local/lib/python3.7/dist-packages (from DeepPurpose) (2.5.0)\n",
            "Collecting ax-platform\n",
            "\u001b[?25l  Downloading https://files.pythonhosted.org/packages/3c/6e/f2c94834dac86ba105ff0c46a15600f9da456e7b38de5d143144d55de1cb/ax_platform-0.2.0-py3-none-any.whl (815kB)\n",
            "\u001b[K     |████████████████████████████████| 819kB 32.5MB/s \n",
            "\u001b[?25hCollecting dgllife\n",
            "\u001b[?25l  Downloading https://files.pythonhosted.org/packages/fd/7f/7247049c019b83af321f912389c776209b8484b88666930d8d90083e7232/dgllife-0.2.8.tar.gz (133kB)\n",
            "\u001b[K     |████████████████████████████████| 143kB 40.9MB/s \n",
            "\u001b[?25hRequirement already satisfied: python-dateutil>=2.7.3 in /usr/local/lib/python3.7/dist-packages (from pandas->DeepPurpose) (2.8.1)\n",
            "Requirement already satisfied: pytz>=2017.2 in /usr/local/lib/python3.7/dist-packages (from pandas->DeepPurpose) (2018.9)\n",
            "Requirement already satisfied: scipy>=0.17.0 in /usr/local/lib/python3.7/dist-packages (from scikit-learn->DeepPurpose) (1.4.1)\n",
            "Requirement already satisfied: joblib>=0.11 in /usr/local/lib/python3.7/dist-packages (from scikit-learn->DeepPurpose) (1.0.1)\n",
            "Requirement already satisfied: typing-extensions in /usr/local/lib/python3.7/dist-packages (from torch->DeepPurpose) (3.7.4.3)\n",
            "Requirement already satisfied: kiwisolver>=1.0.1 in /usr/local/lib/python3.7/dist-packages (from matplotlib->DeepPurpose) (1.3.1)\n",
            "Requirement already satisfied: cycler>=0.10 in /usr/local/lib/python3.7/dist-packages (from matplotlib->DeepPurpose) (0.10.0)\n",
            "Requirement already satisfied: pyparsing!=2.0.4,!=2.1.2,!=2.1.6,>=2.0.1 in /usr/local/lib/python3.7/dist-packages (from matplotlib->DeepPurpose) (2.4.7)\n",
            "Requirement already satisfied: certifi>=2017.4.17 in /usr/local/lib/python3.7/dist-packages (from requests->DeepPurpose) (2021.5.30)\n",
            "Requirement already satisfied: idna<3,>=2.5 in /usr/local/lib/python3.7/dist-packages (from requests->DeepPurpose) (2.10)\n",
            "Requirement already satisfied: urllib3!=1.25.0,!=1.25.1,<1.26,>=1.21.1 in /usr/local/lib/python3.7/dist-packages (from requests->DeepPurpose) (1.24.3)\n",
            "Requirement already satisfied: chardet<4,>=3.0.2 in /usr/local/lib/python3.7/dist-packages (from requests->DeepPurpose) (3.0.4)\n",
            "Requirement already satisfied: xarray in /usr/local/lib/python3.7/dist-packages (from pandas-flavor->DeepPurpose) (0.18.2)\n",
            "Requirement already satisfied: autograd>=1.3 in /usr/local/lib/python3.7/dist-packages (from lifelines->DeepPurpose) (1.3)\n",
            "Collecting formulaic<0.3,>=0.2.2\n",
            "\u001b[?25l  Downloading https://files.pythonhosted.org/packages/02/64/6702b5cadc89ece93af2e01996504f3a895196354a35713e2ef22f089d3e/formulaic-0.2.3-py3-none-any.whl (55kB)\n",
            "\u001b[K     |████████████████████████████████| 61kB 7.5MB/s \n",
            "\u001b[?25hCollecting autograd-gamma>=0.3\n",
            "  Downloading https://files.pythonhosted.org/packages/85/ae/7f2031ea76140444b2453fa139041e5afd4a09fc5300cfefeb1103291f80/autograd-gamma-0.5.0.tar.gz\n",
            "Requirement already satisfied: importlib-metadata; python_version < \"3.8\" in /usr/local/lib/python3.7/dist-packages (from prettytable->DeepPurpose) (4.5.0)\n",
            "Requirement already satisfied: wcwidth in /usr/local/lib/python3.7/dist-packages (from prettytable->DeepPurpose) (0.2.5)\n",
            "Requirement already satisfied: absl-py>=0.4 in /usr/local/lib/python3.7/dist-packages (from tensorboard->DeepPurpose) (0.12.0)\n",
            "Requirement already satisfied: grpcio>=1.24.3 in /usr/local/lib/python3.7/dist-packages (from tensorboard->DeepPurpose) (1.34.1)\n",
            "Requirement already satisfied: tensorboard-plugin-wit>=1.6.0 in /usr/local/lib/python3.7/dist-packages (from tensorboard->DeepPurpose) (1.8.0)\n",
            "Requirement already satisfied: protobuf>=3.6.0 in /usr/local/lib/python3.7/dist-packages (from tensorboard->DeepPurpose) (3.12.4)\n",
            "Requirement already satisfied: google-auth-oauthlib<0.5,>=0.4.1 in /usr/local/lib/python3.7/dist-packages (from tensorboard->DeepPurpose) (0.4.4)\n",
            "Requirement already satisfied: google-auth<2,>=1.6.3 in /usr/local/lib/python3.7/dist-packages (from tensorboard->DeepPurpose) (1.31.0)\n",
            "Requirement already satisfied: markdown>=2.6.8 in /usr/local/lib/python3.7/dist-packages (from tensorboard->DeepPurpose) (3.3.4)\n",
            "Requirement already satisfied: tensorboard-data-server<0.7.0,>=0.6.0 in /usr/local/lib/python3.7/dist-packages (from tensorboard->DeepPurpose) (0.6.1)\n",
            "Requirement already satisfied: wheel>=0.26; python_version >= \"3\" in /usr/local/lib/python3.7/dist-packages (from tensorboard->DeepPurpose) (0.36.2)\n",
            "Requirement already satisfied: werkzeug>=0.11.15 in /usr/local/lib/python3.7/dist-packages (from tensorboard->DeepPurpose) (1.0.1)\n",
            "Requirement already satisfied: setuptools>=41.0.0 in /usr/local/lib/python3.7/dist-packages (from tensorboard->DeepPurpose) (57.0.0)\n",
            "Requirement already satisfied: typeguard in /usr/local/lib/python3.7/dist-packages (from ax-platform->DeepPurpose) (2.7.1)\n",
            "Requirement already satisfied: plotly in /usr/local/lib/python3.7/dist-packages (from ax-platform->DeepPurpose) (4.4.1)\n",
            "Collecting botorch==0.5.0\n",
            "\u001b[?25l  Downloading https://files.pythonhosted.org/packages/28/c4/21f596cd9e22abc33861a3314e0003002a1e948eddcb377289d0354d5e32/botorch-0.5.0-py3-none-any.whl (475kB)\n",
            "\u001b[K     |████████████████████████████████| 481kB 19.8MB/s \n",
            "\u001b[?25hRequirement already satisfied: jinja2 in /usr/local/lib/python3.7/dist-packages (from ax-platform->DeepPurpose) (2.11.3)\n",
            "Requirement already satisfied: networkx>=2.1 in /usr/local/lib/python3.7/dist-packages (from dgllife->DeepPurpose) (2.5.1)\n",
            "Requirement already satisfied: hyperopt in /usr/local/lib/python3.7/dist-packages (from dgllife->DeepPurpose) (0.1.2)\n",
            "Requirement already satisfied: six>=1.5 in /usr/local/lib/python3.7/dist-packages (from python-dateutil>=2.7.3->pandas->DeepPurpose) (1.15.0)\n",
            "Requirement already satisfied: future>=0.15.2 in /usr/local/lib/python3.7/dist-packages (from autograd>=1.3->lifelines->DeepPurpose) (0.16.0)\n",
            "Collecting interface-meta>=1.2\n",
            "  Downloading https://files.pythonhosted.org/packages/71/31/5e474208f5df9012ebecfaa23884b14f93671ea4f4f6d468eb096b73e499/interface_meta-1.2.3-py2.py3-none-any.whl\n",
            "Requirement already satisfied: astor in /usr/local/lib/python3.7/dist-packages (from formulaic<0.3,>=0.2.2->lifelines->DeepPurpose) (0.8.1)\n",
            "Requirement already satisfied: wrapt in /usr/local/lib/python3.7/dist-packages (from formulaic<0.3,>=0.2.2->lifelines->DeepPurpose) (1.12.1)\n",
            "Requirement already satisfied: zipp>=0.5 in /usr/local/lib/python3.7/dist-packages (from importlib-metadata; python_version < \"3.8\"->prettytable->DeepPurpose) (3.4.1)\n",
            "Requirement already satisfied: requests-oauthlib>=0.7.0 in /usr/local/lib/python3.7/dist-packages (from google-auth-oauthlib<0.5,>=0.4.1->tensorboard->DeepPurpose) (1.3.0)\n",
            "Requirement already satisfied: pyasn1-modules>=0.2.1 in /usr/local/lib/python3.7/dist-packages (from google-auth<2,>=1.6.3->tensorboard->DeepPurpose) (0.2.8)\n",
            "Requirement already satisfied: cachetools<5.0,>=2.0.0 in /usr/local/lib/python3.7/dist-packages (from google-auth<2,>=1.6.3->tensorboard->DeepPurpose) (4.2.2)\n",
            "Requirement already satisfied: rsa<5,>=3.1.4; python_version >= \"3.6\" in /usr/local/lib/python3.7/dist-packages (from google-auth<2,>=1.6.3->tensorboard->DeepPurpose) (4.7.2)\n",
            "Requirement already satisfied: retrying>=1.3.3 in /usr/local/lib/python3.7/dist-packages (from plotly->ax-platform->DeepPurpose) (1.3.3)\n",
            "Collecting gpytorch>=1.5\n",
            "\u001b[?25l  Downloading https://files.pythonhosted.org/packages/4a/fa/b6db02ee0e98e89752bdae11534034251bc08317cdc325dd1878732b152d/gpytorch-1.5.0-py2.py3-none-any.whl (498kB)\n",
            "\u001b[K     |████████████████████████████████| 501kB 47.5MB/s \n",
            "\u001b[?25hRequirement already satisfied: MarkupSafe>=0.23 in /usr/local/lib/python3.7/dist-packages (from jinja2->ax-platform->DeepPurpose) (2.0.1)\n",
            "Requirement already satisfied: decorator<5,>=4.3 in /usr/local/lib/python3.7/dist-packages (from networkx>=2.1->dgllife->DeepPurpose) (4.4.2)\n",
            "Requirement already satisfied: pymongo in /usr/local/lib/python3.7/dist-packages (from hyperopt->dgllife->DeepPurpose) (3.11.4)\n",
            "Requirement already satisfied: oauthlib>=3.0.0 in /usr/local/lib/python3.7/dist-packages (from requests-oauthlib>=0.7.0->google-auth-oauthlib<0.5,>=0.4.1->tensorboard->DeepPurpose) (3.1.1)\n",
            "Requirement already satisfied: pyasn1<0.5.0,>=0.4.6 in /usr/local/lib/python3.7/dist-packages (from pyasn1-modules>=0.2.1->google-auth<2,>=1.6.3->tensorboard->DeepPurpose) (0.4.8)\n",
            "Building wheels for collected packages: DeepPurpose, wget, dgllife, autograd-gamma\n",
            "  Building wheel for DeepPurpose (setup.py) ... \u001b[?25l\u001b[?25hdone\n",
            "  Created wheel for DeepPurpose: filename=DeepPurpose-0.1.4-cp37-none-any.whl size=155673 sha256=849551733f19032a062f02972725cb7d5d55121099a6f407c9e72d8dede220bc\n",
            "  Stored in directory: /root/.cache/pip/wheels/1f/63/4a/d4f700254aff8d1cd6dd12576af782df6a22e2ffd27c71cf78\n",
            "  Building wheel for wget (setup.py) ... \u001b[?25l\u001b[?25hdone\n",
            "  Created wheel for wget: filename=wget-3.2-cp37-none-any.whl size=9675 sha256=1ef2d5ad7b421bbb284181eac2b18e434ce40d1d9aca8be9ff21d310716258c7\n",
            "  Stored in directory: /root/.cache/pip/wheels/40/15/30/7d8f7cea2902b4db79e3fea550d7d7b85ecb27ef992b618f3f\n",
            "  Building wheel for dgllife (setup.py) ... \u001b[?25l\u001b[?25hdone\n",
            "  Created wheel for dgllife: filename=dgllife-0.2.8-cp37-none-any.whl size=213163 sha256=bffadaaf44c59426307c084c35a8f28ec72649a2ac39f1ea350bc1cee9bfad3b\n",
            "  Stored in directory: /root/.cache/pip/wheels/4c/6a/06/96be10195f78dbbc8dd242717433b7931df5a2f761f6a54ff6\n",
            "  Building wheel for autograd-gamma (setup.py) ... \u001b[?25l\u001b[?25hdone\n",
            "  Created wheel for autograd-gamma: filename=autograd_gamma-0.5.0-cp37-none-any.whl size=4050 sha256=2ef873bd7cd60ebb371f2b7551e2799b5a25edc72509b0551e204e74a35d8586\n",
            "  Stored in directory: /root/.cache/pip/wheels/dc/68/dc/91321c55fba449755524481854f5be70d41912b8f886f908bb\n",
            "Successfully built DeepPurpose wget dgllife autograd-gamma\n",
            "Installing collected packages: wget, pandas-flavor, subword-nmt, interface-meta, formulaic, autograd-gamma, lifelines, gpytorch, botorch, ax-platform, dgllife, DeepPurpose\n",
            "Successfully installed DeepPurpose-0.1.4 autograd-gamma-0.5.0 ax-platform-0.2.0 botorch-0.5.0 dgllife-0.2.8 formulaic-0.2.3 gpytorch-1.5.0 interface-meta-1.2.3 lifelines-0.26.0 pandas-flavor-0.2.0 subword-nmt-0.3.7 wget-3.2\n",
            "--2021-07-02 01:42:48--  https://repo.anaconda.com/miniconda/Miniconda3-py37_4.8.2-Linux-x86_64.sh\n",
            "Resolving repo.anaconda.com (repo.anaconda.com)... 104.16.130.3, 104.16.131.3, 2606:4700::6810:8203, ...\n",
            "Connecting to repo.anaconda.com (repo.anaconda.com)|104.16.130.3|:443... connected.\n",
            "HTTP request sent, awaiting response... 200 OK\n",
            "Length: 85055499 (81M) [application/x-sh]\n",
            "Saving to: ‘Miniconda3-py37_4.8.2-Linux-x86_64.sh’\n",
            "\n",
            "Miniconda3-py37_4.8 100%[===================>]  81.12M   205MB/s    in 0.4s    \n",
            "\n",
            "2021-07-02 01:42:48 (205 MB/s) - ‘Miniconda3-py37_4.8.2-Linux-x86_64.sh’ saved [85055499/85055499]\n",
            "\n",
            "PREFIX=/usr/local\n",
            "Unpacking payload ...\n",
            "Collecting package metadata (current_repodata.json): - \b\b\\ \b\bdone\n",
            "Solving environment: / \b\b- \b\bdone\n",
            "\n",
            "## Package Plan ##\n",
            "\n",
            "  environment location: /usr/local\n",
            "\n",
            "  added / updated specs:\n",
            "    - _libgcc_mutex==0.1=main\n",
            "    - asn1crypto==1.3.0=py37_0\n",
            "    - ca-certificates==2020.1.1=0\n",
            "    - certifi==2019.11.28=py37_0\n",
            "    - cffi==1.14.0=py37h2e261b9_0\n",
            "    - chardet==3.0.4=py37_1003\n",
            "    - conda-package-handling==1.6.0=py37h7b6447c_0\n",
            "    - conda==4.8.2=py37_0\n",
            "    - cryptography==2.8=py37h1ba5d50_0\n",
            "    - idna==2.8=py37_0\n",
            "    - ld_impl_linux-64==2.33.1=h53a641e_7\n",
            "    - libedit==3.1.20181209=hc058e9b_0\n",
            "    - libffi==3.2.1=hd88cf55_4\n",
            "    - libgcc-ng==9.1.0=hdf63c60_0\n",
            "    - libstdcxx-ng==9.1.0=hdf63c60_0\n",
            "    - ncurses==6.2=he6710b0_0\n",
            "    - openssl==1.1.1d=h7b6447c_4\n",
            "    - pip==20.0.2=py37_1\n",
            "    - pycosat==0.6.3=py37h7b6447c_0\n",
            "    - pycparser==2.19=py37_0\n",
            "    - pyopenssl==19.1.0=py37_0\n",
            "    - pysocks==1.7.1=py37_0\n",
            "    - python==3.7.6=h0371630_2\n",
            "    - readline==7.0=h7b6447c_5\n",
            "    - requests==2.22.0=py37_1\n",
            "    - ruamel_yaml==0.15.87=py37h7b6447c_0\n",
            "    - setuptools==45.2.0=py37_0\n",
            "    - six==1.14.0=py37_0\n",
            "    - sqlite==3.31.1=h7b6447c_0\n",
            "    - tk==8.6.8=hbc83047_0\n",
            "    - tqdm==4.42.1=py_0\n",
            "    - urllib3==1.25.8=py37_0\n",
            "    - wheel==0.34.2=py37_0\n",
            "    - xz==5.2.4=h14c3975_4\n",
            "    - yaml==0.1.7=had09818_2\n",
            "    - zlib==1.2.11=h7b6447c_3\n",
            "\n",
            "\n",
            "The following NEW packages will be INSTALLED:\n",
            "\n",
            "  _libgcc_mutex      pkgs/main/linux-64::_libgcc_mutex-0.1-main\n",
            "  asn1crypto         pkgs/main/linux-64::asn1crypto-1.3.0-py37_0\n",
            "  ca-certificates    pkgs/main/linux-64::ca-certificates-2020.1.1-0\n",
            "  certifi            pkgs/main/linux-64::certifi-2019.11.28-py37_0\n",
            "  cffi               pkgs/main/linux-64::cffi-1.14.0-py37h2e261b9_0\n",
            "  chardet            pkgs/main/linux-64::chardet-3.0.4-py37_1003\n",
            "  conda              pkgs/main/linux-64::conda-4.8.2-py37_0\n",
            "  conda-package-han~ pkgs/main/linux-64::conda-package-handling-1.6.0-py37h7b6447c_0\n",
            "  cryptography       pkgs/main/linux-64::cryptography-2.8-py37h1ba5d50_0\n",
            "  idna               pkgs/main/linux-64::idna-2.8-py37_0\n",
            "  ld_impl_linux-64   pkgs/main/linux-64::ld_impl_linux-64-2.33.1-h53a641e_7\n",
            "  libedit            pkgs/main/linux-64::libedit-3.1.20181209-hc058e9b_0\n",
            "  libffi             pkgs/main/linux-64::libffi-3.2.1-hd88cf55_4\n",
            "  libgcc-ng          pkgs/main/linux-64::libgcc-ng-9.1.0-hdf63c60_0\n",
            "  libstdcxx-ng       pkgs/main/linux-64::libstdcxx-ng-9.1.0-hdf63c60_0\n",
            "  ncurses            pkgs/main/linux-64::ncurses-6.2-he6710b0_0\n",
            "  openssl            pkgs/main/linux-64::openssl-1.1.1d-h7b6447c_4\n",
            "  pip                pkgs/main/linux-64::pip-20.0.2-py37_1\n",
            "  pycosat            pkgs/main/linux-64::pycosat-0.6.3-py37h7b6447c_0\n",
            "  pycparser          pkgs/main/linux-64::pycparser-2.19-py37_0\n",
            "  pyopenssl          pkgs/main/linux-64::pyopenssl-19.1.0-py37_0\n",
            "  pysocks            pkgs/main/linux-64::pysocks-1.7.1-py37_0\n",
            "  python             pkgs/main/linux-64::python-3.7.6-h0371630_2\n",
            "  readline           pkgs/main/linux-64::readline-7.0-h7b6447c_5\n",
            "  requests           pkgs/main/linux-64::requests-2.22.0-py37_1\n",
            "  ruamel_yaml        pkgs/main/linux-64::ruamel_yaml-0.15.87-py37h7b6447c_0\n",
            "  setuptools         pkgs/main/linux-64::setuptools-45.2.0-py37_0\n",
            "  six                pkgs/main/linux-64::six-1.14.0-py37_0\n",
            "  sqlite             pkgs/main/linux-64::sqlite-3.31.1-h7b6447c_0\n",
            "  tk                 pkgs/main/linux-64::tk-8.6.8-hbc83047_0\n",
            "  tqdm               pkgs/main/noarch::tqdm-4.42.1-py_0\n",
            "  urllib3            pkgs/main/linux-64::urllib3-1.25.8-py37_0\n",
            "  wheel              pkgs/main/linux-64::wheel-0.34.2-py37_0\n",
            "  xz                 pkgs/main/linux-64::xz-5.2.4-h14c3975_4\n",
            "  yaml               pkgs/main/linux-64::yaml-0.1.7-had09818_2\n",
            "  zlib               pkgs/main/linux-64::zlib-1.2.11-h7b6447c_3\n",
            "\n",
            "\n",
            "Preparing transaction: | \b\b/ \b\b- \b\b\\ \b\bdone\n",
            "Executing transaction: / \b\b- \b\b\\ \b\b| \b\b/ \b\b- \b\b\\ \b\b| \b\b/ \b\b- \b\b\\ \b\b| \b\b/ \b\b- \b\bdone\n",
            "installation finished.\n",
            "WARNING:\n",
            "    You currently have a PYTHONPATH environment variable set. This may cause\n",
            "    unexpected behavior when running the Python interpreter in Miniconda3.\n",
            "    For best results, please verify that your PYTHONPATH only points to\n",
            "    directories of packages that are compatible with the Python interpreter\n",
            "    in Miniconda3: /usr/local\n",
            "Collecting package metadata (current_repodata.json): - \b\b\\ \b\b| \b\b/ \b\b- \b\b\\ \b\b| \b\b/ \b\b- \b\b\\ \b\b| \b\b/ \b\b- \b\b\\ \b\b| \b\b/ \b\b- \b\b\\ \b\b| \b\bdone\n",
            "Solving environment: - \b\b\\ \b\b| \b\b/ \b\b- \b\b\\ \b\b| \b\b/ \b\b- \b\b\\ \b\b| \b\bdone\n",
            "\n",
            "## Package Plan ##\n",
            "\n",
            "  environment location: /usr/local\n",
            "\n",
            "  added / updated specs:\n",
            "    - rdkit\n",
            "\n",
            "\n",
            "The following packages will be downloaded:\n",
            "\n",
            "    package                    |            build\n",
            "    ---------------------------|-----------------\n",
            "    blas-1.0                   |              mkl           6 KB\n",
            "    bzip2-1.0.8                |       h7b6447c_0          78 KB\n",
            "    ca-certificates-2021.5.25  |       h06a4308_1         112 KB\n",
            "    cairo-1.16.0               |       hf32fb01_1         1.0 MB\n",
            "    certifi-2021.5.30          |   py37h06a4308_0         139 KB\n",
            "    conda-4.10.3               |   py37h06a4308_0         2.9 MB\n",
            "    fontconfig-2.13.1          |       h6c09931_0         250 KB\n",
            "    freetype-2.10.4            |       h5ab3b9f_0         596 KB\n",
            "    glib-2.68.2                |       h36276a3_0         3.0 MB\n",
            "    icu-58.2                   |       he6710b0_3        10.5 MB\n",
            "    intel-openmp-2021.2.0      |     h06a4308_610         1.3 MB\n",
            "    jpeg-9b                    |       h024ee3a_2         214 KB\n",
            "    lcms2-2.12                 |       h3be6417_0         312 KB\n",
            "    libboost-1.73.0            |      h3ff78a5_11        13.9 MB\n",
            "    libffi-3.3                 |       he6710b0_2          50 KB\n",
            "    libpng-1.6.37              |       hbc83047_0         278 KB\n",
            "    libtiff-4.2.0              |       h85742a9_0         502 KB\n",
            "    libuuid-1.0.3              |       h1bed415_2          15 KB\n",
            "    libwebp-base-1.2.0         |       h27cfd23_0         437 KB\n",
            "    libxcb-1.14                |       h7b6447c_0         505 KB\n",
            "    libxml2-2.9.10             |       hb55368b_3         1.2 MB\n",
            "    lz4-c-1.9.3                |       h2531618_0         186 KB\n",
            "    mkl-2021.2.0               |     h06a4308_296       144.3 MB\n",
            "    mkl-service-2.3.0          |   py37h27cfd23_1          55 KB\n",
            "    mkl_fft-1.3.0              |   py37h42c9631_2         170 KB\n",
            "    mkl_random-1.2.1           |   py37ha9443f7_2         287 KB\n",
            "    numpy-1.20.2               |   py37h2d18471_0          23 KB\n",
            "    numpy-base-1.20.2          |   py37hfae3a4d_0         4.5 MB\n",
            "    olefile-0.46               |           py37_0          50 KB\n",
            "    openssl-1.1.1k             |       h27cfd23_0         2.5 MB\n",
            "    pandas-1.2.5               |   py37h295c915_0         8.5 MB\n",
            "    pcre-8.45                  |       h295c915_0         207 KB\n",
            "    pillow-8.2.0               |   py37he98fc37_0         622 KB\n",
            "    pixman-0.40.0              |       h7b6447c_0         370 KB\n",
            "    py-boost-1.73.0            |  py37ha9443f7_11         204 KB\n",
            "    python-dateutil-2.8.1      |     pyhd3eb1b0_0         221 KB\n",
            "    pytz-2021.1                |     pyhd3eb1b0_0         181 KB\n",
            "    rdkit-2020.09.1.0          |   py37hd50e099_1        25.8 MB  rdkit\n",
            "    xz-5.2.5                   |       h7b6447c_0         341 KB\n",
            "    zstd-1.4.9                 |       haebb681_0         480 KB\n",
            "    ------------------------------------------------------------\n",
            "                                           Total:       226.1 MB\n",
            "\n",
            "The following NEW packages will be INSTALLED:\n",
            "\n",
            "  blas               pkgs/main/linux-64::blas-1.0-mkl\n",
            "  bzip2              pkgs/main/linux-64::bzip2-1.0.8-h7b6447c_0\n",
            "  cairo              pkgs/main/linux-64::cairo-1.16.0-hf32fb01_1\n",
            "  fontconfig         pkgs/main/linux-64::fontconfig-2.13.1-h6c09931_0\n",
            "  freetype           pkgs/main/linux-64::freetype-2.10.4-h5ab3b9f_0\n",
            "  glib               pkgs/main/linux-64::glib-2.68.2-h36276a3_0\n",
            "  icu                pkgs/main/linux-64::icu-58.2-he6710b0_3\n",
            "  intel-openmp       pkgs/main/linux-64::intel-openmp-2021.2.0-h06a4308_610\n",
            "  jpeg               pkgs/main/linux-64::jpeg-9b-h024ee3a_2\n",
            "  lcms2              pkgs/main/linux-64::lcms2-2.12-h3be6417_0\n",
            "  libboost           pkgs/main/linux-64::libboost-1.73.0-h3ff78a5_11\n",
            "  libpng             pkgs/main/linux-64::libpng-1.6.37-hbc83047_0\n",
            "  libtiff            pkgs/main/linux-64::libtiff-4.2.0-h85742a9_0\n",
            "  libuuid            pkgs/main/linux-64::libuuid-1.0.3-h1bed415_2\n",
            "  libwebp-base       pkgs/main/linux-64::libwebp-base-1.2.0-h27cfd23_0\n",
            "  libxcb             pkgs/main/linux-64::libxcb-1.14-h7b6447c_0\n",
            "  libxml2            pkgs/main/linux-64::libxml2-2.9.10-hb55368b_3\n",
            "  lz4-c              pkgs/main/linux-64::lz4-c-1.9.3-h2531618_0\n",
            "  mkl                pkgs/main/linux-64::mkl-2021.2.0-h06a4308_296\n",
            "  mkl-service        pkgs/main/linux-64::mkl-service-2.3.0-py37h27cfd23_1\n",
            "  mkl_fft            pkgs/main/linux-64::mkl_fft-1.3.0-py37h42c9631_2\n",
            "  mkl_random         pkgs/main/linux-64::mkl_random-1.2.1-py37ha9443f7_2\n",
            "  numpy              pkgs/main/linux-64::numpy-1.20.2-py37h2d18471_0\n",
            "  numpy-base         pkgs/main/linux-64::numpy-base-1.20.2-py37hfae3a4d_0\n",
            "  olefile            pkgs/main/linux-64::olefile-0.46-py37_0\n",
            "  pandas             pkgs/main/linux-64::pandas-1.2.5-py37h295c915_0\n",
            "  pcre               pkgs/main/linux-64::pcre-8.45-h295c915_0\n",
            "  pillow             pkgs/main/linux-64::pillow-8.2.0-py37he98fc37_0\n",
            "  pixman             pkgs/main/linux-64::pixman-0.40.0-h7b6447c_0\n",
            "  py-boost           pkgs/main/linux-64::py-boost-1.73.0-py37ha9443f7_11\n",
            "  python-dateutil    pkgs/main/noarch::python-dateutil-2.8.1-pyhd3eb1b0_0\n",
            "  pytz               pkgs/main/noarch::pytz-2021.1-pyhd3eb1b0_0\n",
            "  rdkit              rdkit/linux-64::rdkit-2020.09.1.0-py37hd50e099_1\n",
            "  zstd               pkgs/main/linux-64::zstd-1.4.9-haebb681_0\n",
            "\n",
            "The following packages will be UPDATED:\n",
            "\n",
            "  ca-certificates                                2020.1.1-0 --> 2021.5.25-h06a4308_1\n",
            "  certifi                                 2019.11.28-py37_0 --> 2021.5.30-py37h06a4308_0\n",
            "  conda                                        4.8.2-py37_0 --> 4.10.3-py37h06a4308_0\n",
            "  libffi                                   3.2.1-hd88cf55_4 --> 3.3-he6710b0_2\n",
            "  openssl                                 1.1.1d-h7b6447c_4 --> 1.1.1k-h27cfd23_0\n",
            "  xz                                       5.2.4-h14c3975_4 --> 5.2.5-h7b6447c_0\n",
            "\n",
            "\n",
            "\n",
            "Downloading and Extracting Packages\n",
            "bzip2-1.0.8          | 78 KB     | : 100% 1.0/1 [00:00<00:00, 13.88it/s]\n",
            "libpng-1.6.37        | 278 KB    | : 100% 1.0/1 [00:00<00:00, 14.68it/s]\n",
            "zstd-1.4.9           | 480 KB    | : 100% 1.0/1 [00:00<00:00, 16.28it/s]\n",
            "python-dateutil-2.8. | 221 KB    | : 100% 1.0/1 [00:00<00:00, 17.80it/s]\n",
            "pytz-2021.1          | 181 KB    | : 100% 1.0/1 [00:00<00:00, 12.80it/s]\n",
            "cairo-1.16.0         | 1.0 MB    | : 100% 1.0/1 [00:00<00:00, 11.82it/s]\n",
            "numpy-base-1.20.2    | 4.5 MB    | : 100% 1.0/1 [00:00<00:00,  3.78it/s]\n",
            "libffi-3.3           | 50 KB     | : 100% 1.0/1 [00:00<00:00, 23.43it/s]\n",
            "blas-1.0             | 6 KB      | : 100% 1.0/1 [00:00<00:00, 19.78it/s]\n",
            "libxml2-2.9.10       | 1.2 MB    | : 100% 1.0/1 [00:00<00:00,  9.84it/s]\n",
            "icu-58.2             | 10.5 MB   | : 100% 1.0/1 [00:00<00:00,  1.96it/s]               \n",
            "lcms2-2.12           | 312 KB    | : 100% 1.0/1 [00:00<00:00, 14.58it/s]\n",
            "pillow-8.2.0         | 622 KB    | : 100% 1.0/1 [00:00<00:00, 13.02it/s]\n",
            "ca-certificates-2021 | 112 KB    | : 100% 1.0/1 [00:00<00:00, 19.34it/s]\n",
            "conda-4.10.3         | 2.9 MB    | : 100% 1.0/1 [00:00<00:00,  5.73it/s]\n",
            "intel-openmp-2021.2. | 1.3 MB    | : 100% 1.0/1 [00:00<00:00, 11.85it/s]\n",
            "freetype-2.10.4      | 596 KB    | : 100% 1.0/1 [00:00<00:00, 13.48it/s]\n",
            "mkl_fft-1.3.0        | 170 KB    | : 100% 1.0/1 [00:00<00:00, 15.50it/s]\n",
            "pixman-0.40.0        | 370 KB    | : 100% 1.0/1 [00:00<00:00, 15.45it/s]\n",
            "olefile-0.46         | 50 KB     | : 100% 1.0/1 [00:00<00:00, 18.69it/s]\n",
            "certifi-2021.5.30    | 139 KB    | : 100% 1.0/1 [00:00<00:00, 19.30it/s]\n",
            "lz4-c-1.9.3          | 186 KB    | : 100% 1.0/1 [00:00<00:00, 17.20it/s]\n",
            "mkl-2021.2.0         | 144.3 MB  | : 100% 1.0/1 [00:05<00:00,  5.86s/it]               \n",
            "fontconfig-2.13.1    | 250 KB    | : 100% 1.0/1 [00:00<00:00, 15.75it/s]\n",
            "xz-5.2.5             | 341 KB    | : 100% 1.0/1 [00:00<00:00, 14.99it/s]\n",
            "numpy-1.20.2         | 23 KB     | : 100% 1.0/1 [00:00<00:00, 19.54it/s]\n",
            "pandas-1.2.5         | 8.5 MB    | : 100% 1.0/1 [00:00<00:00,  1.80it/s]               \n",
            "py-boost-1.73.0      | 204 KB    | : 100% 1.0/1 [00:00<00:00, 14.94it/s]\n",
            "libuuid-1.0.3        | 15 KB     | : 100% 1.0/1 [00:00<00:00, 21.95it/s]\n",
            "glib-2.68.2          | 3.0 MB    | : 100% 1.0/1 [00:00<00:00,  5.61it/s]\n",
            "libtiff-4.2.0        | 502 KB    | : 100% 1.0/1 [00:00<00:00, 15.06it/s]\n",
            "mkl-service-2.3.0    | 55 KB     | : 100% 1.0/1 [00:00<00:00, 22.74it/s]\n",
            "libboost-1.73.0      | 13.9 MB   | : 100% 1.0/1 [00:01<00:00,  1.11s/it]                \n",
            "libwebp-base-1.2.0   | 437 KB    | : 100% 1.0/1 [00:00<00:00, 13.84it/s]\n",
            "libxcb-1.14          | 505 KB    | : 100% 1.0/1 [00:00<00:00,  9.64it/s]\n",
            "mkl_random-1.2.1     | 287 KB    | : 100% 1.0/1 [00:00<00:00, 15.99it/s]\n",
            "rdkit-2020.09.1.0    | 25.8 MB   | : 100% 1.0/1 [00:05<00:00,  5.12s/it]\n",
            "openssl-1.1.1k       | 2.5 MB    | : 100% 1.0/1 [00:00<00:00,  6.27it/s]\n",
            "jpeg-9b              | 214 KB    | : 100% 1.0/1 [00:00<00:00, 14.00it/s]\n",
            "pcre-8.45            | 207 KB    | : 100% 1.0/1 [00:00<00:00, 16.66it/s]\n",
            "Preparing transaction: - \b\b\\ \b\b| \b\b/ \b\b- \b\b\\ \b\b| \b\b/ \b\b- \b\bdone\n",
            "Verifying transaction: | \b\b/ \b\b- \b\b\\ \b\b| \b\b/ \b\b- \b\b\\ \b\b| \b\b/ \b\b- \b\b\\ \b\b| \b\b/ \b\b- \b\b\\ \b\b| \b\b/ \b\b- \b\b\\ \b\b| \b\b/ \b\b- \b\b\\ \b\b| \b\bdone\n",
            "Executing transaction: - \b\b\\ \b\b| \b\b/ \b\b- \b\b\\ \b\b| \b\b/ \b\b- \b\b\\ \b\b| \b\b/ \b\b- \b\b\\ \b\b| \b\b/ \b\b- \b\b\\ \b\b| \b\b/ \b\b- \b\b\\ \b\b| \b\b/ \b\b- \b\b\\ \b\b| \b\b/ \b\b- \b\b\\ \b\b| \b\b/ \b\b- \b\b\\ \b\b| \b\b/ \b\b- \b\b\\ \b\b| \b\b/ \b\b- \b\b\\ \b\b| \b\b/ \b\b- \b\b\\ \b\b| \b\b/ \b\b- \b\b\\ \b\b| \b\b/ \b\b- \b\b\\ \b\b| \b\b/ \b\b- \b\b\\ \b\b| \b\b/ \b\b- \b\b\\ \b\b| \b\b/ \b\b- \b\b\\ \b\b| \b\b/ \b\b- \b\b\\ \b\b| \b\b/ \b\bdone\n"
          ],
          "name": "stdout"
        }
      ]
    },
    {
      "cell_type": "code",
      "metadata": {
        "id": "1ODBKcWYSgR2",
        "colab": {
          "base_uri": "https://localhost:8080/"
        },
        "outputId": "812882b7-cbad-4ea9-c07b-94a29ef612da"
      },
      "source": [
        "!pip install git+https://github.com/bp-kelley/descriptastorus"
      ],
      "execution_count": null,
      "outputs": [
        {
          "output_type": "stream",
          "text": [
            "Collecting git+https://github.com/bp-kelley/descriptastorus\n",
            "  Cloning https://github.com/bp-kelley/descriptastorus to /tmp/pip-req-build-bd8odzja\n",
            "  Running command git clone -q https://github.com/bp-kelley/descriptastorus /tmp/pip-req-build-bd8odzja\n",
            "Collecting pandas_flavor\n",
            "  Using cached pandas_flavor-0.2.0-py2.py3-none-any.whl (6.6 kB)\n",
            "Collecting xarray\n",
            "  Downloading xarray-0.18.2-py3-none-any.whl (807 kB)\n",
            "\u001b[K     |████████████████████████████████| 807 kB 26.0 MB/s \n",
            "\u001b[?25hRequirement already satisfied: pandas in /usr/local/lib/python3.7/site-packages (from pandas_flavor->descriptastorus==2.3.0.2) (1.2.5)\n",
            "Requirement already satisfied: setuptools>=40.4 in /usr/local/lib/python3.7/site-packages (from xarray->pandas_flavor->descriptastorus==2.3.0.2) (45.2.0.post20200210)\n",
            "Requirement already satisfied: numpy>=1.17 in /usr/local/lib/python3.7/site-packages (from xarray->pandas_flavor->descriptastorus==2.3.0.2) (1.20.2)\n",
            "Requirement already satisfied: python-dateutil>=2.7.3 in /usr/local/lib/python3.7/site-packages (from pandas->pandas_flavor->descriptastorus==2.3.0.2) (2.8.1)\n",
            "Requirement already satisfied: pytz>=2017.3 in /usr/local/lib/python3.7/site-packages (from pandas->pandas_flavor->descriptastorus==2.3.0.2) (2021.1)\n",
            "Requirement already satisfied: six>=1.5 in /usr/local/lib/python3.7/site-packages (from python-dateutil>=2.7.3->pandas->pandas_flavor->descriptastorus==2.3.0.2) (1.14.0)\n",
            "Building wheels for collected packages: descriptastorus\n",
            "  Building wheel for descriptastorus (setup.py) ... \u001b[?25l\u001b[?25hdone\n",
            "  Created wheel for descriptastorus: filename=descriptastorus-2.3.0.2-py3-none-any.whl size=60174 sha256=0040d080ebeacf88446242a98faa34e7973404dfb3ce0e4515a3b7b10edad523\n",
            "  Stored in directory: /tmp/pip-ephem-wheel-cache-ukbgx9cx/wheels/f9/c3/4f/e7d01f4f2f1a89aef8f0ef088beb4a94976324f3ee21410b10\n",
            "Successfully built descriptastorus\n",
            "Installing collected packages: xarray, pandas-flavor, descriptastorus\n",
            "Successfully installed descriptastorus-2.3.0.2 pandas-flavor-0.2.0 xarray-0.18.2\n"
          ],
          "name": "stdout"
        }
      ]
    },
    {
      "cell_type": "code",
      "metadata": {
        "id": "07dk8JfiSjeV",
        "colab": {
          "base_uri": "https://localhost:8080/"
        },
        "outputId": "7837f226-315b-45a4-a14e-029153a519b8"
      },
      "source": [
        "import rdkit\n",
        "import DeepPurpose\n",
        "from DeepPurpose import DTI as models\n",
        "from DeepPurpose.utils import *\n",
        "from DeepPurpose.dataset import *\n",
        "import os\n",
        "os.chdir('../')\n",
        "from DeepPurpose import utils, dataset"
      ],
      "execution_count": null,
      "outputs": [
        {
          "output_type": "stream",
          "text": [
            "WARNING:root:No normalization for BCUT2D_MWHI\n",
            "WARNING:root:No normalization for BCUT2D_MWLOW\n",
            "WARNING:root:No normalization for BCUT2D_CHGHI\n",
            "WARNING:root:No normalization for BCUT2D_CHGLO\n",
            "WARNING:root:No normalization for BCUT2D_LOGPHI\n",
            "WARNING:root:No normalization for BCUT2D_LOGPLOW\n",
            "WARNING:root:No normalization for BCUT2D_MRHI\n",
            "WARNING:root:No normalization for BCUT2D_MRLOW\n"
          ],
          "name": "stderr"
        }
      ]
    },
    {
      "cell_type": "markdown",
      "metadata": {
        "id": "LFV5ArthwIbH"
      },
      "source": [
        "## Preprocessing the Lab compounds"
      ]
    },
    {
      "cell_type": "code",
      "metadata": {
        "id": "WW-kTJ6ewxLk"
      },
      "source": [
        "import numpy as np"
      ],
      "execution_count": null,
      "outputs": []
    },
    {
      "cell_type": "code",
      "metadata": {
        "id": "fC85SwQSC34b"
      },
      "source": [
        "cods = np.array([['CC(C)CN(C[C@H]([C@H](CC1=CC=CC=C1)NC(=O)O[C@H]2CO[C@@H]3[C@H]2CCO3)O)S(=O)(=O)C4=CC=C(C=C4)N'],\n",
        "       ['CC(=O)N[C@@H]1[C@H](CC(O[C@H]1[C@@H]([C@@H](CO)O)O)(C(=O)O)O)O'],\n",
        "       ['CC(=O)N[C@@H]1[C@H]([C@@H]([C@H](O[C@H]1O)CO)O[C@H]2[C@@H]([C@H]([C@H]([C@H](O2)CO)O)O)O)O'],\n",
        "       ['OC[C@H]1O[C@H](OC[C@H]2O[C@H](OC[C@@H](O)[C@@H](O)[C@H](O[C@H]3O[C@H](CO)[C@@H](O)[C@H](O)[C@@H]3O)[C@H](O)C=O)[C@@H](O)[C@@H](O[C@H]4O[C@H](CO)[C@@H](O)[C@H](O)[C@@H]4O)[C@@H]2O)[C@@H](O)[C@@H](O)[C@@H]1O'],\n",
        "       ['C1[C@@H]([C@H]([C@@H](O[C@@]1(C(=O)O)O)[C@@H]([C@@H](CO)O)O)NC(=O)CO)O'],\n",
        "       ['C1[C@H]([C@H]([C@H](OC1(C(=O)O)O)[C@@H](CO)O)O)O'],\n",
        "       ['[Na+].CC(=O)N[C@@H]1[C@@H](O)C[C@@](O[C@@H]1[C@H](O)[C@H](O)CO)(OP([O-])(=O)OC[C@H]2O[C@H]([C@H](O)[C@@H]2O)N3C=CC(N)=NC3=O)C(O)=O']],\n",
        "      dtype='O').reshape(7,)"
      ],
      "execution_count": null,
      "outputs": []
    },
    {
      "cell_type": "code",
      "metadata": {
        "colab": {
          "base_uri": "https://localhost:8080/"
        },
        "id": "iHaiMVO2CrCR",
        "outputId": "cb509f18-0549-4f8f-f62c-498f4dd75b9c"
      },
      "source": [
        "cods"
      ],
      "execution_count": null,
      "outputs": [
        {
          "output_type": "execute_result",
          "data": {
            "text/plain": [
              "array(['CC(C)CN(C[C@H]([C@H](CC1=CC=CC=C1)NC(=O)O[C@H]2CO[C@@H]3[C@H]2CCO3)O)S(=O)(=O)C4=CC=C(C=C4)N',\n",
              "       'CC(=O)N[C@@H]1[C@H](CC(O[C@H]1[C@@H]([C@@H](CO)O)O)(C(=O)O)O)O',\n",
              "       'CC(=O)N[C@@H]1[C@H]([C@@H]([C@H](O[C@H]1O)CO)O[C@H]2[C@@H]([C@H]([C@H]([C@H](O2)CO)O)O)O)O',\n",
              "       'OC[C@H]1O[C@H](OC[C@H]2O[C@H](OC[C@@H](O)[C@@H](O)[C@H](O[C@H]3O[C@H](CO)[C@@H](O)[C@H](O)[C@@H]3O)[C@H](O)C=O)[C@@H](O)[C@@H](O[C@H]4O[C@H](CO)[C@@H](O)[C@H](O)[C@@H]4O)[C@@H]2O)[C@@H](O)[C@@H](O)[C@@H]1O',\n",
              "       'C1[C@@H]([C@H]([C@@H](O[C@@]1(C(=O)O)O)[C@@H]([C@@H](CO)O)O)NC(=O)CO)O',\n",
              "       'C1[C@H]([C@H]([C@H](OC1(C(=O)O)O)[C@@H](CO)O)O)O',\n",
              "       '[Na+].CC(=O)N[C@@H]1[C@@H](O)C[C@@](O[C@@H]1[C@H](O)[C@H](O)CO)(OP([O-])(=O)OC[C@H]2O[C@H]([C@H](O)[C@@H]2O)N3C=CC(N)=NC3=O)C(O)=O'],\n",
              "      dtype=object)"
            ]
          },
          "metadata": {
            "tags": []
          },
          "execution_count": 26
        }
      ]
    },
    {
      "cell_type": "code",
      "metadata": {
        "id": "Os-nhtwwDt_a"
      },
      "source": [
        "esms = np.array([['Darunavir'],\n",
        "       ['N-acetyl-neuraminic acid'],\n",
        "       ['N-Acetyllactosamine'],\n",
        "       ['3α,6α-Mannopentaose'],\n",
        "       ['N-Glycolylneuraminic acid'],\n",
        "       ['2-keto-3-deoxynononic acid'],\n",
        "       ['Cytidine-5′-monophospho-N-acetylneuraminic acid sodium salt']],\n",
        "      dtype='O').reshape(7,)"
      ],
      "execution_count": null,
      "outputs": []
    },
    {
      "cell_type": "code",
      "metadata": {
        "id": "B-D9urYc7CXw",
        "colab": {
          "base_uri": "https://localhost:8080/"
        },
        "outputId": "ad113461-1573-4112-8f24-d9e54fc15857"
      },
      "source": [
        "esms"
      ],
      "execution_count": null,
      "outputs": [
        {
          "output_type": "execute_result",
          "data": {
            "text/plain": [
              "array(['Darunavir', 'N-acetyl-neuraminic acid', 'N-Acetyllactosamine',\n",
              "       '3α,6α-Mannopentaose', 'N-Glycolylneuraminic acid',\n",
              "       '2-keto-3-deoxynononic acid',\n",
              "       'Cytidine-5′-monophospho-N-acetylneuraminic acid sodium salt'],\n",
              "      dtype=object)"
            ]
          },
          "metadata": {
            "tags": []
          },
          "execution_count": 28
        }
      ]
    },
    {
      "cell_type": "code",
      "metadata": {
        "id": "PfgZQxnaw55s"
      },
      "source": [
        "X_repurpose=cods.reshape(7,)\n",
        "drug_names=esms.reshape(7,)"
      ],
      "execution_count": null,
      "outputs": []
    },
    {
      "cell_type": "code",
      "metadata": {
        "id": "Lnrh5-tuxJZ0"
      },
      "source": [
        "target='MFVFLVLLPLVSSQCVNLTTRTQLPPAYTNSFTRGVYYPDKVFRSSVLHSTQDLFLPFFSNVTWFHAIHVSGTNGTKRFDNPVLPFNDGVYFASTEKSNIIRGWIFGTTLDSKTQSLLIVNNATNVVIKVCEFQFCNDPFLGVYYHKNNKSWMESEFRVYSSANNCTFEYVSQPFLMDLEGKQGNFKNLREFVFKNIDGYFKIYSKHTPINLVRDLPQGFSALEPLVDLPIGINITRFQTLLALHRSYLTPGDSSSGWTAGAAAYYVGYLQPRTFLLKYNENGTITDAVDCALDPLSETKCTLKSFTVEKGIYQTSNFRVQPTESIVRFPNITNLCPFGEVFNATRFASVYAWNRKRISNCVADYSVLYNSASFSTFKCYGVSPTKLNDLCFTNVYADSFVIRGDEVRQIAPGQTGKIADYNYKLPDDFTGCVIAWNSNNLDSKVGGNYNYLYRLFRKSNLKPFERDISTEIYQAGSTPCNGVEGFNCYFPLQSYGFQPTNGVGYQPYRVVVLSFELLHAPATVCGPKKSTNLVKNKCVNFNFNGLTGTGVLTESNKKFLPFQQFGRDIADTTDAVRDPQTLEILDITPCSFGGVSVITPGTNTSNQVAVLYQDVNCTEVPVAIHADQLTPTWRVYSTGSNVFQTRAGCLIGAEHVNNSYECDIPIGAGICASYQTQTNSPRRARSVASQSIIAYTMSLGAENSVAYSNNSIAIPTNFTISVTTEILPVSMTKTSVDCTMYICGDSTECSNLLLQYGSFCTQLNRALTGIAVEQDKNTQEVFAQVKQIYKTPPIKDFGGFNFSQILPDPSKPSKRSFIEDLLFNKVTLADAGFIKQYGDCLGDIAARDLICAQKFNGLTVLPPLLTDEMIAQYTSALLAGTITSGWTFGAGAALQIPFAQMAYRFNGIGVTQNVLYENQKLIANQFNSAIGKIQDSLSSTASALGKLQDVVNQNAQALNTLVKQLSSNFGAISSVLNDILSRLDKVEAEVQIDRLITGRLQSLQTYVTQQLIRAAEIRASANLAATKMSECVLGQSKRVDFCGKGYHLMSFPQSAPHGVVFLHVTYVPAQEKNFTTAPAICHDGKAHFPREGVFVSNGTHWFVTQRNFYEPQIITTDNTFVSGNCDVVIGIVNNTVYDPLQPELDSFKEELDKYFKNHTSPDVDLGDISGINASVVNIQKEIDRLNEVAKNLNESLIDLQELGKYEQYIKWPWYIWLGFIAGLIAIVMVTIMLCCMTSCCSCLKGCCSCGSCCKFDEDDSEPVLKGVKLHYT'\n",
        "target_name='Spike Protein'"
      ],
      "execution_count": null,
      "outputs": []
    },
    {
      "cell_type": "markdown",
      "metadata": {
        "id": "zeAbjCXOv_PK"
      },
      "source": [
        "## Example of loading the models"
      ]
    },
    {
      "cell_type": "code",
      "metadata": {
        "colab": {
          "base_uri": "https://localhost:8080/"
        },
        "id": "Hi1z778Sbvy0",
        "outputId": "ca6cbc6f-5aa4-4ae8-a3d4-008106b8e6e1"
      },
      "source": [
        "path = utils.download_pretrained_model('Morgan_AAC_BindingDB')\n",
        "net = models.model_pretrained(path_dir = path)"
      ],
      "execution_count": null,
      "outputs": [
        {
          "output_type": "stream",
          "text": [
            "Downloading finished... Beginning to extract zip file...\n",
            "pretrained model Successfully Downloaded...\n"
          ],
          "name": "stdout"
        }
      ]
    },
    {
      "cell_type": "code",
      "metadata": {
        "colab": {
          "base_uri": "https://localhost:8080/"
        },
        "id": "fr3komuibzEN",
        "outputId": "3e3b9975-eb61-4ebc-c769-b4e2be67b928"
      },
      "source": [
        "net.config"
      ],
      "execution_count": null,
      "outputs": [
        {
          "output_type": "execute_result",
          "data": {
            "text/plain": [
              "{'LR': 0.001,\n",
              " 'batch_size': 256,\n",
              " 'binary': False,\n",
              " 'cls_hidden_dims': [1024, 1024, 512],\n",
              " 'decay': 0,\n",
              " 'drug_encoding': 'Morgan',\n",
              " 'hidden_dim_drug': 256,\n",
              " 'hidden_dim_protein': 256,\n",
              " 'input_dim_drug': 1024,\n",
              " 'input_dim_protein': 8420,\n",
              " 'mlp_hidden_dims_drug': [1024, 256, 64],\n",
              " 'mlp_hidden_dims_target': [1024, 256, 64],\n",
              " 'num_workers': 0,\n",
              " 'result_folder': './result/',\n",
              " 'target_encoding': 'AAC',\n",
              " 'train_epoch': 100}"
            ]
          },
          "metadata": {
            "tags": []
          },
          "execution_count": 6
        }
      ]
    },
    {
      "cell_type": "markdown",
      "metadata": {
        "id": "4B1eq7t60q_E"
      },
      "source": [
        "## Testing the Lab compounds with DeepPurpose pretrained models\n"
      ]
    },
    {
      "cell_type": "code",
      "metadata": {
        "colab": {
          "base_uri": "https://localhost:8080/"
        },
        "id": "cF9X9_yOhZpl",
        "outputId": "b9eab804-54dc-44cb-f23e-66bcd9ed02d0"
      },
      "source": [
        "path = utils.download_pretrained_model('Daylight_AAC_DAVIS')\n",
        "net = models.model_pretrained(path_dir = path)"
      ],
      "execution_count": null,
      "outputs": [
        {
          "output_type": "stream",
          "text": [
            "Downloading finished... Beginning to extract zip file...\n",
            "pretrained model Successfully Downloaded...\n"
          ],
          "name": "stdout"
        }
      ]
    },
    {
      "cell_type": "code",
      "metadata": {
        "colab": {
          "base_uri": "https://localhost:8080/"
        },
        "id": "TEHK43RohZlt",
        "outputId": "923c14b4-6aad-4661-9143-17eae07dac1f"
      },
      "source": [
        "y_pred = models.repurpose(X_repurpose = X_repurpose, target = target, model = net, \n",
        "                          drug_names = drug_names, target_name = target_name, \n",
        "                          result_folder = \"./result/\", convert_y = True)"
      ],
      "execution_count": null,
      "outputs": [
        {
          "output_type": "stream",
          "text": [
            "repurposing...\n",
            "Drug Target Interaction Prediction Mode...\n",
            "in total: 7 drug-target pairs\n",
            "encoding drug...\n",
            "unique drugs: 7\n",
            "encoding protein...\n",
            "unique target sequence: 1\n",
            "-- Encoding AAC takes time. Time Reference: 24s for ~100 sequences in a CPU.\t\t\t\t Calculate your time by the unique target sequence #, instead of the entire dataset.\n",
            "Done.\n",
            "predicting...\n",
            "---------------\n",
            "Drug Repurposing Result for Spike Protein\n",
            "+------+-------------------------------------------------------------+---------------+---------------+\n",
            "| Rank |                          Drug Name                          |  Target Name  | Binding Score |\n",
            "+------+-------------------------------------------------------------+---------------+---------------+\n",
            "|  1   |                  N-Glycolylneuraminic acid                  | Spike Protein |    4307.41    |\n",
            "|  2   |                   N-acetyl-neuraminic acid                  | Spike Protein |    4429.96    |\n",
            "|  3   | Cytidine-5′-monophospho-N-acetylneuraminic acid sodium salt | Spike Protein |    6832.65    |\n",
            "|  4   |                     N-Acetyllactosamine                     | Spike Protein |    8049.30    |\n",
            "|  5   |                  2-keto-3-deoxynononic acid                 | Spike Protein |    8492.10    |\n",
            "|  6   |                          Darunavir                          | Spike Protein |    8810.22    |\n",
            "|  7   |                     3α,6α-Mannopentaose                     | Spike Protein |    9269.85    |\n",
            "+------+-------------------------------------------------------------+---------------+---------------+"
          ],
          "name": "stdout"
        }
      ]
    },
    {
      "cell_type": "code",
      "metadata": {
        "colab": {
          "base_uri": "https://localhost:8080/"
        },
        "id": "m2ugKjLUhZZN",
        "outputId": "03678150-ba14-406f-c387-41c6c093704e"
      },
      "source": [
        "path = utils.download_pretrained_model('Morgan_CNN_BindingDB')\n",
        "net3 = models.model_pretrained(path_dir = path)"
      ],
      "execution_count": null,
      "outputs": [
        {
          "output_type": "stream",
          "text": [
            "Downloading finished... Beginning to extract zip file...\n",
            "pretrained model Successfully Downloaded...\n"
          ],
          "name": "stdout"
        }
      ]
    },
    {
      "cell_type": "code",
      "metadata": {
        "colab": {
          "base_uri": "https://localhost:8080/"
        },
        "id": "0jRHtMuKiLts",
        "outputId": "ed222ab5-17a9-43d1-829c-e3364d9f5db6"
      },
      "source": [
        "y_pred = models.repurpose(X_repurpose = X_repurpose, target = target, model = net3, \n",
        "                          drug_names = drug_names, target_name = target_name, \n",
        "                          result_folder = \"./result/\", convert_y = True)"
      ],
      "execution_count": null,
      "outputs": [
        {
          "output_type": "stream",
          "text": [
            "repurposing...\n",
            "Drug Target Interaction Prediction Mode...\n",
            "in total: 8 drug-target pairs\n",
            "encoding drug...\n",
            "unique drugs: 8\n",
            "encoding protein...\n",
            "unique target sequence: 1\n",
            "Done.\n",
            "predicting...\n",
            "---------------\n",
            "Drug Repurposing Result for Spike Protein\n",
            "+------+---------------------------------------------------------------+---------------+---------------+\n",
            "| Rank |                           Drug Name                           |  Target Name  | Binding Score |\n",
            "+------+---------------------------------------------------------------+---------------+---------------+\n",
            "|  1   |                           Darunavir                           | Spike Protein |      0.61     |\n",
            "|  2   |                   N-Glycolylneuraminic acid                   | Spike Protein |    6146.31    |\n",
            "|  3   |                   2-keto-3-deoxynononic acid                  | Spike Protein |    6642.46    |\n",
            "|  4   | 2,4,7,8,9-Penta-O-acetyl-N-acetylneuraminic acid methyl ester | Spike Protein |    15819.42   |\n",
            "|  5   |                      3α,6α-Mannopentaose                      | Spike Protein |    80776.45   |\n",
            "|  6   |  Cytidine-5′-monophospho-N-acetylneuraminic acid sodium salt  | Spike Protein |   175986.50   |\n",
            "|  7   |                   N-acetyl-neuraminic acid                    | Spike Protein |   195281.07   |\n",
            "|  8   |                      N-Acetyllactosamine                      | Spike Protein |   261802.62   |\n",
            "+------+---------------------------------------------------------------+---------------+---------------+"
          ],
          "name": "stdout"
        }
      ]
    },
    {
      "cell_type": "code",
      "metadata": {
        "colab": {
          "base_uri": "https://localhost:8080/"
        },
        "id": "j6mqlUtEiPgk",
        "outputId": "bffc7c5e-f9c4-4d33-bc24-800527b96a8e"
      },
      "source": [
        "path = utils.download_pretrained_model('CNN_CNN_BindingDB')\n",
        "net4 = models.model_pretrained(path_dir = path)"
      ],
      "execution_count": null,
      "outputs": [
        {
          "output_type": "stream",
          "text": [
            "Downloading finished... Beginning to extract zip file...\n",
            "pretrained model Successfully Downloaded...\n"
          ],
          "name": "stdout"
        }
      ]
    },
    {
      "cell_type": "code",
      "metadata": {
        "colab": {
          "base_uri": "https://localhost:8080/"
        },
        "id": "0eAKoeJSiYJb",
        "outputId": "b37b2077-7111-45ad-abc6-f416ee822707"
      },
      "source": [
        "y_pred = models.repurpose(X_repurpose = X_repurpose, target = target, model = net4, \n",
        "                          drug_names = drug_names, target_name = target_name, \n",
        "                          result_folder = \"./result/\", convert_y = True)"
      ],
      "execution_count": null,
      "outputs": [
        {
          "output_type": "stream",
          "text": [
            "repurposing...\n",
            "Drug Target Interaction Prediction Mode...\n",
            "in total: 8 drug-target pairs\n",
            "encoding drug...\n",
            "unique drugs: 8\n",
            "encoding protein...\n",
            "unique target sequence: 1\n",
            "Done.\n",
            "predicting...\n",
            "---------------\n",
            "Drug Repurposing Result for Spike Protein\n",
            "+------+---------------------------------------------------------------+---------------+---------------+\n",
            "| Rank |                           Drug Name                           |  Target Name  | Binding Score |\n",
            "+------+---------------------------------------------------------------+---------------+---------------+\n",
            "|  1   |                      3α,6α-Mannopentaose                      | Spike Protein |     100.80    |\n",
            "|  2   |                      N-Acetyllactosamine                      | Spike Protein |     108.30    |\n",
            "|  3   |                           Darunavir                           | Spike Protein |     112.23    |\n",
            "|  4   |                   N-Glycolylneuraminic acid                   | Spike Protein |     154.70    |\n",
            "|  5   |  Cytidine-5′-monophospho-N-acetylneuraminic acid sodium salt  | Spike Protein |    1870.09    |\n",
            "|  6   | 2,4,7,8,9-Penta-O-acetyl-N-acetylneuraminic acid methyl ester | Spike Protein |    3090.44    |\n",
            "|  7   |                   N-acetyl-neuraminic acid                    | Spike Protein |    6436.86    |\n",
            "|  8   |                   2-keto-3-deoxynononic acid                  | Spike Protein |    13220.98   |\n",
            "+------+---------------------------------------------------------------+---------------+---------------+"
          ],
          "name": "stdout"
        }
      ]
    },
    {
      "cell_type": "code",
      "metadata": {
        "colab": {
          "base_uri": "https://localhost:8080/"
        },
        "id": "_d1rAcBZichb",
        "outputId": "b2cb8d7b-925e-46a2-fa12-2e941e64c2c9"
      },
      "source": [
        "path = utils.download_pretrained_model('MPNN_CNN_BindingDB')\n",
        "net5 = models.model_pretrained(path_dir = path)"
      ],
      "execution_count": null,
      "outputs": [
        {
          "output_type": "stream",
          "text": [
            "Downloading finished... Beginning to extract zip file...\n",
            "pretrained model Successfully Downloaded...\n"
          ],
          "name": "stdout"
        }
      ]
    },
    {
      "cell_type": "code",
      "metadata": {
        "colab": {
          "base_uri": "https://localhost:8080/"
        },
        "id": "0bd3f_DdiixL",
        "outputId": "45ea98e5-610f-48a2-8468-bff6c3160780"
      },
      "source": [
        "y_pred = models.repurpose(X_repurpose = X_repurpose, target = target, model = net5, \n",
        "                          drug_names = drug_names, target_name = target_name, \n",
        "                          result_folder = \"./result/\", convert_y = True)"
      ],
      "execution_count": null,
      "outputs": [
        {
          "output_type": "stream",
          "text": [
            "repurposing...\n",
            "Drug Target Interaction Prediction Mode...\n",
            "in total: 8 drug-target pairs\n",
            "encoding drug...\n",
            "unique drugs: 8\n",
            "encoding protein...\n",
            "unique target sequence: 1\n",
            "Done.\n",
            "predicting...\n",
            "---------------\n",
            "Drug Repurposing Result for Spike Protein\n",
            "+------+---------------------------------------------------------------+---------------+---------------+\n",
            "| Rank |                           Drug Name                           |  Target Name  | Binding Score |\n",
            "+------+---------------------------------------------------------------+---------------+---------------+\n",
            "|  1   |  Cytidine-5′-monophospho-N-acetylneuraminic acid sodium salt  | Spike Protein |     25.30     |\n",
            "|  2   |                   N-Glycolylneuraminic acid                   | Spike Protein |     53.70     |\n",
            "|  3   |                           Darunavir                           | Spike Protein |    1263.46    |\n",
            "|  4   |                   2-keto-3-deoxynononic acid                  | Spike Protein |    7242.02    |\n",
            "|  5   |                      3α,6α-Mannopentaose                      | Spike Protein |    8488.72    |\n",
            "|  6   |                      N-Acetyllactosamine                      | Spike Protein |   392749.58   |\n",
            "|  7   | 2,4,7,8,9-Penta-O-acetyl-N-acetylneuraminic acid methyl ester | Spike Protein |   565701.48   |\n",
            "|  8   |                   N-acetyl-neuraminic acid                    | Spike Protein |   2654371.09  |\n",
            "+------+---------------------------------------------------------------+---------------+---------------+"
          ],
          "name": "stdout"
        }
      ]
    },
    {
      "cell_type": "code",
      "metadata": {
        "colab": {
          "base_uri": "https://localhost:8080/"
        },
        "id": "gxZGVze9imr1",
        "outputId": "5678cde2-53a8-4fde-eb9b-188c10b6cb95"
      },
      "source": [
        "path = utils.download_pretrained_model('MPNN_CNN_DAVIS')\n",
        "net5 = models.model_pretrained(path_dir = path)"
      ],
      "execution_count": null,
      "outputs": [
        {
          "output_type": "stream",
          "text": [
            "Downloading finished... Beginning to extract zip file...\n",
            "pretrained model Successfully Downloaded...\n"
          ],
          "name": "stdout"
        }
      ]
    },
    {
      "cell_type": "code",
      "metadata": {
        "colab": {
          "base_uri": "https://localhost:8080/"
        },
        "id": "w6rhtIaHjAy8",
        "outputId": "652a6eff-00af-4f5c-abd0-987a89859791"
      },
      "source": [
        "y_pred = models.repurpose(X_repurpose = X_repurpose, target = target, model = net5, \n",
        "                          drug_names = drug_names, target_name = target_name, \n",
        "                          result_folder = \"./result/\", convert_y = True)"
      ],
      "execution_count": null,
      "outputs": [
        {
          "output_type": "stream",
          "text": [
            "repurposing...\n",
            "Drug Target Interaction Prediction Mode...\n",
            "in total: 7 drug-target pairs\n",
            "encoding drug...\n",
            "unique drugs: 7\n",
            "encoding protein...\n",
            "unique target sequence: 1\n",
            "Done.\n",
            "predicting...\n",
            "---------------\n",
            "Drug Repurposing Result for Spike Protein\n",
            "+------+---------------------------------------------------------------+---------------+---------------+\n",
            "| Rank |                           Drug Name                           |  Target Name  | Binding Score |\n",
            "+------+---------------------------------------------------------------+---------------+---------------+\n",
            "|  1   | 2,4,7,8,9-Penta-O-acetyl-N-acetylneuraminic acid methyl ester | Spike Protein |      0.00     |\n",
            "|  2   |  Cytidine-5′-monophospho-N-acetylneuraminic acid sodium salt  | Spike Protein |      0.00     |\n",
            "|  3   |                      N-Acetyllactosamine                      | Spike Protein |      0.00     |\n",
            "|  4   |                   N-Glycolylneuraminic acid                   | Spike Protein |      0.78     |\n",
            "|  5   |                   2-keto-3-deoxynononic acid                  | Spike Protein |     493.70    |\n",
            "|  6   |                   N-acetyl-neuraminic acid                    | Spike Protein |    61120.00   |\n",
            "|  7   |                      3α,6α-Mannopentaose                      | Spike Protein |   1642717.26  |\n",
            "+------+---------------------------------------------------------------+---------------+---------------+"
          ],
          "name": "stdout"
        }
      ]
    },
    {
      "cell_type": "code",
      "metadata": {
        "colab": {
          "base_uri": "https://localhost:8080/"
        },
        "id": "FU6BqsnmjFI6",
        "outputId": "e824e55a-0f46-44f1-c793-dc61521ee41b"
      },
      "source": [
        "path = utils.download_pretrained_model('CNN_CNN_DAVIS')\n",
        "net4 = models.model_pretrained(path_dir = path)"
      ],
      "execution_count": null,
      "outputs": [
        {
          "output_type": "stream",
          "text": [
            "Downloading finished... Beginning to extract zip file...\n",
            "pretrained model Successfully Downloaded...\n"
          ],
          "name": "stdout"
        }
      ]
    },
    {
      "cell_type": "code",
      "metadata": {
        "colab": {
          "base_uri": "https://localhost:8080/"
        },
        "id": "3Mn-9_VsjFFb",
        "outputId": "99ce0849-d018-4a29-d5d9-a7b6b60e1b8f"
      },
      "source": [
        "y_pred = models.repurpose(X_repurpose = X_repurpose, target = target, model = net4, \n",
        "                          drug_names = drug_names, target_name = target_name, \n",
        "                          result_folder = \"./result/\", convert_y = True)"
      ],
      "execution_count": null,
      "outputs": [
        {
          "output_type": "stream",
          "text": [
            "repurposing...\n",
            "Drug Target Interaction Prediction Mode...\n",
            "in total: 7 drug-target pairs\n",
            "encoding drug...\n",
            "unique drugs: 7\n",
            "encoding protein...\n",
            "unique target sequence: 1\n",
            "Done.\n",
            "predicting...\n",
            "---------------\n",
            "Drug Repurposing Result for Spike Protein\n",
            "+------+---------------------------------------------------------------+---------------+---------------+\n",
            "| Rank |                           Drug Name                           |  Target Name  | Binding Score |\n",
            "+------+---------------------------------------------------------------+---------------+---------------+\n",
            "|  1   |                   2-keto-3-deoxynononic acid                  | Spike Protein |    5905.49    |\n",
            "|  2   |                   N-acetyl-neuraminic acid                    | Spike Protein |    7700.57    |\n",
            "|  3   |                      3α,6α-Mannopentaose                      | Spike Protein |    9343.30    |\n",
            "|  4   | 2,4,7,8,9-Penta-O-acetyl-N-acetylneuraminic acid methyl ester | Spike Protein |    9961.58    |\n",
            "|  5   |                      N-Acetyllactosamine                      | Spike Protein |    10015.15   |\n",
            "|  6   |                   N-Glycolylneuraminic acid                   | Spike Protein |    11664.46   |\n",
            "|  7   |  Cytidine-5′-monophospho-N-acetylneuraminic acid sodium salt  | Spike Protein |    11799.64   |\n",
            "+------+---------------------------------------------------------------+---------------+---------------+"
          ],
          "name": "stdout"
        }
      ]
    },
    {
      "cell_type": "code",
      "metadata": {
        "colab": {
          "base_uri": "https://localhost:8080/"
        },
        "id": "2A1Noq2sjFB-",
        "outputId": "4eec46fb-1cf2-47d7-b30f-e0608c906bf0"
      },
      "source": [
        "path = utils.download_pretrained_model('MORGAN_CNN_DAVIS')\n",
        "net3 = models.model_pretrained(path_dir = path)"
      ],
      "execution_count": null,
      "outputs": [
        {
          "output_type": "stream",
          "text": [
            "Downloading finished... Beginning to extract zip file...\n",
            "pretrained model Successfully Downloaded...\n"
          ],
          "name": "stdout"
        }
      ]
    },
    {
      "cell_type": "code",
      "metadata": {
        "colab": {
          "base_uri": "https://localhost:8080/"
        },
        "id": "XOQ4tk8OjExs",
        "outputId": "66c1172c-ede3-443f-e735-7240be2bf084"
      },
      "source": [
        "y_pred = models.repurpose(X_repurpose = X_repurpose, target = target, model = net3, \n",
        "                          drug_names = drug_names, target_name = target_name, \n",
        "                          result_folder = \"./result/\", convert_y = True)"
      ],
      "execution_count": null,
      "outputs": [
        {
          "output_type": "stream",
          "text": [
            "repurposing...\n",
            "Drug Target Interaction Prediction Mode...\n",
            "in total: 7 drug-target pairs\n",
            "encoding drug...\n",
            "unique drugs: 7\n",
            "encoding protein...\n",
            "unique target sequence: 1\n",
            "Done.\n",
            "predicting...\n",
            "---------------\n",
            "Drug Repurposing Result for Spike Protein\n",
            "+------+---------------------------------------------------------------+---------------+---------------+\n",
            "| Rank |                           Drug Name                           |  Target Name  | Binding Score |\n",
            "+------+---------------------------------------------------------------+---------------+---------------+\n",
            "|  1   |                   N-acetyl-neuraminic acid                    | Spike Protein |    1668.57    |\n",
            "|  2   |                   2-keto-3-deoxynononic acid                  | Spike Protein |    2333.41    |\n",
            "|  3   |                   N-Glycolylneuraminic acid                   | Spike Protein |    3618.15    |\n",
            "|  4   |                      N-Acetyllactosamine                      | Spike Protein |    3798.97    |\n",
            "|  5   | 2,4,7,8,9-Penta-O-acetyl-N-acetylneuraminic acid methyl ester | Spike Protein |    5532.44    |\n",
            "|  6   |  Cytidine-5′-monophospho-N-acetylneuraminic acid sodium salt  | Spike Protein |    6327.45    |\n",
            "|  7   |                      3α,6α-Mannopentaose                      | Spike Protein |    7244.32    |\n",
            "+------+---------------------------------------------------------------+---------------+---------------+"
          ],
          "name": "stdout"
        }
      ]
    },
    {
      "cell_type": "code",
      "metadata": {
        "colab": {
          "base_uri": "https://localhost:8080/"
        },
        "id": "WkWZTbDmjaiL",
        "outputId": "30129856-9844-4343-a29e-5f2ff20e1cc8"
      },
      "source": [
        "path = utils.download_pretrained_model('MORGAN_AAC_DAVIS')\n",
        "net2 = models.model_pretrained(path_dir = path)"
      ],
      "execution_count": null,
      "outputs": [
        {
          "output_type": "stream",
          "text": [
            "Downloading finished... Beginning to extract zip file...\n",
            "pretrained model Successfully Downloaded...\n"
          ],
          "name": "stdout"
        }
      ]
    },
    {
      "cell_type": "code",
      "metadata": {
        "colab": {
          "base_uri": "https://localhost:8080/"
        },
        "id": "oNw48Krpjcrb",
        "outputId": "5754f2e3-9eb2-4834-f7c4-27a6d809fd31"
      },
      "source": [
        "y_pred = models.repurpose(X_repurpose = X_repurpose, target = target, model = net2, \n",
        "                          drug_names = drug_names, target_name = target_name, \n",
        "                          result_folder = \"./result/\", convert_y = True)"
      ],
      "execution_count": null,
      "outputs": [
        {
          "output_type": "stream",
          "text": [
            "repurposing...\n",
            "Drug Target Interaction Prediction Mode...\n",
            "in total: 7 drug-target pairs\n",
            "encoding drug...\n",
            "unique drugs: 7\n",
            "encoding protein...\n",
            "unique target sequence: 1\n",
            "-- Encoding AAC takes time. Time Reference: 24s for ~100 sequences in a CPU.\t\t\t\t Calculate your time by the unique target sequence #, instead of the entire dataset.\n",
            "Done.\n",
            "predicting...\n",
            "---------------\n",
            "Drug Repurposing Result for Spike Protein\n",
            "+------+---------------------------------------------------------------+---------------+---------------+\n",
            "| Rank |                           Drug Name                           |  Target Name  | Binding Score |\n",
            "+------+---------------------------------------------------------------+---------------+---------------+\n",
            "|  1   |                      N-Acetyllactosamine                      | Spike Protein |    3027.40    |\n",
            "|  2   |                   2-keto-3-deoxynononic acid                  | Spike Protein |    5888.57    |\n",
            "|  3   |                   N-acetyl-neuraminic acid                    | Spike Protein |    6642.04    |\n",
            "|  4   |                   N-Glycolylneuraminic acid                   | Spike Protein |    6906.92    |\n",
            "|  5   |  Cytidine-5′-monophospho-N-acetylneuraminic acid sodium salt  | Spike Protein |    7779.69    |\n",
            "|  6   |                      3α,6α-Mannopentaose                      | Spike Protein |    7989.34    |\n",
            "|  7   | 2,4,7,8,9-Penta-O-acetyl-N-acetylneuraminic acid methyl ester | Spike Protein |    8624.08    |\n",
            "+------+---------------------------------------------------------------+---------------+---------------+"
          ],
          "name": "stdout"
        }
      ]
    },
    {
      "cell_type": "code",
      "metadata": {
        "colab": {
          "base_uri": "https://localhost:8080/"
        },
        "id": "b8WBAC42jckL",
        "outputId": "e906801a-ef65-4711-d264-1bde010a63ec"
      },
      "source": [
        "path = utils.download_pretrained_model('DAYLIGHT_AAC_DAVIS')\n",
        "net = models.model_pretrained(path_dir = path)"
      ],
      "execution_count": null,
      "outputs": [
        {
          "output_type": "stream",
          "text": [
            "Downloading finished... Beginning to extract zip file...\n",
            "pretrained model Successfully Downloaded...\n"
          ],
          "name": "stdout"
        }
      ]
    },
    {
      "cell_type": "code",
      "metadata": {
        "colab": {
          "base_uri": "https://localhost:8080/"
        },
        "id": "WkXwDUfijcWz",
        "outputId": "23ade3c0-2fd4-43ed-c01d-e666eea93049"
      },
      "source": [
        "y_pred = models.repurpose(X_repurpose = X_repurpose, target = target, model = net, \n",
        "                          drug_names = drug_names, target_name = target_name, \n",
        "                          result_folder = \"./result/\", convert_y = True)"
      ],
      "execution_count": null,
      "outputs": [
        {
          "output_type": "stream",
          "text": [
            "repurposing...\n",
            "Drug Target Interaction Prediction Mode...\n",
            "in total: 7 drug-target pairs\n",
            "encoding drug...\n",
            "unique drugs: 7\n",
            "encoding protein...\n",
            "unique target sequence: 1\n",
            "-- Encoding AAC takes time. Time Reference: 24s for ~100 sequences in a CPU.\t\t\t\t Calculate your time by the unique target sequence #, instead of the entire dataset.\n",
            "Done.\n",
            "predicting...\n",
            "---------------\n",
            "Drug Repurposing Result for Spike Protein\n",
            "+------+---------------------------------------------------------------+---------------+---------------+\n",
            "| Rank |                           Drug Name                           |  Target Name  | Binding Score |\n",
            "+------+---------------------------------------------------------------+---------------+---------------+\n",
            "|  1   |                   N-Glycolylneuraminic acid                   | Spike Protein |    4307.40    |\n",
            "|  2   |                   N-acetyl-neuraminic acid                    | Spike Protein |    4429.97    |\n",
            "|  3   |  Cytidine-5′-monophospho-N-acetylneuraminic acid sodium salt  | Spike Protein |    6832.66    |\n",
            "|  4   |                      N-Acetyllactosamine                      | Spike Protein |    8049.30    |\n",
            "|  5   |                   2-keto-3-deoxynononic acid                  | Spike Protein |    8492.12    |\n",
            "|  6   | 2,4,7,8,9-Penta-O-acetyl-N-acetylneuraminic acid methyl ester | Spike Protein |    8789.59    |\n",
            "|  7   |                      3α,6α-Mannopentaose                      | Spike Protein |    9269.85    |\n",
            "+------+---------------------------------------------------------------+---------------+---------------+"
          ],
          "name": "stdout"
        }
      ]
    },
    {
      "cell_type": "code",
      "metadata": {
        "colab": {
          "base_uri": "https://localhost:8080/"
        },
        "id": "OIciCgHQkEG7",
        "outputId": "7f2b4303-8beb-4b81-b0ce-bd24881c0aac"
      },
      "source": [
        "path = utils.download_pretrained_model('Daylight_AAC_KIBA')\n",
        "net = models.model_pretrained(path_dir = path)"
      ],
      "execution_count": null,
      "outputs": [
        {
          "output_type": "stream",
          "text": [
            "Downloading finished... Beginning to extract zip file...\n",
            "pretrained model Successfully Downloaded...\n"
          ],
          "name": "stdout"
        }
      ]
    },
    {
      "cell_type": "code",
      "metadata": {
        "colab": {
          "base_uri": "https://localhost:8080/"
        },
        "id": "0nHLgeNOkVkT",
        "outputId": "9b156d4b-9c45-4a54-81a6-f0586deb97d8"
      },
      "source": [
        "y_pred = models.repurpose(X_repurpose = X_repurpose, target = target, model = net, \n",
        "                          drug_names = drug_names, target_name = target_name, \n",
        "                          result_folder = \"./result/\", convert_y = True)"
      ],
      "execution_count": null,
      "outputs": [
        {
          "output_type": "stream",
          "text": [
            "repurposing...\n",
            "Drug Target Interaction Prediction Mode...\n",
            "in total: 7 drug-target pairs\n",
            "encoding drug...\n",
            "unique drugs: 7\n",
            "encoding protein...\n",
            "unique target sequence: 1\n",
            "-- Encoding AAC takes time. Time Reference: 24s for ~100 sequences in a CPU.\t\t\t\t Calculate your time by the unique target sequence #, instead of the entire dataset.\n",
            "Done.\n",
            "predicting...\n",
            "---------------\n",
            "Drug Repurposing Result for Spike Protein\n",
            "+------+---------------------------------------------------------------+---------------+---------------+\n",
            "| Rank |                           Drug Name                           |  Target Name  | Binding Score |\n",
            "+------+---------------------------------------------------------------+---------------+---------------+\n",
            "|  1   |                   2-keto-3-deoxynononic acid                  | Spike Protein |      0.00     |\n",
            "|  2   |                   N-acetyl-neuraminic acid                    | Spike Protein |      0.00     |\n",
            "|  3   |                   N-Glycolylneuraminic acid                   | Spike Protein |      0.00     |\n",
            "|  4   |  Cytidine-5′-monophospho-N-acetylneuraminic acid sodium salt  | Spike Protein |      0.01     |\n",
            "|  5   |                      3α,6α-Mannopentaose                      | Spike Protein |      0.01     |\n",
            "|  6   | 2,4,7,8,9-Penta-O-acetyl-N-acetylneuraminic acid methyl ester | Spike Protein |      0.01     |\n",
            "|  7   |                      N-Acetyllactosamine                      | Spike Protein |      0.02     |\n",
            "+------+---------------------------------------------------------------+---------------+---------------+"
          ],
          "name": "stdout"
        }
      ]
    },
    {
      "cell_type": "code",
      "metadata": {
        "colab": {
          "base_uri": "https://localhost:8080/"
        },
        "id": "SRdVhL-ekYmr",
        "outputId": "52f1378a-7b46-4f8f-b28e-f680a078b3ed"
      },
      "source": [
        "path = utils.download_pretrained_model('MORGAN_AAC_KIBA')\n",
        "net2 = models.model_pretrained(path_dir = path)"
      ],
      "execution_count": null,
      "outputs": [
        {
          "output_type": "stream",
          "text": [
            "Downloading finished... Beginning to extract zip file...\n",
            "pretrained model Successfully Downloaded...\n"
          ],
          "name": "stdout"
        }
      ]
    },
    {
      "cell_type": "code",
      "metadata": {
        "colab": {
          "base_uri": "https://localhost:8080/"
        },
        "id": "MbPy7vL7kfML",
        "outputId": "c88f2553-004f-4960-f4ac-1c1f63d00af7"
      },
      "source": [
        "y_pred = models.repurpose(X_repurpose = X_repurpose, target = target, model = net2, \n",
        "                          drug_names = drug_names, target_name = target_name, \n",
        "                          result_folder = \"./result/\", convert_y = True)"
      ],
      "execution_count": null,
      "outputs": [
        {
          "output_type": "stream",
          "text": [
            "repurposing...\n",
            "Drug Target Interaction Prediction Mode...\n",
            "in total: 7 drug-target pairs\n",
            "encoding drug...\n",
            "unique drugs: 7\n",
            "encoding protein...\n",
            "unique target sequence: 1\n",
            "-- Encoding AAC takes time. Time Reference: 24s for ~100 sequences in a CPU.\t\t\t\t Calculate your time by the unique target sequence #, instead of the entire dataset.\n",
            "Done.\n",
            "predicting...\n",
            "---------------\n",
            "Drug Repurposing Result for Spike Protein\n",
            "+------+---------------------------------------------------------------+---------------+---------------+\n",
            "| Rank |                           Drug Name                           |  Target Name  | Binding Score |\n",
            "+------+---------------------------------------------------------------+---------------+---------------+\n",
            "|  1   |                      3α,6α-Mannopentaose                      | Spike Protein |      0.00     |\n",
            "|  2   |                   N-acetyl-neuraminic acid                    | Spike Protein |      0.00     |\n",
            "|  3   |                      N-Acetyllactosamine                      | Spike Protein |      0.00     |\n",
            "|  4   |  Cytidine-5′-monophospho-N-acetylneuraminic acid sodium salt  | Spike Protein |      0.00     |\n",
            "|  5   |                   2-keto-3-deoxynononic acid                  | Spike Protein |      0.01     |\n",
            "|  6   |                   N-Glycolylneuraminic acid                   | Spike Protein |      0.01     |\n",
            "|  7   | 2,4,7,8,9-Penta-O-acetyl-N-acetylneuraminic acid methyl ester | Spike Protein |      0.01     |\n",
            "+------+---------------------------------------------------------------+---------------+---------------+"
          ],
          "name": "stdout"
        }
      ]
    },
    {
      "cell_type": "code",
      "metadata": {
        "colab": {
          "base_uri": "https://localhost:8080/"
        },
        "id": "G3lf922bktbb",
        "outputId": "ddc86a86-1c9a-4e58-9734-791ec9e8b1d3"
      },
      "source": [
        "path = utils.download_pretrained_model('MORGAN_CNN_KIBA')\n",
        "net3_kiba = models.model_pretrained(path_dir = path)"
      ],
      "execution_count": null,
      "outputs": [
        {
          "output_type": "stream",
          "text": [
            "Dataset already downloaded in the local system...\n"
          ],
          "name": "stdout"
        }
      ]
    },
    {
      "cell_type": "code",
      "metadata": {
        "colab": {
          "base_uri": "https://localhost:8080/"
        },
        "id": "aochXRNpk4iO",
        "outputId": "58586d62-cfc1-4b20-887a-9326106e3fd7"
      },
      "source": [
        "y_pred = models.repurpose(X_repurpose = X_repurpose, target = target, model = net3_kiba, \n",
        "                          drug_names = drug_names, target_name = target_name, \n",
        "                          result_folder = \"./result/\", convert_y = True)"
      ],
      "execution_count": null,
      "outputs": [
        {
          "output_type": "stream",
          "text": [
            "repurposing...\n",
            "Drug Target Interaction Prediction Mode...\n",
            "in total: 7 drug-target pairs\n",
            "encoding drug...\n",
            "unique drugs: 7\n",
            "encoding protein...\n",
            "unique target sequence: 1\n",
            "-- Encoding AAC takes time. Time Reference: 24s for ~100 sequences in a CPU.\t\t\t\t Calculate your time by the unique target sequence #, instead of the entire dataset.\n",
            "Done.\n",
            "predicting...\n",
            "---------------\n",
            "Drug Repurposing Result for Spike Protein\n",
            "+------+---------------------------------------------------------------+---------------+---------------+\n",
            "| Rank |                           Drug Name                           |  Target Name  | Binding Score |\n",
            "+------+---------------------------------------------------------------+---------------+---------------+\n",
            "|  1   |                      3α,6α-Mannopentaose                      | Spike Protein |      0.00     |\n",
            "|  2   |                   N-acetyl-neuraminic acid                    | Spike Protein |      0.00     |\n",
            "|  3   |                      N-Acetyllactosamine                      | Spike Protein |      0.00     |\n",
            "|  4   |  Cytidine-5′-monophospho-N-acetylneuraminic acid sodium salt  | Spike Protein |      0.00     |\n",
            "|  5   |                   2-keto-3-deoxynononic acid                  | Spike Protein |      0.01     |\n",
            "|  6   |                   N-Glycolylneuraminic acid                   | Spike Protein |      0.01     |\n",
            "|  7   | 2,4,7,8,9-Penta-O-acetyl-N-acetylneuraminic acid methyl ester | Spike Protein |      0.01     |\n",
            "+------+---------------------------------------------------------------+---------------+---------------+"
          ],
          "name": "stdout"
        }
      ]
    },
    {
      "cell_type": "code",
      "metadata": {
        "colab": {
          "base_uri": "https://localhost:8080/"
        },
        "id": "N2Cbgn_SlcXj",
        "outputId": "f5b049ba-2d60-415c-a66b-0035c9ce7f36"
      },
      "source": [
        "path = utils.download_pretrained_model('MPNN_CNN_KIBA')\n",
        "net4_kiba = models.model_pretrained(path_dir = path)"
      ],
      "execution_count": null,
      "outputs": [
        {
          "output_type": "stream",
          "text": [
            "Downloading finished... Beginning to extract zip file...\n",
            "pretrained model Successfully Downloaded...\n"
          ],
          "name": "stdout"
        }
      ]
    },
    {
      "cell_type": "code",
      "metadata": {
        "colab": {
          "base_uri": "https://localhost:8080/"
        },
        "id": "icHNIH14liOz",
        "outputId": "1a71e340-a746-4ac6-fd4b-8c435188e5b2"
      },
      "source": [
        "y_pred = models.repurpose(X_repurpose = X_repurpose, target = target, model = net4_kiba, \n",
        "                          drug_names = drug_names, target_name = target_name, \n",
        "                          result_folder = \"./result/\", convert_y = True)"
      ],
      "execution_count": null,
      "outputs": [
        {
          "output_type": "stream",
          "text": [
            "repurposing...\n",
            "Drug Target Interaction Prediction Mode...\n",
            "in total: 7 drug-target pairs\n",
            "encoding drug...\n",
            "unique drugs: 7\n",
            "encoding protein...\n",
            "unique target sequence: 1\n",
            "Done.\n",
            "predicting...\n",
            "---------------\n",
            "Drug Repurposing Result for Spike Protein\n",
            "+------+---------------------------------------------------------------+---------------+---------------+\n",
            "| Rank |                           Drug Name                           |  Target Name  | Binding Score |\n",
            "+------+---------------------------------------------------------------+---------------+---------------+\n",
            "|  1   |  Cytidine-5′-monophospho-N-acetylneuraminic acid sodium salt  | Spike Protein |      0.00     |\n",
            "|  2   |                      3α,6α-Mannopentaose                      | Spike Protein |      0.00     |\n",
            "|  3   |                   N-acetyl-neuraminic acid                    | Spike Protein |      0.26     |\n",
            "|  4   |                   N-Glycolylneuraminic acid                   | Spike Protein |      0.41     |\n",
            "|  5   |                   2-keto-3-deoxynononic acid                  | Spike Protein |     844.78    |\n",
            "|  6   |                      N-Acetyllactosamine                      | Spike Protein |    6757.71    |\n",
            "|  7   | 2,4,7,8,9-Penta-O-acetyl-N-acetylneuraminic acid methyl ester | Spike Protein |    11207.66   |\n",
            "+------+---------------------------------------------------------------+---------------+---------------+"
          ],
          "name": "stdout"
        }
      ]
    },
    {
      "cell_type": "markdown",
      "metadata": {
        "id": "Q2M9TIPOW-tr"
      },
      "source": [
        "Morgan_AAC_BindingDB_IC50"
      ]
    },
    {
      "cell_type": "code",
      "metadata": {
        "colab": {
          "base_uri": "https://localhost:8080/"
        },
        "id": "yTOKxX-DSvjt",
        "outputId": "ee72af96-ba6c-4d00-ff55-018d352f0667"
      },
      "source": [
        "path = utils.download_pretrained_model('Morgan_AAC_BindingDB_IC50')\n",
        "net = models.model_pretrained(path_dir = path)"
      ],
      "execution_count": null,
      "outputs": [
        {
          "output_type": "stream",
          "text": [
            "Dataset already downloaded in the local system...\n"
          ],
          "name": "stdout"
        }
      ]
    },
    {
      "cell_type": "code",
      "metadata": {
        "colab": {
          "base_uri": "https://localhost:8080/"
        },
        "id": "we9ddoHhTJK9",
        "outputId": "2c634f63-27e4-47ae-a102-6e85a012dbb1"
      },
      "source": [
        "net.config"
      ],
      "execution_count": null,
      "outputs": [
        {
          "output_type": "execute_result",
          "data": {
            "text/plain": [
              "{'LR': 0.001,\n",
              " 'batch_size': 256,\n",
              " 'binary': False,\n",
              " 'cls_hidden_dims': [1024, 1024, 512],\n",
              " 'cnn_drug_filters': [32, 64, 96],\n",
              " 'cnn_drug_kernels': [4, 8, 12],\n",
              " 'cnn_target_filters': [32, 64, 96],\n",
              " 'cnn_target_kernels': [4, 8, 12],\n",
              " 'decay': 0,\n",
              " 'drug_encoding': 'Morgan',\n",
              " 'global_batch_size': 128,\n",
              " 'hidden_dim_drug': 128,\n",
              " 'hidden_dim_protein': 256,\n",
              " 'input_dim_drug': 1024,\n",
              " 'input_dim_protein': 8420,\n",
              " 'mlp_hidden_dims_drug': [1024, 256, 64],\n",
              " 'mlp_hidden_dims_target': [1024, 256, 64],\n",
              " 'mpnn_depth': 3,\n",
              " 'mpnn_hidden_size': 128,\n",
              " 'num_workers': 0,\n",
              " 'random_seed': 1,\n",
              " 'result_folder': './result/',\n",
              " 'target_encoding': 'AAC',\n",
              " 'test_every_X_epoch': 10,\n",
              " 'train_epoch': 100}"
            ]
          },
          "metadata": {
            "tags": []
          },
          "execution_count": 32
        }
      ]
    },
    {
      "cell_type": "code",
      "metadata": {
        "colab": {
          "base_uri": "https://localhost:8080/"
        },
        "id": "0mkirgVFTxd1",
        "outputId": "f7a18633-5538-49b6-957f-ed767ada5223"
      },
      "source": [
        "y_pred = models.repurpose(X_repurpose = X_repurpose, target = target, model = net, \n",
        "                          drug_names = drug_names, target_name = target_name, \n",
        "                          result_folder = \"./result/\", convert_y = True)"
      ],
      "execution_count": null,
      "outputs": [
        {
          "output_type": "stream",
          "text": [
            "repurposing...\n",
            "Drug Target Interaction Prediction Mode...\n",
            "in total: 7 drug-target pairs\n",
            "encoding drug...\n",
            "unique drugs: 7\n",
            "encoding protein...\n",
            "unique target sequence: 1\n",
            "-- Encoding AAC takes time. Time Reference: 24s for ~100 sequences in a CPU.\t\t\t\t Calculate your time by the unique target sequence #, instead of the entire dataset.\n",
            "Done.\n",
            "predicting...\n",
            "---------------\n",
            "Drug Repurposing Result for Spike Protein\n",
            "+------+---------------------------------------------------------------+---------------+---------------+\n",
            "| Rank |                           Drug Name                           |  Target Name  | Binding Score |\n",
            "+------+---------------------------------------------------------------+---------------+---------------+\n",
            "|  1   |  Cytidine-5′-monophospho-N-acetylneuraminic acid sodium salt  | Spike Protein |    24523.46   |\n",
            "|  2   |                      N-Acetyllactosamine                      | Spike Protein |    62172.96   |\n",
            "|  3   |                   N-acetyl-neuraminic acid                    | Spike Protein |    79297.95   |\n",
            "|  4   |                   2-keto-3-deoxynononic acid                  | Spike Protein |    79763.81   |\n",
            "|  5   | 2,4,7,8,9-Penta-O-acetyl-N-acetylneuraminic acid methyl ester | Spike Protein |    81731.82   |\n",
            "|  6   |                   N-Glycolylneuraminic acid                   | Spike Protein |    84540.14   |\n",
            "|  7   |                      3α,6α-Mannopentaose                      | Spike Protein |   141956.62   |\n",
            "+------+---------------------------------------------------------------+---------------+---------------+"
          ],
          "name": "stdout"
        }
      ]
    },
    {
      "cell_type": "markdown",
      "metadata": {
        "id": "AP9oSKxHYCHL"
      },
      "source": [
        "Daylight_AAC_BindingDB_IC50"
      ]
    },
    {
      "cell_type": "code",
      "metadata": {
        "colab": {
          "base_uri": "https://localhost:8080/"
        },
        "id": "BtroNwWUW8EM",
        "outputId": "12be93c7-df65-44ed-8342-c5d79e8b1065"
      },
      "source": [
        "path = utils.download_pretrained_model('Daylight_AAC_BindingDB_IC50')\n",
        "net2 = models.model_pretrained(path_dir = path)"
      ],
      "execution_count": null,
      "outputs": [
        {
          "output_type": "stream",
          "text": [
            "Downloading finished... Beginning to extract zip file...\n",
            "pretrained model Successfully Downloaded...\n"
          ],
          "name": "stdout"
        }
      ]
    },
    {
      "cell_type": "code",
      "metadata": {
        "colab": {
          "base_uri": "https://localhost:8080/"
        },
        "id": "3b89VKJRXr0d",
        "outputId": "9245517f-db7b-42ca-f6be-8a793eb4ff21"
      },
      "source": [
        "net2.config"
      ],
      "execution_count": null,
      "outputs": [
        {
          "output_type": "execute_result",
          "data": {
            "text/plain": [
              "{'LR': 0.001,\n",
              " 'batch_size': 256,\n",
              " 'binary': False,\n",
              " 'cls_hidden_dims': [1024, 1024, 512],\n",
              " 'cnn_drug_filters': [32, 64, 96],\n",
              " 'cnn_drug_kernels': [4, 8, 12],\n",
              " 'cnn_target_filters': [32, 64, 96],\n",
              " 'cnn_target_kernels': [4, 8, 12],\n",
              " 'decay': 0,\n",
              " 'drug_encoding': 'Daylight',\n",
              " 'global_batch_size': 128,\n",
              " 'hidden_dim_drug': 128,\n",
              " 'hidden_dim_protein': 256,\n",
              " 'input_dim_drug': 2048,\n",
              " 'input_dim_protein': 8420,\n",
              " 'mlp_hidden_dims_drug': [1024, 256, 64],\n",
              " 'mlp_hidden_dims_target': [1024, 256, 64],\n",
              " 'mpnn_depth': 3,\n",
              " 'mpnn_hidden_size': 128,\n",
              " 'num_workers': 0,\n",
              " 'random_seed': 1,\n",
              " 'result_folder': './result/',\n",
              " 'target_encoding': 'AAC',\n",
              " 'test_every_X_epoch': 10,\n",
              " 'train_epoch': 100}"
            ]
          },
          "metadata": {
            "tags": []
          },
          "execution_count": 14
        }
      ]
    },
    {
      "cell_type": "code",
      "metadata": {
        "colab": {
          "base_uri": "https://localhost:8080/"
        },
        "id": "NCApKc7LXu4N",
        "outputId": "76102cd1-0e76-4560-c6d7-6ddb2a063857"
      },
      "source": [
        "y_pred = models.repurpose(X_repurpose = X_repurpose, target = target, model = net2, \n",
        "                          drug_names = drug_names, target_name = target_name, \n",
        "                          result_folder = \"./result/\", convert_y = True)"
      ],
      "execution_count": null,
      "outputs": [
        {
          "output_type": "stream",
          "text": [
            "repurposing...\n",
            "Drug Target Interaction Prediction Mode...\n",
            "in total: 7 drug-target pairs\n",
            "encoding drug...\n",
            "unique drugs: 7\n",
            "encoding protein...\n",
            "unique target sequence: 1\n",
            "-- Encoding AAC takes time. Time Reference: 24s for ~100 sequences in a CPU.\t\t\t\t Calculate your time by the unique target sequence #, instead of the entire dataset.\n",
            "Done.\n",
            "predicting...\n",
            "---------------\n",
            "Drug Repurposing Result for Spike Protein\n",
            "+------+---------------------------------------------------------------+---------------+---------------+\n",
            "| Rank |                           Drug Name                           |  Target Name  | Binding Score |\n",
            "+------+---------------------------------------------------------------+---------------+---------------+\n",
            "|  1   |  Cytidine-5′-monophospho-N-acetylneuraminic acid sodium salt  | Spike Protein |    10586.11   |\n",
            "|  2   | 2,4,7,8,9-Penta-O-acetyl-N-acetylneuraminic acid methyl ester | Spike Protein |    15612.91   |\n",
            "|  3   |                   2-keto-3-deoxynononic acid                  | Spike Protein |    21619.83   |\n",
            "|  4   |                   N-acetyl-neuraminic acid                    | Spike Protein |    31218.53   |\n",
            "|  5   |                   N-Glycolylneuraminic acid                   | Spike Protein |    31855.70   |\n",
            "|  6   |                      3α,6α-Mannopentaose                      | Spike Protein |    32691.03   |\n",
            "|  7   |                      N-Acetyllactosamine                      | Spike Protein |    33051.94   |\n",
            "+------+---------------------------------------------------------------+---------------+---------------+"
          ],
          "name": "stdout"
        }
      ]
    },
    {
      "cell_type": "markdown",
      "metadata": {
        "id": "q6U5flI6YMU1"
      },
      "source": [
        "Morgan_CNN_BindingDB_IC50"
      ]
    },
    {
      "cell_type": "code",
      "metadata": {
        "colab": {
          "base_uri": "https://localhost:8080/"
        },
        "id": "C1ZSQtAAYOIO",
        "outputId": "3ce0c1f8-109a-4af3-8157-df7975b84353"
      },
      "source": [
        "path = utils.download_pretrained_model('Morgan_CNN_BindingDB_IC50')\n",
        "net3 = models.model_pretrained(path_dir = path)"
      ],
      "execution_count": null,
      "outputs": [
        {
          "output_type": "stream",
          "text": [
            "Downloading finished... Beginning to extract zip file...\n",
            "pretrained model Successfully Downloaded...\n"
          ],
          "name": "stdout"
        }
      ]
    },
    {
      "cell_type": "code",
      "metadata": {
        "colab": {
          "base_uri": "https://localhost:8080/"
        },
        "id": "PHbIkyohYXPU",
        "outputId": "3e5180b1-4170-40ab-f555-b346ea120fbd"
      },
      "source": [
        "net3.config"
      ],
      "execution_count": null,
      "outputs": [
        {
          "output_type": "execute_result",
          "data": {
            "text/plain": [
              "{'LR': 0.001,\n",
              " 'batch_size': 256,\n",
              " 'binary': False,\n",
              " 'cls_hidden_dims': [1024, 1024, 512],\n",
              " 'cnn_drug_filters': [32, 64, 96],\n",
              " 'cnn_drug_kernels': [4, 8, 12],\n",
              " 'cnn_target_filters': [32, 64, 96],\n",
              " 'cnn_target_kernels': [4, 8, 12],\n",
              " 'decay': 0,\n",
              " 'drug_encoding': 'Morgan',\n",
              " 'global_batch_size': 128,\n",
              " 'hidden_dim_drug': 128,\n",
              " 'hidden_dim_protein': 256,\n",
              " 'input_dim_drug': 1024,\n",
              " 'input_dim_protein': 8420,\n",
              " 'mlp_hidden_dims_drug': [1024, 256, 64],\n",
              " 'mpnn_depth': 3,\n",
              " 'mpnn_hidden_size': 128,\n",
              " 'num_workers': 0,\n",
              " 'random_seed': 1,\n",
              " 'result_folder': './result/',\n",
              " 'target_encoding': 'CNN',\n",
              " 'test_every_X_epoch': 10,\n",
              " 'train_epoch': 100}"
            ]
          },
          "metadata": {
            "tags": []
          },
          "execution_count": 19
        }
      ]
    },
    {
      "cell_type": "code",
      "metadata": {
        "colab": {
          "base_uri": "https://localhost:8080/"
        },
        "id": "2KcGs1BNYaX9",
        "outputId": "55c82362-489a-4ff3-a298-a7f42c8de2e2"
      },
      "source": [
        "y_pred = models.repurpose(X_repurpose = X_repurpose, target = target, model = net3, \n",
        "                          drug_names = drug_names, target_name = target_name, \n",
        "                          result_folder = \"./result/\", convert_y = True)"
      ],
      "execution_count": null,
      "outputs": [
        {
          "output_type": "stream",
          "text": [
            "repurposing...\n",
            "Drug Target Interaction Prediction Mode...\n",
            "in total: 7 drug-target pairs\n",
            "encoding drug...\n",
            "unique drugs: 7\n",
            "encoding protein...\n",
            "unique target sequence: 1\n",
            "Done.\n",
            "predicting...\n",
            "---------------\n",
            "Drug Repurposing Result for Spike Protein\n",
            "+------+---------------------------------------------------------------+---------------+---------------+\n",
            "| Rank |                           Drug Name                           |  Target Name  | Binding Score |\n",
            "+------+---------------------------------------------------------------+---------------+---------------+\n",
            "|  1   | 2,4,7,8,9-Penta-O-acetyl-N-acetylneuraminic acid methyl ester | Spike Protein |    9777.04    |\n",
            "|  2   |                   N-acetyl-neuraminic acid                    | Spike Protein |    50476.17   |\n",
            "|  3   |                   N-Glycolylneuraminic acid                   | Spike Protein |    53535.10   |\n",
            "|  4   |                   2-keto-3-deoxynononic acid                  | Spike Protein |    64173.59   |\n",
            "|  5   |  Cytidine-5′-monophospho-N-acetylneuraminic acid sodium salt  | Spike Protein |    82847.45   |\n",
            "|  6   |                      N-Acetyllactosamine                      | Spike Protein |   147261.40   |\n",
            "|  7   |                      3α,6α-Mannopentaose                      | Spike Protein |   236595.52   |\n",
            "+------+---------------------------------------------------------------+---------------+---------------+"
          ],
          "name": "stdout"
        }
      ]
    },
    {
      "cell_type": "markdown",
      "metadata": {
        "id": "tEXaXxAoYlbN"
      },
      "source": [
        "CNN_CNN_BindingDB_IC50"
      ]
    },
    {
      "cell_type": "code",
      "metadata": {
        "colab": {
          "base_uri": "https://localhost:8080/"
        },
        "id": "PRyIKTK5YuB1",
        "outputId": "049a4b4f-76d4-4592-931b-0029fd01e8d5"
      },
      "source": [
        "path = utils.download_pretrained_model('CNN_CNN_BindingDB_IC50')\n",
        "net4 = models.model_pretrained(path_dir = path)"
      ],
      "execution_count": null,
      "outputs": [
        {
          "output_type": "stream",
          "text": [
            "Downloading finished... Beginning to extract zip file...\n",
            "pretrained model Successfully Downloaded...\n"
          ],
          "name": "stdout"
        }
      ]
    },
    {
      "cell_type": "code",
      "metadata": {
        "colab": {
          "base_uri": "https://localhost:8080/"
        },
        "id": "pQlrp9tv6ckc",
        "outputId": "273443d9-abe1-432d-88fd-817b9f2a2b11"
      },
      "source": [
        "net4.config"
      ],
      "execution_count": null,
      "outputs": [
        {
          "output_type": "execute_result",
          "data": {
            "text/plain": [
              "{'LR': 0.001,\n",
              " 'batch_size': 256,\n",
              " 'binary': False,\n",
              " 'cls_hidden_dims': [1024, 1024, 512],\n",
              " 'cnn_drug_filters': [32, 64, 96],\n",
              " 'cnn_drug_kernels': [4, 8, 12],\n",
              " 'cnn_target_filters': [32, 64, 96],\n",
              " 'cnn_target_kernels': [4, 8, 12],\n",
              " 'decay': 0,\n",
              " 'drug_encoding': 'CNN',\n",
              " 'global_batch_size': 128,\n",
              " 'hidden_dim_drug': 128,\n",
              " 'hidden_dim_protein': 256,\n",
              " 'input_dim_drug': 1024,\n",
              " 'input_dim_protein': 8420,\n",
              " 'mpnn_depth': 3,\n",
              " 'mpnn_hidden_size': 128,\n",
              " 'num_workers': 0,\n",
              " 'random_seed': 1,\n",
              " 'result_folder': './result/',\n",
              " 'target_encoding': 'CNN',\n",
              " 'test_every_X_epoch': 10,\n",
              " 'train_epoch': 100}"
            ]
          },
          "metadata": {
            "tags": []
          },
          "execution_count": 5
        }
      ]
    },
    {
      "cell_type": "code",
      "metadata": {
        "colab": {
          "base_uri": "https://localhost:8080/"
        },
        "id": "Hhf59LOBY3Xd",
        "outputId": "4e90595a-eb78-4cb6-c936-6c17ecb0a8f2"
      },
      "source": [
        "y_pred = models.repurpose(X_repurpose = X_repurpose, target = target, model = net4, \n",
        "                          drug_names = drug_names, target_name = target_name, \n",
        "                          result_folder = \"./result/\", convert_y = True)"
      ],
      "execution_count": null,
      "outputs": [
        {
          "output_type": "stream",
          "text": [
            "repurposing...\n",
            "Drug Target Interaction Prediction Mode...\n",
            "in total: 7 drug-target pairs\n",
            "encoding drug...\n",
            "unique drugs: 7\n",
            "encoding protein...\n",
            "unique target sequence: 1\n",
            "Done.\n",
            "predicting...\n",
            "---------------\n",
            "Drug Repurposing Result for Spike Protein\n",
            "+------+---------------------------------------------------------------+---------------+---------------+\n",
            "| Rank |                           Drug Name                           |  Target Name  | Binding Score |\n",
            "+------+---------------------------------------------------------------+---------------+---------------+\n",
            "|  1   | 2,4,7,8,9-Penta-O-acetyl-N-acetylneuraminic acid methyl ester | Spike Protein |    4812.28    |\n",
            "|  2   |                   N-Glycolylneuraminic acid                   | Spike Protein |    5355.83    |\n",
            "|  3   |                   N-acetyl-neuraminic acid                    | Spike Protein |    6234.67    |\n",
            "|  4   |                   2-keto-3-deoxynononic acid                  | Spike Protein |    6564.83    |\n",
            "|  5   |  Cytidine-5′-monophospho-N-acetylneuraminic acid sodium salt  | Spike Protein |    7146.94    |\n",
            "|  6   |                      N-Acetyllactosamine                      | Spike Protein |    8742.12    |\n",
            "|  7   |                      3α,6α-Mannopentaose                      | Spike Protein |    10228.69   |\n",
            "+------+---------------------------------------------------------------+---------------+---------------+"
          ],
          "name": "stdout"
        }
      ]
    },
    {
      "cell_type": "markdown",
      "metadata": {
        "id": "u9mrp-6aZD_8"
      },
      "source": [
        "MPNN_CNN_BindingDB_IC50"
      ]
    },
    {
      "cell_type": "code",
      "metadata": {
        "colab": {
          "base_uri": "https://localhost:8080/"
        },
        "id": "kMGazZaeZIdD",
        "outputId": "83970a36-8531-4bb4-ff63-a8b48e1d7033"
      },
      "source": [
        "path = utils.download_pretrained_model('MPNN_CNN_BindingDB_IC50')\n",
        "net5 = models.model_pretrained(path_dir = path)"
      ],
      "execution_count": null,
      "outputs": [
        {
          "output_type": "stream",
          "text": [
            "Downloading finished... Beginning to extract zip file...\n",
            "pretrained model Successfully Downloaded...\n"
          ],
          "name": "stdout"
        }
      ]
    },
    {
      "cell_type": "code",
      "metadata": {
        "colab": {
          "base_uri": "https://localhost:8080/"
        },
        "id": "CfD9aKsCZRJs",
        "outputId": "2d220b54-af00-4d50-cbaa-d5c55b50d0b7"
      },
      "source": [
        "y_pred = models.repurpose(X_repurpose = X_repurpose, target = target, model = net5, \n",
        "                          drug_names = drug_names, target_name = target_name, \n",
        "                          result_folder = \"./result/\", convert_y = True)"
      ],
      "execution_count": null,
      "outputs": [
        {
          "output_type": "stream",
          "text": [
            "repurposing...\n",
            "Drug Target Interaction Prediction Mode...\n",
            "in total: 7 drug-target pairs\n",
            "encoding drug...\n",
            "unique drugs: 7\n",
            "encoding protein...\n",
            "unique target sequence: 1\n",
            "Done.\n",
            "predicting...\n",
            "---------------\n",
            "Drug Repurposing Result for Spike Protein\n",
            "+------+---------------------------------------------------------------+---------------+---------------+\n",
            "| Rank |                           Drug Name                           |  Target Name  | Binding Score |\n",
            "+------+---------------------------------------------------------------+---------------+---------------+\n",
            "|  1   |                      N-Acetyllactosamine                      | Spike Protein |      0.00     |\n",
            "|  2   |                   2-keto-3-deoxynononic acid                  | Spike Protein |      0.39     |\n",
            "|  3   |  Cytidine-5′-monophospho-N-acetylneuraminic acid sodium salt  | Spike Protein |     593.60    |\n",
            "|  4   |                   N-Glycolylneuraminic acid                   | Spike Protein |    1132.85    |\n",
            "|  5   |                      3α,6α-Mannopentaose                      | Spike Protein |    4881.59    |\n",
            "|  6   |                   N-acetyl-neuraminic acid                    | Spike Protein |    27245.76   |\n",
            "|  7   | 2,4,7,8,9-Penta-O-acetyl-N-acetylneuraminic acid methyl ester | Spike Protein |    54393.27   |\n",
            "+------+---------------------------------------------------------------+---------------+---------------+"
          ],
          "name": "stdout"
        }
      ]
    },
    {
      "cell_type": "markdown",
      "metadata": {
        "id": "JgpzYdXZxRTM"
      },
      "source": [
        "## Oneliner function"
      ]
    },
    {
      "cell_type": "code",
      "metadata": {
        "id": "F7jBetxtxypU"
      },
      "source": [
        "import numpy as np"
      ],
      "execution_count": null,
      "outputs": []
    },
    {
      "cell_type": "code",
      "metadata": {
        "id": "yZ67pxKvxypU"
      },
      "source": [
        "cods = np.array([['CC(C)CN(C[C@H]([C@H](CC1=CC=CC=C1)NC(=O)O[C@H]2CO[C@@H]3[C@H]2CCO3)O)S(=O)(=O)C4=CC=C(C=C4)N'],\n",
        "       ['CC(=O)N[C@@H]1[C@H](CC(O[C@H]1[C@@H]([C@@H](CO)O)O)(C(=O)O)O)O'],\n",
        "       ['CC(=O)N[C@@H]1[C@H]([C@@H]([C@H](O[C@H]1O)CO)O[C@H]2[C@@H]([C@H]([C@H]([C@H](O2)CO)O)O)O)O'],\n",
        "       ['OC[C@H]1O[C@H](OC[C@H]2O[C@H](OC[C@@H](O)[C@@H](O)[C@H](O[C@H]3O[C@H](CO)[C@@H](O)[C@H](O)[C@@H]3O)[C@H](O)C=O)[C@@H](O)[C@@H](O[C@H]4O[C@H](CO)[C@@H](O)[C@H](O)[C@@H]4O)[C@@H]2O)[C@@H](O)[C@@H](O)[C@@H]1O'],\n",
        "       ['C1[C@@H]([C@H]([C@@H](O[C@@]1(C(=O)O)O)[C@@H]([C@@H](CO)O)O)NC(=O)CO)O'],\n",
        "       ['C1[C@H]([C@H]([C@H](OC1(C(=O)O)O)[C@@H](CO)O)O)O'],\n",
        "       ['[Na+].CC(=O)N[C@@H]1[C@@H](O)C[C@@](O[C@@H]1[C@H](O)[C@H](O)CO)(OP([O-])(=O)OC[C@H]2O[C@H]([C@H](O)[C@@H]2O)N3C=CC(N)=NC3=O)C(O)=O']],\n",
        "      dtype='O').reshape(7,)"
      ],
      "execution_count": null,
      "outputs": []
    },
    {
      "cell_type": "code",
      "metadata": {
        "colab": {
          "base_uri": "https://localhost:8080/"
        },
        "id": "gReJATGAxypU",
        "outputId": "cb509f18-0549-4f8f-f62c-498f4dd75b9c"
      },
      "source": [
        "cods"
      ],
      "execution_count": null,
      "outputs": [
        {
          "output_type": "execute_result",
          "data": {
            "text/plain": [
              "array(['CC(C)CN(C[C@H]([C@H](CC1=CC=CC=C1)NC(=O)O[C@H]2CO[C@@H]3[C@H]2CCO3)O)S(=O)(=O)C4=CC=C(C=C4)N',\n",
              "       'CC(=O)N[C@@H]1[C@H](CC(O[C@H]1[C@@H]([C@@H](CO)O)O)(C(=O)O)O)O',\n",
              "       'CC(=O)N[C@@H]1[C@H]([C@@H]([C@H](O[C@H]1O)CO)O[C@H]2[C@@H]([C@H]([C@H]([C@H](O2)CO)O)O)O)O',\n",
              "       'OC[C@H]1O[C@H](OC[C@H]2O[C@H](OC[C@@H](O)[C@@H](O)[C@H](O[C@H]3O[C@H](CO)[C@@H](O)[C@H](O)[C@@H]3O)[C@H](O)C=O)[C@@H](O)[C@@H](O[C@H]4O[C@H](CO)[C@@H](O)[C@H](O)[C@@H]4O)[C@@H]2O)[C@@H](O)[C@@H](O)[C@@H]1O',\n",
              "       'C1[C@@H]([C@H]([C@@H](O[C@@]1(C(=O)O)O)[C@@H]([C@@H](CO)O)O)NC(=O)CO)O',\n",
              "       'C1[C@H]([C@H]([C@H](OC1(C(=O)O)O)[C@@H](CO)O)O)O',\n",
              "       '[Na+].CC(=O)N[C@@H]1[C@@H](O)C[C@@](O[C@@H]1[C@H](O)[C@H](O)CO)(OP([O-])(=O)OC[C@H]2O[C@H]([C@H](O)[C@@H]2O)N3C=CC(N)=NC3=O)C(O)=O'],\n",
              "      dtype=object)"
            ]
          },
          "metadata": {
            "tags": []
          },
          "execution_count": 26
        }
      ]
    },
    {
      "cell_type": "code",
      "metadata": {
        "id": "lqlw7YE_xypU"
      },
      "source": [
        "esms = np.array([['Darunavir'],\n",
        "       ['N-acetyl-neuraminic acid'],\n",
        "       ['N-Acetyllactosamine'],\n",
        "       ['3α,6α-Mannopentaose'],\n",
        "       ['N-Glycolylneuraminic acid'],\n",
        "       ['2-keto-3-deoxynononic acid'],\n",
        "       ['Cytidine-5′-monophospho-N-acetylneuraminic acid sodium salt']],\n",
        "      dtype='O').reshape(7,)"
      ],
      "execution_count": null,
      "outputs": []
    },
    {
      "cell_type": "code",
      "metadata": {
        "colab": {
          "base_uri": "https://localhost:8080/"
        },
        "id": "ShRfJlw3xypV",
        "outputId": "ad113461-1573-4112-8f24-d9e54fc15857"
      },
      "source": [
        "esms"
      ],
      "execution_count": null,
      "outputs": [
        {
          "output_type": "execute_result",
          "data": {
            "text/plain": [
              "array(['Darunavir', 'N-acetyl-neuraminic acid', 'N-Acetyllactosamine',\n",
              "       '3α,6α-Mannopentaose', 'N-Glycolylneuraminic acid',\n",
              "       '2-keto-3-deoxynononic acid',\n",
              "       'Cytidine-5′-monophospho-N-acetylneuraminic acid sodium salt'],\n",
              "      dtype=object)"
            ]
          },
          "metadata": {
            "tags": []
          },
          "execution_count": 28
        }
      ]
    },
    {
      "cell_type": "code",
      "metadata": {
        "id": "paHW1cY2xypV"
      },
      "source": [
        "target='MFVFLVLLPLVSSQCVNLTTRTQLPPAYTNSFTRGVYYPDKVFRSSVLHSTQDLFLPFFSNVTWFHAIHVSGTNGTKRFDNPVLPFNDGVYFASTEKSNIIRGWIFGTTLDSKTQSLLIVNNATNVVIKVCEFQFCNDPFLGVYYHKNNKSWMESEFRVYSSANNCTFEYVSQPFLMDLEGKQGNFKNLREFVFKNIDGYFKIYSKHTPINLVRDLPQGFSALEPLVDLPIGINITRFQTLLALHRSYLTPGDSSSGWTAGAAAYYVGYLQPRTFLLKYNENGTITDAVDCALDPLSETKCTLKSFTVEKGIYQTSNFRVQPTESIVRFPNITNLCPFGEVFNATRFASVYAWNRKRISNCVADYSVLYNSASFSTFKCYGVSPTKLNDLCFTNVYADSFVIRGDEVRQIAPGQTGKIADYNYKLPDDFTGCVIAWNSNNLDSKVGGNYNYLYRLFRKSNLKPFERDISTEIYQAGSTPCNGVEGFNCYFPLQSYGFQPTNGVGYQPYRVVVLSFELLHAPATVCGPKKSTNLVKNKCVNFNFNGLTGTGVLTESNKKFLPFQQFGRDIADTTDAVRDPQTLEILDITPCSFGGVSVITPGTNTSNQVAVLYQDVNCTEVPVAIHADQLTPTWRVYSTGSNVFQTRAGCLIGAEHVNNSYECDIPIGAGICASYQTQTNSPRRARSVASQSIIAYTMSLGAENSVAYSNNSIAIPTNFTISVTTEILPVSMTKTSVDCTMYICGDSTECSNLLLQYGSFCTQLNRALTGIAVEQDKNTQEVFAQVKQIYKTPPIKDFGGFNFSQILPDPSKPSKRSFIEDLLFNKVTLADAGFIKQYGDCLGDIAARDLICAQKFNGLTVLPPLLTDEMIAQYTSALLAGTITSGWTFGAGAALQIPFAQMAYRFNGIGVTQNVLYENQKLIANQFNSAIGKIQDSLSSTASALGKLQDVVNQNAQALNTLVKQLSSNFGAISSVLNDILSRLDKVEAEVQIDRLITGRLQSLQTYVTQQLIRAAEIRASANLAATKMSECVLGQSKRVDFCGKGYHLMSFPQSAPHGVVFLHVTYVPAQEKNFTTAPAICHDGKAHFPREGVFVSNGTHWFVTQRNFYEPQIITTDNTFVSGNCDVVIGIVNNTVYDPLQPELDSFKEELDKYFKNHTSPDVDLGDISGINASVVNIQKEIDRLNEVAKNLNESLIDLQELGKYEQYIKWPWYIWLGFIAGLIAIVMVTIMLCCMTSCCSCLKGCCSCGSCCKFDEDDSEPVLKGVKLHYT'\n",
        "target_name='Spike Protein'"
      ],
      "execution_count": null,
      "outputs": []
    },
    {
      "cell_type": "code",
      "metadata": {
        "id": "ocvhV5Lzb8IN"
      },
      "source": [
        "a = [target,target_name]\n",
        "a = tuple(a)\n",
        "a"
      ],
      "execution_count": null,
      "outputs": []
    },
    {
      "cell_type": "code",
      "metadata": {
        "id": "62u9zsWF7ICo"
      },
      "source": [
        "b = []\n",
        "b.append(cods)\n",
        "b.append(esms)\n",
        "b = tuple(b)\n",
        "b"
      ],
      "execution_count": null,
      "outputs": []
    },
    {
      "cell_type": "code",
      "metadata": {
        "id": "-bhkiSAO7thh"
      },
      "source": [
        "from DeepPurpose import oneliner"
      ],
      "execution_count": null,
      "outputs": []
    },
    {
      "cell_type": "code",
      "metadata": {
        "id": "-UENHHoP7KZj"
      },
      "source": [
        "oneliner.repurpose(*a, *b,pretrained=True, pretrained_dir = './save_folder/pretrained_models/DeepPurpose_BindingDB/',agg='mean')"
      ],
      "execution_count": null,
      "outputs": []
    },
    {
      "cell_type": "code",
      "metadata": {
        "id": "DKIn6Iw0sJHK"
      },
      "source": [
        "oneliner.repurpose(*a, *b, agg='max_effect')"
      ],
      "execution_count": null,
      "outputs": []
    },
    {
      "cell_type": "code",
      "metadata": {
        "id": "sxhQPXr2sXCN"
      },
      "source": [
        "oneliner.repurpose(*a, *b, pretrained=True, pretrained_dir = './save_folder/pretrained_models/DeepPurpose_BindingDB/',agg='mean')"
      ],
      "execution_count": null,
      "outputs": []
    },
    {
      "cell_type": "code",
      "metadata": {
        "id": "yGoaQRX3scMr"
      },
      "source": [
        "oneliner.repurpose(*a, *b, convert_y = True,pretrained=True, pretrained_dir = './save_folder/pretrained_models/DeepPurpose_BindingDB/',agg='mean')"
      ],
      "execution_count": null,
      "outputs": []
    },
    {
      "cell_type": "code",
      "metadata": {
        "id": "atw5TkeusmvB"
      },
      "source": [
        "oneliner.repurpose(*a, *b, convert_y = True,pretrained=True, pretrained_dir = './save_folder/pretrained_models/DeepPurpose_BindingDB/',agg='max_effect')"
      ],
      "execution_count": null,
      "outputs": []
    },
    {
      "cell_type": "code",
      "metadata": {
        "id": "ZOurN1LHxHlS"
      },
      "source": [
        "oneliner.repurpose(*a, *b)"
      ],
      "execution_count": null,
      "outputs": []
    },
    {
      "cell_type": "markdown",
      "metadata": {
        "id": "L4ykQ1LmzSZU"
      },
      "source": [
        "## Example of loading our trained models and tesing Lab compounds"
      ]
    },
    {
      "cell_type": "code",
      "metadata": {
        "id": "gmOJNuWv8qn8"
      },
      "source": [
        "aida=models.model_pretrained(path_dir ='model path' )"
      ],
      "execution_count": null,
      "outputs": []
    },
    {
      "cell_type": "code",
      "metadata": {
        "id": "kWd-0izC4llT"
      },
      "source": [
        "aida.config"
      ],
      "execution_count": null,
      "outputs": []
    },
    {
      "cell_type": "code",
      "metadata": {
        "colab": {
          "base_uri": "https://localhost:8080/"
        },
        "id": "9QpfKcLw8qiM",
        "outputId": "460cfcb8-4d72-40a5-9528-894f7dcc1625"
      },
      "source": [
        "y_pred = models.repurpose(X_repurpose = X_repurpose, target = target, model = aida, \n",
        "                          drug_names = drug_names, target_name = target_name, \n",
        "                          result_folder = \"./result/\")"
      ],
      "execution_count": null,
      "outputs": [
        {
          "output_type": "stream",
          "text": [
            "repurposing...\n",
            "Drug Target Interaction Prediction Mode...\n",
            "in total: 8 drug-target pairs\n",
            "encoding drug...\n",
            "unique drugs: 8\n",
            "encoding protein...\n",
            "unique target sequence: 1\n",
            "-- Encoding AAC takes time. Time Reference: 24s for ~100 sequences in a CPU.\t\t\t\t Calculate your time by the unique target sequence #, instead of the entire dataset.\n",
            "Done.\n",
            "predicting...\n",
            "---------------\n",
            "Drug Repurposing Result for Spike Protein\n",
            "+------+---------------------------------------------------------------+---------------+-------------+-------------+\n",
            "| Rank |                           Drug Name                           |  Target Name  | Interaction | Probability |\n",
            "+------+---------------------------------------------------------------+---------------+-------------+-------------+\n",
            "|  1   |                           Darunavir                           | Spike Protein |      NO     |     0.01    |\n",
            "|  2   |  Cytidine-5′-monophospho-N-acetylneuraminic acid sodium salt  | Spike Protein |      NO     |     0.00    |\n",
            "|  3   |                   N-acetyl-neuraminic acid                    | Spike Protein |      NO     |     0.00    |\n",
            "|  4   |                   N-Glycolylneuraminic acid                   | Spike Protein |      NO     |     0.00    |\n",
            "|  5   |                   2-keto-3-deoxynononic acid                  | Spike Protein |      NO     |     0.00    |\n",
            "|  6   |                      N-Acetyllactosamine                      | Spike Protein |      NO     |     0.00    |\n",
            "|  7   | 2,4,7,8,9-Penta-O-acetyl-N-acetylneuraminic acid methyl ester | Spike Protein |      NO     |     0.00    |\n",
            "|  8   |                      3α,6α-Mannopentaose                      | Spike Protein |      NO     |     0.00    |\n",
            "+------+---------------------------------------------------------------+---------------+-------------+-------------+"
          ],
          "name": "stdout"
        }
      ]
    }
  ]
}