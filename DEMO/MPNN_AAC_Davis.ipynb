{
 "cells": [
  {
   "cell_type": "code",
   "execution_count": 1,
   "metadata": {},
   "outputs": [],
   "source": [
    "import os\n",
    "os.chdir('../../')"
   ]
  },
  {
   "cell_type": "code",
   "execution_count": 2,
   "metadata": {},
   "outputs": [
    {
     "name": "stderr",
     "output_type": "stream",
     "text": [
      "RDKit WARNING: [12:56:42] Enabling RDKit 2019.09.3 jupyter extensions\n"
     ]
    }
   ],
   "source": [
    "import DeepPurpose.models as models\n",
    "from DeepPurpose.utils import *\n",
    "from DeepPurpose.dataset import *\n"
   ]
  },
  {
   "cell_type": "code",
   "execution_count": 3,
   "metadata": {},
   "outputs": [
    {
     "name": "stdout",
     "output_type": "stream",
     "text": [
      "Beginning Processing...\n",
      "Beginning to extract zip file...\n",
      "Default set to logspace (nM -> p) for easier regression\n",
      "Done!\n",
      "in total: 30056 drug-target pairs\n",
      "encoding drug...\n",
      "unique drugs: 68\n",
      "drug encoding finished...\n",
      "encoding protein...\n",
      "unique target sequence: 379\n",
      "-- Encoding AAC takes time. Time Reference: 24s for ~100 sequences in a CPU. Calculate your time by the unique target sequence #, instead of the entire dataset.\n",
      "protein encoding finished...\n",
      "splitting dataset...\n",
      "Done.\n",
      "cost about 297 seconds\n"
     ]
    }
   ],
   "source": [
    "from time import time\n",
    "\n",
    "t1 = time()\n",
    "X_drug, X_target, y = load_process_DAVIS('./data/', binary=False)\n",
    "\n",
    "drug_encoding = 'MPNN'\n",
    "target_encoding = 'AAC'\n",
    "train, val, test = data_process(X_drug, X_target, y, \n",
    "                                drug_encoding, target_encoding, \n",
    "                                split_method='random',frac=[0.7,0.1,0.2])\n",
    "\n",
    "# use the parameters setting provided in the paper: https://arxiv.org/abs/1801.10193\n",
    "config = generate_config(drug_encoding = drug_encoding, \n",
    "                         target_encoding = target_encoding, \n",
    "                         cls_hidden_dims = [1024,1024,512], \n",
    "                         train_epoch = 100, \n",
    "                         test_every_X_epoch = 10, \n",
    "                         LR = 0.001, \n",
    "                         batch_size = 128,\n",
    "                         hidden_dim_drug = 128,\n",
    "                         mpnn_hidden_size = 128,\n",
    "                         mpnn_depth = 3, \n",
    "                         cnn_target_filters = [32,64,96],\n",
    "                         cnn_target_kernels = [4,8,12]\n",
    "                        )\n",
    "model = models.model_initialize(**config)\n",
    "t2 = time()\n",
    "print(\"cost about \" + str(int(t2-t1)) + \" seconds\")"
   ]
  },
  {
   "cell_type": "code",
   "execution_count": null,
   "metadata": {},
   "outputs": [
    {
     "name": "stdout",
     "output_type": "stream",
     "text": [
      "Let's use CPU/s!\n",
      "--- Data Preparation ---\n",
      "--- Go for Training ---\n",
      "Training at Epoch 1 iteration 0 with loss 30.099525. Total time 0.0005555555555555556 hours\n",
      "Training at Epoch 1 iteration 100 with loss 0.8991968. Total time 0.025555555555555557 hours\n",
      "Validation at Epoch 1 , MSE: 0.6333563031666661 , Pearson Correlation: 0.47152453064209676 with p-value: 2.8783234657972543e-166 , Concordance Index: 0.7436296069755622\n",
      "Training at Epoch 2 iteration 0 with loss 0.5594412. Total time 0.04694444444444444 hours\n",
      "Training at Epoch 2 iteration 100 with loss 0.7445534. Total time 0.07222222222222222 hours\n",
      "Validation at Epoch 2 , MSE: 0.6204381426401602 , Pearson Correlation: 0.5078969152313477 with p-value: 6.907637519025476e-197 , Concordance Index: 0.7664927029863521\n",
      "Training at Epoch 3 iteration 0 with loss 0.6076644. Total time 0.0913888888888889 hours\n",
      "Training at Epoch 3 iteration 100 with loss 0.69004136. Total time 0.11611111111111111 hours\n",
      "Validation at Epoch 3 , MSE: 0.6104125510571017 , Pearson Correlation: 0.5361745830723483 with p-value: 2.146143863512489e-223 , Concordance Index: 0.7797608806141241\n",
      "Training at Epoch 4 iteration 0 with loss 0.65014493. Total time 0.13333333333333333 hours\n",
      "Training at Epoch 4 iteration 100 with loss 0.600279. Total time 0.15638888888888888 hours\n",
      "Validation at Epoch 4 , MSE: 0.591899966015619 , Pearson Correlation: 0.5599048604101552 with p-value: 1.1348501944363898e-247 , Concordance Index: 0.7845188459431333\n",
      "Training at Epoch 5 iteration 0 with loss 0.5849918. Total time 0.17472222222222222 hours\n",
      "Training at Epoch 5 iteration 100 with loss 0.46071917. Total time 0.21194444444444444 hours\n",
      "Validation at Epoch 5 , MSE: 0.5431236246607745 , Pearson Correlation: 0.5869877865298784 with p-value: 6.791130864781662e-278 , Concordance Index: 0.7922081579578483\n",
      "Training at Epoch 6 iteration 0 with loss 0.6295771. Total time 0.23972222222222223 hours\n",
      "Training at Epoch 6 iteration 100 with loss 0.6356133. Total time 0.27416666666666667 hours\n",
      "Validation at Epoch 6 , MSE: 0.6808713178974981 , Pearson Correlation: 0.620153857184977 with p-value: 4.95014e-319 , Concordance Index: 0.8021434496293738\n",
      "Training at Epoch 7 iteration 0 with loss 0.6206667. Total time 0.3025 hours\n",
      "Training at Epoch 7 iteration 100 with loss 0.5210643. Total time 0.33416666666666667 hours\n",
      "Validation at Epoch 7 , MSE: 0.5493500628251425 , Pearson Correlation: 0.6009188734595814 with p-value: 1.3823405367574975e-294 , Concordance Index: 0.7950933001247522\n",
      "Training at Epoch 8 iteration 0 with loss 0.5371585. Total time 0.3572222222222222 hours\n",
      "Training at Epoch 8 iteration 100 with loss 0.44393176. Total time 0.395 hours\n",
      "Validation at Epoch 8 , MSE: 0.5585138547980687 , Pearson Correlation: 0.645334453586801 with p-value: 0.0 , Concordance Index: 0.820401275244719\n",
      "Training at Epoch 9 iteration 0 with loss 0.68880135. Total time 0.42 hours\n",
      "Training at Epoch 9 iteration 100 with loss 0.36630863. Total time 0.4588888888888889 hours\n",
      "Validation at Epoch 9 , MSE: 0.45790378416708793 , Pearson Correlation: 0.6537229479809283 with p-value: 0.0 , Concordance Index: 0.8217425264190837\n",
      "Training at Epoch 10 iteration 0 with loss 0.42707026. Total time 0.4875 hours\n",
      "Training at Epoch 10 iteration 100 with loss 0.35405672. Total time 0.5230555555555556 hours\n",
      "Validation at Epoch 10 , MSE: 0.5186388718029062 , Pearson Correlation: 0.6619811548792567 with p-value: 0.0 , Concordance Index: 0.8221658478199168\n",
      "Training at Epoch 11 iteration 0 with loss 0.53881615. Total time 0.5525 hours\n",
      "Training at Epoch 11 iteration 100 with loss 0.42307615. Total time 0.5902777777777778 hours\n",
      "Validation at Epoch 11 , MSE: 0.43241314268041814 , Pearson Correlation: 0.6781762998325824 with p-value: 0.0 , Concordance Index: 0.8271902592073505\n",
      "--- Go for Testing ---\n",
      "Up to Epoch 10 Testing MSE: 0.4813764928477147 , Pearson Correlation: 0.6370642245522775 with p-value: 0.0 , Concordance Index: 0.7990420498098798\n",
      "Training at Epoch 12 iteration 0 with loss 0.64325225. Total time 0.6275 hours\n",
      "Training at Epoch 12 iteration 100 with loss 0.30379784. Total time 0.6633333333333333 hours\n",
      "Validation at Epoch 12 , MSE: 0.4570510864107026 , Pearson Correlation: 0.695396924108379 with p-value: 0.0 , Concordance Index: 0.8400399559076878\n",
      "Training at Epoch 13 iteration 0 with loss 0.3245204. Total time 0.6897222222222222 hours\n",
      "Training at Epoch 13 iteration 100 with loss 0.6127399. Total time 0.7280555555555556 hours\n",
      "Validation at Epoch 13 , MSE: 0.42800136057818133 , Pearson Correlation: 0.7025698316207472 with p-value: 0.0 , Concordance Index: 0.8383691124992024\n",
      "Training at Epoch 14 iteration 0 with loss 0.5076731. Total time 0.7577777777777778 hours\n",
      "Training at Epoch 14 iteration 100 with loss 0.29238087. Total time 0.8005555555555556 hours\n",
      "Validation at Epoch 14 , MSE: 0.45276742743924164 , Pearson Correlation: 0.699919901219034 with p-value: 0.0 , Concordance Index: 0.8335312793591213\n",
      "Training at Epoch 15 iteration 0 with loss 0.44354638. Total time 0.8258333333333333 hours\n",
      "Training at Epoch 15 iteration 100 with loss 0.451846. Total time 0.8586111111111111 hours\n",
      "Validation at Epoch 15 , MSE: 0.5540525572713315 , Pearson Correlation: 0.7195666592709293 with p-value: 0.0 , Concordance Index: 0.8373647142690556\n",
      "Training at Epoch 16 iteration 0 with loss 0.5630586. Total time 0.8825 hours\n",
      "Training at Epoch 16 iteration 100 with loss 0.478855. Total time 0.9175 hours\n",
      "Validation at Epoch 16 , MSE: 0.3965698884180838 , Pearson Correlation: 0.7198487705988668 with p-value: 0.0 , Concordance Index: 0.8438960530339867\n",
      "Training at Epoch 17 iteration 0 with loss 0.3240101. Total time 0.9425 hours\n",
      "Training at Epoch 17 iteration 100 with loss 0.45400283. Total time 0.9788888888888889 hours\n",
      "Validation at Epoch 17 , MSE: 0.37792913106707227 , Pearson Correlation: 0.73002402063108 with p-value: 0.0 , Concordance Index: 0.8481215662891831\n",
      "Training at Epoch 18 iteration 0 with loss 0.413083. Total time 1.0077777777777779 hours\n",
      "Training at Epoch 18 iteration 100 with loss 0.4195894. Total time 1.0397222222222222 hours\n",
      "Validation at Epoch 18 , MSE: 0.5110180347663267 , Pearson Correlation: 0.7283023915215646 with p-value: 0.0 , Concordance Index: 0.8351988224448351\n",
      "Training at Epoch 19 iteration 0 with loss 0.5379783. Total time 1.0622222222222222 hours\n",
      "Training at Epoch 19 iteration 100 with loss 0.25769988. Total time 1.0925 hours\n",
      "Validation at Epoch 19 , MSE: 0.39506137241833583 , Pearson Correlation: 0.7437639850465004 with p-value: 0.0 , Concordance Index: 0.8464496227731072\n",
      "Training at Epoch 20 iteration 0 with loss 0.37526828. Total time 1.1177777777777778 hours\n",
      "Training at Epoch 20 iteration 100 with loss 0.43821073. Total time 1.1511111111111112 hours\n",
      "Validation at Epoch 20 , MSE: 0.36622105313983927 , Pearson Correlation: 0.7399234608417687 with p-value: 0.0 , Concordance Index: 0.8442296056554331\n",
      "Training at Epoch 21 iteration 0 with loss 0.43495357. Total time 1.1722222222222223 hours\n",
      "Training at Epoch 21 iteration 100 with loss 0.35942438. Total time 1.2091666666666667 hours\n",
      "Validation at Epoch 21 , MSE: 0.3542857743149273 , Pearson Correlation: 0.7551764880180181 with p-value: 0.0 , Concordance Index: 0.8540117623503579\n",
      "--- Go for Testing ---\n",
      "Up to Epoch 20 Testing MSE: 0.3737021191676548 , Pearson Correlation: 0.7372325996984646 with p-value: 0.0 , Concordance Index: 0.8363628509003841\n",
      "Training at Epoch 22 iteration 0 with loss 0.2378037. Total time 1.2580555555555555 hours\n",
      "Training at Epoch 22 iteration 100 with loss 0.3641736. Total time 1.2977777777777777 hours\n",
      "Validation at Epoch 22 , MSE: 0.3351357384656188 , Pearson Correlation: 0.7636068830791765 with p-value: 0.0 , Concordance Index: 0.8524900935311474\n",
      "Training at Epoch 23 iteration 0 with loss 0.27310145. Total time 1.3194444444444444 hours\n",
      "Training at Epoch 23 iteration 100 with loss 0.34919274. Total time 1.3630555555555555 hours\n",
      "Validation at Epoch 23 , MSE: 0.36185781972680087 , Pearson Correlation: 0.7652950215915697 with p-value: 0.0 , Concordance Index: 0.8596619149352807\n",
      "Training at Epoch 24 iteration 0 with loss 0.3957744. Total time 1.3941666666666668 hours\n",
      "Training at Epoch 24 iteration 100 with loss 0.3565238. Total time 1.4288888888888889 hours\n"
     ]
    },
    {
     "name": "stdout",
     "output_type": "stream",
     "text": [
      "Validation at Epoch 24 , MSE: 0.39359366350744673 , Pearson Correlation: 0.7810317714912944 with p-value: 0.0 , Concordance Index: 0.8710528689705853\n",
      "Training at Epoch 25 iteration 0 with loss 0.3127577. Total time 1.4525 hours\n",
      "Training at Epoch 25 iteration 100 with loss 0.32820654. Total time 1.478888888888889 hours\n",
      "Validation at Epoch 25 , MSE: 0.36442591434098004 , Pearson Correlation: 0.773628054049482 with p-value: 0.0 , Concordance Index: 0.8535332155484806\n",
      "Training at Epoch 26 iteration 0 with loss 0.30815893. Total time 1.4975 hours\n",
      "Training at Epoch 26 iteration 100 with loss 0.30113938. Total time 1.5302777777777778 hours\n",
      "Validation at Epoch 26 , MSE: 0.3549715202222955 , Pearson Correlation: 0.7818788864291206 with p-value: 0.0 , Concordance Index: 0.8627844603202193\n",
      "Training at Epoch 27 iteration 0 with loss 0.28623033. Total time 1.5572222222222223 hours\n",
      "Training at Epoch 27 iteration 100 with loss 0.19720313. Total time 1.5891666666666666 hours\n",
      "Validation at Epoch 27 , MSE: 0.3105833151401006 , Pearson Correlation: 0.7846995272400361 with p-value: 0.0 , Concordance Index: 0.8645683947890104\n",
      "Training at Epoch 28 iteration 0 with loss 0.2925472. Total time 1.6163888888888889 hours\n",
      "Training at Epoch 28 iteration 100 with loss 0.35365868. Total time 1.646388888888889 hours\n",
      "Validation at Epoch 28 , MSE: 0.30872460186914974 , Pearson Correlation: 0.7866966034995717 with p-value: 0.0 , Concordance Index: 0.8705716819104908\n",
      "Training at Epoch 29 iteration 0 with loss 0.23867388. Total time 1.6677777777777778 hours\n",
      "Training at Epoch 29 iteration 100 with loss 0.18939327. Total time 1.7 hours\n",
      "Validation at Epoch 29 , MSE: 0.31035816019063106 , Pearson Correlation: 0.7848177107592132 with p-value: 0.0 , Concordance Index: 0.8616832526221064\n",
      "Training at Epoch 30 iteration 0 with loss 0.3331108. Total time 1.7208333333333334 hours\n",
      "Training at Epoch 30 iteration 100 with loss 0.28318024. Total time 1.7516666666666667 hours\n",
      "Validation at Epoch 30 , MSE: 0.30185604413654676 , Pearson Correlation: 0.7919363435070192 with p-value: 0.0 , Concordance Index: 0.86939478681015\n",
      "Training at Epoch 31 iteration 0 with loss 0.3263801. Total time 1.7738888888888888 hours\n",
      "Training at Epoch 31 iteration 100 with loss 0.42254806. Total time 1.8058333333333334 hours\n",
      "Validation at Epoch 31 , MSE: 0.2917747953508871 , Pearson Correlation: 0.7973023560317152 with p-value: 0.0 , Concordance Index: 0.8637648762048928\n",
      "--- Go for Testing ---\n",
      "Up to Epoch 30 Testing MSE: 0.3246778457009768 , Pearson Correlation: 0.774888821223302 with p-value: 0.0 , Concordance Index: 0.8390866056833526\n",
      "Training at Epoch 32 iteration 0 with loss 0.19281891. Total time 1.8383333333333334 hours\n",
      "Training at Epoch 32 iteration 100 with loss 0.25856704. Total time 1.8666666666666667 hours\n",
      "Validation at Epoch 32 , MSE: 0.2913912113686265 , Pearson Correlation: 0.8017626133766826 with p-value: 0.0 , Concordance Index: 0.8620709305370066\n",
      "Training at Epoch 33 iteration 0 with loss 0.23599228. Total time 1.8872222222222221 hours\n",
      "Training at Epoch 33 iteration 100 with loss 0.32526466. Total time 1.9169444444444443 hours\n",
      "Validation at Epoch 33 , MSE: 0.33900506888256915 , Pearson Correlation: 0.796476144428027 with p-value: 0.0 , Concordance Index: 0.8630201033661092\n",
      "Training at Epoch 34 iteration 0 with loss 0.3804836. Total time 1.9388888888888889 hours\n",
      "Training at Epoch 34 iteration 100 with loss 0.23168808. Total time 1.971111111111111 hours\n",
      "Validation at Epoch 34 , MSE: 0.2902800383083106 , Pearson Correlation: 0.7985041575515968 with p-value: 0.0 , Concordance Index: 0.8657804933322479\n",
      "Training at Epoch 35 iteration 0 with loss 0.22937503. Total time 1.9927777777777778 hours\n",
      "Training at Epoch 35 iteration 100 with loss 0.1675765. Total time 2.024722222222222 hours\n",
      "Validation at Epoch 35 , MSE: 0.29910578286851036 , Pearson Correlation: 0.8053947733892968 with p-value: 0.0 , Concordance Index: 0.8687389026646806\n",
      "Training at Epoch 36 iteration 0 with loss 0.19671196. Total time 2.051111111111111 hours\n",
      "Training at Epoch 36 iteration 100 with loss 0.33883736. Total time 2.081111111111111 hours\n",
      "Validation at Epoch 36 , MSE: 0.29007373408361253 , Pearson Correlation: 0.8077704503920224 with p-value: 0.0 , Concordance Index: 0.8663562896451273\n",
      "Training at Epoch 37 iteration 0 with loss 0.43856323. Total time 2.1044444444444443 hours\n",
      "Training at Epoch 37 iteration 100 with loss 0.33567446. Total time 2.1375 hours\n",
      "Validation at Epoch 37 , MSE: 0.30644791688036155 , Pearson Correlation: 0.8052125292925878 with p-value: 0.0 , Concordance Index: 0.8672491369655952\n",
      "Training at Epoch 38 iteration 0 with loss 0.23401214. Total time 2.161111111111111 hours\n",
      "Training at Epoch 38 iteration 100 with loss 0.27506176. Total time 2.193611111111111 hours\n",
      "Validation at Epoch 38 , MSE: 0.3092280163253159 , Pearson Correlation: 0.8059533717514127 with p-value: 0.0 , Concordance Index: 0.867709862024506\n",
      "Training at Epoch 39 iteration 0 with loss 0.20131038. Total time 2.2180555555555554 hours\n",
      "Training at Epoch 39 iteration 100 with loss 0.21657985. Total time 2.251388888888889 hours\n",
      "Validation at Epoch 39 , MSE: 0.34845105545432764 , Pearson Correlation: 0.8123655024106763 with p-value: 0.0 , Concordance Index: 0.8651226289931155\n",
      "Training at Epoch 40 iteration 0 with loss 0.25696138. Total time 2.2744444444444443 hours\n",
      "Training at Epoch 40 iteration 100 with loss 0.2842762. Total time 2.3075 hours\n",
      "Validation at Epoch 40 , MSE: 0.28370908033027115 , Pearson Correlation: 0.8151126913066356 with p-value: 0.0 , Concordance Index: 0.8689113995348745\n",
      "Training at Epoch 41 iteration 0 with loss 0.21695447. Total time 2.335 hours\n",
      "Training at Epoch 41 iteration 100 with loss 0.2554765. Total time 2.3630555555555555 hours\n",
      "Validation at Epoch 41 , MSE: 0.2662490792606114 , Pearson Correlation: 0.8232039549187211 with p-value: 0.0 , Concordance Index: 0.8728416439127746\n",
      "--- Go for Testing ---\n",
      "Up to Epoch 40 Testing MSE: 0.30498383135473417 , Pearson Correlation: 0.7953220159646318 with p-value: 0.0 , Concordance Index: 0.8478149001665806\n",
      "Training at Epoch 42 iteration 0 with loss 0.2116869. Total time 2.3930555555555557 hours\n",
      "Training at Epoch 42 iteration 100 with loss 0.18286349. Total time 2.4291666666666667 hours\n",
      "Validation at Epoch 42 , MSE: 0.3169455780058641 , Pearson Correlation: 0.8157516603697661 with p-value: 0.0 , Concordance Index: 0.8718885106963461\n",
      "Training at Epoch 43 iteration 0 with loss 0.27747488. Total time 2.45 hours\n"
     ]
    }
   ],
   "source": [
    "model.train(train, val, test)"
   ]
  },
  {
   "cell_type": "code",
   "execution_count": null,
   "metadata": {},
   "outputs": [],
   "source": [
    "model.save_model('./model_MPNN_AAC_Davis')"
   ]
  },
  {
   "cell_type": "code",
   "execution_count": null,
   "metadata": {},
   "outputs": [],
   "source": []
  }
 ],
 "metadata": {
  "kernelspec": {
   "display_name": "Python 3",
   "language": "python",
   "name": "python3"
  },
  "language_info": {
   "codemirror_mode": {
    "name": "ipython",
    "version": 3
   },
   "file_extension": ".py",
   "mimetype": "text/x-python",
   "name": "python",
   "nbconvert_exporter": "python",
   "pygments_lexer": "ipython3",
   "version": "3.7.7"
  }
 },
 "nbformat": 4,
 "nbformat_minor": 4
}
