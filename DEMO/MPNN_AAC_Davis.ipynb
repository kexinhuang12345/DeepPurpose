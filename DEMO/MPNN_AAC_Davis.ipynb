{
 "cells": [
  {
   "cell_type": "code",
   "execution_count": 1,
   "metadata": {},
   "outputs": [],
   "source": [
    "import os\n",
    "os.chdir('../../')"
   ]
  },
  {
   "cell_type": "code",
   "execution_count": 2,
   "metadata": {},
   "outputs": [
    {
     "name": "stderr",
     "output_type": "stream",
     "text": [
      "RDKit WARNING: [12:56:42] Enabling RDKit 2019.09.3 jupyter extensions\n"
     ]
    }
   ],
   "source": [
    "import DeepPurpose.models as models\n",
    "from DeepPurpose.utils import *\n",
    "from DeepPurpose.dataset import *\n"
   ]
  },
  {
   "cell_type": "code",
   "execution_count": 3,
   "metadata": {},
   "outputs": [
    {
     "name": "stdout",
     "output_type": "stream",
     "text": [
      "Beginning Processing...\n",
      "Beginning to extract zip file...\n",
      "Default set to logspace (nM -> p) for easier regression\n",
      "Done!\n",
      "in total: 30056 drug-target pairs\n",
      "encoding drug...\n",
      "unique drugs: 68\n",
      "drug encoding finished...\n",
      "encoding protein...\n",
      "unique target sequence: 379\n",
      "-- Encoding AAC takes time. Time Reference: 24s for ~100 sequences in a CPU. Calculate your time by the unique target sequence #, instead of the entire dataset.\n",
      "protein encoding finished...\n",
      "splitting dataset...\n",
      "Done.\n",
      "cost about 297 seconds\n"
     ]
    }
   ],
   "source": [
    "from time import time\n",
    "\n",
    "t1 = time()\n",
    "X_drug, X_target, y = load_process_DAVIS('./data/', binary=False)\n",
    "\n",
    "drug_encoding = 'MPNN'\n",
    "target_encoding = 'AAC'\n",
    "train, val, test = data_process(X_drug, X_target, y, \n",
    "                                drug_encoding, target_encoding, \n",
    "                                split_method='random',frac=[0.7,0.1,0.2])\n",
    "\n",
    "# use the parameters setting provided in the paper: https://arxiv.org/abs/1801.10193\n",
    "config = generate_config(drug_encoding = drug_encoding, \n",
    "                         target_encoding = target_encoding, \n",
    "                         cls_hidden_dims = [1024,1024,512], \n",
    "                         train_epoch = 100, \n",
    "                         test_every_X_epoch = 10, \n",
    "                         LR = 0.001, \n",
    "                         batch_size = 128,\n",
    "                         hidden_dim_drug = 128,\n",
    "                         mpnn_hidden_size = 128,\n",
    "                         mpnn_depth = 3, \n",
    "                         cnn_target_filters = [32,64,96],\n",
    "                         cnn_target_kernels = [4,8,12]\n",
    "                        )\n",
    "model = models.model_initialize(**config)\n",
    "t2 = time()\n",
    "print(\"cost about \" + str(int(t2-t1)) + \" seconds\")"
   ]
  },
  {
   "cell_type": "code",
   "execution_count": null,
   "metadata": {},
   "outputs": [
    {
     "name": "stdout",
     "output_type": "stream",
     "text": [
      "Let's use CPU/s!\n",
      "--- Data Preparation ---\n",
      "--- Go for Training ---\n",
      "Training at Epoch 1 iteration 0 with loss 30.099525. Total time 0.0005555555555555556 hours\n",
      "Training at Epoch 1 iteration 100 with loss 0.8991968. Total time 0.025555555555555557 hours\n",
      "Validation at Epoch 1 , MSE: 0.6333563031666661 , Pearson Correlation: 0.47152453064209676 with p-value: 2.8783234657972543e-166 , Concordance Index: 0.7436296069755622\n",
      "Training at Epoch 2 iteration 0 with loss 0.5594412. Total time 0.04694444444444444 hours\n",
      "Training at Epoch 2 iteration 100 with loss 0.7445534. Total time 0.07222222222222222 hours\n",
      "Validation at Epoch 2 , MSE: 0.6204381426401602 , Pearson Correlation: 0.5078969152313477 with p-value: 6.907637519025476e-197 , Concordance Index: 0.7664927029863521\n",
      "Training at Epoch 3 iteration 0 with loss 0.6076644. Total time 0.0913888888888889 hours\n",
      "Training at Epoch 3 iteration 100 with loss 0.69004136. Total time 0.11611111111111111 hours\n",
      "Validation at Epoch 3 , MSE: 0.6104125510571017 , Pearson Correlation: 0.5361745830723483 with p-value: 2.146143863512489e-223 , Concordance Index: 0.7797608806141241\n",
      "Training at Epoch 4 iteration 0 with loss 0.65014493. Total time 0.13333333333333333 hours\n",
      "Training at Epoch 4 iteration 100 with loss 0.600279. Total time 0.15638888888888888 hours\n",
      "Validation at Epoch 4 , MSE: 0.591899966015619 , Pearson Correlation: 0.5599048604101552 with p-value: 1.1348501944363898e-247 , Concordance Index: 0.7845188459431333\n",
      "Training at Epoch 5 iteration 0 with loss 0.5849918. Total time 0.17472222222222222 hours\n",
      "Training at Epoch 5 iteration 100 with loss 0.46071917. Total time 0.21194444444444444 hours\n",
      "Validation at Epoch 5 , MSE: 0.5431236246607745 , Pearson Correlation: 0.5869877865298784 with p-value: 6.791130864781662e-278 , Concordance Index: 0.7922081579578483\n",
      "Training at Epoch 6 iteration 0 with loss 0.6295771. Total time 0.23972222222222223 hours\n",
      "Training at Epoch 6 iteration 100 with loss 0.6356133. Total time 0.27416666666666667 hours\n",
      "Validation at Epoch 6 , MSE: 0.6808713178974981 , Pearson Correlation: 0.620153857184977 with p-value: 4.95014e-319 , Concordance Index: 0.8021434496293738\n",
      "Training at Epoch 7 iteration 0 with loss 0.6206667. Total time 0.3025 hours\n",
      "Training at Epoch 7 iteration 100 with loss 0.5210643. Total time 0.33416666666666667 hours\n",
      "Validation at Epoch 7 , MSE: 0.5493500628251425 , Pearson Correlation: 0.6009188734595814 with p-value: 1.3823405367574975e-294 , Concordance Index: 0.7950933001247522\n",
      "Training at Epoch 8 iteration 0 with loss 0.5371585. Total time 0.3572222222222222 hours\n",
      "Training at Epoch 8 iteration 100 with loss 0.44393176. Total time 0.395 hours\n",
      "Validation at Epoch 8 , MSE: 0.5585138547980687 , Pearson Correlation: 0.645334453586801 with p-value: 0.0 , Concordance Index: 0.820401275244719\n",
      "Training at Epoch 9 iteration 0 with loss 0.68880135. Total time 0.42 hours\n",
      "Training at Epoch 9 iteration 100 with loss 0.36630863. Total time 0.4588888888888889 hours\n",
      "Validation at Epoch 9 , MSE: 0.45790378416708793 , Pearson Correlation: 0.6537229479809283 with p-value: 0.0 , Concordance Index: 0.8217425264190837\n",
      "Training at Epoch 10 iteration 0 with loss 0.42707026. Total time 0.4875 hours\n",
      "Training at Epoch 10 iteration 100 with loss 0.35405672. Total time 0.5230555555555556 hours\n",
      "Validation at Epoch 10 , MSE: 0.5186388718029062 , Pearson Correlation: 0.6619811548792567 with p-value: 0.0 , Concordance Index: 0.8221658478199168\n",
      "Training at Epoch 11 iteration 0 with loss 0.53881615. Total time 0.5525 hours\n",
      "Training at Epoch 11 iteration 100 with loss 0.42307615. Total time 0.5902777777777778 hours\n",
      "Validation at Epoch 11 , MSE: 0.43241314268041814 , Pearson Correlation: 0.6781762998325824 with p-value: 0.0 , Concordance Index: 0.8271902592073505\n",
      "--- Go for Testing ---\n",
      "Up to Epoch 10 Testing MSE: 0.4813764928477147 , Pearson Correlation: 0.6370642245522775 with p-value: 0.0 , Concordance Index: 0.7990420498098798\n",
      "Training at Epoch 12 iteration 0 with loss 0.64325225. Total time 0.6275 hours\n",
      "Training at Epoch 12 iteration 100 with loss 0.30379784. Total time 0.6633333333333333 hours\n",
      "Validation at Epoch 12 , MSE: 0.4570510864107026 , Pearson Correlation: 0.695396924108379 with p-value: 0.0 , Concordance Index: 0.8400399559076878\n",
      "Training at Epoch 13 iteration 0 with loss 0.3245204. Total time 0.6897222222222222 hours\n",
      "Training at Epoch 13 iteration 100 with loss 0.6127399. Total time 0.7280555555555556 hours\n",
      "Validation at Epoch 13 , MSE: 0.42800136057818133 , Pearson Correlation: 0.7025698316207472 with p-value: 0.0 , Concordance Index: 0.8383691124992024\n",
      "Training at Epoch 14 iteration 0 with loss 0.5076731. Total time 0.7577777777777778 hours\n",
      "Training at Epoch 14 iteration 100 with loss 0.29238087. Total time 0.8005555555555556 hours\n",
      "Validation at Epoch 14 , MSE: 0.45276742743924164 , Pearson Correlation: 0.699919901219034 with p-value: 0.0 , Concordance Index: 0.8335312793591213\n",
      "Training at Epoch 15 iteration 0 with loss 0.44354638. Total time 0.8258333333333333 hours\n",
      "Training at Epoch 15 iteration 100 with loss 0.451846. Total time 0.8586111111111111 hours\n",
      "Validation at Epoch 15 , MSE: 0.5540525572713315 , Pearson Correlation: 0.7195666592709293 with p-value: 0.0 , Concordance Index: 0.8373647142690556\n",
      "Training at Epoch 16 iteration 0 with loss 0.5630586. Total time 0.8825 hours\n",
      "Training at Epoch 16 iteration 100 with loss 0.478855. Total time 0.9175 hours\n",
      "Validation at Epoch 16 , MSE: 0.3965698884180838 , Pearson Correlation: 0.7198487705988668 with p-value: 0.0 , Concordance Index: 0.8438960530339867\n",
      "Training at Epoch 17 iteration 0 with loss 0.3240101. Total time 0.9425 hours\n",
      "Training at Epoch 17 iteration 100 with loss 0.45400283. Total time 0.9788888888888889 hours\n",
      "Validation at Epoch 17 , MSE: 0.37792913106707227 , Pearson Correlation: 0.73002402063108 with p-value: 0.0 , Concordance Index: 0.8481215662891831\n",
      "Training at Epoch 18 iteration 0 with loss 0.413083. Total time 1.0077777777777779 hours\n"
     ]
    }
   ],
   "source": [
    "model.train(train, val, test)"
   ]
  },
  {
   "cell_type": "code",
   "execution_count": null,
   "metadata": {},
   "outputs": [],
   "source": [
    "model.save_model('./model_MPNN_AAC_Davis')"
   ]
  },
  {
   "cell_type": "code",
   "execution_count": null,
   "metadata": {},
   "outputs": [],
   "source": []
  }
 ],
 "metadata": {
  "kernelspec": {
   "display_name": "Python 3",
   "language": "python",
   "name": "python3"
  },
  "language_info": {
   "codemirror_mode": {
    "name": "ipython",
    "version": 3
   },
   "file_extension": ".py",
   "mimetype": "text/x-python",
   "name": "python",
   "nbconvert_exporter": "python",
   "pygments_lexer": "ipython3",
   "version": "3.7.7"
  }
 },
 "nbformat": 4,
 "nbformat_minor": 4
}
