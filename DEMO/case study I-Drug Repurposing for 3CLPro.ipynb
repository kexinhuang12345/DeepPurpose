{
 "cells": [
  {
   "cell_type": "code",
   "execution_count": 1,
   "metadata": {},
   "outputs": [],
   "source": [
    "import os\n",
    "os.chdir('../../')"
   ]
  },
  {
   "cell_type": "code",
   "execution_count": 2,
   "metadata": {},
   "outputs": [
    {
     "name": "stderr",
     "output_type": "stream",
     "text": [
      "RDKit WARNING: [22:44:34] Enabling RDKit 2019.09.3 jupyter extensions\n"
     ]
    }
   ],
   "source": [
    "import DeepPurpose.oneliner as oneliner\n",
    "from DeepPurpose import dataset\n",
    "import time"
   ]
  },
  {
   "cell_type": "code",
   "execution_count": 3,
   "metadata": {},
   "outputs": [],
   "source": [
    "X_repurpose, drug_names, drug_CID = dataset.load_antiviral_drugs('./data')"
   ]
  },
  {
   "cell_type": "code",
   "execution_count": 4,
   "metadata": {
    "scrolled": false
   },
   "outputs": [
    {
     "name": "stdout",
     "output_type": "stream",
     "text": [
      "Loading customized repurposing dataset...\n",
      "Checking if pretrained directory is valid...\n",
      "Beginning to load the pretrained models...\n",
      "Using pretrained model and making predictions...\n",
      "repurposing...\n",
      "in total: 82 drug-target pairs\n",
      "encoding drug...\n",
      "unique drugs: 81\n",
      "drug encoding finished...\n",
      "encoding protein...\n",
      "unique target sequence: 1\n",
      "protein encoding finished...\n",
      "Done.\n",
      "predicting...\n",
      "---------------\n",
      "Predictions from model 1 with drug encoding MPNN and target encoding CNN are done...\n",
      "-------------\n",
      "repurposing...\n",
      "in total: 82 drug-target pairs\n",
      "encoding drug...\n",
      "unique drugs: 81\n",
      "drug encoding finished...\n",
      "encoding protein...\n",
      "unique target sequence: 1\n",
      "protein encoding finished...\n",
      "Done.\n",
      "predicting...\n",
      "---------------\n",
      "Predictions from model 2 with drug encoding CNN and target encoding CNN are done...\n",
      "-------------\n",
      "repurposing...\n",
      "in total: 82 drug-target pairs\n",
      "encoding drug...\n",
      "unique drugs: 81\n",
      "drug encoding finished...\n",
      "encoding protein...\n",
      "unique target sequence: 1\n",
      "protein encoding finished...\n",
      "Done.\n",
      "predicting...\n",
      "---------------\n",
      "Predictions from model 3 with drug encoding Morgan and target encoding CNN are done...\n",
      "-------------\n",
      "repurposing...\n",
      "in total: 82 drug-target pairs\n",
      "encoding drug...\n",
      "unique drugs: 81\n",
      "drug encoding finished...\n",
      "encoding protein...\n",
      "unique target sequence: 1\n",
      "-- Encoding AAC takes time. Time Reference: 24s for ~100 sequences in a CPU. Calculate your time by the unique target sequence #, instead of the entire dataset.\n",
      "protein encoding finished...\n",
      "Done.\n",
      "predicting...\n",
      "---------------\n",
      "Predictions from model 4 with drug encoding Morgan and target encoding AAC are done...\n",
      "-------------\n",
      "repurposing...\n",
      "in total: 82 drug-target pairs\n",
      "encoding drug...\n",
      "unique drugs: 81\n",
      "drug encoding finished...\n",
      "encoding protein...\n",
      "unique target sequence: 1\n",
      "-- Encoding AAC takes time. Time Reference: 24s for ~100 sequences in a CPU. Calculate your time by the unique target sequence #, instead of the entire dataset.\n",
      "protein encoding finished...\n",
      "Done.\n",
      "predicting...\n",
      "---------------\n",
      "Predictions from model 5 with drug encoding Daylight and target encoding AAC are done...\n",
      "-------------\n",
      "models prediction finished...\n",
      "aggregating results...\n",
      "---------------\n",
      "Drug Repurposing Result for SARS-CoV2 3CL Protease\n",
      "+------+----------------------+------------------------+---------------+\n",
      "| Rank |      Drug Name       |      Target Name       | Binding Score |\n",
      "+------+----------------------+------------------------+---------------+\n",
      "|  1   |      Sofosbuvir      | SARS-CoV2 3CL Protease |     360.22    |\n",
      "|  2   |     Daclatasvir      | SARS-CoV2 3CL Protease |     424.06    |\n",
      "|  3   |      Vicriviroc      | SARS-CoV2 3CL Protease |     623.78    |\n",
      "|  4   |      Efavirenz       | SARS-CoV2 3CL Protease |     768.33    |\n",
      "|  5   |      Simeprevir      | SARS-CoV2 3CL Protease |     781.29    |\n",
      "|  6   |      Etravirine      | SARS-CoV2 3CL Protease |     809.88    |\n",
      "|  7   |      Amantadine      | SARS-CoV2 3CL Protease |     826.28    |\n",
      "|  8   |      Letermovir      | SARS-CoV2 3CL Protease |     891.66    |\n",
      "|  9   |     Rilpivirine      | SARS-CoV2 3CL Protease |     929.63    |\n",
      "|  10  |      Ritonavir       | SARS-CoV2 3CL Protease |     941.13    |\n",
      "|  11  |      Darunavir       | SARS-CoV2 3CL Protease |     944.10    |\n",
      "|  12  |      Maraviroc       | SARS-CoV2 3CL Protease |     945.22    |\n",
      "|  13  |      Lopinavir       | SARS-CoV2 3CL Protease |     945.71    |\n",
      "|  14  |    Fosamprenavir     | SARS-CoV2 3CL Protease |     964.99    |\n",
      "|  15  |      Peramivir       | SARS-CoV2 3CL Protease |    1050.64    |\n",
      "|  16  |     Grazoprevir      | SARS-CoV2 3CL Protease |    1202.52    |\n",
      "|  17  |      Amprenavir      | SARS-CoV2 3CL Protease |    1204.21    |\n",
      "|  18  |      Telaprevir      | SARS-CoV2 3CL Protease |    1212.97    |\n",
      "|  19  |     Elvitegravir     | SARS-CoV2 3CL Protease |    1220.48    |\n",
      "|  20  |      Tenofovir       | SARS-CoV2 3CL Protease |    1250.70    |\n",
      "|  21  |       Descovy        | SARS-CoV2 3CL Protease |    1250.70    |\n",
      "|  22  |      Atazanavir      | SARS-CoV2 3CL Protease |    1348.65    |\n",
      "|  23  |     Tromantadine     | SARS-CoV2 3CL Protease |    1380.71    |\n",
      "|  24  |      Nelfinavir      | SARS-CoV2 3CL Protease |    1451.43    |\n",
      "|  25  |       Abacavir       | SARS-CoV2 3CL Protease |    1464.89    |\n",
      "|  26  | Tenofovir_disoproxil | SARS-CoV2 3CL Protease |    1571.85    |\n",
      "|  27  |     Dolutegravir     | SARS-CoV2 3CL Protease |    1672.82    |\n",
      "|  28  |     Delavirdine      | SARS-CoV2 3CL Protease |    1691.47    |\n",
      "|  29  |      Saquinavir      | SARS-CoV2 3CL Protease |    1763.63    |\n",
      "|  30  |     Raltegravir      | SARS-CoV2 3CL Protease |    1854.40    |\n",
      "checkout ./save_folder/results_aggregation/repurposing.txt for the whole list\n",
      "\n",
      "Time lapse:6.697427749633789\n"
     ]
    }
   ],
   "source": [
    "start = time.time()\n",
    "target, target_name = dataset.load_SARS_CoV2_Protease_3CL()\n",
    "oneliner.repurpose(target = target, \n",
    "                    target_name = target_name, \n",
    "                    X_repurpose = X_repurpose,\n",
    "                    drug_names = drug_names,\n",
    "                    save_dir = './save_folder',\n",
    "                    pretrained_dir = './save_folder/pretrained_models/DeepPurpose_BindingDB/',\n",
    "                    agg = 'mean')\n",
    "end = time.time()\n",
    "print('Time lapse:' + str(end - start))"
   ]
  }
 ],
 "metadata": {
  "kernelspec": {
   "display_name": "Python 3",
   "language": "python",
   "name": "python3"
  },
  "language_info": {
   "codemirror_mode": {
    "name": "ipython",
    "version": 3
   },
   "file_extension": ".py",
   "mimetype": "text/x-python",
   "name": "python",
   "nbconvert_exporter": "python",
   "pygments_lexer": "ipython3",
   "version": "3.7.7"
  }
 },
 "nbformat": 4,
 "nbformat_minor": 4
}
