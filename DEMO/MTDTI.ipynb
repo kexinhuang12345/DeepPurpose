{
 "cells": [
  {
   "cell_type": "code",
   "execution_count": 4,
   "metadata": {},
   "outputs": [],
   "source": [
    "import os\n",
    "os.chdir('../../')\n",
    "\n",
    "import DeepPurpose.models as models\n",
    "from DeepPurpose.utils import *\n",
    "from DeepPurpose.dataset import *"
   ]
  },
  {
   "cell_type": "code",
   "execution_count": 9,
   "metadata": {},
   "outputs": [
    {
     "name": "stdout",
     "output_type": "stream",
     "text": [
      "Beginning Processing...\n",
      "Beginning to extract zip file...\n",
      "Default set to logspace (nM -> p) for easier regression\n",
      "Done!\n",
      "in total: 30056 drug-target pairs\n",
      "encoding drug...\n",
      "unique drugs: 68\n",
      "drug encoding finished...\n",
      "encoding protein...\n",
      "unique target sequence: 379\n",
      "protein encoding finished...\n",
      "splitting dataset...\n",
      "Done.\n"
     ]
    }
   ],
   "source": [
    "X_drug, X_target, y = load_process_DAVIS('./data/', binary=False)\n",
    "\n",
    "drug_encoding = 'MPNN'\n",
    "target_encoding = 'CNN'\n",
    "train, val, test = data_process(X_drug, X_target, y, \n",
    "                                drug_encoding, target_encoding, \n",
    "                                split_method='random',frac=[0.7,0.1,0.2])\n",
    "\n",
    "# use the parameters setting provided in the paper: https://arxiv.org/abs/1801.10193\n",
    "config = generate_config(drug_encoding = drug_encoding, \n",
    "                         target_encoding = target_encoding, \n",
    "                         cls_hidden_dims = [1024,1024,512], \n",
    "                         train_epoch = 100, \n",
    "                         LR = 0.001, \n",
    "                         batch_size = 16,\n",
    "                         hidden_dim_drug = 128,\n",
    "                         mpnn_hidden_size = 128,\n",
    "                         mpnn_depth = 3, \n",
    "                         cnn_target_filters = [32,64,96],\n",
    "                         cnn_target_kernels = [4,8,12]\n",
    "                        )"
   ]
  },
  {
   "cell_type": "code",
   "execution_count": null,
   "metadata": {},
   "outputs": [
    {
     "name": "stdout",
     "output_type": "stream",
     "text": [
      "--- Data Preparation ---\n",
      "--- Go for Training ---\n",
      "Training at Epoch 1 iteration 0 with loss 29.562632\n",
      "Training at Epoch 1 iteration 100 with loss 1.33298\n",
      "Training at Epoch 1 iteration 200 with loss 0.23161118\n",
      "Training at Epoch 1 iteration 300 with loss 0.12080889\n",
      "Training at Epoch 1 iteration 400 with loss 0.6676784\n",
      "Training at Epoch 1 iteration 500 with loss 0.22869273\n",
      "Training at Epoch 1 iteration 600 with loss 0.4580111\n",
      "Training at Epoch 1 iteration 700 with loss 0.40583053\n",
      "Training at Epoch 1 iteration 800 with loss 0.7925103\n",
      "Training at Epoch 1 iteration 900 with loss 1.323489\n",
      "Training at Epoch 1 iteration 1000 with loss 0.40946633\n",
      "Training at Epoch 1 iteration 1100 with loss 0.9949043\n",
      "Training at Epoch 1 iteration 1200 with loss 1.0169722\n",
      "Training at Epoch 1 iteration 1300 with loss 1.0235602\n",
      "Validation at Epoch 1 , MSE: 0.7503970678117251 , Pearson Correlation: 0.48170967931535336 with p-value: 1.797994948551902e-174 , Concordance Index: 0.7505190925671632\n",
      "Training at Epoch 2 iteration 0 with loss 0.45849007\n",
      "Training at Epoch 2 iteration 100 with loss 0.11163991\n",
      "Training at Epoch 2 iteration 200 with loss 0.94581497\n",
      "Training at Epoch 2 iteration 300 with loss 1.0878664\n",
      "Training at Epoch 2 iteration 400 with loss 0.31805614\n",
      "Training at Epoch 2 iteration 500 with loss 0.65229154\n",
      "Training at Epoch 2 iteration 600 with loss 0.96709555\n",
      "Training at Epoch 2 iteration 700 with loss 0.2518825\n"
     ]
    }
   ],
   "source": [
    "model = models.model_initialize(**config)\n",
    "model.train(train, val, test)"
   ]
  },
  {
   "cell_type": "code",
   "execution_count": 4,
   "metadata": {},
   "outputs": [],
   "source": [
    "model.save_model('./model_GraphDTA')"
   ]
  },
  {
   "cell_type": "code",
   "execution_count": null,
   "metadata": {},
   "outputs": [],
   "source": []
  }
 ],
 "metadata": {
  "kernelspec": {
   "display_name": "Python 3",
   "language": "python",
   "name": "python3"
  },
  "language_info": {
   "codemirror_mode": {
    "name": "ipython",
    "version": 3
   },
   "file_extension": ".py",
   "mimetype": "text/x-python",
   "name": "python",
   "nbconvert_exporter": "python",
   "pygments_lexer": "ipython3",
   "version": "3.7.7"
  }
 },
 "nbformat": 4,
 "nbformat_minor": 4
}
