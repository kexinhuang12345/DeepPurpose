{
 "cells": [
  {
   "cell_type": "code",
   "execution_count": 1,
   "metadata": {},
   "outputs": [
    {
     "ename": "SyntaxError",
     "evalue": "invalid syntax (models.py, line 23)",
     "output_type": "error",
     "traceback": [
      "Traceback \u001b[0;36m(most recent call last)\u001b[0m:\n",
      "  File \u001b[1;32m\"/Users/futianfan/anaconda3/envs/DeepPurpose/lib/python3.7/site-packages/IPython/core/interactiveshell.py\"\u001b[0m, line \u001b[1;32m3331\u001b[0m, in \u001b[1;35mrun_code\u001b[0m\n    exec(code_obj, self.user_global_ns, self.user_ns)\n",
      "  File \u001b[1;32m\"<ipython-input-1-ca04caa800da>\"\u001b[0m, line \u001b[1;32m4\u001b[0m, in \u001b[1;35m<module>\u001b[0m\n    import DeepPurpose.models as models\n",
      "\u001b[0;36m  File \u001b[0;32m\"/Users/futianfan/Downloads/spring2020/DeepPurpose/__init__.py\"\u001b[0;36m, line \u001b[0;32m1\u001b[0;36m, in \u001b[0;35m<module>\u001b[0;36m\u001b[0m\n\u001b[0;31m    from DeepPurpose import models\u001b[0m\n",
      "\u001b[0;36m  File \u001b[0;32m\"/Users/futianfan/Downloads/spring2020/DeepPurpose/models.py\"\u001b[0;36m, line \u001b[0;32m23\u001b[0m\n\u001b[0;31m    import os!\u001b[0m\n\u001b[0m             ^\u001b[0m\n\u001b[0;31mSyntaxError\u001b[0m\u001b[0;31m:\u001b[0m invalid syntax\n"
     ]
    }
   ],
   "source": [
    "import os\n",
    "os.chdir('../../')"
   ]
  },
  {
   "cell_type": "code",
   "execution_count": 3,
   "metadata": {},
   "outputs": [
    {
     "name": "stderr",
     "output_type": "stream",
     "text": [
      "RDKit WARNING: [12:05:15] Enabling RDKit 2019.09.3 jupyter extensions\n"
     ]
    }
   ],
   "source": [
    "import DeepPurpose.models as models\n",
    "from DeepPurpose.utils import *\n",
    "from DeepPurpose.dataset import *\n"
   ]
  },
  {
   "cell_type": "code",
   "execution_count": 7,
   "metadata": {},
   "outputs": [
    {
     "name": "stdout",
     "output_type": "stream",
     "text": [
      "Beginning Processing...\n",
      "Beginning to extract zip file...\n",
      "Default set to logspace (nM -> p) for easier regression\n",
      "Done!\n",
      "in total: 30056 drug-target pairs\n",
      "encoding drug...\n",
      "unique drugs: 68\n",
      "drug encoding finished...\n",
      "encoding protein...\n",
      "unique target sequence: 379\n",
      "protein encoding finished...\n",
      "splitting dataset...\n",
      "Done.\n",
      "cost about 6 seconds\n"
     ]
    }
   ],
   "source": [
    "from time import time\n",
    "\n",
    "t1 = time()\n",
    "X_drug, X_target, y = load_process_DAVIS('./data/', binary=False)\n",
    "\n",
    "drug_encoding = 'MPNN'\n",
    "target_encoding = 'CNN'\n",
    "train, val, test = data_process(X_drug, X_target, y, \n",
    "                                drug_encoding, target_encoding, \n",
    "                                split_method='random',frac=[0.7,0.1,0.2])\n",
    "\n",
    "# use the parameters setting provided in the paper: https://arxiv.org/abs/1801.10193\n",
    "config = generate_config(drug_encoding = drug_encoding, \n",
    "                         target_encoding = target_encoding, \n",
    "                         cls_hidden_dims = [1024,1024,512], \n",
    "                         train_epoch = 100, \n",
    "                         test_every_X_epoch = 10, \n",
    "                         LR = 0.001, \n",
    "                         batch_size = 128,\n",
    "                         hidden_dim_drug = 128,\n",
    "                         mpnn_hidden_size = 128,\n",
    "                         mpnn_depth = 3, \n",
    "                         cnn_target_filters = [32,64,96],\n",
    "                         cnn_target_kernels = [4,8,12]\n",
    "                        )\n",
    "model = models.model_initialize(**config)\n",
    "t2 = time()\n",
    "print(\"cost about \" + str(int(t2-t1)) + \" seconds\")"
   ]
  },
  {
   "cell_type": "code",
   "execution_count": null,
   "metadata": {},
   "outputs": [
    {
     "name": "stdout",
     "output_type": "stream",
     "text": [
      "Let's use CPU/s!\n",
      "--- Data Preparation ---\n",
      "--- Go for Training ---\n",
      "Training at Epoch 1 iteration 0 with loss 29.46883. Total time 0.0025 hours\n",
      "Training at Epoch 1 iteration 100 with loss 0.7060796. Total time 0.15722222222222224 hours\n",
      "Validation at Epoch 1 , MSE: 0.7517753429191877 , Pearson Correlation: 0.2670847301699022 with p-value: 2.880074197423731e-50 , Concordance Index: 0.6096094398032128\n",
      "--- Go for Testing ---\n",
      "Up to Epoch 0 Testing MSE: 0.8047580315034151 , Pearson Correlation: 0.1615117446931151 with p-value: 2.0500798959336846e-36 , Concordance Index: 0.5623092001548462\n",
      "Training at Epoch 2 iteration 0 with loss 0.5947704. Total time 0.2863888888888889 hours\n",
      "Training at Epoch 2 iteration 100 with loss 0.87183046. Total time 0.4552777777777778 hours\n",
      "Validation at Epoch 2 , MSE: 0.8569167912585558 , Pearson Correlation: 0.38709377702251907 with p-value: 4.821730131844154e-108 , Concordance Index: 0.6986598489332256\n",
      "Training at Epoch 3 iteration 0 with loss 0.89327025. Total time 0.5608333333333333 hours\n",
      "Training at Epoch 3 iteration 100 with loss 0.52375126. Total time 0.6988888888888889 hours\n",
      "Validation at Epoch 3 , MSE: 0.635419179890948 , Pearson Correlation: 0.4872290920626684 with p-value: 4.91286581363606e-179 , Concordance Index: 0.7464885665818117\n",
      "Training at Epoch 4 iteration 0 with loss 0.6749754. Total time 0.8008333333333333 hours\n",
      "Training at Epoch 4 iteration 100 with loss 0.7612959. Total time 0.9352777777777778 hours\n",
      "Validation at Epoch 4 , MSE: 0.5964014418683626 , Pearson Correlation: 0.5209151529662155 with p-value: 8.85252404735648e-209 , Concordance Index: 0.7643114096558643\n",
      "Training at Epoch 5 iteration 0 with loss 0.49107888. Total time 1.0363888888888888 hours\n",
      "Training at Epoch 5 iteration 100 with loss 0.56140804. Total time 1.1719444444444445 hours\n",
      "Validation at Epoch 5 , MSE: 0.5911818190510719 , Pearson Correlation: 0.5525131311468032 with p-value: 6.720185095085701e-240 , Concordance Index: 0.7784308505371825\n",
      "Training at Epoch 6 iteration 0 with loss 0.43258718. Total time 1.2691666666666668 hours\n",
      "Training at Epoch 6 iteration 100 with loss 0.68392307. Total time 1.4091666666666667 hours\n",
      "Validation at Epoch 6 , MSE: 0.5531170221882854 , Pearson Correlation: 0.566189624253369 with p-value: 1.95205204621104e-254 , Concordance Index: 0.7897300555994377\n",
      "Training at Epoch 7 iteration 0 with loss 0.5445415. Total time 1.538888888888889 hours\n",
      "Training at Epoch 7 iteration 100 with loss 0.7730487. Total time 1.7227777777777777 hours\n",
      "Validation at Epoch 7 , MSE: 0.5677889286759984 , Pearson Correlation: 0.5755392961626511 with p-value: 8.980807549880806e-265 , Concordance Index: 0.7905179526557697\n",
      "Training at Epoch 8 iteration 0 with loss 0.63894635. Total time 1.8480555555555556 hours\n",
      "Training at Epoch 8 iteration 100 with loss 0.6792902. Total time 2.0169444444444444 hours\n",
      "Validation at Epoch 8 , MSE: 0.5489072601014807 , Pearson Correlation: 0.584637898377622 with p-value: 3.697965593850639e-275 , Concordance Index: 0.7900246644121796\n",
      "Training at Epoch 9 iteration 0 with loss 0.73479134. Total time 2.140277777777778 hours\n",
      "Training at Epoch 9 iteration 100 with loss 0.6015621. Total time 2.3158333333333334 hours\n",
      "Validation at Epoch 9 , MSE: 0.5256063112492585 , Pearson Correlation: 0.6020459090047969 with p-value: 5.676528602543141e-296 , Concordance Index: 0.7988325658249377\n",
      "Training at Epoch 10 iteration 0 with loss 0.5236869. Total time 2.446388888888889 hours\n",
      "Training at Epoch 10 iteration 100 with loss 0.55687207. Total time 2.6225 hours\n",
      "Validation at Epoch 10 , MSE: 0.555347388252122 , Pearson Correlation: 0.617234569574181 with p-value: 3.268632346e-315 , Concordance Index: 0.8080611483803116\n",
      "Training at Epoch 11 iteration 0 with loss 0.74413854. Total time 2.7552777777777777 hours\n",
      "Training at Epoch 11 iteration 100 with loss 0.5300591. Total time 2.9291666666666667 hours\n",
      "Validation at Epoch 11 , MSE: 0.48007006716708234 , Pearson Correlation: 0.6439111404743596 with p-value: 0.0 , Concordance Index: 0.8148314305139043\n",
      "Training at Epoch 12 iteration 0 with loss 0.39793915. Total time 3.045 hours\n",
      "Training at Epoch 12 iteration 100 with loss 0.80667484. Total time 3.2041666666666666 hours\n",
      "Validation at Epoch 12 , MSE: 0.5251465694631927 , Pearson Correlation: 0.64460803679796 with p-value: 0.0 , Concordance Index: 0.8182169016129778\n",
      "Training at Epoch 13 iteration 0 with loss 0.42844322. Total time 3.326111111111111 hours\n",
      "Training at Epoch 13 iteration 100 with loss 0.59342694. Total time 3.477222222222222 hours\n",
      "Validation at Epoch 13 , MSE: 0.5462537808084 , Pearson Correlation: 0.6324190064609183 with p-value: 0.0 , Concordance Index: 0.8151790645125093\n",
      "Training at Epoch 14 iteration 0 with loss 0.6084962. Total time 3.5947222222222224 hours\n",
      "Training at Epoch 14 iteration 100 with loss 0.4241351. Total time 3.7480555555555557 hours\n",
      "Validation at Epoch 14 , MSE: 0.460508428178199 , Pearson Correlation: 0.6550138964093608 with p-value: 0.0 , Concordance Index: 0.8233944479770121\n",
      "Training at Epoch 15 iteration 0 with loss 0.361272. Total time 3.8494444444444444 hours\n",
      "Training at Epoch 15 iteration 100 with loss 0.5250571. Total time 3.9883333333333333 hours\n",
      "Validation at Epoch 15 , MSE: 0.49627319389280417 , Pearson Correlation: 0.6419841315623034 with p-value: 0.0 , Concordance Index: 0.8167566187973184\n",
      "Training at Epoch 16 iteration 0 with loss 0.6810189. Total time 4.088333333333333 hours\n",
      "Training at Epoch 16 iteration 100 with loss 0.6423906. Total time 4.233333333333333 hours\n",
      "Validation at Epoch 16 , MSE: 0.4556221103926811 , Pearson Correlation: 0.6559468768950226 with p-value: 0.0 , Concordance Index: 0.8237363614161465\n",
      "Training at Epoch 17 iteration 0 with loss 0.47531137. Total time 4.341666666666667 hours\n",
      "Training at Epoch 17 iteration 100 with loss 0.52565575. Total time 4.4825 hours\n",
      "Validation at Epoch 17 , MSE: 0.46958068340572834 , Pearson Correlation: 0.6673320982084464 with p-value: 0.0 , Concordance Index: 0.8258641895177349\n",
      "Training at Epoch 18 iteration 0 with loss 0.6785476. Total time 4.595277777777778 hours\n",
      "Training at Epoch 18 iteration 100 with loss 0.34550858. Total time 4.751666666666667 hours\n",
      "Validation at Epoch 18 , MSE: 0.44388849513608847 , Pearson Correlation: 0.6701700506003445 with p-value: 0.0 , Concordance Index: 0.8294450397248851\n",
      "Training at Epoch 19 iteration 0 with loss 0.34042937. Total time 4.856111111111111 hours\n",
      "Training at Epoch 19 iteration 100 with loss 0.47827458. Total time 4.995555555555556 hours\n",
      "Validation at Epoch 19 , MSE: 0.4628641584270211 , Pearson Correlation: 0.659207647655476 with p-value: 0.0 , Concordance Index: 0.8223040213332864\n",
      "Training at Epoch 20 iteration 0 with loss 0.7018825. Total time 5.095277777777778 hours\n",
      "Training at Epoch 20 iteration 100 with loss 0.49276745. Total time 5.229166666666667 hours\n",
      "Validation at Epoch 20 , MSE: 0.4644872748488797 , Pearson Correlation: 0.6782779879531817 with p-value: 0.0 , Concordance Index: 0.8248938946228941\n",
      "Training at Epoch 21 iteration 0 with loss 0.28159654. Total time 5.340277777777778 hours\n",
      "Training at Epoch 21 iteration 100 with loss 0.5010124. Total time 5.494166666666667 hours\n",
      "Validation at Epoch 21 , MSE: 0.4690106195807031 , Pearson Correlation: 0.676823063917229 with p-value: 0.0 , Concordance Index: 0.8305363464546832\n",
      "Training at Epoch 22 iteration 0 with loss 0.46382958. Total time 5.601388888888889 hours\n",
      "Training at Epoch 22 iteration 100 with loss 0.45210052. Total time 5.7475 hours\n",
      "Validation at Epoch 22 , MSE: 0.39511873247865364 , Pearson Correlation: 0.713833001488571 with p-value: 0.0 , Concordance Index: 0.841963163997439\n",
      "Training at Epoch 23 iteration 0 with loss 0.37147105. Total time 5.879444444444444 hours\n",
      "Training at Epoch 23 iteration 100 with loss 0.39484352. Total time 6.035277777777778 hours\n",
      "Validation at Epoch 23 , MSE: 0.42629993258339954 , Pearson Correlation: 0.7192607312141293 with p-value: 0.0 , Concordance Index: 0.8439105744541816\n",
      "Training at Epoch 24 iteration 0 with loss 0.44722536. Total time 6.1563888888888885 hours\n",
      "Training at Epoch 24 iteration 100 with loss 0.3431129. Total time 6.322222222222222 hours\n",
      "Validation at Epoch 24 , MSE: 0.533160692314166 , Pearson Correlation: 0.6954216406321454 with p-value: 0.0 , Concordance Index: 0.822027234263511\n"
     ]
    },
    {
     "name": "stdout",
     "output_type": "stream",
     "text": [
      "Training at Epoch 25 iteration 0 with loss 0.51561993. Total time 6.435555555555555 hours\n",
      "Training at Epoch 25 iteration 100 with loss 0.3576431. Total time 6.568333333333333 hours\n",
      "Validation at Epoch 25 , MSE: 0.3808393559844777 , Pearson Correlation: 0.7281011189252609 with p-value: 0.0 , Concordance Index: 0.8450353244547316\n",
      "Training at Epoch 26 iteration 0 with loss 0.34625256. Total time 6.666111111111111 hours\n",
      "Training at Epoch 26 iteration 100 with loss 0.4938168. Total time 6.797777777777778 hours\n",
      "Validation at Epoch 26 , MSE: 0.4038114853360873 , Pearson Correlation: 0.736690284963311 with p-value: 0.0 , Concordance Index: 0.8538986712900521\n",
      "Training at Epoch 27 iteration 0 with loss 0.5388996. Total time 6.898333333333333 hours\n",
      "Training at Epoch 27 iteration 100 with loss 0.37219703. Total time 7.063055555555556 hours\n",
      "Validation at Epoch 27 , MSE: 0.37747449433855873 , Pearson Correlation: 0.7334516544440817 with p-value: 0.0 , Concordance Index: 0.8493143029388274\n",
      "Training at Epoch 28 iteration 0 with loss 0.3948882. Total time 7.214166666666666 hours\n",
      "Training at Epoch 28 iteration 100 with loss 0.51348203. Total time 7.375555555555556 hours\n",
      "Validation at Epoch 28 , MSE: 0.3378716161569206 , Pearson Correlation: 0.762845058759619 with p-value: 0.0 , Concordance Index: 0.8562262789300794\n",
      "Training at Epoch 29 iteration 0 with loss 0.36911985. Total time 7.514166666666667 hours\n",
      "Training at Epoch 29 iteration 100 with loss 0.5125948. Total time 7.68 hours\n",
      "Validation at Epoch 29 , MSE: 0.3384284394224694 , Pearson Correlation: 0.7683889507796817 with p-value: 0.0 , Concordance Index: 0.8572421182791677\n",
      "Training at Epoch 30 iteration 0 with loss 0.3007713. Total time 7.831666666666667 hours\n",
      "Training at Epoch 30 iteration 100 with loss 0.28587264. Total time 8.012222222222222 hours\n",
      "Validation at Epoch 30 , MSE: 0.32152657338196616 , Pearson Correlation: 0.7757415709343771 with p-value: 0.0 , Concordance Index: 0.8666216355959613\n",
      "Training at Epoch 31 iteration 0 with loss 0.24705425. Total time 8.170833333333333 hours\n",
      "Training at Epoch 31 iteration 100 with loss 0.2467531. Total time 8.375 hours\n",
      "Validation at Epoch 31 , MSE: 0.3112682554064079 , Pearson Correlation: 0.7826589831105981 with p-value: 0.0 , Concordance Index: 0.8620245059966865\n",
      "--- Go for Testing ---\n",
      "Up to Epoch 30 Testing MSE: 0.34726333039827656 , Pearson Correlation: 0.7536359235018006 with p-value: 0.0 , Concordance Index: 0.838876159970992\n",
      "Training at Epoch 32 iteration 0 with loss 0.43338037. Total time 8.571111111111112 hours\n",
      "Training at Epoch 32 iteration 100 with loss 0.17815804. Total time 8.746944444444445 hours\n",
      "Validation at Epoch 32 , MSE: 0.33561177864985625 , Pearson Correlation: 0.7622455248411317 with p-value: 0.0 , Concordance Index: 0.8565376093781972\n",
      "Training at Epoch 33 iteration 0 with loss 0.48565662. Total time 8.874444444444444 hours\n",
      "Training at Epoch 33 iteration 100 with loss 0.25703678. Total time 9.061944444444444 hours\n",
      "Validation at Epoch 33 , MSE: 0.32673288024189234 , Pearson Correlation: 0.7876129069955069 with p-value: 0.0 , Concordance Index: 0.8725835586720381\n",
      "Training at Epoch 34 iteration 0 with loss 0.32866058. Total time 9.168611111111112 hours\n",
      "Training at Epoch 34 iteration 100 with loss 0.36561865. Total time 9.323888888888888 hours\n",
      "Validation at Epoch 34 , MSE: 0.33097605008319714 , Pearson Correlation: 0.7944874420124103 with p-value: 0.0 , Concordance Index: 0.872216782801358\n",
      "Training at Epoch 35 iteration 0 with loss 0.37996617. Total time 9.436111111111112 hours\n",
      "Training at Epoch 35 iteration 100 with loss 0.27713895. Total time 9.583055555555555 hours\n",
      "Validation at Epoch 35 , MSE: 0.331334248824305 , Pearson Correlation: 0.79201023686626 with p-value: 0.0 , Concordance Index: 0.8658383589915094\n",
      "Training at Epoch 36 iteration 0 with loss 0.33691818. Total time 9.69 hours\n",
      "Training at Epoch 36 iteration 100 with loss 0.32203883. Total time 9.856111111111112 hours\n",
      "Validation at Epoch 36 , MSE: 0.29372478052168255 , Pearson Correlation: 0.8084235605918798 with p-value: 0.0 , Concordance Index: 0.8719859802288664\n",
      "Training at Epoch 37 iteration 0 with loss 0.18176092. Total time 9.9675 hours\n",
      "Training at Epoch 37 iteration 100 with loss 0.32582822. Total time 10.1225 hours\n",
      "Validation at Epoch 37 , MSE: 0.28622213593996026 , Pearson Correlation: 0.8032979752195278 with p-value: 0.0 , Concordance Index: 0.8695175588172523\n",
      "Training at Epoch 38 iteration 0 with loss 0.2715738. Total time 10.243055555555555 hours\n",
      "Training at Epoch 38 iteration 100 with loss 0.1969629. Total time 10.393611111111111 hours\n",
      "Validation at Epoch 38 , MSE: 0.2775494981876474 , Pearson Correlation: 0.8086952858286247 with p-value: 0.0 , Concordance Index: 0.8771531855815499\n",
      "Training at Epoch 39 iteration 0 with loss 0.36192638. Total time 10.50361111111111 hours\n",
      "Training at Epoch 39 iteration 100 with loss 0.28904724. Total time 10.650277777777777 hours\n",
      "Validation at Epoch 39 , MSE: 0.31963853445311075 , Pearson Correlation: 0.7987267702083077 with p-value: 0.0 , Concordance Index: 0.8627235143597044\n",
      "Training at Epoch 40 iteration 0 with loss 0.23435101. Total time 10.758611111111112 hours\n",
      "Training at Epoch 40 iteration 100 with loss 0.29689053. Total time 10.908333333333333 hours\n",
      "Validation at Epoch 40 , MSE: 0.2665710958402761 , Pearson Correlation: 0.8170602879231499 with p-value: 0.0 , Concordance Index: 0.8799261167742205\n",
      "Training at Epoch 41 iteration 0 with loss 0.23326679. Total time 11.012777777777778 hours\n",
      "Training at Epoch 41 iteration 100 with loss 0.2593476. Total time 11.167777777777777 hours\n",
      "Validation at Epoch 41 , MSE: 0.2742937626012636 , Pearson Correlation: 0.8124817581765178 with p-value: 0.0 , Concordance Index: 0.8729408736174398\n",
      "Training at Epoch 42 iteration 0 with loss 0.23925406. Total time 11.270555555555555 hours\n",
      "Training at Epoch 42 iteration 100 with loss 0.29589406. Total time 11.435 hours\n",
      "Validation at Epoch 42 , MSE: 0.2742616626109009 , Pearson Correlation: 0.8117212171233013 with p-value: 0.0 , Concordance Index: 0.8817419543631367\n",
      "Training at Epoch 43 iteration 0 with loss 0.29123777. Total time 11.558055555555555 hours\n",
      "Training at Epoch 43 iteration 100 with loss 0.18232934. Total time 11.73611111111111 hours\n",
      "Validation at Epoch 43 , MSE: 0.2535251601699528 , Pearson Correlation: 0.8277372884507589 with p-value: 0.0 , Concordance Index: 0.8837085066919544\n",
      "Training at Epoch 44 iteration 0 with loss 0.22416411. Total time 11.864722222222222 hours\n"
     ]
    }
   ],
   "source": [
    "model.train(train, val, test)"
   ]
  },
  {
   "cell_type": "code",
   "execution_count": null,
   "metadata": {},
   "outputs": [],
   "source": [
    "model.save_model('./model_MPNN_CNN_Davis')"
   ]
  },
  {
   "cell_type": "code",
   "execution_count": null,
   "metadata": {},
   "outputs": [],
   "source": []
  }
 ],
 "metadata": {
  "kernelspec": {
   "display_name": "Python 3",
   "language": "python",
   "name": "python3"
  },
  "language_info": {
   "codemirror_mode": {
    "name": "ipython",
    "version": 3
   },
   "file_extension": ".py",
   "mimetype": "text/x-python",
   "name": "python",
   "nbconvert_exporter": "python",
   "pygments_lexer": "ipython3",
   "version": "3.7.7"
  }
 },
 "nbformat": 4,
 "nbformat_minor": 4
}
