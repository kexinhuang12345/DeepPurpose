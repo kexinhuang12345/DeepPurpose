{
 "cells": [
  {
   "cell_type": "code",
   "execution_count": 1,
   "metadata": {},
   "outputs": [],
   "source": [
    "import os\n",
    "os.chdir('../../')"
   ]
  },
  {
   "cell_type": "code",
   "execution_count": 2,
   "metadata": {},
   "outputs": [
    {
     "name": "stderr",
     "output_type": "stream",
     "text": [
      "RDKit WARNING: [09:40:24] Enabling RDKit 2019.09.3 jupyter extensions\n"
     ]
    }
   ],
   "source": [
    "import DeepPurpose.models as models\n",
    "from DeepPurpose.utils import *\n",
    "from DeepPurpose.dataset import *\n"
   ]
  },
  {
   "cell_type": "code",
   "execution_count": 3,
   "metadata": {},
   "outputs": [
    {
     "name": "stdout",
     "output_type": "stream",
     "text": [
      "Beginning Processing...\n",
      "Beginning to extract zip file...\n",
      "Done!\n",
      "in total: 118254 drug-target pairs\n",
      "encoding drug...\n",
      "unique drugs: 2068\n",
      "drug encoding finished...\n",
      "encoding protein...\n",
      "unique target sequence: 229\n",
      "protein encoding finished...\n",
      "splitting dataset...\n",
      "Done.\n",
      "cost about 39 seconds\n"
     ]
    }
   ],
   "source": [
    "from time import time\n",
    "\n",
    "t1 = time()\n",
    "X_drug, X_target, y = load_process_KIBA('./data/', binary=False)\n",
    "\n",
    "drug_encoding = 'MPNN'\n",
    "target_encoding = 'CNN'\n",
    "train, val, test = data_process(X_drug, X_target, y, \n",
    "                                drug_encoding, target_encoding, \n",
    "                                split_method='random',frac=[0.7,0.1,0.2])\n",
    "\n",
    "# use the parameters setting provided in the paper: https://arxiv.org/abs/1801.10193\n",
    "config = generate_config(drug_encoding = drug_encoding, \n",
    "                         target_encoding = target_encoding, \n",
    "                         cls_hidden_dims = [1024,1024,512], \n",
    "                         train_epoch = 100, \n",
    "                         test_every_X_epoch = 10, \n",
    "                         LR = 0.001, \n",
    "                         batch_size = 128,\n",
    "                         hidden_dim_drug = 128,\n",
    "                         mpnn_hidden_size = 128,\n",
    "                         mpnn_depth = 3, \n",
    "                         cnn_target_filters = [32,64,96],\n",
    "                         cnn_target_kernels = [4,8,12]\n",
    "                        )\n",
    "model = models.model_initialize(**config)\n",
    "t2 = time()\n",
    "print(\"cost about \" + str(int(t2-t1)) + \" seconds\")"
   ]
  },
  {
   "cell_type": "code",
   "execution_count": null,
   "metadata": {},
   "outputs": [
    {
     "name": "stdout",
     "output_type": "stream",
     "text": [
      "Let's use CPU/s!\n",
      "--- Data Preparation ---\n",
      "--- Go for Training ---\n",
      "Training at Epoch 1 iteration 0 with loss 139.439. Total time 0.00222 hours\n",
      "Training at Epoch 1 iteration 100 with loss 0.85528. Total time 0.19111 hours\n",
      "Training at Epoch 1 iteration 200 with loss 0.40343. Total time 0.3625 hours\n",
      "Training at Epoch 1 iteration 300 with loss 0.84512. Total time 0.51138 hours\n",
      "Training at Epoch 1 iteration 400 with loss 0.66289. Total time 0.78055 hours\n",
      "Training at Epoch 1 iteration 500 with loss 0.85238. Total time 0.98111 hours\n",
      "Training at Epoch 1 iteration 600 with loss 0.81808. Total time 1.14972 hours\n",
      "Validation at Epoch 1 , MSE: 0.72030 , Pearson Correlation: 0.43944 with p-value: 0.0 , Concordance Index: 0.68554\n",
      "Training at Epoch 2 iteration 0 with loss 1.07556. Total time 1.29166 hours\n",
      "Training at Epoch 2 iteration 100 with loss 0.93850. Total time 1.44333 hours\n",
      "Training at Epoch 2 iteration 200 with loss 0.50950. Total time 1.57055 hours\n",
      "Training at Epoch 2 iteration 300 with loss 0.65378. Total time 1.71916 hours\n",
      "Training at Epoch 2 iteration 400 with loss 0.53988. Total time 1.86888 hours\n",
      "Training at Epoch 2 iteration 500 with loss 0.88967. Total time 2.0225 hours\n",
      "Training at Epoch 2 iteration 600 with loss 0.75896. Total time 2.15027 hours\n",
      "Validation at Epoch 2 , MSE: 0.62829 , Pearson Correlation: 0.51199 with p-value: 0.0 , Concordance Index: 0.70848\n",
      "Training at Epoch 3 iteration 0 with loss 0.91195. Total time 2.27555 hours\n",
      "Training at Epoch 3 iteration 100 with loss 0.87829. Total time 2.4275 hours\n",
      "Training at Epoch 3 iteration 200 with loss 0.66226. Total time 2.56 hours\n",
      "Training at Epoch 3 iteration 300 with loss 0.57633. Total time 2.68666 hours\n",
      "Training at Epoch 3 iteration 400 with loss 0.97758. Total time 2.81444 hours\n",
      "Training at Epoch 3 iteration 500 with loss 0.86774. Total time 2.94305 hours\n",
      "Training at Epoch 3 iteration 600 with loss 1.21729. Total time 3.09111 hours\n",
      "Validation at Epoch 3 , MSE: 0.50566 , Pearson Correlation: 0.53635 with p-value: 0.0 , Concordance Index: 0.71654\n",
      "Training at Epoch 4 iteration 0 with loss 0.62071. Total time 3.22972 hours\n",
      "Training at Epoch 4 iteration 100 with loss 0.52476. Total time 3.38472 hours\n",
      "Training at Epoch 4 iteration 200 with loss 0.67531. Total time 3.54138 hours\n",
      "Training at Epoch 4 iteration 300 with loss 0.55189. Total time 3.70388 hours\n"
     ]
    }
   ],
   "source": [
    "model.train(train, val, test)"
   ]
  },
  {
   "cell_type": "code",
   "execution_count": null,
   "metadata": {},
   "outputs": [],
   "source": [
    "model.save_model('./model_MPNN_CNN_Kiba')"
   ]
  },
  {
   "cell_type": "code",
   "execution_count": null,
   "metadata": {},
   "outputs": [],
   "source": []
  }
 ],
 "metadata": {
  "kernelspec": {
   "display_name": "Python 3",
   "language": "python",
   "name": "python3"
  },
  "language_info": {
   "codemirror_mode": {
    "name": "ipython",
    "version": 3
   },
   "file_extension": ".py",
   "mimetype": "text/x-python",
   "name": "python",
   "nbconvert_exporter": "python",
   "pygments_lexer": "ipython3",
   "version": "3.7.7"
  }
 },
 "nbformat": 4,
 "nbformat_minor": 4
}
