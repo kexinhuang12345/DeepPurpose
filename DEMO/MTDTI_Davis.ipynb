{
 "cells": [
  {
   "cell_type": "code",
   "execution_count": 1,
   "metadata": {},
   "outputs": [
    {
     "name": "stderr",
     "output_type": "stream",
     "text": [
      "RDKit WARNING: [11:35:11] Enabling RDKit 2019.09.3 jupyter extensions\n"
     ]
    }
   ],
   "source": [
    "import os\n",
    "os.chdir('../../')\n",
    "from time import time \n",
    "import DeepPurpose.models as models\n",
    "from DeepPurpose.utils import *\n",
    "from DeepPurpose.dataset import *"
   ]
  },
  {
   "cell_type": "code",
   "execution_count": 6,
   "metadata": {},
   "outputs": [
    {
     "name": "stdout",
     "output_type": "stream",
     "text": [
      "Beginning Processing...\n",
      "Beginning to extract zip file...\n",
      "Default set to logspace (nM -> p) for easier regression\n",
      "Done!\n",
      "in total: 30056 drug-target pairs\n",
      "encoding drug...\n",
      "unique drugs: 68\n",
      "drug encoding finished...\n",
      "encoding protein...\n",
      "unique target sequence: 379\n",
      "protein encoding finished...\n",
      "splitting dataset...\n",
      "Done.\n",
      "cost 156.14085602760315 seconds\n"
     ]
    }
   ],
   "source": [
    "t1 = time()\n",
    "X_drug, X_target, y = load_process_DAVIS('./data/', binary=False)\n",
    "\n",
    "drug_encoding = 'Transformer'\n",
    "target_encoding = 'CNN'\n",
    "train, val, test = data_process(X_drug, X_target, y, \n",
    "                                drug_encoding, target_encoding, \n",
    "                                split_method='random',frac=[0.7,0.1,0.2])\n",
    "\n",
    "# use the parameters setting provided in the paper: https://arxiv.org/pdf/1908.06760.pdf\n",
    "config = generate_config(drug_encoding = drug_encoding, \n",
    "                         target_encoding = target_encoding, \n",
    "                         cls_hidden_dims = [1024,512], \n",
    "                         train_epoch = 60, \n",
    "                         LR = 0.0001, \n",
    "                         batch_size = 512,\n",
    "                         hidden_dim_drug = 128,\n",
    "                         transformer_emb_size_drug = 128,\n",
    "                         transformer_intermediate_size_drug = 512,\n",
    "                         transformer_num_attention_heads_drug = 8,\n",
    "                         transformer_n_layer_drug = 8,\n",
    "                         transformer_emb_size_target = 128,\n",
    "                         transformer_intermediate_size_target = 512,\n",
    "                         transformer_num_attention_heads_target = 8,\n",
    "                         transformer_n_layer_target = 4,\n",
    "                         transformer_dropout_rate = 0.1,\n",
    "                         transformer_attention_probs_dropout = 0.1,\n",
    "                         transformer_hidden_dropout_rate = 0.1,\n",
    "                         cnn_target_filters = [32,64,96],\n",
    "                         cnn_target_kernels = [4,8,12]\n",
    "                        )\n",
    "t2 = time()\n",
    "print(\"cost \" + str(t2-t1) + \" seconds\") ### around 3 min. "
   ]
  },
  {
   "cell_type": "code",
   "execution_count": null,
   "metadata": {},
   "outputs": [
    {
     "name": "stdout",
     "output_type": "stream",
     "text": [
      "Let's use CPU/s!\n",
      "--- Data Preparation ---\n",
      "--- Go for Training ---\n",
      "Training at Epoch 1 iteration 0 with loss 30.360344. Total time 0.02361 hours\n",
      "Validation at Epoch 1 , MSE: 1.0401720376902837 , Pearson Correlation: 0.04092604504404735 with p-value: 0.024841467398258498 , Concordance Index: 0.5097819366734067\n",
      "Training at Epoch 2 iteration 0 with loss 1.1943979. Total time 0.97944 hours\n",
      "Validation at Epoch 2 , MSE: 0.8007427858557319 , Pearson Correlation: 0.264268524726774 with p-value: 3.267496720608127e-49 , Concordance Index: 0.6458549046096709\n",
      "Training at Epoch 3 iteration 0 with loss 0.8310931. Total time 1.83083 hours\n",
      "Validation at Epoch 3 , MSE: 0.7930355333814978 , Pearson Correlation: 0.339053546099555 with p-value: 9.374325284295059e-82 , Concordance Index: 0.6786436113451896\n",
      "Training at Epoch 4 iteration 0 with loss 0.93354917. Total time 2.85027 hours\n",
      "Validation at Epoch 4 , MSE: 0.7777096431635118 , Pearson Correlation: 0.36238530169938044 with p-value: 5.86210407159195e-94 , Concordance Index: 0.6948831795749625\n",
      "Training at Epoch 5 iteration 0 with loss 0.7363857. Total time 3.72861 hours\n",
      "Validation at Epoch 5 , MSE: 0.7218261693660779 , Pearson Correlation: 0.3606332630325172 with p-value: 5.256451215508694e-93 , Concordance Index: 0.7002154010662243\n",
      "Training at Epoch 6 iteration 0 with loss 0.82888234. Total time 4.78166 hours\n",
      "Validation at Epoch 6 , MSE: 0.7307234186098263 , Pearson Correlation: 0.4201816742390937 with p-value: 6.667761687802369e-129 , Concordance Index: 0.7336384298384382\n",
      "Training at Epoch 7 iteration 0 with loss 0.667427. Total time 5.7675 hours\n",
      "Validation at Epoch 7 , MSE: 0.6413084072393046 , Pearson Correlation: 0.4452610940204359 with p-value: 2.3677342948783684e-146 , Concordance Index: 0.7518388298375581\n",
      "Training at Epoch 8 iteration 0 with loss 0.62916005. Total time 6.78472 hours\n",
      "Validation at Epoch 8 , MSE: 0.6280243228946546 , Pearson Correlation: 0.4651570323473463 with p-value: 2.8109254216698757e-161 , Concordance Index: 0.7613554205601308\n",
      "Training at Epoch 9 iteration 0 with loss 0.5253832. Total time 7.81722 hours\n",
      "Validation at Epoch 9 , MSE: 0.6116484387041987 , Pearson Correlation: 0.48489708388135366 with p-value: 4.262463949643397e-177 , Concordance Index: 0.7656264782695748\n",
      "Training at Epoch 10 iteration 0 with loss 0.6192827. Total time 8.86611 hours\n",
      "Validation at Epoch 10 , MSE: 0.5913067905064783 , Pearson Correlation: 0.5151412183120946 with p-value: 1.9294509443963476e-203 , Concordance Index: 0.775963529233159\n",
      "Training at Epoch 11 iteration 0 with loss 0.67886925. Total time 10.0213 hours\n",
      "Validation at Epoch 11 , MSE: 0.5951643661238509 , Pearson Correlation: 0.5310565726485714 with p-value: 2.0763791482852122e-218 , Concordance Index: 0.7799580198943457\n",
      "Training at Epoch 12 iteration 0 with loss 0.5432387. Total time 11.0705 hours\n",
      "Validation at Epoch 12 , MSE: 0.5863375353919814 , Pearson Correlation: 0.5365592704044917 with p-value: 8.98340944033794e-224 , Concordance Index: 0.7822640654255987\n",
      "Training at Epoch 13 iteration 0 with loss 0.5925154. Total time 12.0788 hours\n",
      "Validation at Epoch 13 , MSE: 0.5678826863396714 , Pearson Correlation: 0.5472208046910566 with p-value: 1.8774624331435384e-234 , Concordance Index: 0.7854297350280858\n",
      "Training at Epoch 14 iteration 0 with loss 0.60406613. Total time 13.1686 hours\n",
      "Validation at Epoch 14 , MSE: 0.5551830504016395 , Pearson Correlation: 0.5538446946470628 with p-value: 2.7646097222305118e-241 , Concordance Index: 0.7873364415039791\n",
      "Training at Epoch 15 iteration 0 with loss 0.48073104. Total time 21.9097 hours\n",
      "Validation at Epoch 15 , MSE: 0.5541917402584184 , Pearson Correlation: 0.5571284343282501 with p-value: 9.938754948327023e-245 , Concordance Index: 0.7896264254644104\n",
      "Training at Epoch 16 iteration 0 with loss 0.5390555. Total time 22.9333 hours\n"
     ]
    }
   ],
   "source": [
    "model = models.model_initialize(**config)\n",
    "model.train(train, val, test)"
   ]
  },
  {
   "cell_type": "code",
   "execution_count": 4,
   "metadata": {},
   "outputs": [],
   "source": [
    "model.save_model('./model_MTDTI_Davis')"
   ]
  },
  {
   "cell_type": "code",
   "execution_count": null,
   "metadata": {},
   "outputs": [],
   "source": []
  }
 ],
 "metadata": {
  "kernelspec": {
   "display_name": "Python 3",
   "language": "python",
   "name": "python3"
  },
  "language_info": {
   "codemirror_mode": {
    "name": "ipython",
    "version": 3
   },
   "file_extension": ".py",
   "mimetype": "text/x-python",
   "name": "python",
   "nbconvert_exporter": "python",
   "pygments_lexer": "ipython3",
   "version": "3.7.7"
  }
 },
 "nbformat": 4,
 "nbformat_minor": 4
}
