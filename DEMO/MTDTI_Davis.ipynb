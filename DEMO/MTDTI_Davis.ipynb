{
 "cells": [
  {
   "cell_type": "code",
   "execution_count": 1,
   "metadata": {},
   "outputs": [
    {
     "name": "stderr",
     "output_type": "stream",
     "text": [
      "RDKit WARNING: [23:03:01] Enabling RDKit 2019.09.3 jupyter extensions\n"
     ]
    }
   ],
   "source": [
    "import os\n",
    "os.chdir('../../')\n",
    "from time import time \n",
    "import DeepPurpose.models as models\n",
    "from DeepPurpose.utils import *\n",
    "from DeepPurpose.dataset import *"
   ]
  },
  {
   "cell_type": "code",
   "execution_count": 2,
   "metadata": {},
   "outputs": [
    {
     "name": "stdout",
     "output_type": "stream",
     "text": [
      "Beginning Processing...\n",
      "Beginning to extract zip file...\n",
      "Default set to logspace (nM -> p) for easier regression\n",
      "Done!\n",
      "in total: 30056 drug-target pairs\n",
      "encoding drug...\n",
      "unique drugs: 68\n",
      "drug encoding finished...\n",
      "encoding protein...\n",
      "unique target sequence: 379\n",
      "protein encoding finished...\n",
      "splitting dataset...\n",
      "Done.\n",
      "cost 155.51305317878723 seconds\n"
     ]
    }
   ],
   "source": [
    "t1 = time()\n",
    "X_drug, X_target, y = load_process_DAVIS('./data/', binary=False)\n",
    "\n",
    "drug_encoding = 'Transformer'\n",
    "target_encoding = 'CNN'\n",
    "train, val, test = data_process(X_drug, X_target, y, \n",
    "                                drug_encoding, target_encoding, \n",
    "                                split_method='random',frac=[0.7,0.1,0.2])\n",
    "\n",
    "# use the parameters setting provided in the paper: https://arxiv.org/abs/1801.10193\n",
    "config = generate_config(drug_encoding = drug_encoding, \n",
    "                         target_encoding = target_encoding, \n",
    "                         cls_hidden_dims = [1024,512], \n",
    "                         train_epoch = 60, \n",
    "                         LR = 0.001, \n",
    "                         batch_size = 16,\n",
    "                         hidden_dim_drug = 128,\n",
    "                         transformer_dropout_rate = 0.1, \n",
    "                         transformer_attention_probs_dropout = 0.1,\n",
    "                         transformer_hidden_dropout_rate = 0.1, \n",
    "                         cnn_target_filters = [32,64,96],\n",
    "                         cnn_target_kernels = [4,8,12]\n",
    "                        )\n",
    "t2 = time()\n",
    "print(\"cost \" + str(t2-t1) + \" seconds\") ### around 3 min. "
   ]
  },
  {
   "cell_type": "code",
   "execution_count": null,
   "metadata": {},
   "outputs": [
    {
     "name": "stdout",
     "output_type": "stream",
     "text": [
      "--- Data Preparation ---\n",
      "--- Go for Training ---\n",
      "Training at Epoch 1 iteration 0 with loss 30.88039 total time 1.8533811569213867 seconds\n",
      "Training at Epoch 1 iteration 100 with loss 0.6970595 total time 109.6305239200592 seconds\n",
      "Training at Epoch 1 iteration 200 with loss 1.5675577 total time 219.6779022216797 seconds\n",
      "Training at Epoch 1 iteration 300 with loss 0.8168586 total time 320.0341582298279 seconds\n",
      "Training at Epoch 1 iteration 400 with loss 1.3094299 total time 431.39002299308777 seconds\n",
      "Training at Epoch 1 iteration 500 with loss 0.92001575 total time 545.4603950977325 seconds\n",
      "Training at Epoch 1 iteration 600 with loss 0.63927954 total time 647.4146099090576 seconds\n",
      "Training at Epoch 1 iteration 700 with loss 1.9234986 total time 752.4595730304718 seconds\n",
      "Training at Epoch 1 iteration 800 with loss 0.6112568 total time 878.8724501132965 seconds\n",
      "Training at Epoch 1 iteration 900 with loss 1.396243 total time 1012.9160089492798 seconds\n",
      "Training at Epoch 1 iteration 1000 with loss 0.54514706 total time 1131.923996925354 seconds\n",
      "Training at Epoch 1 iteration 1100 with loss 2.0797632 total time 1256.524512052536 seconds\n",
      "Training at Epoch 1 iteration 1200 with loss 1.1543033 total time 1381.1054348945618 seconds\n",
      "Training at Epoch 1 iteration 1300 with loss 1.5878185 total time 1498.366723060608 seconds\n",
      "Validation at Epoch 1 , MSE: 0.7516827965730692 , Pearson Correlation: 0.30120289821784596 with p-value: 4.408861415762542e-64 , Concordance Index: 0.6293974307619871\n",
      "Training at Epoch 2 iteration 0 with loss 0.4556467 total time 1579.2570581436157 seconds\n",
      "Training at Epoch 2 iteration 100 with loss 1.0894523 total time 1699.2877969741821 seconds\n",
      "Training at Epoch 2 iteration 200 with loss 0.4432119 total time 1819.172737121582 seconds\n",
      "Training at Epoch 2 iteration 300 with loss 0.9531531 total time 1932.994222164154 seconds\n",
      "Training at Epoch 2 iteration 400 with loss 0.29476702 total time 2038.2721140384674 seconds\n",
      "Training at Epoch 2 iteration 500 with loss 0.20442992 total time 2144.1618361473083 seconds\n",
      "Training at Epoch 2 iteration 600 with loss 0.56021726 total time 2250.0566029548645 seconds\n",
      "Training at Epoch 2 iteration 700 with loss 0.97702503 total time 2359.889895915985 seconds\n",
      "Training at Epoch 2 iteration 800 with loss 0.9098345 total time 2464.0278630256653 seconds\n",
      "Training at Epoch 2 iteration 900 with loss 0.5154349 total time 2582.8681979179382 seconds\n",
      "Training at Epoch 2 iteration 1000 with loss 0.84721637 total time 2688.2724390029907 seconds\n",
      "Training at Epoch 2 iteration 1100 with loss 1.1997708 total time 2810.2686879634857 seconds\n",
      "Training at Epoch 2 iteration 1200 with loss 0.81968844 total time 2915.524783849716 seconds\n",
      "Training at Epoch 2 iteration 1300 with loss 0.8925323 total time 3019.9767501354218 seconds\n",
      "Validation at Epoch 2 , MSE: 0.6934561817019672 , Pearson Correlation: 0.2985584667255599 with p-value: 6.09459752600239e-63 , Concordance Index: 0.6373937975670947\n",
      "Training at Epoch 3 iteration 0 with loss 0.76039344 total time 3090.52224111557 seconds\n",
      "Training at Epoch 3 iteration 100 with loss 0.39784655 total time 3194.3993101119995 seconds\n",
      "Training at Epoch 3 iteration 200 with loss 0.4477737 total time 3298.846601963043 seconds\n",
      "Training at Epoch 3 iteration 300 with loss 0.122439116 total time 3403.8456959724426 seconds\n",
      "Training at Epoch 3 iteration 400 with loss 0.58755803 total time 3507.615736246109 seconds\n",
      "Training at Epoch 3 iteration 500 with loss 0.6879939 total time 3611.1409978866577 seconds\n",
      "Training at Epoch 3 iteration 600 with loss 0.22752516 total time 3720.807646036148 seconds\n",
      "Training at Epoch 3 iteration 700 with loss 0.5653729 total time 3864.303230047226 seconds\n"
     ]
    }
   ],
   "source": [
    "model = models.model_initialize(**config)\n",
    "model.train(train, val, test)"
   ]
  },
  {
   "cell_type": "code",
   "execution_count": 4,
   "metadata": {},
   "outputs": [],
   "source": [
    "model.save_model('./model_MTDTI')"
   ]
  },
  {
   "cell_type": "code",
   "execution_count": null,
   "metadata": {},
   "outputs": [],
   "source": []
  }
 ],
 "metadata": {
  "kernelspec": {
   "display_name": "Python 3",
   "language": "python",
   "name": "python3"
  },
  "language_info": {
   "codemirror_mode": {
    "name": "ipython",
    "version": 3
   },
   "file_extension": ".py",
   "mimetype": "text/x-python",
   "name": "python",
   "nbconvert_exporter": "python",
   "pygments_lexer": "ipython3",
   "version": "3.7.7"
  }
 },
 "nbformat": 4,
 "nbformat_minor": 4
}
