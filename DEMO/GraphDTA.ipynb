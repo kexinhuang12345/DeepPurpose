{
 "cells": [
  {
   "cell_type": "code",
   "execution_count": 1,
   "metadata": {},
   "outputs": [
    {
     "name": "stderr",
     "output_type": "stream",
     "text": [
      "RDKit WARNING: [16:49:53] Enabling RDKit 2019.09.3 jupyter extensions\n"
     ]
    }
   ],
   "source": [
    "import os\n",
    "os.chdir('../../')\n",
    "\n",
    "import DeepPurpose.models as models\n",
    "from DeepPurpose.utils import *\n",
    "from DeepPurpose.dataset import *"
   ]
  },
  {
   "cell_type": "code",
   "execution_count": 2,
   "metadata": {},
   "outputs": [
    {
     "name": "stdout",
     "output_type": "stream",
     "text": [
      "Beginning Processing...\n",
      "Beginning to extract zip file...\n",
      "Default set to logspace (nM -> p) for easier regression\n",
      "Done!\n",
      "in total: 30056 drug-target pairs\n",
      "encoding drug...\n",
      "unique drugs: 68\n",
      "drug encoding finished...\n",
      "encoding protein...\n",
      "unique target sequence: 379\n",
      "protein encoding finished...\n",
      "splitting dataset...\n",
      "Done.\n"
     ]
    }
   ],
   "source": [
    "X_drug, X_target, y = load_process_DAVIS('./data/', binary=False)\n",
    "\n",
    "drug_encoding = 'MPNN'\n",
    "target_encoding = 'CNN'\n",
    "train, val, test = data_process(X_drug, X_target, y, \n",
    "                                drug_encoding, target_encoding, \n",
    "                                split_method='random',frac=[0.7,0.1,0.2])\n",
    "\n",
    "# use the parameters setting provided in the paper: https://arxiv.org/abs/1801.10193\n",
    "config = generate_config(drug_encoding = drug_encoding, \n",
    "                         target_encoding = target_encoding, \n",
    "                         cls_hidden_dims = [1024,1024,512], \n",
    "                         train_epoch = 100, \n",
    "                         LR = 0.001, \n",
    "                         batch_size = 16,\n",
    "                         hidden_dim_drug = 50, \n",
    "                         mpnn_hidden_size = 3, \n",
    "                         cnn_target_filters = [32,64,96],\n",
    "                         cnn_target_kernels = [4,8,12]\n",
    "                        )"
   ]
  },
  {
   "cell_type": "code",
   "execution_count": null,
   "metadata": {},
   "outputs": [
    {
     "name": "stdout",
     "output_type": "stream",
     "text": [
      "--- Data Preparation ---\n",
      "--- Go for Training ---\n",
      "Training at Epoch 1 iteration 0 with loss 32.054523\n",
      "Training at Epoch 1 iteration 100 with loss 0.9511236\n",
      "Training at Epoch 1 iteration 200 with loss 0.21053487\n",
      "Training at Epoch 1 iteration 300 with loss 1.1979728\n",
      "Training at Epoch 1 iteration 400 with loss 0.3264727\n",
      "Training at Epoch 1 iteration 500 with loss 0.33002013\n",
      "Training at Epoch 1 iteration 600 with loss 1.6745504\n",
      "Training at Epoch 1 iteration 700 with loss 0.6877624\n",
      "Training at Epoch 1 iteration 800 with loss 0.5925915\n",
      "Training at Epoch 1 iteration 900 with loss 0.9662063\n",
      "Training at Epoch 1 iteration 1000 with loss 0.21559758\n",
      "Training at Epoch 1 iteration 1100 with loss 0.60998297\n",
      "Training at Epoch 1 iteration 1200 with loss 1.030491\n",
      "Training at Epoch 1 iteration 1300 with loss 0.45641777\n",
      "Validation at Epoch 1 , MSE: 0.6925259372476289 , Pearson Correlation: 0.4732143994243396 with p-value: 1.3093986014755164e-167 , Concordance Index: 0.7471306017610806\n",
      "Training at Epoch 2 iteration 0 with loss 0.8268034\n",
      "Training at Epoch 2 iteration 100 with loss 0.38469383\n",
      "Training at Epoch 2 iteration 200 with loss 0.1622094\n",
      "Training at Epoch 2 iteration 300 with loss 0.36057365\n",
      "Training at Epoch 2 iteration 400 with loss 0.4386183\n",
      "Training at Epoch 2 iteration 500 with loss 0.72178596\n",
      "Training at Epoch 2 iteration 600 with loss 1.2222733\n",
      "Training at Epoch 2 iteration 700 with loss 1.1384195\n",
      "Training at Epoch 2 iteration 800 with loss 0.41129723\n",
      "Training at Epoch 2 iteration 900 with loss 0.6724918\n",
      "Training at Epoch 2 iteration 1000 with loss 0.65540504\n",
      "Training at Epoch 2 iteration 1100 with loss 0.8835631\n",
      "Training at Epoch 2 iteration 1200 with loss 0.56032485\n",
      "Training at Epoch 2 iteration 1300 with loss 0.7947048\n",
      "Validation at Epoch 2 , MSE: 0.5897785722918736 , Pearson Correlation: 0.5276166955389893 with p-value: 4.172378112621363e-215 , Concordance Index: 0.7718288164358147\n",
      "Training at Epoch 3 iteration 0 with loss 0.5406903\n",
      "Training at Epoch 3 iteration 100 with loss 0.11029796\n",
      "Training at Epoch 3 iteration 200 with loss 0.2755591\n",
      "Training at Epoch 3 iteration 300 with loss 0.34612498\n",
      "Training at Epoch 3 iteration 400 with loss 0.32213\n",
      "Training at Epoch 3 iteration 500 with loss 1.1522868\n",
      "Training at Epoch 3 iteration 600 with loss 0.734421\n",
      "Training at Epoch 3 iteration 700 with loss 0.84140503\n",
      "Training at Epoch 3 iteration 800 with loss 0.3612707\n",
      "Training at Epoch 3 iteration 900 with loss 0.6143362\n",
      "Training at Epoch 3 iteration 1000 with loss 0.89578843\n",
      "Training at Epoch 3 iteration 1100 with loss 0.55072856\n",
      "Training at Epoch 3 iteration 1200 with loss 0.5386385\n",
      "Training at Epoch 3 iteration 1300 with loss 0.25678748\n",
      "Validation at Epoch 3 , MSE: 0.5102100729436536 , Pearson Correlation: 0.5759949760588403 with p-value: 2.7602168951979487e-265 , Concordance Index: 0.7845676181842458\n",
      "Training at Epoch 4 iteration 0 with loss 0.9717326\n",
      "Training at Epoch 4 iteration 100 with loss 0.63537914\n",
      "Training at Epoch 4 iteration 200 with loss 0.6416029\n",
      "Training at Epoch 4 iteration 300 with loss 0.27695164\n",
      "Training at Epoch 4 iteration 400 with loss 0.6261903\n",
      "Training at Epoch 4 iteration 500 with loss 0.4597319\n",
      "Training at Epoch 4 iteration 600 with loss 0.76988333\n",
      "Training at Epoch 4 iteration 700 with loss 0.18676437\n",
      "Training at Epoch 4 iteration 800 with loss 0.49935946\n",
      "Training at Epoch 4 iteration 900 with loss 0.75998914\n",
      "Training at Epoch 4 iteration 1000 with loss 0.5868513\n",
      "Training at Epoch 4 iteration 1100 with loss 1.110182\n",
      "Training at Epoch 4 iteration 1200 with loss 0.3861763\n",
      "Training at Epoch 4 iteration 1300 with loss 0.18409963\n",
      "Validation at Epoch 4 , MSE: 0.4938673482652219 , Pearson Correlation: 0.5964815100820662 with p-value: 3.5176244339306494e-289 , Concordance Index: 0.8072267725001581\n",
      "Training at Epoch 5 iteration 0 with loss 0.19482295\n",
      "Training at Epoch 5 iteration 100 with loss 0.22164243\n",
      "Training at Epoch 5 iteration 200 with loss 0.7812179\n",
      "Training at Epoch 5 iteration 300 with loss 0.74747396\n",
      "Training at Epoch 5 iteration 400 with loss 0.6734351\n",
      "Training at Epoch 5 iteration 500 with loss 0.7801855\n",
      "Training at Epoch 5 iteration 600 with loss 0.59332544\n",
      "Training at Epoch 5 iteration 700 with loss 0.660306\n",
      "Training at Epoch 5 iteration 800 with loss 1.0387243\n"
     ]
    }
   ],
   "source": [
    "model = models.model_initialize(**config)\n",
    "model.train(train, val, test)"
   ]
  },
  {
   "cell_type": "code",
   "execution_count": 4,
   "metadata": {},
   "outputs": [],
   "source": [
    "model.save_model('./model_GraphDTA')"
   ]
  },
  {
   "cell_type": "code",
   "execution_count": null,
   "metadata": {},
   "outputs": [],
   "source": []
  }
 ],
 "metadata": {
  "kernelspec": {
   "display_name": "Python 3",
   "language": "python",
   "name": "python3"
  },
  "language_info": {
   "codemirror_mode": {
    "name": "ipython",
    "version": 3
   },
   "file_extension": ".py",
   "mimetype": "text/x-python",
   "name": "python",
   "nbconvert_exporter": "python",
   "pygments_lexer": "ipython3",
   "version": "3.7.7"
  }
 },
 "nbformat": 4,
 "nbformat_minor": 4
}
