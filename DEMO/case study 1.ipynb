{
 "cells": [
  {
   "cell_type": "code",
   "execution_count": 1,
   "metadata": {},
   "outputs": [
    {
     "name": "stderr",
     "output_type": "stream",
     "text": [
      "RDKit WARNING: [16:32:14] Enabling RDKit 2019.09.3 jupyter extensions\n"
     ]
    }
   ],
   "source": [
    "import os\n",
    "os.chdir('../../')\n",
    "from DeepPurpose import dataset, oneliner, models, utils"
   ]
  },
  {
   "cell_type": "code",
   "execution_count": 2,
   "metadata": {
    "scrolled": false
   },
   "outputs": [
    {
     "name": "stdout",
     "output_type": "stream",
     "text": [
      "Checking if pretrained directory is valid...\n",
      "Beginning to load the pretrained models...\n",
      "Using pretrained model and making predictions...\n",
      "repurposing...\n",
      "in total: 6111 drug-target pairs\n",
      "encoding drug...\n",
      "unique drugs: 6111\n",
      "drug encoding finished...\n",
      "encoding protein...\n",
      "unique target sequence: 1\n",
      "protein encoding finished...\n",
      "Done.\n",
      "predicting...\n",
      "---------------\n",
      "Predictions from model 1 with drug encoding MPNN and target encoding CNN are done...\n",
      "-------------\n",
      "repurposing...\n",
      "in total: 6111 drug-target pairs\n",
      "encoding drug...\n",
      "unique drugs: 6111\n",
      "drug encoding finished...\n",
      "encoding protein...\n",
      "unique target sequence: 1\n",
      "protein encoding finished...\n",
      "Done.\n",
      "predicting...\n",
      "---------------\n",
      "Predictions from model 2 with drug encoding CNN and target encoding CNN are done...\n",
      "-------------\n",
      "repurposing...\n",
      "in total: 6111 drug-target pairs\n",
      "encoding drug...\n",
      "unique drugs: 6111\n",
      "drug encoding finished...\n",
      "encoding protein...\n",
      "unique target sequence: 1\n",
      "protein encoding finished...\n",
      "Done.\n",
      "predicting...\n",
      "---------------\n",
      "Predictions from model 3 with drug encoding Morgan and target encoding CNN are done...\n",
      "-------------\n",
      "repurposing...\n",
      "in total: 6111 drug-target pairs\n",
      "encoding drug...\n",
      "unique drugs: 6111\n",
      "drug encoding finished...\n",
      "encoding protein...\n",
      "unique target sequence: 1\n",
      "-- Encoding AAC takes time. Time Reference: 24s for ~100 sequences in a CPU. Calculate your time by the unique target sequence #, instead of the entire dataset.\n",
      "protein encoding finished...\n",
      "Done.\n",
      "predicting...\n",
      "---------------\n",
      "Predictions from model 4 with drug encoding Morgan and target encoding AAC are done...\n",
      "-------------\n",
      "repurposing...\n",
      "in total: 6111 drug-target pairs\n",
      "encoding drug...\n",
      "unique drugs: 6111\n",
      "rdkit not found this smiles: [Y+3] convert to all 1 features\n",
      "rdkit not found this smiles: [K].I convert to all 1 features\n",
      "drug encoding finished...\n",
      "encoding protein...\n",
      "unique target sequence: 1\n",
      "-- Encoding AAC takes time. Time Reference: 24s for ~100 sequences in a CPU. Calculate your time by the unique target sequence #, instead of the entire dataset.\n",
      "protein encoding finished...\n",
      "Done.\n",
      "predicting...\n",
      "---------------\n",
      "Predictions from model 5 with drug encoding Daylight and target encoding AAC are done...\n",
      "-------------\n",
      "models prediction finished...\n",
      "aggregating results...\n",
      "---------------\n",
      "Drug Repurposing Result for MMP9\n",
      "+------+-------------+-------------+---------------+\n",
      "| Rank |  Drug Name  | Target Name | Binding Score |\n",
      "+------+-------------+-------------+---------------+\n",
      "|  1   |  6917849.0  |     MMP9    |      5.42     |\n",
      "|  2   |   441336.0  |     MMP9    |      6.97     |\n",
      "|  3   |   441335.0  |     MMP9    |      8.37     |\n",
      "|  4   |   27924.0   |     MMP9    |      9.84     |\n",
      "|  5   |   16490.0   |     MMP9    |      9.86     |\n",
      "|  6   |  23947600.0 |     MMP9    |     10.11     |\n",
      "|  7   |    5743.0   |     MMP9    |     12.44     |\n",
      "|  8   |    3288.0   |     MMP9    |     15.91     |\n",
      "|  9   | 129009989.0 |     MMP9    |     18.01     |\n",
      "|  10  | 129009925.0 |     MMP9    |     23.13     |\n",
      "|  11  |  40467076.0 |     MMP9    |     23.48     |\n",
      "|  12  |  6917974.0  |     MMP9    |     24.50     |\n",
      "|  13  |  73707512.0 |     MMP9    |     26.83     |\n",
      "|  14  |   32798.0   |     MMP9    |     27.84     |\n",
      "|  15  | 129009982.0 |     MMP9    |     30.39     |\n",
      "|  16  |  5702174.0  |     MMP9    |     32.07     |\n",
      "|  17  |  5702055.0  |     MMP9    |     33.71     |\n",
      "|  18  |   71386.0   |     MMP9    |     35.81     |\n",
      "|  19  |   21800.0   |     MMP9    |     35.84     |\n",
      "|  20  |  5282493.0  |     MMP9    |     36.15     |\n",
      "|  21  |   16533.0   |     MMP9    |     36.74     |\n",
      "|  22  |    2308.0   |     MMP9    |     38.35     |\n",
      "|  23  |   40839.0   |     MMP9    |     39.34     |\n",
      "|  24  |   13109.0   |     MMP9    |     44.39     |\n",
      "|  25  |  91930061.0 |     MMP9    |     45.99     |\n",
      "|  26  |  23817960.0 |     MMP9    |     46.90     |\n",
      "|  27  |   260439.0  |     MMP9    |     47.17     |\n",
      "|  28  | 124079495.0 |     MMP9    |     49.74     |\n",
      "|  29  |   68873.0   |     MMP9    |     50.01     |\n",
      "|  30  |     UNK     |     MMP9    |     50.14     |\n",
      "checkout ./save_folder/results_aggregation/repurposing.txt for the whole list\n",
      "\n"
     ]
    }
   ],
   "source": [
    "target, target_name = dataset.load_MMP9()\n",
    "oneliner.repurpose(target = target, \n",
    "                    target_name = target_name,\n",
    "                    save_dir = './save_folder',\n",
    "                    pretrained_dir = './save_folder/pretrained_models/DeepPurpose_BindingDB/',\n",
    "                    agg = 'mean')"
   ]
  },
  {
   "cell_type": "code",
   "execution_count": null,
   "metadata": {},
   "outputs": [],
   "source": []
  }
 ],
 "metadata": {
  "kernelspec": {
   "display_name": "Python 3",
   "language": "python",
   "name": "python3"
  },
  "language_info": {
   "codemirror_mode": {
    "name": "ipython",
    "version": 3
   },
   "file_extension": ".py",
   "mimetype": "text/x-python",
   "name": "python",
   "nbconvert_exporter": "python",
   "pygments_lexer": "ipython3",
   "version": "3.7.7"
  }
 },
 "nbformat": 4,
 "nbformat_minor": 4
}
