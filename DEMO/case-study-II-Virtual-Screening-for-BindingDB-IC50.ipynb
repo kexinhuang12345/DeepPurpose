{
 "cells": [
  {
   "cell_type": "code",
   "execution_count": 1,
   "metadata": {},
   "outputs": [
    {
     "name": "stderr",
     "output_type": "stream",
     "text": [
      "RDKit WARNING: [21:00:48] Enabling RDKit 2019.09.3 jupyter extensions\n"
     ]
    }
   ],
   "source": [
    "import os\n",
    "os.chdir('../../')\n",
    "from DeepPurpose import dataset\n",
    "\n",
    "import pandas as pd"
   ]
  },
  {
   "cell_type": "code",
   "execution_count": 27,
   "metadata": {},
   "outputs": [],
   "source": [
    "df_data_IC50 = pd.read_csv('../data/IC50_not_Kd.csv')\n",
    "df_1000 = df_data_IC50.sample(n = 1000, replace = False).reset_index(drop = True)"
   ]
  },
  {
   "cell_type": "code",
   "execution_count": 29,
   "metadata": {
    "scrolled": false
   },
   "outputs": [
    {
     "name": "stdout",
     "output_type": "stream",
     "text": [
      "Loading customized repurposing dataset...\n",
      "Checking if pretrained directory is valid...\n",
      "Beginning to load the pretrained models...\n",
      "Using pretrained model and making predictions...\n",
      "virtual screening...\n",
      "in total: 1000 drug-target pairs\n",
      "encoding drug...\n",
      "unique drugs: 998\n"
     ]
    },
    {
     "name": "stderr",
     "output_type": "stream",
     "text": [
      "RDKit ERROR: [21:34:49] Can't kekulize mol.  Unkekulized atoms: 1 2 3 4 5 6 7 8 9\n",
      "RDKit ERROR: \n"
     ]
    },
    {
     "name": "stdout",
     "output_type": "stream",
     "text": [
      "Molecules not found and change to zero vectors..\n",
      "drug encoding finished...\n",
      "encoding protein...\n",
      "unique target sequence: 575\n",
      "protein encoding finished...\n",
      "Done.\n",
      "predicting...\n",
      "---------------\n",
      "Predictions from model 1 with drug encoding MPNN and target encoding CNN are done...\n",
      "-------------\n",
      "virtual screening...\n",
      "in total: 1000 drug-target pairs\n",
      "encoding drug...\n",
      "unique drugs: 998\n",
      "drug encoding finished...\n",
      "encoding protein...\n",
      "unique target sequence: 575\n",
      "protein encoding finished...\n",
      "Done.\n",
      "predicting...\n",
      "---------------\n",
      "Predictions from model 2 with drug encoding CNN and target encoding CNN are done...\n",
      "-------------\n",
      "virtual screening...\n",
      "in total: 1000 drug-target pairs\n",
      "encoding drug...\n",
      "unique drugs: 998\n"
     ]
    },
    {
     "name": "stderr",
     "output_type": "stream",
     "text": [
      "RDKit ERROR: [21:35:20] Can't kekulize mol.  Unkekulized atoms: 1 2 3 4 5 6 7 8 9\n",
      "RDKit ERROR: \n"
     ]
    },
    {
     "name": "stdout",
     "output_type": "stream",
     "text": [
      "rdkit not found this smiles for morgan: Cc1cc2ccccc2c1-c1ccc(cc1)C(=O)NO convert to all 1 features\n",
      "drug encoding finished...\n",
      "encoding protein...\n",
      "unique target sequence: 575\n",
      "protein encoding finished...\n",
      "Done.\n",
      "predicting...\n",
      "---------------\n",
      "Predictions from model 3 with drug encoding Morgan and target encoding CNN are done...\n",
      "-------------\n",
      "virtual screening...\n",
      "in total: 1000 drug-target pairs\n",
      "encoding drug...\n",
      "unique drugs: 998\n"
     ]
    },
    {
     "name": "stderr",
     "output_type": "stream",
     "text": [
      "RDKit ERROR: [21:35:31] Can't kekulize mol.  Unkekulized atoms: 1 2 3 4 5 6 7 8 9\n",
      "RDKit ERROR: \n"
     ]
    },
    {
     "name": "stdout",
     "output_type": "stream",
     "text": [
      "rdkit not found this smiles for morgan: Cc1cc2ccccc2c1-c1ccc(cc1)C(=O)NO convert to all 1 features\n",
      "drug encoding finished...\n",
      "encoding protein...\n",
      "unique target sequence: 575\n",
      "-- Encoding AAC takes time. Time Reference: 24s for ~100 sequences in a CPU. Calculate your time by the unique target sequence #, instead of the entire dataset.\n",
      "protein encoding finished...\n",
      "Done.\n",
      "predicting...\n",
      "---------------\n",
      "Predictions from model 4 with drug encoding Morgan and target encoding AAC are done...\n",
      "-------------\n",
      "virtual screening...\n",
      "in total: 1000 drug-target pairs\n",
      "encoding drug...\n",
      "unique drugs: 998\n"
     ]
    },
    {
     "name": "stderr",
     "output_type": "stream",
     "text": [
      "RDKit ERROR: [21:50:28] Can't kekulize mol.  Unkekulized atoms: 1 2 3 4 5 6 7 8 9\n",
      "RDKit ERROR: \n"
     ]
    },
    {
     "name": "stdout",
     "output_type": "stream",
     "text": [
      "rdkit not found this smiles: Cc1cc2ccccc2c1-c1ccc(cc1)C(=O)NO convert to all 1 features\n",
      "drug encoding finished...\n",
      "encoding protein...\n",
      "unique target sequence: 575\n",
      "-- Encoding AAC takes time. Time Reference: 24s for ~100 sequences in a CPU. Calculate your time by the unique target sequence #, instead of the entire dataset.\n",
      "protein encoding finished...\n",
      "Done.\n",
      "predicting...\n",
      "---------------\n",
      "Predictions from model 5 with drug encoding Daylight and target encoding AAC are done...\n",
      "-------------\n",
      "models prediction finished...\n",
      "aggregating results...\n",
      "virtual screening...\n",
      "in total: 1000 drug-target pairs\n",
      "encoding drug...\n",
      "unique drugs: 998\n"
     ]
    },
    {
     "name": "stderr",
     "output_type": "stream",
     "text": [
      "RDKit ERROR: [22:06:17] Can't kekulize mol.  Unkekulized atoms: 1 2 3 4 5 6 7 8 9\n",
      "RDKit ERROR: \n"
     ]
    },
    {
     "name": "stdout",
     "output_type": "stream",
     "text": [
      "rdkit not found this smiles: Cc1cc2ccccc2c1-c1ccc(cc1)C(=O)NO convert to all 1 features\n",
      "drug encoding finished...\n",
      "encoding protein...\n",
      "unique target sequence: 575\n",
      "-- Encoding AAC takes time. Time Reference: 24s for ~100 sequences in a CPU. Calculate your time by the unique target sequence #, instead of the entire dataset.\n",
      "protein encoding finished...\n",
      "Done.\n",
      "predicting...\n",
      "---------------\n",
      "Virtual Screening Result\n",
      "+------+-----------+-------------+---------------+\n",
      "| Rank | Drug Name | Target Name | Binding Score |\n",
      "+------+-----------+-------------+---------------+\n",
      "|  1   |  Drug 960 |  Target 960 |      0.07     |\n",
      "|  2   |  Drug 303 |  Target 303 |      0.13     |\n",
      "|  3   |  Drug 803 |  Target 803 |      0.35     |\n",
      "|  4   |  Drug 228 |  Target 228 |      0.41     |\n",
      "|  5   |  Drug 37  |  Target 37  |      0.45     |\n",
      "|  6   |  Drug 107 |  Target 107 |      0.49     |\n",
      "|  7   |  Drug 582 |  Target 582 |      0.54     |\n",
      "|  8   |  Drug 177 |  Target 177 |      0.58     |\n",
      "|  9   |  Drug 838 |  Target 838 |      0.59     |\n",
      "|  10  |  Drug 983 |  Target 983 |      0.68     |\n",
      "|  11  |  Drug 475 |  Target 475 |      0.82     |\n",
      "|  12  |  Drug 788 |  Target 788 |      0.86     |\n",
      "|  13  |  Drug 508 |  Target 508 |      0.93     |\n",
      "|  14  |  Drug 596 |  Target 596 |      1.01     |\n",
      "|  15  |  Drug 705 |  Target 705 |      1.17     |\n",
      "|  16  |  Drug 800 |  Target 800 |      1.24     |\n",
      "|  17  |  Drug 498 |  Target 498 |      1.26     |\n",
      "|  18  |  Drug 928 |  Target 928 |      1.29     |\n",
      "|  19  |  Drug 43  |  Target 43  |      1.32     |\n",
      "|  20  |  Drug 653 |  Target 653 |      1.51     |\n",
      "|  21  |  Drug 454 |  Target 454 |      1.58     |\n",
      "|  22  |  Drug 11  |  Target 11  |      1.62     |\n",
      "|  23  |  Drug 71  |  Target 71  |      1.73     |\n",
      "|  24  |  Drug 693 |  Target 693 |      1.79     |\n",
      "|  25  |  Drug 632 |  Target 632 |      1.87     |\n",
      "|  26  |  Drug 657 |  Target 657 |      1.93     |\n",
      "|  27  |  Drug 157 |  Target 157 |      1.95     |\n",
      "|  28  |  Drug 145 |  Target 145 |      2.12     |\n",
      "|  29  |  Drug 817 |  Target 817 |      2.12     |\n",
      "|  30  |  Drug 478 |  Target 478 |      2.16     |\n",
      "checkout ./save_folder/results_aggregation/virtual_screening.txt for the whole list\n",
      "\n"
     ]
    }
   ],
   "source": [
    "from DeepPurpose import oneliner\n",
    "oneliner.virtual_screening(df_1000['Target Sequence'].values, target_name = None, \n",
    "                X_repurpose = df_1000['SMILES'].values, \n",
    "                drug_names = None,\n",
    "                save_dir = './save_folder',               \n",
    "                pretrained_dir = './save_folder/pretrained_models/DeepPurpose_BindingDB/',\n",
    "                convert_y = True,\n",
    "                subsample_frac = 1,\n",
    "                pretrained = True,\n",
    "                split = 'random',\n",
    "                frac = [0.7,0.1,0.2],\n",
    "                agg = 'agg_mean_max',\n",
    "                output_len = 30)\n"
   ]
  },
  {
   "cell_type": "code",
   "execution_count": 34,
   "metadata": {},
   "outputs": [
    {
     "data": {
      "text/plain": [
       "(0.2956839158945849, 1.2591800733479032e-21)"
      ]
     },
     "execution_count": 34,
     "metadata": {},
     "output_type": "execute_result"
    }
   ],
   "source": [
    "import pickle\n",
    "from utils import convert_y_unit\n",
    "with open('./save_folder/results_aggregation/logits_VS_mean_max.pkl', 'rb') as f:\n",
    "    list_ = pickle.load(f)\n",
    "result = convert_y_unit(list_, 'nM', 'p')\n",
    "from scipy.stats import pearsonr\n",
    "\n",
    "pearsonr(result, df_1000.Label.values)"
   ]
  },
  {
   "cell_type": "code",
   "execution_count": 36,
   "metadata": {},
   "outputs": [
    {
     "data": {
      "image/png": "[encoded data removed]",
      "text/plain": [
       "<Figure size 432x288 with 1 Axes>"
      ]
     },
     "metadata": {
      "needs_background": "light"
     },
     "output_type": "display_data"
    }
   ],
   "source": [
    "import seaborn as sns\n",
    "sns.regplot(x=result, y=df_1000.Label.values, line_kws={\"color\":\"r\",\"alpha\":0.7,\"lw\":5})\n",
    "plt.xlabel('Predicted Kd', fontsize = fontsize)\n",
    "plt.ylabel('True IC50', fontsize = fontsize)\n",
    "plt.title('Predicted Kd vs True IC50')\n",
    "\n",
    "plt.text(3.2, 9.5, \"p = 1.26e-21\", horizontalalignment='left', size='medium', color='black', weight='semibold')\n",
    "plt.savefig('./correlation.pdf')"
   ]
  }
 ],
 "metadata": {
  "kernelspec": {
   "display_name": "Python 3",
   "language": "python",
   "name": "python3"
  },
  "language_info": {
   "codemirror_mode": {
    "name": "ipython",
    "version": 3
   },
   "file_extension": ".py",
   "mimetype": "text/x-python",
   "name": "python",
   "nbconvert_exporter": "python",
   "pygments_lexer": "ipython3",
   "version": "3.7.7"
  }
 },
 "nbformat": 4,
 "nbformat_minor": 4
}
