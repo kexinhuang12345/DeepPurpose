{
 "cells": [
  {
   "cell_type": "code",
   "execution_count": 1,
   "metadata": {},
   "outputs": [],
   "source": [
    "import os\n",
    "os.chdir('../')"
   ]
  },
  {
   "cell_type": "code",
   "execution_count": 2,
   "metadata": {},
   "outputs": [],
   "source": [
    "import DeepPurpose.oneliner as oneliner\n",
    "from DeepPurpose import dataset"
   ]
  },
  {
   "cell_type": "code",
   "execution_count": 3,
   "metadata": {},
   "outputs": [
    {
     "name": "stdout",
     "output_type": "stream",
     "text": [
      "Beginning Processing...\n"
     ]
    },
    {
     "name": "stderr",
     "output_type": "stream",
     "text": [
      "/home/kh278/.conda/envs/DeepPurpose/lib/python3.7/site-packages/IPython/core/interactiveshell.py:3254: DtypeWarning: Columns (0,7) have mixed types.Specify dtype option on import or set low_memory=False.\n",
      "  if (await self.run_code(code, result,  async_=asy)):\n",
      "/home/kh278/DeepPurpose/dataset.py:224: SettingWithCopyWarning: \n",
      "A value is trying to be set on a copy of a slice from a DataFrame\n",
      "\n",
      "See the caveats in the documentation: https://pandas.pydata.org/pandas-docs/stable/user_guide/indexing.html#returning-a-view-versus-a-copy\n",
      "  val['binary_label'][(val.PUBCHEM_ACTIVITY_SCORE >= threshold) & (val.PUBCHEM_ACTIVITY_SCORE <=100)] = 1\n"
     ]
    },
    {
     "name": "stdout",
     "output_type": "stream",
     "text": [
      "Default binary threshold for the binding affinity scores is 15, recommended by the investigator\n",
      "Done!\n"
     ]
    }
   ],
   "source": [
    "target, target_name = dataset.load_SARS_CoV_Protease_3CL()\n",
    "train_drug, train_target, train_y = dataset.load_AID1706_SARS_CoV_3CL('./data', seed = 1234)\n",
    "X_repurpose, drug_names, drug_CID = dataset.load_antiviral_drugs('./data')"
   ]
  },
  {
   "cell_type": "code",
   "execution_count": 4,
   "metadata": {},
   "outputs": [
    {
     "data": {
      "text/plain": [
       "26640"
      ]
     },
     "execution_count": 4,
     "metadata": {},
     "output_type": "execute_result"
    }
   ],
   "source": [
    "len(train_drug)"
   ]
  },
  {
   "cell_type": "code",
   "execution_count": 5,
   "metadata": {},
   "outputs": [
    {
     "data": {
      "text/plain": [
       "'SGFKKLVSPSSAVEKCIVSVSYRGNNLNGLWLGDSIYCPRHVLGKFSGDQWGDVLNLANNHEFEVVTQNGVTLNVVSRRLKGAVLILQTAVANAETPKYKFVKANCGDSFTIACSYGGTVIGLYPVTMRSNGTIRASFLAGACGSVGFNIEKGVVNFFYMHHLELPNALHTGTDLMGEFYGGYVDEEVAQRVPPDNLVTNNIVAWLYAAIISVKESSFSQPKWLESTTVSIEDYNRWASDNGFTPFSTSTAITKLSAITGVDVCKLLRTIMVKSAQWGSDPILGQYNFEDELTPESVFNQVGGVRLQ'"
      ]
     },
     "execution_count": 5,
     "metadata": {},
     "output_type": "execute_result"
    }
   ],
   "source": [
    "target"
   ]
  },
  {
   "cell_type": "code",
   "execution_count": 6,
   "metadata": {},
   "outputs": [
    {
     "data": {
      "text/plain": [
       "82"
      ]
     },
     "execution_count": 6,
     "metadata": {},
     "output_type": "execute_result"
    }
   ],
   "source": [
    "len(X_repurpose)"
   ]
  },
  {
   "cell_type": "code",
   "execution_count": 7,
   "metadata": {
    "scrolled": false
   },
   "outputs": [
    {
     "name": "stdout",
     "output_type": "stream",
     "text": [
      "Loading customized repurposing dataset...\n",
      "Beginning Downloading Configs Files for training from scratch...\n",
      "Downloading finished... Beginning to extract zip file...\n",
      "Configs Models Successfully Downloaded...\n",
      "Training on your own customized data...\n",
      "in total: 26640 drug-target pairs\n",
      "encoding drug...\n",
      "unique drugs: 13763\n",
      "drug encoding finished...\n",
      "encoding protein...\n",
      "unique target sequence: 1\n",
      "protein encoding finished...\n",
      "splitting dataset...\n",
      "Done.\n",
      "Training from scrtach...\n",
      "Begin to train model 0 with drug encoding MPNN and target encoding CNN\n",
      "Let's use 1 GPU!\n",
      "--- Data Preparation ---\n",
      "--- Go for Training ---\n",
      "Training at Epoch 1 iteration 0 with loss 0.69219315. Total time 0.0005555555555555556 hours\n",
      "Training at Epoch 1 iteration 100 with loss 0.63622105. Total time 0.014444444444444444 hours\n",
      "Validation at Epoch 1 , AUROC: 0.7087283425956196 , AUPRC: 0.08107097908058133 , F1: 0.0906515580736544\n",
      "Training at Epoch 2 iteration 0 with loss 0.61612177. Total time 0.024722222222222222 hours\n",
      "Training at Epoch 2 iteration 100 with loss 0.50596976. Total time 0.03861111111111111 hours\n",
      "Validation at Epoch 2 , AUROC: 0.7477443609022556 , AUPRC: 0.18217650191280857 , F1: 0.11663066954643626\n",
      "Training at Epoch 3 iteration 0 with loss 0.42532685. Total time 0.04888888888888889 hours\n",
      "Training at Epoch 3 iteration 100 with loss 0.44649932. Total time 0.0625 hours\n",
      "Validation at Epoch 3 , AUROC: 0.7755148741418764 , AUPRC: 0.18590112497445488 , F1: 0.16713091922005568\n",
      "Training at Epoch 4 iteration 0 with loss 0.42490408. Total time 0.07277777777777777 hours\n",
      "Training at Epoch 4 iteration 100 with loss 0.444058. Total time 0.08638888888888889 hours\n",
      "Validation at Epoch 4 , AUROC: 0.7558842759071592 , AUPRC: 0.17687488831751821 , F1: 0.18315018315018314\n",
      "Training at Epoch 5 iteration 0 with loss 0.2545814. Total time 0.09666666666666666 hours\n",
      "Training at Epoch 5 iteration 100 with loss 0.25835. Total time 0.11027777777777778 hours\n",
      "Validation at Epoch 5 , AUROC: 0.761588754494933 , AUPRC: 0.1899173296466387 , F1: 0.24390243902439024\n",
      "Training at Epoch 6 iteration 0 with loss 0.16367398. Total time 0.12055555555555555 hours\n",
      "Training at Epoch 6 iteration 100 with loss 0.19137013. Total time 0.13416666666666666 hours\n",
      "Validation at Epoch 6 , AUROC: 0.7579764628963713 , AUPRC: 0.19984929162117568 , F1: 0.2162162162162162\n",
      "Training at Epoch 7 iteration 0 with loss 0.13817696. Total time 0.14444444444444443 hours\n",
      "Training at Epoch 7 iteration 100 with loss 0.11265085. Total time 0.15805555555555556 hours\n",
      "Validation at Epoch 7 , AUROC: 0.7511605099705786 , AUPRC: 0.1779092797499989 , F1: 0.16487455197132617\n",
      "Training at Epoch 8 iteration 0 with loss 0.17458653. Total time 0.16833333333333333 hours\n",
      "Training at Epoch 8 iteration 100 with loss 0.28880474. Total time 0.18194444444444444 hours\n",
      "Validation at Epoch 8 , AUROC: 0.7236842105263158 , AUPRC: 0.18503743061025257 , F1: 0.2048192771084337\n",
      "Training at Epoch 9 iteration 0 with loss 0.16817206. Total time 0.1922222222222222 hours\n",
      "Training at Epoch 9 iteration 100 with loss 0.14039916. Total time 0.20583333333333334 hours\n",
      "Validation at Epoch 9 , AUROC: 0.7288492971559333 , AUPRC: 0.1618171695514035 , F1: 0.18309859154929575\n",
      "Training at Epoch 10 iteration 0 with loss 0.15983188. Total time 0.21611111111111111 hours\n",
      "Training at Epoch 10 iteration 100 with loss 0.079480745. Total time 0.22972222222222222 hours\n",
      "Validation at Epoch 10 , AUROC: 0.7305001634521086 , AUPRC: 0.20142498002557263 , F1: 0.1956521739130435\n",
      "--- Go for Testing ---\n",
      "Testing AUROC: 0.7748587163600853 , AUPRC: 0.2598558006854189 , F1: 0.23645320197044337\n",
      "--- Training Finished ---\n",
      "model training finished, now repurposing\n",
      "repurposing...\n",
      "in total: 82 drug-target pairs\n",
      "encoding drug...\n",
      "unique drugs: 81\n",
      "drug encoding finished...\n",
      "encoding protein...\n",
      "unique target sequence: 1\n",
      "protein encoding finished...\n",
      "Done.\n",
      "predicting...\n",
      "---------------\n",
      "Predictions from model 0 with drug encoding MPNN and target encoding CNN are done...\n",
      "in total: 26640 drug-target pairs\n",
      "encoding drug...\n",
      "unique drugs: 13763\n",
      "drug encoding finished...\n",
      "encoding protein...\n",
      "unique target sequence: 1\n",
      "protein encoding finished...\n",
      "splitting dataset...\n",
      "Done.\n",
      "Training from scrtach...\n",
      "Begin to train model 1 with drug encoding CNN and target encoding CNN\n",
      "Let's use 1 GPU!\n",
      "--- Data Preparation ---\n",
      "--- Go for Training ---\n",
      "Training at Epoch 1 iteration 0 with loss 0.6931981. Total time 0.0002777777777777778 hours\n",
      "Training at Epoch 1 iteration 100 with loss 0.494708. Total time 0.009166666666666667 hours\n",
      "Validation at Epoch 1 , AUROC: 0.721101667211507 , AUPRC: 0.24059374880729373 , F1: 0.1276595744680851\n",
      "Training at Epoch 2 iteration 0 with loss 0.3513698. Total time 0.01611111111111111 hours\n",
      "Training at Epoch 2 iteration 100 with loss 0.09081567. Total time 0.025 hours\n",
      "Validation at Epoch 2 , AUROC: 0.7582543314808761 , AUPRC: 0.27643185724979447 , F1: 0.31932773109243695\n",
      "Training at Epoch 3 iteration 0 with loss 0.13026038. Total time 0.03194444444444444 hours\n",
      "Training at Epoch 3 iteration 100 with loss 0.05134827. Total time 0.04083333333333333 hours\n",
      "Validation at Epoch 3 , AUROC: 0.7519614253023864 , AUPRC: 0.24281341475357365 , F1: 0.24516129032258066\n",
      "Training at Epoch 4 iteration 0 with loss 0.16085663. Total time 0.04777777777777778 hours\n",
      "Training at Epoch 4 iteration 100 with loss 0.028300628. Total time 0.056666666666666664 hours\n",
      "Validation at Epoch 4 , AUROC: 0.7578783916312519 , AUPRC: 0.26881989398535033 , F1: 0.27027027027027023\n",
      "Training at Epoch 5 iteration 0 with loss 0.00547285. Total time 0.0636111111111111 hours\n",
      "Training at Epoch 5 iteration 100 with loss 0.10299725. Total time 0.0725 hours\n",
      "Validation at Epoch 5 , AUROC: 0.7494606080418437 , AUPRC: 0.2781826882736664 , F1: 0.29411764705882354\n",
      "Training at Epoch 6 iteration 0 with loss 0.012343532. Total time 0.07944444444444444 hours\n",
      "Training at Epoch 6 iteration 100 with loss 0.012483475. Total time 0.08833333333333333 hours\n",
      "Validation at Epoch 6 , AUROC: 0.7565053939195816 , AUPRC: 0.24032604175716274 , F1: 0.2191780821917808\n",
      "Training at Epoch 7 iteration 0 with loss 0.014108438. Total time 0.09527777777777778 hours\n",
      "Training at Epoch 7 iteration 100 with loss 0.017032633. Total time 0.10416666666666667 hours\n",
      "Validation at Epoch 7 , AUROC: 0.7606080418437398 , AUPRC: 0.2564164968318602 , F1: 0.2424242424242424\n",
      "Training at Epoch 8 iteration 0 with loss 0.022665458. Total time 0.11138888888888888 hours\n",
      "Training at Epoch 8 iteration 100 with loss 0.019439828. Total time 0.12027777777777778 hours\n",
      "Validation at Epoch 8 , AUROC: 0.7589081399150048 , AUPRC: 0.29442429722317304 , F1: 0.2696629213483146\n",
      "Training at Epoch 9 iteration 0 with loss 0.010597391. Total time 0.1272222222222222 hours\n",
      "Training at Epoch 9 iteration 100 with loss 0.10682849. Total time 0.1361111111111111 hours\n",
      "Validation at Epoch 9 , AUROC: 0.7589244851258581 , AUPRC: 0.2737825511617742 , F1: 0.29885057471264365\n",
      "Training at Epoch 10 iteration 0 with loss 0.0018522141. Total time 0.14333333333333334 hours\n",
      "Training at Epoch 10 iteration 100 with loss 0.025313126. Total time 0.15222222222222223 hours\n",
      "Validation at Epoch 10 , AUROC: 0.7690258254331481 , AUPRC: 0.26659726194367517 , F1: 0.24193548387096775\n",
      "--- Go for Testing ---\n",
      "Testing AUROC: 0.7284632502441445 , AUPRC: 0.277773662159182 , F1: 0.24806201550387597\n",
      "--- Training Finished ---\n",
      "model training finished, now repurposing\n",
      "repurposing...\n",
      "in total: 82 drug-target pairs\n",
      "encoding drug...\n",
      "unique drugs: 81\n",
      "drug encoding finished...\n",
      "encoding protein...\n",
      "unique target sequence: 1\n",
      "protein encoding finished...\n",
      "Done.\n",
      "predicting...\n",
      "---------------\n",
      "Predictions from model 1 with drug encoding CNN and target encoding CNN are done...\n",
      "in total: 26640 drug-target pairs\n",
      "encoding drug...\n",
      "unique drugs: 13763\n",
      "drug encoding finished...\n",
      "encoding protein...\n",
      "unique target sequence: 1\n",
      "protein encoding finished...\n",
      "splitting dataset...\n",
      "Done.\n",
      "Training from scrtach...\n",
      "Begin to train model 2 with drug encoding Morgan and target encoding CNN\n",
      "Let's use 1 GPU!\n",
      "--- Data Preparation ---\n",
      "--- Go for Training ---\n",
      "Training at Epoch 1 iteration 0 with loss 0.6936506. Total time 0.0002777777777777778 hours\n",
      "Training at Epoch 1 iteration 100 with loss 0.010084705. Total time 0.0075 hours\n"
     ]
    },
    {
     "name": "stdout",
     "output_type": "stream",
     "text": [
      "Validation at Epoch 1 , AUROC: 0.7313664596273293 , AUPRC: 0.23058463219304937 , F1: 0.29508196721311475\n",
      "Training at Epoch 2 iteration 0 with loss 0.079783715. Total time 0.013333333333333334 hours\n",
      "Training at Epoch 2 iteration 100 with loss 0.016180238. Total time 0.020555555555555556 hours\n",
      "Validation at Epoch 2 , AUROC: 0.7525661981039555 , AUPRC: 0.23391751042389253 , F1: 0.271604938271605\n",
      "Training at Epoch 3 iteration 0 with loss 0.012072997. Total time 0.026111111111111113 hours\n",
      "Training at Epoch 3 iteration 100 with loss 0.03480403. Total time 0.03361111111111111 hours\n",
      "Validation at Epoch 3 , AUROC: 0.7688460281137626 , AUPRC: 0.21905220874917747 , F1: 0.2898550724637681\n",
      "Training at Epoch 4 iteration 0 with loss 0.0010851969. Total time 0.03916666666666667 hours\n",
      "Training at Epoch 4 iteration 100 with loss 0.00019589432. Total time 0.04694444444444444 hours\n",
      "Validation at Epoch 4 , AUROC: 0.7284406668846028 , AUPRC: 0.23466079919073313 , F1: 0.34375\n",
      "Training at Epoch 5 iteration 0 with loss 0.00033127845. Total time 0.05361111111111111 hours\n",
      "Training at Epoch 5 iteration 100 with loss 0.0009910933. Total time 0.06111111111111111 hours\n",
      "Validation at Epoch 5 , AUROC: 0.726258581235698 , AUPRC: 0.23629912948006024 , F1: 0.28571428571428575\n",
      "Training at Epoch 6 iteration 0 with loss 0.10215656. Total time 0.06722222222222222 hours\n",
      "Training at Epoch 6 iteration 100 with loss 0.065938376. Total time 0.075 hours\n",
      "Validation at Epoch 6 , AUROC: 0.7388198757763975 , AUPRC: 0.2234839327604047 , F1: 0.25396825396825395\n",
      "Training at Epoch 7 iteration 0 with loss 0.015424907. Total time 0.0811111111111111 hours\n",
      "Training at Epoch 7 iteration 100 with loss 0.020574028. Total time 0.08861111111111111 hours\n",
      "Validation at Epoch 7 , AUROC: 0.7527950310559006 , AUPRC: 0.1729562929734369 , F1: 0.2191780821917808\n",
      "Training at Epoch 8 iteration 0 with loss 0.001030607. Total time 0.09444444444444444 hours\n",
      "Training at Epoch 8 iteration 100 with loss 0.0020213742. Total time 0.1025 hours\n",
      "Validation at Epoch 8 , AUROC: 0.7676037920889179 , AUPRC: 0.24946640604641285 , F1: 0.23728813559322035\n",
      "Training at Epoch 9 iteration 0 with loss 0.0010959879. Total time 0.10888888888888888 hours\n",
      "Training at Epoch 9 iteration 100 with loss 0.00025902892. Total time 0.11638888888888889 hours\n",
      "Validation at Epoch 9 , AUROC: 0.7607224583197124 , AUPRC: 0.2495289715859629 , F1: 0.21818181818181817\n",
      "Training at Epoch 10 iteration 0 with loss 7.450582e-09. Total time 0.1225 hours\n",
      "Training at Epoch 10 iteration 100 with loss 0.0012455279. Total time 0.1297222222222222 hours\n",
      "Validation at Epoch 10 , AUROC: 0.7547319385420073 , AUPRC: 0.23912943557431876 , F1: 0.22580645161290325\n",
      "--- Go for Testing ---\n",
      "Testing AUROC: 0.7919808526647776 , AUPRC: 0.3469069516935438 , F1: 0.3125\n",
      "--- Training Finished ---\n",
      "model training finished, now repurposing\n",
      "repurposing...\n",
      "in total: 82 drug-target pairs\n",
      "encoding drug...\n",
      "unique drugs: 81\n",
      "drug encoding finished...\n",
      "encoding protein...\n",
      "unique target sequence: 1\n",
      "protein encoding finished...\n",
      "Done.\n",
      "predicting...\n",
      "---------------\n",
      "Predictions from model 2 with drug encoding Morgan and target encoding CNN are done...\n",
      "in total: 26640 drug-target pairs\n",
      "encoding drug...\n",
      "unique drugs: 13763\n",
      "drug encoding finished...\n",
      "encoding protein...\n",
      "unique target sequence: 1\n",
      "-- Encoding AAC takes time. Time Reference: 24s for ~100 sequences in a CPU. Calculate your time by the unique target sequence #, instead of the entire dataset.\n",
      "protein encoding finished...\n",
      "splitting dataset...\n",
      "Done.\n",
      "Training from scrtach...\n",
      "Begin to train model 3 with drug encoding Morgan and target encoding AAC\n",
      "Let's use 1 GPU!\n",
      "--- Data Preparation ---\n",
      "--- Go for Training ---\n",
      "Training at Epoch 1 iteration 0 with loss 0.6928957. Total time 0.0 hours\n",
      "Training at Epoch 1 iteration 100 with loss 0.041748464. Total time 0.0025 hours\n",
      "Validation at Epoch 1 , AUROC: 0.7579110820529585 , AUPRC: 0.19478087608543218 , F1: 0.29411764705882354\n",
      "Training at Epoch 2 iteration 0 with loss 0.003124454. Total time 0.0044444444444444444 hours\n",
      "Training at Epoch 2 iteration 100 with loss 0.009836893. Total time 0.006944444444444444 hours\n",
      "Validation at Epoch 2 , AUROC: 0.7494932984635502 , AUPRC: 0.22367789732324034 , F1: 0.32098765432098764\n",
      "Training at Epoch 3 iteration 0 with loss 0.0007308551. Total time 0.008888888888888889 hours\n",
      "Training at Epoch 3 iteration 100 with loss 0.048194103. Total time 0.01138888888888889 hours\n",
      "Validation at Epoch 3 , AUROC: 0.7529584831644329 , AUPRC: 0.24440099439907914 , F1: 0.3076923076923077\n",
      "Training at Epoch 4 iteration 0 with loss 0.0011586759. Total time 0.013333333333333334 hours\n",
      "Training at Epoch 4 iteration 100 with loss 0.00031080132. Total time 0.015555555555555555 hours\n",
      "Validation at Epoch 4 , AUROC: 0.7005393919581563 , AUPRC: 0.17363175812934833 , F1: 0.16129032258064516\n",
      "Training at Epoch 5 iteration 0 with loss 0.0023243125. Total time 0.017777777777777778 hours\n",
      "Training at Epoch 5 iteration 100 with loss 0.0008963252. Total time 0.02 hours\n",
      "Validation at Epoch 5 , AUROC: 0.7191892775416804 , AUPRC: 0.23039689321253867 , F1: 0.21428571428571427\n",
      "Training at Epoch 6 iteration 0 with loss 0.02556412. Total time 0.021944444444444444 hours\n",
      "Training at Epoch 6 iteration 100 with loss 0.006193903. Total time 0.024444444444444446 hours\n",
      "Validation at Epoch 6 , AUROC: 0.7833769205622753 , AUPRC: 0.28071475987418243 , F1: 0.3125\n",
      "Training at Epoch 7 iteration 0 with loss 0.019615877. Total time 0.02638888888888889 hours\n",
      "Training at Epoch 7 iteration 100 with loss 0.017530177. Total time 0.028888888888888888 hours\n",
      "Validation at Epoch 7 , AUROC: 0.742579274272638 , AUPRC: 0.1907284288586146 , F1: 0.21875000000000003\n",
      "Training at Epoch 8 iteration 0 with loss 0.0002353621. Total time 0.030833333333333334 hours\n",
      "Training at Epoch 8 iteration 100 with loss 0.030427743. Total time 0.03333333333333333 hours\n",
      "Validation at Epoch 8 , AUROC: 0.749411572409284 , AUPRC: 0.23091182306495242 , F1: 0.2769230769230769\n",
      "Training at Epoch 9 iteration 0 with loss 0.0012095023. Total time 0.035277777777777776 hours\n",
      "Training at Epoch 9 iteration 100 with loss 7.611833e-06. Total time 0.03777777777777778 hours\n",
      "Validation at Epoch 9 , AUROC: 0.7288002615233737 , AUPRC: 0.1590196879127569 , F1: 0.16393442622950818\n",
      "Training at Epoch 10 iteration 0 with loss 0.00017031023. Total time 0.03972222222222222 hours\n",
      "Training at Epoch 10 iteration 100 with loss 0.006224119. Total time 0.042222222222222223 hours\n",
      "Validation at Epoch 10 , AUROC: 0.7309578293559987 , AUPRC: 0.24208024562291422 , F1: 0.29508196721311475\n",
      "--- Go for Testing ---\n",
      "Testing AUROC: 0.7911723740454348 , AUPRC: 0.32199251128927187 , F1: 0.3636363636363636\n",
      "--- Training Finished ---\n",
      "model training finished, now repurposing\n",
      "repurposing...\n",
      "in total: 82 drug-target pairs\n",
      "encoding drug...\n",
      "unique drugs: 81\n",
      "drug encoding finished...\n",
      "encoding protein...\n",
      "unique target sequence: 1\n",
      "-- Encoding AAC takes time. Time Reference: 24s for ~100 sequences in a CPU. Calculate your time by the unique target sequence #, instead of the entire dataset.\n",
      "protein encoding finished...\n",
      "Done.\n",
      "predicting...\n",
      "---------------\n",
      "Predictions from model 3 with drug encoding Morgan and target encoding AAC are done...\n",
      "in total: 26640 drug-target pairs\n",
      "encoding drug...\n",
      "unique drugs: 13763\n",
      "drug encoding finished...\n",
      "encoding protein...\n",
      "unique target sequence: 1\n",
      "-- Encoding AAC takes time. Time Reference: 24s for ~100 sequences in a CPU. Calculate your time by the unique target sequence #, instead of the entire dataset.\n",
      "protein encoding finished...\n",
      "splitting dataset...\n",
      "Done.\n",
      "Training from scrtach...\n",
      "Begin to train model 4 with drug encoding Daylight and target encoding AAC\n",
      "Let's use 1 GPU!\n",
      "--- Data Preparation ---\n",
      "--- Go for Training ---\n",
      "Training at Epoch 1 iteration 0 with loss 0.69448435. Total time 0.0 hours\n",
      "Training at Epoch 1 iteration 100 with loss 0.3903455. Total time 0.0025 hours\n",
      "Validation at Epoch 1 , AUROC: 0.7473847662634848 , AUPRC: 0.21078903966908652 , F1: 0.15384615384615385\n",
      "Training at Epoch 2 iteration 0 with loss 0.12960508. Total time 0.004722222222222222 hours\n",
      "Training at Epoch 2 iteration 100 with loss 0.03376896. Total time 0.007222222222222222 hours\n",
      "Validation at Epoch 2 , AUROC: 0.7380516508662961 , AUPRC: 0.18344779385287727 , F1: 0.275\n"
     ]
    },
    {
     "name": "stdout",
     "output_type": "stream",
     "text": [
      "Training at Epoch 3 iteration 0 with loss 0.13126822. Total time 0.009166666666666667 hours\n",
      "Training at Epoch 3 iteration 100 with loss 0.0379384. Total time 0.011666666666666667 hours\n",
      "Validation at Epoch 3 , AUROC: 0.7335894083033672 , AUPRC: 0.2647095331218357 , F1: 0.2888888888888889\n",
      "Training at Epoch 4 iteration 0 with loss 0.0031825094. Total time 0.01361111111111111 hours\n",
      "Training at Epoch 4 iteration 100 with loss 0.0047529517. Total time 0.01611111111111111 hours\n",
      "Validation at Epoch 4 , AUROC: 0.7211670480549198 , AUPRC: 0.18336171202127227 , F1: 0.3\n",
      "Training at Epoch 5 iteration 0 with loss 0.0057531577. Total time 0.018333333333333333 hours\n",
      "Training at Epoch 5 iteration 100 with loss 0.002326008. Total time 0.020833333333333332 hours\n",
      "Validation at Epoch 5 , AUROC: 0.7077639751552794 , AUPRC: 0.20202756677960382 , F1: 0.2597402597402597\n",
      "Training at Epoch 6 iteration 0 with loss 0.04005599. Total time 0.02277777777777778 hours\n",
      "Training at Epoch 6 iteration 100 with loss 0.0013313077. Total time 0.025277777777777777 hours\n",
      "Validation at Epoch 6 , AUROC: 0.7261359921542988 , AUPRC: 0.18063930611618806 , F1: 0.275\n",
      "Training at Epoch 7 iteration 0 with loss 0.03168952. Total time 0.0275 hours\n",
      "Training at Epoch 7 iteration 100 with loss 0.08714553. Total time 0.029722222222222223 hours\n",
      "Validation at Epoch 7 , AUROC: 0.7248610657077477 , AUPRC: 0.2772907893307674 , F1: 0.3478260869565218\n",
      "Training at Epoch 8 iteration 0 with loss 0.03622207. Total time 0.03194444444444444 hours\n",
      "Training at Epoch 8 iteration 100 with loss 0.030279122. Total time 0.034444444444444444 hours\n",
      "Validation at Epoch 8 , AUROC: 0.7193200392285061 , AUPRC: 0.22481442894455708 , F1: 0.3142857142857143\n",
      "Training at Epoch 9 iteration 0 with loss 0.005634825. Total time 0.03638888888888889 hours\n",
      "Training at Epoch 9 iteration 100 with loss 0.00033166818. Total time 0.03888888888888889 hours\n",
      "Validation at Epoch 9 , AUROC: 0.7292906178489702 , AUPRC: 0.2759496899547689 , F1: 0.3243243243243243\n",
      "Training at Epoch 10 iteration 0 with loss 0.031256847. Total time 0.04083333333333333 hours\n",
      "Training at Epoch 10 iteration 100 with loss 0.026770586. Total time 0.043333333333333335 hours\n",
      "Validation at Epoch 10 , AUROC: 0.7302958483164433 , AUPRC: 0.19113307673235472 , F1: 0.2666666666666666\n",
      "--- Go for Testing ---\n",
      "Testing AUROC: 0.7300001600947762 , AUPRC: 0.3783840951962624 , F1: 0.3673469387755102\n",
      "--- Training Finished ---\n",
      "model training finished, now repurposing\n",
      "repurposing...\n",
      "in total: 82 drug-target pairs\n",
      "encoding drug...\n",
      "unique drugs: 81\n",
      "drug encoding finished...\n",
      "encoding protein...\n",
      "unique target sequence: 1\n",
      "-- Encoding AAC takes time. Time Reference: 24s for ~100 sequences in a CPU. Calculate your time by the unique target sequence #, instead of the entire dataset.\n",
      "protein encoding finished...\n",
      "Done.\n",
      "predicting...\n",
      "---------------\n",
      "Predictions from model 4 with drug encoding Daylight and target encoding AAC are done...\n",
      "models prediction finished...\n",
      "aggregating results...\n",
      "---------------\n",
      "Drug Repurposing Result for SARS-CoV 3CL Protease\n",
      "+------+----------------------+-----------------------+-------------+-------------+\n",
      "| Rank |      Drug Name       |      Target Name      | Interaction | Probability |\n",
      "+------+----------------------+-----------------------+-------------+-------------+\n",
      "|  1   |      Remdesivir      | SARS-CoV 3CL Protease |     YES     |     0.99    |\n",
      "|  2   |      Efavirenz       | SARS-CoV 3CL Protease |     YES     |     0.98    |\n",
      "|  3   |      Vicriviroc      | SARS-CoV 3CL Protease |     YES     |     0.98    |\n",
      "|  4   |      Tipranavir      | SARS-CoV 3CL Protease |     YES     |     0.96    |\n",
      "|  5   |     Methisazone      | SARS-CoV 3CL Protease |     YES     |     0.94    |\n",
      "|  6   |      Letermovir      | SARS-CoV 3CL Protease |     YES     |     0.88    |\n",
      "|  7   |     Idoxuridine      | SARS-CoV 3CL Protease |     YES     |     0.77    |\n",
      "|  8   |       Loviride       | SARS-CoV 3CL Protease |     YES     |     0.76    |\n",
      "|  9   |      Baloxavir       | SARS-CoV 3CL Protease |     YES     |     0.74    |\n",
      "|  10  |     Ibacitabine      | SARS-CoV 3CL Protease |     YES     |     0.70    |\n",
      "checkout ./save_folder/results_aggregation/repurposing.txt for the whole list\n",
      "\n"
     ]
    },
    {
     "data": {
      "image/png": "[encoded data removed]",
      "text/plain": [
       "<Figure size 432x288 with 1 Axes>"
      ]
     },
     "metadata": {
      "needs_background": "light"
     },
     "output_type": "display_data"
    },
    {
     "data": {
      "image/png": "[encoded data removed]",
      "text/plain": [
       "<Figure size 432x288 with 1 Axes>"
      ]
     },
     "metadata": {
      "needs_background": "light"
     },
     "output_type": "display_data"
    },
    {
     "data": {
      "image/png": "[encoded data removed]",
      "text/plain": [
       "<Figure size 432x288 with 1 Axes>"
      ]
     },
     "metadata": {
      "needs_background": "light"
     },
     "output_type": "display_data"
    }
   ],
   "source": [
    "oneliner.repurpose(target = target, \n",
    "                    target_name = target_name, \n",
    "                    train_drug = train_drug,\n",
    "                    train_target = train_target,\n",
    "                    train_y = train_y,\n",
    "                    X_repurpose = X_repurpose,\n",
    "                    drug_names = drug_names,\n",
    "                    save_dir = './save_folder',\n",
    "                    finetune_batch_size = 128,\n",
    "                    finetune_LR = 0.001,\n",
    "                    finetune_epochs=10,\n",
    "                    split='HTS',\n",
    "                    convert_y = False,\n",
    "                    frac=[0.8,0.1,0.1],\n",
    "                    pretrained = False,\n",
    "                    agg = 'max_effect')"
   ]
  },
  {
   "cell_type": "code",
   "execution_count": null,
   "metadata": {},
   "outputs": [],
   "source": []
  }
 ],
 "metadata": {
  "kernelspec": {
   "display_name": "Python 3",
   "language": "python",
   "name": "python3"
  },
  "language_info": {
   "codemirror_mode": {
    "name": "ipython",
    "version": 3
   },
   "file_extension": ".py",
   "mimetype": "text/x-python",
   "name": "python",
   "nbconvert_exporter": "python",
   "pygments_lexer": "ipython3",
   "version": "3.7.7"
  }
 },
 "nbformat": 4,
 "nbformat_minor": 4
}
