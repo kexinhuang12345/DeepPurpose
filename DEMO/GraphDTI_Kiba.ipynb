{
 "cells": [
  {
   "cell_type": "code",
   "execution_count": 1,
   "metadata": {},
   "outputs": [
    {
     "name": "stderr",
     "output_type": "stream",
     "text": [
      "RDKit WARNING: [00:16:54] Enabling RDKit 2019.09.3 jupyter extensions\n"
     ]
    }
   ],
   "source": [
    "import os\n",
    "os.chdir('../../')\n",
    "from time import time\n",
    "import DeepPurpose.models as models\n",
    "from DeepPurpose.utils import *\n",
    "from DeepPurpose.dataset import *"
   ]
  },
  {
   "cell_type": "code",
   "execution_count": 2,
   "metadata": {},
   "outputs": [
    {
     "name": "stdout",
     "output_type": "stream",
     "text": [
      "Beginning Processing...\n",
      "Beginning to extract zip file...\n",
      "Done!\n",
      "in total: 118254 drug-target pairs\n",
      "encoding drug...\n",
      "unique drugs: 2068\n",
      "drug encoding finished...\n",
      "encoding protein...\n",
      "unique target sequence: 229\n",
      "protein encoding finished...\n",
      "splitting dataset...\n",
      "Done.\n",
      "cost 196.7750380039215 seconds\n"
     ]
    }
   ],
   "source": [
    "t1 = time()\n",
    "X_drug, X_target, y = load_process_KIBA('./data/', binary=False)\n",
    "\n",
    "drug_encoding = 'MPNN'\n",
    "target_encoding = 'CNN'\n",
    "train, val, test = data_process(X_drug, X_target, y, \n",
    "                                drug_encoding, target_encoding, \n",
    "                                split_method='random',frac=[0.7,0.1,0.2])\n",
    "\n",
    "# use the parameters setting provided in the paper: https://arxiv.org/abs/1801.10193\n",
    "config = generate_config(drug_encoding = drug_encoding, \n",
    "                         target_encoding = target_encoding, \n",
    "                         cls_hidden_dims = [1024,1024,512], \n",
    "                         train_epoch = 100, \n",
    "                         LR = 0.001, \n",
    "                         batch_size = 128,\n",
    "                         hidden_dim_drug = 128,\n",
    "                         mpnn_hidden_size = 128,\n",
    "                         mpnn_depth = 3, \n",
    "                         cnn_target_filters = [32,64,96],\n",
    "                         cnn_target_kernels = [4,8,12]\n",
    "                        )\n",
    "model = models.model_initialize(**config)\n",
    "t2 = time()\n",
    "print(\"cost \" + str(t2-t1) + \" seconds\") ### around 3 min. "
   ]
  },
  {
   "cell_type": "code",
   "execution_count": null,
   "metadata": {},
   "outputs": [
    {
     "name": "stdout",
     "output_type": "stream",
     "text": [
      "Let's use CPU/s!\n",
      "--- Data Preparation ---\n",
      "--- Go for Training ---\n",
      "Training at Epoch 1 iteration 0 with loss 136.70325. Total time 0.0 hours\n",
      "Training at Epoch 1 iteration 100 with loss 0.15619004. Total time 0.004166666666666667 hours\n",
      "Training at Epoch 1 iteration 200 with loss 7.9655294. Total time 0.008333333333333333 hours\n",
      "Training at Epoch 1 iteration 300 with loss 0.22897862. Total time 0.012222222222222223 hours\n",
      "Training at Epoch 1 iteration 400 with loss 0.29719394. Total time 0.015833333333333335 hours\n",
      "Training at Epoch 1 iteration 500 with loss 1.1359655. Total time 0.01972222222222222 hours\n",
      "Training at Epoch 1 iteration 600 with loss 0.70136505. Total time 0.02388888888888889 hours\n",
      "Training at Epoch 1 iteration 700 with loss 9.806661. Total time 0.028055555555555556 hours\n",
      "Training at Epoch 1 iteration 800 with loss 0.6004017. Total time 0.03305555555555555 hours\n",
      "Training at Epoch 1 iteration 900 with loss 0.7160933. Total time 0.03805555555555556 hours\n",
      "Training at Epoch 1 iteration 1000 with loss 0.43328482. Total time 0.0425 hours\n",
      "Training at Epoch 1 iteration 1100 with loss 0.19422919. Total time 0.04694444444444444 hours\n",
      "Training at Epoch 1 iteration 1200 with loss 1.7127445. Total time 0.05138888888888889 hours\n",
      "Training at Epoch 1 iteration 1300 with loss 0.17802183. Total time 0.056666666666666664 hours\n",
      "Training at Epoch 1 iteration 1400 with loss 0.13363504. Total time 0.06111111111111111 hours\n"
     ]
    }
   ],
   "source": [
    "model.train(train, val, test)"
   ]
  },
  {
   "cell_type": "code",
   "execution_count": null,
   "metadata": {},
   "outputs": [],
   "source": [
    "model.save_model('./model_GraphDTI_Kiba')"
   ]
  },
  {
   "cell_type": "code",
   "execution_count": null,
   "metadata": {},
   "outputs": [],
   "source": []
  }
 ],
 "metadata": {
  "kernelspec": {
   "display_name": "Python 3",
   "language": "python",
   "name": "python3"
  },
  "language_info": {
   "codemirror_mode": {
    "name": "ipython",
    "version": 3
   },
   "file_extension": ".py",
   "mimetype": "text/x-python",
   "name": "python",
   "nbconvert_exporter": "python",
   "pygments_lexer": "ipython3",
   "version": "3.7.7"
  }
 },
 "nbformat": 4,
 "nbformat_minor": 4
}
