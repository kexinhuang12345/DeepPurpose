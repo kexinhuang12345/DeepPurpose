{
 "cells": [
  {
   "cell_type": "code",
   "execution_count": 1,
   "metadata": {},
   "outputs": [],
   "source": [
    "import os\n",
    "os.chdir('../')"
   ]
  },
  {
   "cell_type": "code",
   "execution_count": 2,
   "metadata": {},
   "outputs": [],
   "source": [
    "import DeepPurpose.oneliner as oneliner\n",
    "from DeepPurpose import dataset"
   ]
  },
  {
   "cell_type": "code",
   "execution_count": 3,
   "metadata": {},
   "outputs": [
    {
     "name": "stdout",
     "output_type": "stream",
     "text": [
      "Beginning Processing...\n"
     ]
    },
    {
     "name": "stderr",
     "output_type": "stream",
     "text": [
      "/home/kh278/.conda/envs/DeepPurpose/lib/python3.7/site-packages/IPython/core/interactiveshell.py:3254: DtypeWarning: Columns (0,7) have mixed types.Specify dtype option on import or set low_memory=False.\n",
      "  if (await self.run_code(code, result,  async_=asy)):\n",
      "/home/kh278/DeepPurpose/dataset.py:224: SettingWithCopyWarning: \n",
      "A value is trying to be set on a copy of a slice from a DataFrame\n",
      "\n",
      "See the caveats in the documentation: https://pandas.pydata.org/pandas-docs/stable/user_guide/indexing.html#returning-a-view-versus-a-copy\n",
      "  val['binary_label'][(val.PUBCHEM_ACTIVITY_SCORE >= threshold) & (val.PUBCHEM_ACTIVITY_SCORE <=100)] = 1\n"
     ]
    },
    {
     "name": "stdout",
     "output_type": "stream",
     "text": [
      "Default binary threshold for the binding affinity scores is 15, recommended by the investigator\n",
      "Done!\n"
     ]
    }
   ],
   "source": [
    "target, target_name = dataset.load_SARS_CoV_Protease_3CL()\n",
    "train_drug, train_target, train_y = dataset.load_AID1706_SARS_CoV_3CL('./data', seed = 1234)\n",
    "X_repurpose, drug_names, drug_CID = dataset.load_antiviral_drugs('./data')"
   ]
  },
  {
   "cell_type": "code",
   "execution_count": 4,
   "metadata": {},
   "outputs": [
    {
     "data": {
      "text/plain": [
       "26640"
      ]
     },
     "execution_count": 4,
     "metadata": {},
     "output_type": "execute_result"
    }
   ],
   "source": [
    "len(train_drug)"
   ]
  },
  {
   "cell_type": "code",
   "execution_count": 5,
   "metadata": {},
   "outputs": [
    {
     "data": {
      "text/plain": [
       "'SGFKKLVSPSSAVEKCIVSVSYRGNNLNGLWLGDSIYCPRHVLGKFSGDQWGDVLNLANNHEFEVVTQNGVTLNVVSRRLKGAVLILQTAVANAETPKYKFVKANCGDSFTIACSYGGTVIGLYPVTMRSNGTIRASFLAGACGSVGFNIEKGVVNFFYMHHLELPNALHTGTDLMGEFYGGYVDEEVAQRVPPDNLVTNNIVAWLYAAIISVKESSFSQPKWLESTTVSIEDYNRWASDNGFTPFSTSTAITKLSAITGVDVCKLLRTIMVKSAQWGSDPILGQYNFEDELTPESVFNQVGGVRLQ'"
      ]
     },
     "execution_count": 5,
     "metadata": {},
     "output_type": "execute_result"
    }
   ],
   "source": [
    "target"
   ]
  },
  {
   "cell_type": "code",
   "execution_count": 6,
   "metadata": {},
   "outputs": [
    {
     "data": {
      "text/plain": [
       "82"
      ]
     },
     "execution_count": 6,
     "metadata": {},
     "output_type": "execute_result"
    }
   ],
   "source": [
    "len(X_repurpose)"
   ]
  },
  {
   "cell_type": "code",
   "execution_count": 4,
   "metadata": {
    "scrolled": false
   },
   "outputs": [
    {
     "name": "stdout",
     "output_type": "stream",
     "text": [
      "Loading customized repurposing dataset...\n",
      "Checking if pretrained directory is valid...\n",
      "Beginning to load the pretrained models...\n",
      "Training on your own customized data...\n",
      "in total: 26640 drug-target pairs\n",
      "encoding drug...\n",
      "unique drugs: 13763\n",
      "drug encoding finished...\n",
      "encoding protein...\n",
      "unique target sequence: 1\n",
      "protein encoding finished...\n",
      "splitting dataset...\n",
      "Done.\n",
      "Use pretrained model...\n",
      "Begin to train model 0 with drug encoding MPNN and target encoding CNN\n",
      "Let's use 1 GPU!\n",
      "--- Data Preparation ---\n",
      "--- Go for Training ---\n",
      "Training at Epoch 1 iteration 0 with loss 2.8952746. Total time 0.0005555555555555556 hours\n",
      "Training at Epoch 1 iteration 100 with loss 0.6925026. Total time 0.014444444444444444 hours\n",
      "Validation at Epoch 1 , AUROC: 0.6995096436744034 , AUPRC: 0.07429036106716293 , F1: 0.08396124865446716\n",
      "Training at Epoch 2 iteration 0 with loss 0.68295914. Total time 0.025277777777777777 hours\n",
      "Training at Epoch 2 iteration 100 with loss 0.567375. Total time 0.03916666666666667 hours\n",
      "Validation at Epoch 2 , AUROC: 0.7209055246812683 , AUPRC: 0.12848468929504223 , F1: 0.10101010101010101\n",
      "Training at Epoch 3 iteration 0 with loss 0.59396875. Total time 0.05 hours\n",
      "Training at Epoch 3 iteration 100 with loss 0.4412401. Total time 0.06416666666666666 hours\n",
      "Validation at Epoch 3 , AUROC: 0.7587446878064726 , AUPRC: 0.14443723893655566 , F1: 0.1174496644295302\n",
      "Training at Epoch 4 iteration 0 with loss 0.5402388. Total time 0.075 hours\n",
      "Training at Epoch 4 iteration 100 with loss 0.38675064. Total time 0.08944444444444444 hours\n",
      "Validation at Epoch 4 , AUROC: 0.7593494606080418 , AUPRC: 0.16392332687442315 , F1: 0.12144212523719165\n",
      "Training at Epoch 5 iteration 0 with loss 0.44713253. Total time 0.09972222222222223 hours\n",
      "Training at Epoch 5 iteration 100 with loss 0.24516244. Total time 0.11333333333333333 hours\n",
      "Validation at Epoch 5 , AUROC: 0.7603301732592351 , AUPRC: 0.17947622982265415 , F1: 0.21212121212121213\n",
      "Training at Epoch 6 iteration 0 with loss 0.16557716. Total time 0.1238888888888889 hours\n",
      "Training at Epoch 6 iteration 100 with loss 0.21277495. Total time 0.13805555555555554 hours\n",
      "Validation at Epoch 6 , AUROC: 0.7408957175547564 , AUPRC: 0.17997259784665778 , F1: 0.22222222222222224\n",
      "Training at Epoch 7 iteration 0 with loss 0.10328247. Total time 0.1486111111111111 hours\n",
      "Training at Epoch 7 iteration 100 with loss 0.12615438. Total time 0.1625 hours\n",
      "Validation at Epoch 7 , AUROC: 0.7407976462896371 , AUPRC: 0.19082668735539288 , F1: 0.18691588785046728\n",
      "Training at Epoch 8 iteration 0 with loss 0.105843976. Total time 0.17305555555555555 hours\n",
      "Training at Epoch 8 iteration 100 with loss 0.1473576. Total time 0.18722222222222223 hours\n",
      "Validation at Epoch 8 , AUROC: 0.7495096436744034 , AUPRC: 0.1829652308462767 , F1: 0.2702702702702703\n",
      "Training at Epoch 9 iteration 0 with loss 0.14465933. Total time 0.19777777777777777 hours\n",
      "Training at Epoch 9 iteration 100 with loss 0.10792859. Total time 0.21166666666666667 hours\n",
      "Validation at Epoch 9 , AUROC: 0.7539555410264792 , AUPRC: 0.20953143763478946 , F1: 0.2689075630252101\n",
      "Training at Epoch 10 iteration 0 with loss 0.13459486. Total time 0.2222222222222222 hours\n",
      "Training at Epoch 10 iteration 100 with loss 0.1319775. Total time 0.2361111111111111 hours\n",
      "Validation at Epoch 10 , AUROC: 0.7591533180778032 , AUPRC: 0.189657100281938 , F1: 0.2692307692307692\n",
      "--- Go for Testing ---\n",
      "Testing AUROC: 0.7592975041224405 , AUPRC: 0.28790599593812577 , F1: 0.29508196721311475\n",
      "--- Training Finished ---\n",
      "model training finished, now repurposing\n",
      "repurposing...\n",
      "in total: 82 drug-target pairs\n",
      "encoding drug...\n",
      "unique drugs: 81\n",
      "drug encoding finished...\n",
      "encoding protein...\n",
      "unique target sequence: 1\n",
      "protein encoding finished...\n",
      "Done.\n",
      "predicting...\n",
      "---------------\n",
      "Predictions from model 0 with drug encoding MPNN and target encoding CNN are done...\n",
      "in total: 26640 drug-target pairs\n",
      "encoding drug...\n",
      "unique drugs: 13763\n",
      "drug encoding finished...\n",
      "encoding protein...\n",
      "unique target sequence: 1\n",
      "protein encoding finished...\n",
      "splitting dataset...\n",
      "Done.\n",
      "Use pretrained model...\n",
      "Begin to train model 1 with drug encoding CNN and target encoding CNN\n",
      "Let's use 1 GPU!\n",
      "--- Data Preparation ---\n",
      "--- Go for Training ---\n",
      "Training at Epoch 1 iteration 0 with loss 2.584126. Total time 0.0002777777777777778 hours\n",
      "Training at Epoch 1 iteration 100 with loss 0.4186633. Total time 0.009166666666666667 hours\n",
      "Validation at Epoch 1 , AUROC: 0.6758090879372344 , AUPRC: 0.16113168673137404 , F1: 0.17391304347826086\n",
      "Training at Epoch 2 iteration 0 with loss 0.1285939. Total time 0.01638888888888889 hours\n",
      "Training at Epoch 2 iteration 100 with loss 0.10919548. Total time 0.025277777777777777 hours\n",
      "Validation at Epoch 2 , AUROC: 0.7251062438705459 , AUPRC: 0.258599980455743 , F1: 0.2982456140350877\n",
      "Training at Epoch 3 iteration 0 with loss 0.06499502. Total time 0.0325 hours\n",
      "Training at Epoch 3 iteration 100 with loss 0.010095321. Total time 0.04138888888888889 hours\n",
      "Validation at Epoch 3 , AUROC: 0.7049199084668192 , AUPRC: 0.2698421813727852 , F1: 0.2891566265060241\n",
      "Training at Epoch 4 iteration 0 with loss 0.03634361. Total time 0.04861111111111111 hours\n",
      "Training at Epoch 4 iteration 100 with loss 0.01939588. Total time 0.0575 hours\n",
      "Validation at Epoch 4 , AUROC: 0.6927917620137299 , AUPRC: 0.2642335712317954 , F1: 0.33766233766233766\n",
      "Training at Epoch 5 iteration 0 with loss 0.005858685. Total time 0.06472222222222222 hours\n",
      "Training at Epoch 5 iteration 100 with loss 0.08927906. Total time 0.07361111111111111 hours\n",
      "Validation at Epoch 5 , AUROC: 0.6933638443935927 , AUPRC: 0.29244405443483384 , F1: 0.3174603174603175\n",
      "Training at Epoch 6 iteration 0 with loss 0.045198068. Total time 0.08055555555555556 hours\n",
      "Training at Epoch 6 iteration 100 with loss 0.001047113. Total time 0.08972222222222222 hours\n",
      "Validation at Epoch 6 , AUROC: 0.6931350114416476 , AUPRC: 0.2874232923910023 , F1: 0.3291139240506329\n",
      "Training at Epoch 7 iteration 0 with loss 0.0030203862. Total time 0.09666666666666666 hours\n",
      "Training at Epoch 7 iteration 100 with loss 0.027002987. Total time 0.10555555555555556 hours\n",
      "Validation at Epoch 7 , AUROC: 0.6951945080091533 , AUPRC: 0.2685735506568612 , F1: 0.2535211267605634\n",
      "Training at Epoch 8 iteration 0 with loss 0.008064516. Total time 0.11277777777777778 hours\n",
      "Training at Epoch 8 iteration 100 with loss 0.12616996. Total time 0.12166666666666667 hours\n",
      "Validation at Epoch 8 , AUROC: 0.7083360575351421 , AUPRC: 0.25191111466719107 , F1: 0.2564102564102564\n",
      "Training at Epoch 9 iteration 0 with loss 0.06623153. Total time 0.1288888888888889 hours\n",
      "Training at Epoch 9 iteration 100 with loss 0.058526967. Total time 0.13777777777777778 hours\n",
      "Validation at Epoch 9 , AUROC: 0.7365478914677999 , AUPRC: 0.28780717333872874 , F1: 0.20118343195266275\n",
      "Training at Epoch 10 iteration 0 with loss 0.0101304045. Total time 0.14472222222222222 hours\n",
      "Training at Epoch 10 iteration 100 with loss 0.007680407. Total time 0.15361111111111111 hours\n",
      "Validation at Epoch 10 , AUROC: 0.6922196796338673 , AUPRC: 0.18941687371528187 , F1: 0.2413793103448276\n",
      "--- Go for Testing ---\n",
      "Testing AUROC: 0.7451451259145414 , AUPRC: 0.2479534626750703 , F1: 0.34666666666666673\n",
      "--- Training Finished ---\n",
      "model training finished, now repurposing\n",
      "repurposing...\n",
      "in total: 82 drug-target pairs\n",
      "encoding drug...\n",
      "unique drugs: 81\n",
      "drug encoding finished...\n",
      "encoding protein...\n",
      "unique target sequence: 1\n",
      "protein encoding finished...\n",
      "Done.\n",
      "predicting...\n",
      "---------------\n",
      "Predictions from model 1 with drug encoding CNN and target encoding CNN are done...\n",
      "in total: 26640 drug-target pairs\n",
      "encoding drug...\n",
      "unique drugs: 13763\n",
      "drug encoding finished...\n",
      "encoding protein...\n",
      "unique target sequence: 1\n",
      "protein encoding finished...\n",
      "splitting dataset...\n",
      "Done.\n",
      "Use pretrained model...\n",
      "Begin to train model 2 with drug encoding Morgan and target encoding CNN\n",
      "Let's use 1 GPU!\n",
      "--- Data Preparation ---\n",
      "--- Go for Training ---\n",
      "Training at Epoch 1 iteration 0 with loss 2.911978. Total time 0.0002777777777777778 hours\n",
      "Training at Epoch 1 iteration 100 with loss 0.03561001. Total time 0.0075 hours\n",
      "Validation at Epoch 1 , AUROC: 0.7196305982347173 , AUPRC: 0.1808075015687251 , F1: 0.1764705882352941\n",
      "Training at Epoch 2 iteration 0 with loss 0.0067451023. Total time 0.013055555555555556 hours\n"
     ]
    },
    {
     "name": "stdout",
     "output_type": "stream",
     "text": [
      "Training at Epoch 2 iteration 100 with loss 0.01370963. Total time 0.020277777777777777 hours\n",
      "Validation at Epoch 2 , AUROC: 0.7198921216083687 , AUPRC: 0.1949855759852599 , F1: 0.22950819672131148\n",
      "Training at Epoch 3 iteration 0 with loss 0.0064470614. Total time 0.025833333333333333 hours\n",
      "Training at Epoch 3 iteration 100 with loss 0.004826802. Total time 0.03305555555555555 hours\n",
      "Validation at Epoch 3 , AUROC: 0.6990846681922196 , AUPRC: 0.17341377712606376 , F1: 0.11538461538461539\n",
      "Training at Epoch 4 iteration 0 with loss 0.011522379. Total time 0.03861111111111111 hours\n",
      "Training at Epoch 4 iteration 100 with loss 0.0005645127. Total time 0.04583333333333333 hours\n",
      "Validation at Epoch 4 , AUROC: 0.7308761033017326 , AUPRC: 0.18497426992285898 , F1: 0.2222222222222222\n",
      "Training at Epoch 5 iteration 0 with loss 0.0129869785. Total time 0.05138888888888889 hours\n",
      "Training at Epoch 5 iteration 100 with loss 8.904777e-05. Total time 0.058611111111111114 hours\n",
      "Validation at Epoch 5 , AUROC: 0.7353873814972213 , AUPRC: 0.19498788574535375 , F1: 0.21818181818181817\n",
      "Training at Epoch 6 iteration 0 with loss 1.7076078e-06. Total time 0.06416666666666666 hours\n",
      "Training at Epoch 6 iteration 100 with loss 1.9726174e-06. Total time 0.07138888888888889 hours\n",
      "Validation at Epoch 6 , AUROC: 0.722213141549526 , AUPRC: 0.2354742333080753 , F1: 0.2413793103448276\n",
      "Training at Epoch 7 iteration 0 with loss 5.498082e-05. Total time 0.07722222222222222 hours\n",
      "Training at Epoch 7 iteration 100 with loss 5.269306e-06. Total time 0.08444444444444445 hours\n",
      "Validation at Epoch 7 , AUROC: 0.7126185027786858 , AUPRC: 0.196544071559267 , F1: 0.0784313725490196\n",
      "Training at Epoch 8 iteration 0 with loss 7.543782e-07. Total time 0.09 hours\n",
      "Training at Epoch 8 iteration 100 with loss 4.7497487e-08. Total time 0.09722222222222222 hours\n",
      "Validation at Epoch 8 , AUROC: 0.7126757110166719 , AUPRC: 0.19541374781276266 , F1: 0.0784313725490196\n",
      "Training at Epoch 9 iteration 0 with loss 6.426132e-08. Total time 0.10305555555555555 hours\n",
      "Training at Epoch 9 iteration 100 with loss 3.5390308e-08. Total time 0.11027777777777778 hours\n",
      "Validation at Epoch 9 , AUROC: 0.7128963713631906 , AUPRC: 0.19686980274043872 , F1: 0.0784313725490196\n",
      "Training at Epoch 10 iteration 0 with loss 1.0337705e-07. Total time 0.11611111111111111 hours\n",
      "Training at Epoch 10 iteration 100 with loss 2.2351756e-08. Total time 0.12333333333333334 hours\n",
      "Validation at Epoch 10 , AUROC: 0.7131088591042823 , AUPRC: 0.20019048121474434 , F1: 0.0784313725490196\n",
      "--- Go for Testing ---\n",
      "Testing AUROC: 0.757288314682292 , AUPRC: 0.23409765566131366 , F1: 0.2622950819672131\n",
      "--- Training Finished ---\n",
      "model training finished, now repurposing\n",
      "repurposing...\n",
      "in total: 82 drug-target pairs\n",
      "encoding drug...\n",
      "unique drugs: 81\n",
      "drug encoding finished...\n",
      "encoding protein...\n",
      "unique target sequence: 1\n",
      "protein encoding finished...\n",
      "Done.\n",
      "predicting...\n",
      "---------------\n",
      "Predictions from model 2 with drug encoding Morgan and target encoding CNN are done...\n",
      "in total: 26640 drug-target pairs\n",
      "encoding drug...\n",
      "unique drugs: 13763\n",
      "drug encoding finished...\n",
      "encoding protein...\n",
      "unique target sequence: 1\n",
      "-- Encoding AAC takes time. Time Reference: 24s for ~100 sequences in a CPU. Calculate your time by the unique target sequence #, instead of the entire dataset.\n",
      "protein encoding finished...\n",
      "splitting dataset...\n",
      "Done.\n",
      "Use pretrained model...\n",
      "Begin to train model 3 with drug encoding Morgan and target encoding AAC\n",
      "Let's use 1 GPU!\n",
      "--- Data Preparation ---\n",
      "--- Go for Training ---\n",
      "Training at Epoch 1 iteration 0 with loss 2.957141. Total time 0.0 hours\n",
      "Training at Epoch 1 iteration 100 with loss 0.09619802. Total time 0.0025 hours\n",
      "Validation at Epoch 1 , AUROC: 0.696959790781301 , AUPRC: 0.19129984884488405 , F1: 0.25396825396825395\n",
      "Training at Epoch 2 iteration 0 with loss 0.005710384. Total time 0.0044444444444444444 hours\n",
      "Training at Epoch 2 iteration 100 with loss 0.004891664. Total time 0.006944444444444444 hours\n",
      "Validation at Epoch 2 , AUROC: 0.6876757110166721 , AUPRC: 0.22760637242506973 , F1: 0.1923076923076923\n",
      "Training at Epoch 3 iteration 0 with loss 0.018557834. Total time 0.008888888888888889 hours\n",
      "Training at Epoch 3 iteration 100 with loss 0.00025757938. Total time 0.01138888888888889 hours\n",
      "Validation at Epoch 3 , AUROC: 0.697842432167375 , AUPRC: 0.2024066056707718 , F1: 0.23728813559322035\n",
      "Training at Epoch 4 iteration 0 with loss 0.0012105738. Total time 0.01361111111111111 hours\n",
      "Training at Epoch 4 iteration 100 with loss 0.00030179665. Total time 0.01611111111111111 hours\n",
      "Validation at Epoch 4 , AUROC: 0.7173586139261197 , AUPRC: 0.20085550875576227 , F1: 0.21428571428571427\n",
      "Training at Epoch 5 iteration 0 with loss 0.00076105434. Total time 0.018055555555555554 hours\n",
      "Training at Epoch 5 iteration 100 with loss 5.1199386e-06. Total time 0.020555555555555556 hours\n",
      "Validation at Epoch 5 , AUROC: 0.7080254985289312 , AUPRC: 0.18557428840446735 , F1: 0.15384615384615383\n",
      "Training at Epoch 6 iteration 0 with loss 0.00062145246. Total time 0.0225 hours\n",
      "Training at Epoch 6 iteration 100 with loss 0.00020389628. Total time 0.025 hours\n",
      "Validation at Epoch 6 , AUROC: 0.7364089571755476 , AUPRC: 0.13513679393114597 , F1: 0.22727272727272724\n",
      "Training at Epoch 7 iteration 0 with loss 0.0012838377. Total time 0.02722222222222222 hours\n",
      "Training at Epoch 7 iteration 100 with loss 0.0030459866. Total time 0.029722222222222223 hours\n",
      "Validation at Epoch 7 , AUROC: 0.7314563582870219 , AUPRC: 0.19273655585945523 , F1: 0.2985074626865672\n",
      "Training at Epoch 8 iteration 0 with loss 0.00030530244. Total time 0.03166666666666667 hours\n",
      "Training at Epoch 8 iteration 100 with loss 0.0021231335. Total time 0.034166666666666665 hours\n",
      "Validation at Epoch 8 , AUROC: 0.7104118993135011 , AUPRC: 0.20420166085022062 , F1: 0.1724137931034483\n",
      "Training at Epoch 9 iteration 0 with loss 3.892237e-05. Total time 0.03611111111111111 hours\n",
      "Training at Epoch 9 iteration 100 with loss 5.6345122e-08. Total time 0.03861111111111111 hours\n",
      "Validation at Epoch 9 , AUROC: 0.711711343576332 , AUPRC: 0.1893368051121524 , F1: 0.1724137931034483\n",
      "Training at Epoch 10 iteration 0 with loss 3.1664985e-08. Total time 0.04083333333333333 hours\n",
      "Training at Epoch 10 iteration 100 with loss 1.2107201e-08. Total time 0.043333333333333335 hours\n",
      "Validation at Epoch 10 , AUROC: 0.7113844393592678 , AUPRC: 0.18876839621699176 , F1: 0.1724137931034483\n",
      "--- Go for Testing ---\n",
      "Testing AUROC: 0.7526775851303971 , AUPRC: 0.30979886766026277 , F1: 0.29032258064516125\n",
      "--- Training Finished ---\n",
      "model training finished, now repurposing\n",
      "repurposing...\n",
      "in total: 82 drug-target pairs\n",
      "encoding drug...\n",
      "unique drugs: 81\n",
      "drug encoding finished...\n",
      "encoding protein...\n",
      "unique target sequence: 1\n",
      "-- Encoding AAC takes time. Time Reference: 24s for ~100 sequences in a CPU. Calculate your time by the unique target sequence #, instead of the entire dataset.\n",
      "protein encoding finished...\n",
      "Done.\n",
      "predicting...\n",
      "---------------\n",
      "Predictions from model 3 with drug encoding Morgan and target encoding AAC are done...\n",
      "in total: 26640 drug-target pairs\n",
      "encoding drug...\n",
      "unique drugs: 13763\n",
      "drug encoding finished...\n",
      "encoding protein...\n",
      "unique target sequence: 1\n",
      "-- Encoding AAC takes time. Time Reference: 24s for ~100 sequences in a CPU. Calculate your time by the unique target sequence #, instead of the entire dataset.\n",
      "protein encoding finished...\n",
      "splitting dataset...\n",
      "Done.\n",
      "Use pretrained model...\n",
      "Begin to train model 4 with drug encoding Daylight and target encoding AAC\n",
      "Let's use 1 GPU!\n",
      "--- Data Preparation ---\n",
      "--- Go for Training ---\n",
      "Training at Epoch 1 iteration 0 with loss 2.9443107. Total time 0.0 hours\n",
      "Training at Epoch 1 iteration 100 with loss 0.47150522. Total time 0.0025 hours\n",
      "Validation at Epoch 1 , AUROC: 0.6874959136972867 , AUPRC: 0.17904211971409134 , F1: 0.11331444759206799\n",
      "Training at Epoch 2 iteration 0 with loss 0.15898931. Total time 0.004722222222222222 hours\n",
      "Training at Epoch 2 iteration 100 with loss 0.07629131. Total time 0.0075 hours\n",
      "Validation at Epoch 2 , AUROC: 0.6787185354691075 , AUPRC: 0.1820356878505126 , F1: 0.2564102564102564\n",
      "Training at Epoch 3 iteration 0 with loss 0.029954422. Total time 0.009722222222222222 hours\n"
     ]
    },
    {
     "name": "stdout",
     "output_type": "stream",
     "text": [
      "Training at Epoch 3 iteration 100 with loss 0.08131296. Total time 0.012222222222222223 hours\n",
      "Validation at Epoch 3 , AUROC: 0.6453906505393919 , AUPRC: 0.18346710639280428 , F1: 0.2823529411764706\n",
      "Training at Epoch 4 iteration 0 with loss 0.027965397. Total time 0.014444444444444444 hours\n",
      "Training at Epoch 4 iteration 100 with loss 0.0106874835. Total time 0.016944444444444446 hours\n",
      "Validation at Epoch 4 , AUROC: 0.6764628963713631 , AUPRC: 0.18349862326064548 , F1: 0.2647058823529412\n",
      "Training at Epoch 5 iteration 0 with loss 0.07962269. Total time 0.019166666666666665 hours\n",
      "Training at Epoch 5 iteration 100 with loss 0.0049899057. Total time 0.021666666666666667 hours\n",
      "Validation at Epoch 5 , AUROC: 0.6725073553448839 , AUPRC: 0.17377682895204807 , F1: 0.23655913978494622\n",
      "Training at Epoch 6 iteration 0 with loss 0.04211598. Total time 0.02388888888888889 hours\n",
      "Training at Epoch 6 iteration 100 with loss 0.008001091. Total time 0.02638888888888889 hours\n",
      "Validation at Epoch 6 , AUROC: 0.7000326904217065 , AUPRC: 0.16881333805459592 , F1: 0.275\n",
      "Training at Epoch 7 iteration 0 with loss 0.003507731. Total time 0.02861111111111111 hours\n",
      "Training at Epoch 7 iteration 100 with loss 0.0044978675. Total time 0.03111111111111111 hours\n",
      "Validation at Epoch 7 , AUROC: 0.7041353383458647 , AUPRC: 0.1856970424941901 , F1: 0.25\n",
      "Training at Epoch 8 iteration 0 with loss 0.05206099. Total time 0.03333333333333333 hours\n",
      "Training at Epoch 8 iteration 100 with loss 0.05816785. Total time 0.03611111111111111 hours\n",
      "Validation at Epoch 8 , AUROC: 0.7108859104282446 , AUPRC: 0.1952597801380466 , F1: 0.29473684210526313\n",
      "Training at Epoch 9 iteration 0 with loss 0.013554451. Total time 0.03805555555555556 hours\n",
      "Training at Epoch 9 iteration 100 with loss 0.007886992. Total time 0.04083333333333333 hours\n",
      "Validation at Epoch 9 , AUROC: 0.7187316116377901 , AUPRC: 0.16459869666835927 , F1: 0.27027027027027023\n",
      "Training at Epoch 10 iteration 0 with loss 0.025015991. Total time 0.043055555555555555 hours\n",
      "Training at Epoch 10 iteration 100 with loss 0.09150379. Total time 0.04555555555555556 hours\n",
      "Validation at Epoch 10 , AUROC: 0.7168846028113762 , AUPRC: 0.2023549752538576 , F1: 0.2424242424242424\n",
      "--- Go for Testing ---\n",
      "Testing AUROC: 0.7601780253910315 , AUPRC: 0.2671153851194677 , F1: 0.3008849557522124\n",
      "--- Training Finished ---\n",
      "model training finished, now repurposing\n",
      "repurposing...\n",
      "in total: 82 drug-target pairs\n",
      "encoding drug...\n",
      "unique drugs: 81\n",
      "drug encoding finished...\n",
      "encoding protein...\n",
      "unique target sequence: 1\n",
      "-- Encoding AAC takes time. Time Reference: 24s for ~100 sequences in a CPU. Calculate your time by the unique target sequence #, instead of the entire dataset.\n",
      "protein encoding finished...\n",
      "Done.\n",
      "predicting...\n",
      "---------------\n",
      "Predictions from model 4 with drug encoding Daylight and target encoding AAC are done...\n",
      "models prediction finished...\n",
      "aggregating results...\n",
      "---------------\n",
      "Drug Repurposing Result for SARS-CoV 3CL Protease\n",
      "+------+----------------------+-----------------------+-------------+-------------+\n",
      "| Rank |      Drug Name       |      Target Name      | Interaction | Probability |\n",
      "+------+----------------------+-----------------------+-------------+-------------+\n",
      "|  1   |      Darunavir       | SARS-CoV 3CL Protease |     YES     |     1.00    |\n",
      "|  2   |      Amprenavir      | SARS-CoV 3CL Protease |     YES     |     1.00    |\n",
      "|  3   |      Efavirenz       | SARS-CoV 3CL Protease |     YES     |     0.99    |\n",
      "|  4   |     Raltegravir      | SARS-CoV 3CL Protease |     YES     |     0.99    |\n",
      "|  5   |    Fosamprenavir     | SARS-CoV 3CL Protease |     YES     |     0.98    |\n",
      "|  6   |      Tipranavir      | SARS-CoV 3CL Protease |     YES     |     0.98    |\n",
      "|  7   |      Doravirine      | SARS-CoV 3CL Protease |     YES     |     0.97    |\n",
      "|  8   |     Methisazone      | SARS-CoV 3CL Protease |     YES     |     0.95    |\n",
      "|  9   |       Loviride       | SARS-CoV 3CL Protease |     YES     |     0.94    |\n",
      "|  10  |      Simeprevir      | SARS-CoV 3CL Protease |     YES     |     0.93    |\n",
      "|  11  |     Elvitegravir     | SARS-CoV 3CL Protease |     YES     |     0.88    |\n",
      "|  12  |      Vicriviroc      | SARS-CoV 3CL Protease |      NO     |     0.43    |\n",
      "|  13  |     Nitazoxanide     | SARS-CoV 3CL Protease |      NO     |     0.39    |\n",
      "|  14  |      Letermovir      | SARS-CoV 3CL Protease |      NO     |     0.23    |\n",
      "|  15  |      Amantadine      | SARS-CoV 3CL Protease |      NO     |     0.17    |\n",
      "|  16  |      Indinavir       | SARS-CoV 3CL Protease |      NO     |     0.09    |\n",
      "|  17  |      Atazanavir      | SARS-CoV 3CL Protease |      NO     |     0.08    |\n",
      "|  18  |      Didanosine      | SARS-CoV 3CL Protease |      NO     |     0.07    |\n",
      "|  19  | Tenofovir_disoproxil | SARS-CoV 3CL Protease |      NO     |     0.06    |\n",
      "|  20  |   Podophyllotoxin    | SARS-CoV 3CL Protease |      NO     |     0.03    |\n",
      "|  21  |      Docosanol       | SARS-CoV 3CL Protease |      NO     |     0.03    |\n",
      "|  22  |      Zanamivir       | SARS-CoV 3CL Protease |      NO     |     0.03    |\n",
      "|  23  |      Peramivir       | SARS-CoV 3CL Protease |      NO     |     0.01    |\n",
      "|  24  |      Lopinavir       | SARS-CoV 3CL Protease |      NO     |     0.01    |\n",
      "|  25  |      Nelfinavir      | SARS-CoV 3CL Protease |      NO     |     0.01    |\n",
      "|  26  |     Bictegravir      | SARS-CoV 3CL Protease |      NO     |     0.01    |\n",
      "|  27  |      Imiquimod       | SARS-CoV 3CL Protease |      NO     |     0.01    |\n",
      "|  28  |      Nevirapine      | SARS-CoV 3CL Protease |      NO     |     0.01    |\n",
      "|  29  |     Grazoprevir      | SARS-CoV 3CL Protease |      NO     |     0.00    |\n",
      "|  30  |      Foscarnet       | SARS-CoV 3CL Protease |      NO     |     0.00    |\n",
      "checkout ./save_folder/results_aggregation/repurposing.txt for the whole list\n",
      "\n"
     ]
    },
    {
     "data": {
      "image/png": "[encoded data removed]",
      "text/plain": [
       "<Figure size 432x288 with 1 Axes>"
      ]
     },
     "metadata": {
      "needs_background": "light"
     },
     "output_type": "display_data"
    },
    {
     "data": {
      "image/png": "[encoded data removed]",
      "text/plain": [
       "<Figure size 432x288 with 1 Axes>"
      ]
     },
     "metadata": {
      "needs_background": "light"
     },
     "output_type": "display_data"
    },
    {
     "data": {
      "image/png": "[encoded data removed]",
      "text/plain": [
       "<Figure size 432x288 with 1 Axes>"
      ]
     },
     "metadata": {
      "needs_background": "light"
     },
     "output_type": "display_data"
    }
   ],
   "source": [
    "oneliner.repurpose(target = target, \n",
    "                    target_name = target_name, \n",
    "                    train_drug = train_drug,\n",
    "                    train_target = train_target,\n",
    "                    train_y = train_y,\n",
    "                    X_repurpose = X_repurpose,\n",
    "                    drug_names = drug_names,\n",
    "                    save_dir = './save_folder',\n",
    "                    finetune_batch_size = 128,\n",
    "                    finetune_LR = 0.001,\n",
    "                    finetune_epochs=10,\n",
    "                    split='HTS',\n",
    "                    convert_y = False,\n",
    "                    frac=[0.8,0.1,0.1],\n",
    "                    pretrained = True,\n",
    "                    pretrained_dir = './save_folder/pretrained_models/DeepPurpose_BindingDB/',\n",
    "                    agg = 'max_effect')"
   ]
  },
  {
   "cell_type": "code",
   "execution_count": null,
   "metadata": {},
   "outputs": [],
   "source": []
  }
 ],
 "metadata": {
  "kernelspec": {
   "display_name": "Python 3",
   "language": "python",
   "name": "python3"
  },
  "language_info": {
   "codemirror_mode": {
    "name": "ipython",
    "version": 3
   },
   "file_extension": ".py",
   "mimetype": "text/x-python",
   "name": "python",
   "nbconvert_exporter": "python",
   "pygments_lexer": "ipython3",
   "version": "3.7.7"
  }
 },
 "nbformat": 4,
 "nbformat_minor": 4
}
