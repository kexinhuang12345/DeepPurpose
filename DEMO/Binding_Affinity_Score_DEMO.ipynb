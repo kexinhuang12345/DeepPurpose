{
 "cells": [
  {
   "cell_type": "code",
   "execution_count": 1,
   "metadata": {},
   "outputs": [],
   "source": [
    "import os\n",
    "os.chdir('../../')"
   ]
  },
  {
   "cell_type": "code",
   "execution_count": 2,
   "metadata": {},
   "outputs": [],
   "source": [
    "import DeepPurpose.models as models\n",
    "from DeepPurpose.utils import *\n",
    "from DeepPurpose.dataset import *"
   ]
  },
  {
   "cell_type": "code",
   "execution_count": 3,
   "metadata": {},
   "outputs": [
    {
     "name": "stdout",
     "output_type": "stream",
     "text": [
      "Beginning Processing...\n",
      "Beginning to extract zip file...\n",
      "Default set to logspace (nM -> p) for easier regression\n",
      "Done!\n"
     ]
    }
   ],
   "source": [
    "X_drug, X_target, y = load_process_DAVIS('./data/')"
   ]
  },
  {
   "cell_type": "code",
   "execution_count": 4,
   "metadata": {},
   "outputs": [
    {
     "name": "stdout",
     "output_type": "stream",
     "text": [
      "in total: 30056 drug-target pairs\n",
      "encoding drug...\n",
      "unique drugs: 68\n",
      "drug encoding finished...\n",
      "encoding protein...\n",
      "unique target sequence: 379\n",
      "protein encoding finished...\n",
      "splitting dataset...\n",
      "Done.\n"
     ]
    }
   ],
   "source": [
    "drug_encoding = 'CNN'\n",
    "target_encoding = 'CNN'\n",
    "train, val, test = data_process(X_drug, X_target, y, \n",
    "                                drug_encoding, target_encoding, \n",
    "                                split_method='random',frac=[0.7,0.1,0.2])"
   ]
  },
  {
   "cell_type": "code",
   "execution_count": 5,
   "metadata": {},
   "outputs": [],
   "source": [
    "# model setup, you can adjust the config file by typing in model parameters. e.g. cls_hidden_dim = [256, 32]\n",
    "config = generate_config(drug_encoding = drug_encoding, \n",
    "                         target_encoding = target_encoding, \n",
    "                         cls_hidden_dims = [32,32], \n",
    "                         train_epoch = 2, \n",
    "                         LR = 0.01, \n",
    "                         batch_size = 32,\n",
    "                         cnn_drug_filters = [2,4,8],\n",
    "                         cnn_target_filters = [2,4,8]\n",
    "                        )\n",
    "model = models.model_initialize(**config)"
   ]
  },
  {
   "cell_type": "code",
   "execution_count": 6,
   "metadata": {
    "scrolled": false
   },
   "outputs": [
    {
     "name": "stdout",
     "output_type": "stream",
     "text": [
      "--- Data Preparation ---\n",
      "--- Go for Training ---\n",
      "Training at Epoch 1 iteration 0 with loss 28.042171\n",
      "Training at Epoch 1 iteration 100 with loss 1.0610524\n",
      "Training at Epoch 1 iteration 200 with loss 0.31322142\n",
      "Training at Epoch 1 iteration 300 with loss 0.69326586\n",
      "Training at Epoch 1 iteration 400 with loss 0.9384412\n",
      "Training at Epoch 1 iteration 500 with loss 0.80056953\n",
      "Training at Epoch 1 iteration 600 with loss 0.98188233\n",
      "Validation at Epoch 1 , MSE: 0.6520593471201315 , Pearson Correlation: 0.4177241878816179 with p-value: 2.8554370757664493e-127 , Concordance Index: 0.7135995333769035\n",
      "Training at Epoch 2 iteration 0 with loss 0.70281094\n",
      "Training at Epoch 2 iteration 100 with loss 1.1751387\n",
      "Training at Epoch 2 iteration 200 with loss 0.49461162\n",
      "Training at Epoch 2 iteration 300 with loss 0.67964906\n",
      "Training at Epoch 2 iteration 400 with loss 0.4696337\n",
      "Training at Epoch 2 iteration 500 with loss 0.45558348\n",
      "Training at Epoch 2 iteration 600 with loss 0.65621465\n",
      "Validation at Epoch 2 , MSE: 0.5765796712306315 , Pearson Correlation: 0.48311635683494947 with p-value: 1.2580143182994549e-175 , Concordance Index: 0.750901051658831\n",
      "--- Go for Testing ---\n",
      "Testing MSE: 0.5661428222307244 , Pearson Correlation: 0.5098452609039483 with p-value: 0.0 , Concordance Index: 0.7618320877910979\n",
      "--- Training Finished ---\n"
     ]
    },
    {
     "data": {
      "image/png": "[encoded data removed]",
      "text/plain": [
       "<Figure size 432x288 with 1 Axes>"
      ]
     },
     "metadata": {
      "needs_background": "light"
     },
     "output_type": "display_data"
    }
   ],
   "source": [
    "model.train(train, val, test)"
   ]
  },
  {
   "cell_type": "code",
   "execution_count": 3,
   "metadata": {},
   "outputs": [],
   "source": [
    "#model.save_model('./model')\n",
    "#model = models.model_pretrained('./model')"
   ]
  },
  {
   "cell_type": "code",
   "execution_count": 4,
   "metadata": {
    "scrolled": false
   },
   "outputs": [
    {
     "name": "stdout",
     "output_type": "stream",
     "text": [
      "repurposing...\n",
      "in total: 6111 drug-target pairs\n",
      "encoding drug...\n",
      "unique drugs: 6111\n",
      "drug encoding finished...\n",
      "encoding protein...\n",
      "unique target sequence: 1\n",
      "protein encoding finished...\n",
      "splitting dataset...\n",
      "Done.\n",
      "predicting...\n",
      "---------------\n",
      "Drug Repurposing Result for SARS-CoV 3CL Protease\n",
      "Drug 36689751.0   predicted to have binding affinity score 84.00\n",
      "Drug 37147.0      predicted to have binding affinity score 84.00\n",
      "Drug 4113.0       predicted to have binding affinity score 84.00\n",
      "Drug 5576.0       predicted to have binding affinity score 84.00\n",
      "Drug 5245.0       predicted to have binding affinity score 84.00\n",
      "Drug 24699.0      predicted to have binding affinity score 84.00\n",
      "Drug 550758.0     predicted to have binding affinity score 84.00\n",
      "Drug 10468.0      predicted to have binding affinity score 84.00\n",
      "Drug 8567.0       predicted to have binding affinity score 84.00\n",
      "Drug 68374.0      predicted to have binding affinity score 84.00\n",
      "Drug 1176.0       predicted to have binding affinity score 84.00\n",
      "---------------\n",
      "Top 10 is printed here. Please see the full list in the output folder!\n",
      "---------------\n",
      "Note: Adjust the output list length through output_num_max parameter.\n"
     ]
    }
   ],
   "source": [
    "X_repurpose, drug_name, drug_cid = load_broad_repurposing_hub('./data/')\n",
    "target, target_name = load_SARS_CoV_Protease_3CL()\n",
    "\n",
    "_ = models.repurpose(X_repurpose, target, \n",
    "                     model, drug_cid, target_name, \n",
    "                     convert_y = True)"
   ]
  },
  {
   "cell_type": "code",
   "execution_count": null,
   "metadata": {},
   "outputs": [],
   "source": []
  }
 ],
 "metadata": {
  "kernelspec": {
   "display_name": "Python 3",
   "language": "python",
   "name": "python3"
  },
  "language_info": {
   "codemirror_mode": {
    "name": "ipython",
    "version": 3
   },
   "file_extension": ".py",
   "mimetype": "text/x-python",
   "name": "python",
   "nbconvert_exporter": "python",
   "pygments_lexer": "ipython3",
   "version": "3.7.7"
  }
 },
 "nbformat": 4,
 "nbformat_minor": 4
}
